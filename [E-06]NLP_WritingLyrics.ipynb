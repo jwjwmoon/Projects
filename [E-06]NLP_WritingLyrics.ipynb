{
 "cells": [
  {
   "cell_type": "code",
   "execution_count": 30,
   "id": "482739ee",
   "metadata": {
    "id": "482739ee"
   },
   "outputs": [],
   "source": [
    "import numpy as np\n",
    "import pandas as pd\n",
    "import matplotlib as mpl\n",
    "import matplotlib.pyplot as plt\n",
    "import matplotlib.font_manager as fm\n",
    "import seaborn as sns\n",
    "\n",
    "import os, re\n",
    "import glob\n",
    "\n",
    "import sklearn\n",
    "import statsmodels\n",
    "from sklearn.model_selection import train_test_split \n",
    "\n",
    "import tensorflow as tf\n",
    "from tensorflow import keras\n",
    "\n",
    "from matplotlib import rc\n",
    "rc('font', family='AppleGothic')\n",
    "plt.rcParams['axes.unicode_minus'] = False"
   ]
  },
  {
   "cell_type": "code",
   "execution_count": 31,
   "id": "7BY7AOARE_Qz",
   "metadata": {
    "colab": {
     "base_uri": "https://localhost:8080/"
    },
    "id": "7BY7AOARE_Qz",
    "outputId": "e35819dd-17ee-479e-ecea-e25e8182c96f"
   },
   "outputs": [
    {
     "name": "stdout",
     "output_type": "stream",
     "text": [
      "Drive already mounted at /content/drive; to attempt to forcibly remount, call drive.mount(\"/content/drive\", force_remount=True).\n"
     ]
    }
   ],
   "source": [
    "from google.colab import drive\n",
    "drive.mount('/content/drive')"
   ]
  },
  {
   "cell_type": "markdown",
   "id": "c1a7f578",
   "metadata": {
    "id": "c1a7f578"
   },
   "source": [
    "# 1. Project_Writing_Lyrics"
   ]
  },
  {
   "cell_type": "markdown",
   "id": "44428922",
   "metadata": {
    "id": "44428922"
   },
   "source": [
    "## (1) 데이터 불러오기"
   ]
  },
  {
   "cell_type": "code",
   "execution_count": 32,
   "id": "d90091d8",
   "metadata": {
    "id": "d90091d8"
   },
   "outputs": [],
   "source": [
    "txt_list = glob.glob('/content/drive/MyDrive/lyrics/*')"
   ]
  },
  {
   "cell_type": "code",
   "execution_count": 33,
   "id": "464676fc",
   "metadata": {
    "colab": {
     "base_uri": "https://localhost:8080/"
    },
    "id": "464676fc",
    "outputId": "67ebb613-3d56-457a-b770-77ebfbe3600c"
   },
   "outputs": [
    {
     "name": "stdout",
     "output_type": "stream",
     "text": [
      "데이터 크기: 187088\n",
      "Examples:\n",
      " [\"Let's stay together I, I'm I'm so in love with you\", 'Whatever you want to do', 'Is all right with me']\n"
     ]
    }
   ],
   "source": [
    "raw_corpus = [] \n",
    "\n",
    "for txt_file in txt_list:\n",
    "    with open(txt_file, 'r') as f:\n",
    "        raw = f.read().splitlines()\n",
    "        raw_corpus.extend(raw)\n",
    "\n",
    "print(\"데이터 크기:\", len(raw_corpus))\n",
    "print(\"Examples:\\n\", raw_corpus[:3])"
   ]
  },
  {
   "cell_type": "markdown",
   "id": "1c52a8a0",
   "metadata": {
    "id": "1c52a8a0"
   },
   "source": [
    "## (2) 데이터 전처리"
   ]
  },
  {
   "cell_type": "markdown",
   "id": "4238d8ce",
   "metadata": {
    "id": "4238d8ce"
   },
   "source": [
    "### 1) 특수문자 제거\n",
    "정규표현식을 이용한 corpus 생성"
   ]
  },
  {
   "cell_type": "code",
   "execution_count": 34,
   "id": "7e03c1c0",
   "metadata": {
    "colab": {
     "base_uri": "https://localhost:8080/"
    },
    "id": "7e03c1c0",
    "outputId": "6e130387-efec-4dad-94ce-3cb56d07b63e"
   },
   "outputs": [
    {
     "data": {
      "text/plain": [
       "['<start> let s stay together i , i m i m so in love with you <end>',\n",
       " '<start> whatever you want to do <end>',\n",
       " '<start> is all right with me <end>',\n",
       " '<start> cause you make me feel so brand new <end>',\n",
       " '<start> and i want to spend my life with you let me say that since , baby , since we ve been together <end>']"
      ]
     },
     "execution_count": 34,
     "metadata": {},
     "output_type": "execute_result"
    }
   ],
   "source": [
    "corpus = []\n",
    "\n",
    "for sentence in raw_corpus:\n",
    "    if len(sentence) == 0 : continue\n",
    "    if sentence[-1] == \":\" : continue \n",
    "\n",
    "    def preprocess_sentence(sentence):\n",
    "        sentence = sentence.lower().strip()                  # 1. 소문자로 바꾸고, 양쪽 공백을 지움\n",
    "        sentence = re.sub(r\"([?.!,¿])\", r\" \\1 \", sentence)   # 2. 특수문자 양쪽에 공백을 넣음\n",
    "        sentence = re.sub(r'[\" \"]+', \" \", sentence)          # 3. 여러개의 공백은 하나의 공백으로 바꿈\n",
    "        sentence = re.sub(r\"[^a-zA-Z?.!,¿]+\", \" \", sentence) # 4. a-zA-Z?.!,¿가 아닌 모든 문자를 하나의 공백으로 바꿈\n",
    "        sentence = sentence.strip()                          # 5. 다시 양쪽 공백을 지움\n",
    "        sentence = '<start> ' + sentence + ' <end>'          # 6. 문장 시작에는 <start>, 끝에는 <end>를 추가\n",
    "        return sentence\n",
    "    \n",
    "    preprocessed_sentence = preprocess_sentence(sentence)\n",
    "    corpus.append(preprocessed_sentence)\n",
    "    \n",
    "corpus[:5]"
   ]
  },
  {
   "cell_type": "code",
   "execution_count": 35,
   "id": "af0a4158",
   "metadata": {
    "colab": {
     "base_uri": "https://localhost:8080/"
    },
    "id": "af0a4158",
    "outputId": "decc8cf0-598a-4fc9-9cf1-787c31febf29"
   },
   "outputs": [
    {
     "data": {
      "text/plain": [
       "175749"
      ]
     },
     "execution_count": 35,
     "metadata": {},
     "output_type": "execute_result"
    }
   ],
   "source": [
    "len(corpus)"
   ]
  },
  {
   "cell_type": "markdown",
   "id": "8c684ae7",
   "metadata": {
    "id": "8c684ae7"
   },
   "source": [
    "### 2) Tokenization & Padding\n",
    "\n",
    "tf.keras.preprocessing.text.Tokenizer를 이용해 corpus를 텐서로 변환"
   ]
  },
  {
   "cell_type": "code",
   "execution_count": 36,
   "id": "20c09d38",
   "metadata": {
    "colab": {
     "base_uri": "https://localhost:8080/"
    },
    "id": "20c09d38",
    "outputId": "e8121e52-2e81-4c30-bc08-8b7cce30ae00"
   },
   "outputs": [
    {
     "name": "stdout",
     "output_type": "stream",
     "text": [
      "[[  2  63  16 ...   0   0   0]\n",
      " [  2 598   7 ...   0   0   0]\n",
      " [  2  26  24 ...   0   0   0]\n",
      " ...\n",
      " [  2 130   5 ...   0   0   0]\n",
      " [287  79 162 ... 874 647   3]\n",
      " [  2   7  34 ...   0   0   0]] <keras.preprocessing.text.Tokenizer object at 0x7f9241daf0a0>\n"
     ]
    }
   ],
   "source": [
    "def tokenize(corpus):\n",
    "    tokenizer = tf.keras.preprocessing.text.Tokenizer(num_words=12000, filters=' ', oov_token=\"<unk>\")\n",
    "    tokenizer.fit_on_texts(corpus)                   # 문자 데이터 입력 받아 리스트 형태로 변환하는 메서드, corpus를 이용해 tokenizer 내부 단어장 완성\n",
    "    tensor = tokenizer.texts_to_sequences(corpus)    # 텍스트 안의 단어들을 숫자의 시퀀스 형태로 변환하는 메서드\n",
    "    tensor = tf.keras.preprocessing.sequence.pad_sequences(tensor, maxlen=20, padding='post')   \n",
    "    \n",
    "    print(tensor,tokenizer)\n",
    "    return tensor, tokenizer\n",
    "\n",
    "tensor, tokenizer = tokenize(corpus)"
   ]
  },
  {
   "cell_type": "code",
   "execution_count": 37,
   "id": "b8cH1CzzoJXh",
   "metadata": {
    "colab": {
     "base_uri": "https://localhost:8080/"
    },
    "id": "b8cH1CzzoJXh",
    "outputId": "e7929691-1949-4c6a-fded-8b57bcde3e3a"
   },
   "outputs": [
    {
     "name": "stdout",
     "output_type": "stream",
     "text": [
      "[[  2  63  16 222 283   5   4   5  22   5  22  30  14  33  31   7   3   0\n",
      "    0   0]\n",
      " [  2 598   7  62  10  47   3   0   0   0   0   0   0   0   0   0   0   0\n",
      "    0   0]\n",
      " [  2  26  24  84  31  12   3   0   0   0   0   0   0   0   0   0   0   0\n",
      "    0   0]]\n"
     ]
    }
   ],
   "source": [
    "print(tensor[:3, :20])"
   ]
  },
  {
   "cell_type": "code",
   "execution_count": 38,
   "id": "Ahh9EMHaockB",
   "metadata": {
    "colab": {
     "base_uri": "https://localhost:8080/"
    },
    "id": "Ahh9EMHaockB",
    "outputId": "4a5670a2-865a-43bc-e997-e5128b87c897"
   },
   "outputs": [
    {
     "name": "stdout",
     "output_type": "stream",
     "text": [
      "1 : <unk>\n",
      "2 : <start>\n",
      "3 : <end>\n",
      "4 : ,\n",
      "5 : i\n",
      "6 : the\n",
      "7 : you\n",
      "8 : and\n",
      "9 : a\n",
      "10 : to\n",
      "11 : it\n",
      "12 : me\n",
      "13 : my\n",
      "14 : in\n",
      "15 : t\n",
      "16 : s\n",
      "17 : that\n",
      "18 : on\n",
      "19 : of\n",
      "20 : .\n"
     ]
    }
   ],
   "source": [
    "# tokenizer.index_word: 현재 계산된 단어의 인덱스와 인덱스에 해당하는 단어를 dictionary 형태로 반환\n",
    "for idx in tokenizer.index_word:\n",
    "    print(idx, \":\", tokenizer.index_word[idx])\n",
    "\n",
    "    if idx >= 20: break"
   ]
  },
  {
   "cell_type": "code",
   "execution_count": 39,
   "id": "70844ce2",
   "metadata": {
    "colab": {
     "base_uri": "https://localhost:8080/"
    },
    "id": "70844ce2",
    "outputId": "759957e8-19f1-42cf-97de-27b33ca9812f"
   },
   "outputs": [
    {
     "name": "stdout",
     "output_type": "stream",
     "text": [
      "[  2  63  16 222 283   5   4   5  22   5  22  30  14  33  31   7   3   0\n",
      "   0]\n",
      "[ 63  16 222 283   5   4   5  22   5  22  30  14  33  31   7   3   0   0\n",
      "   0]\n"
     ]
    }
   ],
   "source": [
    "source_input = tensor[:, :-1]     # tensor에서 마지막 토큰을 잘라내서 소스 문장을 생성. 마지막 토큰은 <end>가 아니라 <pad>일 가능성이 높음    \n",
    "target_input = tensor[:, 1:]      # tensor에서 <start>를 잘라내서 타겟 문장을 생성\n",
    "\n",
    "print(source_input[0])\n",
    "print(target_input[0])"
   ]
  },
  {
   "cell_type": "code",
   "execution_count": 40,
   "id": "YS2A0YQVwo9s",
   "metadata": {
    "id": "YS2A0YQVwo9s"
   },
   "outputs": [],
   "source": [
    "# corpus 내의 첫 번째 문장에 대해 생성된 소스와 타겟 문장을 확인해 보면\n",
    "# 예상대로 소스는 2(start)에서 시작해서 3(end)으로 끝난 후 0(pad)로 채워져 있고, \n",
    "# 타겟은 2로 시작하지 않고 소스를 왼쪽으로 한 칸 시프트 한 형태를 가지고 있다."
   ]
  },
  {
   "cell_type": "markdown",
   "id": "e9722f2a",
   "metadata": {
    "id": "e9722f2a"
   },
   "source": [
    "## (3) Train_data, Validation_data 생성"
   ]
  },
  {
   "cell_type": "code",
   "execution_count": 41,
   "id": "802ba761",
   "metadata": {
    "colab": {
     "base_uri": "https://localhost:8080/",
     "height": 279
    },
    "id": "802ba761",
    "outputId": "809d672e-6e9f-4f4d-cf81-55998cdd5f5e"
   },
   "outputs": [
    {
     "data": {
      "image/png": "[encoded data removed]",
      "text/plain": [
       "<Figure size 432x288 with 1 Axes>"
      ]
     },
     "metadata": {
      "needs_background": "light"
     },
     "output_type": "display_data"
    }
   ],
   "source": [
    "x_train, x_val, y_train, y_val = train_test_split(source_input, target_input, test_size=0.2, random_state=42)\n",
    "\n",
    "lengths = np.array([len(i) for i in x_train])\n",
    "\n",
    "plt.hist(lengths)\n",
    "plt.xlabel('length')\n",
    "plt.ylabel('frequency', rotation=0)\n",
    "plt.show()"
   ]
  },
  {
   "cell_type": "markdown",
   "id": "9997144b",
   "metadata": {
    "id": "9997144b"
   },
   "source": [
    "## (4) 인공지능(model) 만들기"
   ]
  },
  {
   "cell_type": "markdown",
   "id": "9b4e8b6c",
   "metadata": {
    "id": "9b4e8b6c"
   },
   "source": [
    "### 1) Model 설계하기"
   ]
  },
  {
   "cell_type": "code",
   "execution_count": 42,
   "id": "8db532e1",
   "metadata": {
    "id": "8db532e1"
   },
   "outputs": [],
   "source": [
    "class TextGenerator(tf.keras.Model):\n",
    "    \n",
    "    def __init__(self, vocab_size, embedding_size, hidden_size):\n",
    "        super().__init__()\n",
    "        self.embedding = tf.keras.layers.Embedding(vocab_size, embedding_size) \n",
    "        self.rnn_1 = tf.keras.layers.LSTM(hidden_size, return_sequences=True)  \n",
    "        self.rnn_2 = tf.keras.layers.LSTM(hidden_size, return_sequences=True)\n",
    "        self.linear = tf.keras.layers.Dense(vocab_size)\n",
    "        \n",
    "    def call(self, x):\n",
    "        out = self.embedding(x)\n",
    "        out = self.rnn_1(out)\n",
    "        out = self.rnn_2(out)\n",
    "        out = self.linear(out)\n",
    "        \n",
    "        return out\n",
    "\n",
    "embedding_size = 256   # 워드 벡터의 차원수를 말하며 단어가 추상적으로 표현되는 크기\n",
    "hidden_size = 1024     # 모델에 얼마나 많은 일꾼을 둘 것인가?\n",
    "model = TextGenerator(tokenizer.num_words+1, embedding_size, hidden_size)"
   ]
  },
  {
   "cell_type": "markdown",
   "id": "a086ad3b",
   "metadata": {
    "id": "a086ad3b"
   },
   "source": [
    "### 2) Model 학습 & 평가"
   ]
  },
  {
   "cell_type": "code",
   "execution_count": 43,
   "id": "6fbbc171",
   "metadata": {
    "colab": {
     "base_uri": "https://localhost:8080/"
    },
    "id": "6fbbc171",
    "outputId": "fda2211e-59bc-465b-81c6-a9e41991a964"
   },
   "outputs": [
    {
     "name": "stdout",
     "output_type": "stream",
     "text": [
      "Epoch 1/10\n",
      "550/550 [==============================] - 134s 235ms/step - loss: 2.9461 - val_loss: 2.6067\n",
      "Epoch 2/10\n",
      "550/550 [==============================] - 128s 234ms/step - loss: 2.5121 - val_loss: 2.4626\n",
      "Epoch 3/10\n",
      "550/550 [==============================] - 129s 234ms/step - loss: 2.3810 - val_loss: 2.3691\n",
      "Epoch 4/10\n",
      "550/550 [==============================] - 138s 250ms/step - loss: 2.2802 - val_loss: 2.3006\n",
      "Epoch 5/10\n",
      "550/550 [==============================] - 138s 251ms/step - loss: 2.1945 - val_loss: 2.2443\n",
      "Epoch 6/10\n",
      "550/550 [==============================] - 129s 235ms/step - loss: 2.1177 - val_loss: 2.1963\n",
      "Epoch 7/10\n",
      "550/550 [==============================] - 138s 251ms/step - loss: 2.0462 - val_loss: 2.1586\n",
      "Epoch 8/10\n",
      "550/550 [==============================] - 138s 251ms/step - loss: 1.9789 - val_loss: 2.1242\n",
      "Epoch 9/10\n",
      "550/550 [==============================] - 129s 235ms/step - loss: 1.9145 - val_loss: 2.0954\n",
      "Epoch 10/10\n",
      "550/550 [==============================] - 129s 234ms/step - loss: 1.8525 - val_loss: 2.0698\n"
     ]
    },
    {
     "data": {
      "text/plain": [
       "<keras.callbacks.History at 0x7f9241d661f0>"
      ]
     },
     "execution_count": 43,
     "metadata": {},
     "output_type": "execute_result"
    }
   ],
   "source": [
    "optimizer = tf.keras.optimizers.Adam()\n",
    "loss = tf.keras.losses.SparseCategoricalCrossentropy(from_logits=True, reduction='none')  \n",
    "model.compile(optimizer=optimizer, loss=loss)\n",
    "\n",
    "history = model.fit(x_train, y_train, epochs=10, verbose=1, batch_size=256, validation_data=(x_val, y_val))\n",
    "history"
   ]
  },
  {
   "cell_type": "code",
   "execution_count": 44,
   "id": "2_-CC400CvNv",
   "metadata": {
    "colab": {
     "base_uri": "https://localhost:8080/"
    },
    "id": "2_-CC400CvNv",
    "outputId": "d0780468-2887-483c-f443-d5c7749b9315"
   },
   "outputs": [
    {
     "name": "stdout",
     "output_type": "stream",
     "text": [
      "Model: \"text_generator_2\"\n",
      "_________________________________________________________________\n",
      " Layer (type)                Output Shape              Param #   \n",
      "=================================================================\n",
      " embedding_2 (Embedding)     multiple                  3072256   \n",
      "                                                                 \n",
      " lstm_4 (LSTM)               multiple                  5246976   \n",
      "                                                                 \n",
      " lstm_5 (LSTM)               multiple                  8392704   \n",
      "                                                                 \n",
      " dense_2 (Dense)             multiple                  12301025  \n",
      "                                                                 \n",
      "=================================================================\n",
      "Total params: 29,012,961\n",
      "Trainable params: 29,012,961\n",
      "Non-trainable params: 0\n",
      "_________________________________________________________________\n"
     ]
    }
   ],
   "source": [
    "model.summary()"
   ]
  },
  {
   "cell_type": "code",
   "execution_count": 45,
   "id": "6_bF8coAA6s7",
   "metadata": {
    "colab": {
     "base_uri": "https://localhost:8080/",
     "height": 550
    },
    "id": "6_bF8coAA6s7",
    "outputId": "96d7f593-7370-4afe-c296-700064c95573"
   },
   "outputs": [
    {
     "name": "stderr",
     "output_type": "stream",
     "text": [
      "WARNING:matplotlib.font_manager:findfont: Font family ['AppleGothic'] not found. Falling back to DejaVu Sans.\n",
      "WARNING:matplotlib.font_manager:findfont: Font family ['AppleGothic'] not found. Falling back to DejaVu Sans.\n"
     ]
    },
    {
     "data": {
      "image/png": "[encoded data removed]",
      "text/plain": [
       "<Figure size 720x576 with 1 Axes>"
      ]
     },
     "metadata": {
      "needs_background": "light"
     },
     "output_type": "display_data"
    }
   ],
   "source": [
    "plt.figure(figsize = (10, 8))\n",
    "\n",
    "plt.plot(history.history['loss'])\n",
    "plt.plot(history.history['val_loss'])\n",
    "plt.xlabel('epoch', fontsize=20)\n",
    "plt.xticks(fontsize=15)\n",
    "plt.yticks(fontsize=15)\n",
    "plt.legend(['Training loss', 'Validation loss'], loc='upper left', fontsize=15)\n",
    "\n",
    "plt.show()"
   ]
  },
  {
   "cell_type": "markdown",
   "id": "fWeQohneakvV",
   "metadata": {
    "id": "fWeQohneakvV"
   },
   "source": [
    "### 3) Drop-out (0.3)"
   ]
  },
  {
   "cell_type": "code",
   "execution_count": 63,
   "id": "b6LOCpYaKX4J",
   "metadata": {
    "id": "b6LOCpYaKX4J"
   },
   "outputs": [],
   "source": [
    "model_new = keras.Sequential()\n",
    "model_new.add(keras.layers.Embedding(12001, 256))\n",
    "model_new.add(keras.layers.LSTM(1024, return_sequences=True, dropout=0.3))\n",
    "model_new.add(keras.layers.LSTM(1024, return_sequences=True, dropout=0.3))\n",
    "model_new.add(keras.layers.Dense(12001, activation='sigmoid' ))"
   ]
  },
  {
   "cell_type": "code",
   "execution_count": 64,
   "id": "N0wEZThlKX6o",
   "metadata": {
    "colab": {
     "base_uri": "https://localhost:8080/"
    },
    "id": "N0wEZThlKX6o",
    "outputId": "2e86d64b-9573-450f-bafe-25839e92f2a6"
   },
   "outputs": [
    {
     "name": "stdout",
     "output_type": "stream",
     "text": [
      "Epoch 1/10\n",
      "550/550 [==============================] - 143s 253ms/step - loss: 2.8775 - val_loss: 2.5802\n",
      "Epoch 2/10\n",
      "550/550 [==============================] - 139s 252ms/step - loss: 2.4971 - val_loss: 2.4452\n",
      "Epoch 3/10\n",
      "550/550 [==============================] - 130s 236ms/step - loss: 2.3710 - val_loss: 2.3518\n",
      "Epoch 4/10\n",
      "550/550 [==============================] - 139s 252ms/step - loss: 2.2733 - val_loss: 2.2837\n",
      "Epoch 5/10\n",
      "550/550 [==============================] - 139s 253ms/step - loss: 2.1915 - val_loss: 2.2305\n",
      "Epoch 6/10\n",
      "550/550 [==============================] - 139s 253ms/step - loss: 2.1182 - val_loss: 2.1862\n",
      "Epoch 7/10\n",
      "550/550 [==============================] - 130s 236ms/step - loss: 2.0508 - val_loss: 2.1492\n",
      "Epoch 8/10\n",
      "550/550 [==============================] - 130s 236ms/step - loss: 1.9878 - val_loss: 2.1153\n",
      "Epoch 9/10\n",
      "550/550 [==============================] - 130s 236ms/step - loss: 1.9290 - val_loss: 2.0878\n",
      "Epoch 10/10\n",
      "550/550 [==============================] - 139s 253ms/step - loss: 1.8741 - val_loss: 2.0659\n"
     ]
    },
    {
     "data": {
      "text/plain": [
       "<keras.callbacks.History at 0x7f9241a461f0>"
      ]
     },
     "execution_count": 64,
     "metadata": {},
     "output_type": "execute_result"
    }
   ],
   "source": [
    "optimizer = tf.keras.optimizers.Adam()\n",
    "loss = tf.keras.losses.SparseCategoricalCrossentropy(from_logits=True, reduction='none')  \n",
    "model_new.compile(optimizer=optimizer, loss=loss)\n",
    "\n",
    "history = model_new.fit(x_train, y_train, epochs=10, verbose=1, batch_size=256, validation_data=(x_val, y_val))\n",
    "history"
   ]
  },
  {
   "cell_type": "code",
   "execution_count": 65,
   "id": "ICuax0s_KX8-",
   "metadata": {
    "colab": {
     "base_uri": "https://localhost:8080/",
     "height": 511
    },
    "id": "ICuax0s_KX8-",
    "outputId": "6017c35f-283a-4673-aff0-fc2f791b0a52"
   },
   "outputs": [
    {
     "data": {
      "image/png": "[encoded data removed]",
      "text/plain": [
       "<Figure size 720x576 with 1 Axes>"
      ]
     },
     "metadata": {
      "needs_background": "light"
     },
     "output_type": "display_data"
    }
   ],
   "source": [
    "plt.figure(figsize = (10, 8))\n",
    "\n",
    "plt.plot(history.history['loss'])\n",
    "plt.plot(history.history['val_loss'])\n",
    "plt.xlabel('epoch', fontsize=20)\n",
    "plt.xticks(fontsize=15)\n",
    "plt.yticks(fontsize=15)\n",
    "plt.legend(['Training loss', 'Validation loss'], loc='upper left', fontsize=15)\n",
    "\n",
    "plt.show()"
   ]
  },
  {
   "cell_type": "markdown",
   "id": "5e799887",
   "metadata": {
    "id": "5e799887"
   },
   "source": [
    "### 4) \"I am a Lyricist.\""
   ]
  },
  {
   "cell_type": "code",
   "execution_count": 74,
   "id": "e485bbaa",
   "metadata": {
    "id": "e485bbaa"
   },
   "outputs": [],
   "source": [
    "def generate_text(model, tokenizer, init_sentence=\"<start>\", max_len=20):\n",
    "    test_input = tokenizer.texts_to_sequences([init_sentence])\n",
    "    test_tensor = tf.convert_to_tensor(test_input, dtype=tf.int64)\n",
    "    end_token = tokenizer.word_index[\"<end>\"]\n",
    "\n",
    "    while True:\n",
    "        predict = model(test_tensor)\n",
    "        predict_word = tf.argmax(tf.nn.softmax(predict, axis=-1), axis=-1)[:, -1]\n",
    "        test_tensor = tf.concat([test_tensor, tf.expand_dims(predict_word, axis=0)], axis=-1)\n",
    "        if predict_word.numpy()[0] == end_token: break\n",
    "        if test_tensor.shape[1] >= max_len: break\n",
    "\n",
    "    generated = \"\"\n",
    "    for word_index in test_tensor[0].numpy(): \n",
    "        generated += tokenizer.index_word[word_index] + \" \"\n",
    "\n",
    "    return generated"
   ]
  },
  {
   "cell_type": "code",
   "execution_count": 90,
   "id": "36d4cf36",
   "metadata": {
    "colab": {
     "base_uri": "https://localhost:8080/",
     "height": 37
    },
    "id": "36d4cf36",
    "outputId": "bc58213e-4f91-45a0-d746-fd89008d722a"
   },
   "outputs": [
    {
     "data": {
      "application/vnd.google.colaboratory.intrinsic+json": {
       "type": "string"
      },
      "text/plain": [
       "'<start> i am the one <end> '"
      ]
     },
     "execution_count": 90,
     "metadata": {},
     "output_type": "execute_result"
    }
   ],
   "source": [
    "generate_text(model, tokenizer, init_sentence=\"<start> i am\")"
   ]
  },
  {
   "cell_type": "markdown",
   "id": "0JjJIAa0M50z",
   "metadata": {
    "id": "0JjJIAa0M50z"
   },
   "source": [
    "# 2. Conclusion\n",
    "\n",
    "(1) 지나치게 긴 문장은 다른 데이터들이 과도한 Padding을 갖게 하므로 토큰의 개수가 20개를 넘어가는 문장을 학습 데이터에서 제외했다.\n",
    "\n",
    "    → Padding 단계에서 pad_sequences 함수에 maxlen=20을 설정 : 샘플의 길이를 20에 맞추고 부족할 때는 패딩을 추가\n",
    "\n",
    "    → tensor = tf.keras.preprocessing.sequence.pad_sequences(tensor, maxlen=20, padding='post') \n",
    "\n",
    "(2) embedding_size = 256, hidden_size = 1024로 설정\n",
    "\n",
    "    → Validation_loss 값 2.0698\n",
    "\n",
    "(3) Dropout(0.3)\n",
    "\n",
    "    → (4)-2) 그래프를 보면 LSTM이 과대적합을 억제하면서 훈련을 잘 수행하였다. \n",
    "      하지만 과대적합을 더 강하게 제어해 보기 위해 드롭아웃을 순환층에 적용해 보았고, 그 결과 훈련 손실이 약간 향상 되었다. \n",
    "      훈련 손실과 검증 손실 그래프를 그려보면 LSTM 층에 적용한 드롭아웃이 효과가 있었으며 \n",
    "      훈련 손실과 검증 손실 간의 차이가 좁혀진 것을 확인할 수 있다. (0.2173 → 0.1918)\n"
   ]
  },
  {
   "cell_type": "markdown",
   "id": "8d38f69d",
   "metadata": {
    "id": "8d38f69d"
   },
   "source": [
    "# 3. References\n",
    "\n",
    "[1] https://lms.aiffel.io/course/382/node/507\n",
    "\n",
    "[2] 혼자 공부하는 머신러닝 + 딥러닝"
   ]
  }
 ],
 "metadata": {
  "accelerator": "GPU",
  "colab": {
   "provenance": []
  },
  "gpuClass": "standard",
  "kernelspec": {
   "display_name": "Python 3 (ipykernel)",
   "language": "python",
   "name": "python3"
  },
  "language_info": {
   "codemirror_mode": {
    "name": "ipython",
    "version": 3
   },
   "file_extension": ".py",
   "mimetype": "text/x-python",
   "name": "python",
   "nbconvert_exporter": "python",
   "pygments_lexer": "ipython3",
   "version": "3.8.13"
  }
 },
 "nbformat": 4,
 "nbformat_minor": 5
}

{
 "cells": [
  {
   "cell_type": "code",
   "execution_count": 1,
   "id": "433b1f0e",
   "metadata": {
    "id": "1a1524a4"
   },
   "outputs": [],
   "source": [
    "import numpy as np\n",
    "import pandas as pd\n",
    "import matplotlib as mpl\n",
    "import matplotlib.pyplot as plt\n",
    "import matplotlib.font_manager as fm\n",
    "import seaborn as sns\n",
    "import os, re\n",
    "import cv2\n",
    "import glob\n",
    "import pathlib\n",
    "import time\n",
    "import datetime\n",
    "from IPython import display\n",
    "from PIL import Image\n",
    "\n",
    "import tensorflow as tf\n",
    "from tensorflow import keras\n",
    "import tensorflow_datasets as tfds\n",
    "\n",
    "from matplotlib import rc\n",
    "rc('font', family='AppleGothic')\n",
    "plt.rcParams['axes.unicode_minus'] = False"
   ]
  },
  {
   "cell_type": "markdown",
   "id": "cd1f8297",
   "metadata": {
    "id": "128e9ee0"
   },
   "source": [
    "# 1. VGG_Ablation_Study"
   ]
  },
  {
   "cell_type": "markdown",
   "id": "e857a4d2",
   "metadata": {
    "id": "afa97b3f"
   },
   "source": [
    "## (1) CIFAR-10 데이터셋 준비"
   ]
  },
  {
   "cell_type": "markdown",
   "id": "4e8bd52a",
   "metadata": {
    "id": "7849f39a"
   },
   "source": [
    "### 1) CIFAR-10"
   ]
  },
  {
   "cell_type": "code",
   "execution_count": 2,
   "id": "b6f73905",
   "metadata": {
    "colab": {
     "base_uri": "https://localhost:8080/"
    },
    "id": "4cd4b1b9",
    "outputId": "5dfdb256-a1b3-4864-8417-67f2c640fc29"
   },
   "outputs": [
    {
     "data": {
      "text/plain": [
       "[PhysicalDevice(name='/physical_device:GPU:0', device_type='GPU')]"
      ]
     },
     "execution_count": 2,
     "metadata": {},
     "output_type": "execute_result"
    }
   ],
   "source": [
    "# Tensorflow가 활용할 GPU의 장착 확인\n",
    "tf.config.list_physical_devices('GPU')"
   ]
  },
  {
   "cell_type": "code",
   "execution_count": 3,
   "id": "c8d5dd85",
   "metadata": {
    "id": "5f788886"
   },
   "outputs": [
    {
     "name": "stdout",
     "output_type": "stream",
     "text": [
      "\u001b[1mDownloading and preparing dataset 162.17 MiB (download: 162.17 MiB, generated: 132.40 MiB, total: 294.58 MiB) to /aiffel/tensorflow_datasets/cifar10/3.0.2...\u001b[0m\n"
     ]
    },
    {
     "data": {
      "application/vnd.jupyter.widget-view+json": {
       "model_id": "8911d7f1096047a0819c7a8f3c7aae1f",
       "version_major": 2,
       "version_minor": 0
      },
      "text/plain": [
       "Dl Completed...: 0 url [00:00, ? url/s]"
      ]
     },
     "metadata": {},
     "output_type": "display_data"
    },
    {
     "data": {
      "application/vnd.jupyter.widget-view+json": {
       "model_id": "4143ac5fa387427c91dd9927b570c80d",
       "version_major": 2,
       "version_minor": 0
      },
      "text/plain": [
       "Dl Size...: 0 MiB [00:00, ? MiB/s]"
      ]
     },
     "metadata": {},
     "output_type": "display_data"
    },
    {
     "data": {
      "application/vnd.jupyter.widget-view+json": {
       "model_id": "b31a0992364a498692f830f9ccfe971b",
       "version_major": 2,
       "version_minor": 0
      },
      "text/plain": [
       "Extraction completed...: 0 file [00:00, ? file/s]"
      ]
     },
     "metadata": {},
     "output_type": "display_data"
    },
    {
     "data": {
      "application/vnd.jupyter.widget-view+json": {
       "model_id": "",
       "version_major": 2,
       "version_minor": 0
      },
      "text/plain": [
       "Generating splits...:   0%|          | 0/2 [00:00<?, ? splits/s]"
      ]
     },
     "metadata": {},
     "output_type": "display_data"
    },
    {
     "data": {
      "application/vnd.jupyter.widget-view+json": {
       "model_id": "",
       "version_major": 2,
       "version_minor": 0
      },
      "text/plain": [
       "Generating train examples...:   0%|          | 0/50000 [00:00<?, ? examples/s]"
      ]
     },
     "metadata": {},
     "output_type": "display_data"
    },
    {
     "data": {
      "application/vnd.jupyter.widget-view+json": {
       "model_id": "",
       "version_major": 2,
       "version_minor": 0
      },
      "text/plain": [
       "Shuffling cifar10-train.tfrecord...:   0%|          | 0/50000 [00:00<?, ? examples/s]"
      ]
     },
     "metadata": {},
     "output_type": "display_data"
    },
    {
     "data": {
      "application/vnd.jupyter.widget-view+json": {
       "model_id": "",
       "version_major": 2,
       "version_minor": 0
      },
      "text/plain": [
       "Generating test examples...:   0%|          | 0/10000 [00:00<?, ? examples/s]"
      ]
     },
     "metadata": {},
     "output_type": "display_data"
    },
    {
     "data": {
      "application/vnd.jupyter.widget-view+json": {
       "model_id": "",
       "version_major": 2,
       "version_minor": 0
      },
      "text/plain": [
       "Shuffling cifar10-test.tfrecord...:   0%|          | 0/10000 [00:00<?, ? examples/s]"
      ]
     },
     "metadata": {},
     "output_type": "display_data"
    },
    {
     "name": "stdout",
     "output_type": "stream",
     "text": [
      "\u001b[1mDataset cifar10 downloaded and prepared to /aiffel/tensorflow_datasets/cifar10/3.0.2. Subsequent calls will reuse this data.\u001b[0m\n"
     ]
    }
   ],
   "source": [
    "import urllib3\n",
    "urllib3.disable_warnings()\n",
    "\n",
    "(ds_train, ds_test), ds_info = tfds.load('cifar10', split=['train', 'test'],\n",
    "                                        shuffle_files=True, with_info=True)"
   ]
  },
  {
   "cell_type": "code",
   "execution_count": 4,
   "id": "6325ec91",
   "metadata": {
    "colab": {
     "base_uri": "https://localhost:8080/"
    },
    "id": "a3951991",
    "outputId": "6db3c7ff-9946-4778-acde-d85b775b3be7"
   },
   "outputs": [
    {
     "name": "stdout",
     "output_type": "stream",
     "text": [
      "FeaturesDict({\n",
      "    'id': Text(shape=(), dtype=tf.string),\n",
      "    'image': Image(shape=(32, 32, 3), dtype=tf.uint8),\n",
      "    'label': ClassLabel(shape=(), dtype=tf.int64, num_classes=10),\n",
      "})\n"
     ]
    }
   ],
   "source": [
    "print(ds_info.features)"
   ]
  },
  {
   "cell_type": "code",
   "execution_count": 5,
   "id": "7f632d00",
   "metadata": {
    "colab": {
     "base_uri": "https://localhost:8080/"
    },
    "id": "0822a94d",
    "outputId": "1344eccb-8dbf-48d5-b5d1-16489eb3ea52"
   },
   "outputs": [
    {
     "name": "stdout",
     "output_type": "stream",
     "text": [
      "tf.Tensor(50000, shape=(), dtype=int64)\n",
      "tf.Tensor(10000, shape=(), dtype=int64)\n"
     ]
    }
   ],
   "source": [
    "# 데이터 개수 확인\n",
    "print(tf.data.experimental.cardinality(ds_train))\n",
    "print(tf.data.experimental.cardinality(ds_test))"
   ]
  },
  {
   "cell_type": "markdown",
   "id": "ec6a555b",
   "metadata": {
    "id": "ff213737"
   },
   "source": [
    "### 2) Input Normalization"
   ]
  },
  {
   "cell_type": "code",
   "execution_count": 6,
   "id": "afb26d9d",
   "metadata": {
    "id": "51b3bece"
   },
   "outputs": [],
   "source": [
    "def normalize_and_resize_img(image, label):\n",
    "    \"\"\"Normalizes images: `uint8` -> `float32`.\"\"\"\n",
    "    # image = tf.image.resize(image, [32, 32])\n",
    "    return tf.cast(image, tf.float32) / 255., label"
   ]
  },
  {
   "cell_type": "code",
   "execution_count": 7,
   "id": "95875f18",
   "metadata": {
    "id": "8f0d536c"
   },
   "outputs": [],
   "source": [
    "def apply_normalize_on_dataset(ds, is_test=False, batch_size=16):\n",
    "    ds = ds.map(\n",
    "        normalize_and_resize_img, \n",
    "        num_parallel_calls=1\n",
    "    )\n",
    "    ds = ds.batch(batch_size)\n",
    "    if not is_test:\n",
    "        ds = ds.repeat()\n",
    "        ds = ds.shuffle(200)\n",
    "    ds = ds.prefetch(tf.data.experimental.AUTOTUNE)\n",
    "    return ds"
   ]
  },
  {
   "cell_type": "code",
   "execution_count": 8,
   "id": "d433331b",
   "metadata": {
    "colab": {
     "base_uri": "https://localhost:8080/"
    },
    "id": "68f25bb2",
    "outputId": "cb5ae057-4938-45e6-9524-a8442bd2e084"
   },
   "outputs": [
    {
     "data": {
      "text/plain": [
       "10"
      ]
     },
     "execution_count": 8,
     "metadata": {},
     "output_type": "execute_result"
    }
   ],
   "source": [
    "ds_info.features[\"label\"].num_classes"
   ]
  },
  {
   "cell_type": "code",
   "execution_count": 9,
   "id": "4710e645",
   "metadata": {
    "colab": {
     "base_uri": "https://localhost:8080/"
    },
    "id": "90b647fd",
    "outputId": "9505b658-0a17-49df-8157-fbf5c5ea7f20"
   },
   "outputs": [
    {
     "data": {
      "text/plain": [
       "['airplane',\n",
       " 'automobile',\n",
       " 'bird',\n",
       " 'cat',\n",
       " 'deer',\n",
       " 'dog',\n",
       " 'frog',\n",
       " 'horse',\n",
       " 'ship',\n",
       " 'truck']"
      ]
     },
     "execution_count": 9,
     "metadata": {},
     "output_type": "execute_result"
    }
   ],
   "source": [
    "ds_info.features[\"label\"].names"
   ]
  },
  {
   "cell_type": "code",
   "execution_count": 10,
   "id": "4b5e8537",
   "metadata": {
    "colab": {
     "base_uri": "https://localhost:8080/",
     "height": 571
    },
    "id": "9d03b610",
    "outputId": "2b77d9e6-a6e7-487e-86db-92607ab46e60"
   },
   "outputs": [
    {
     "name": "stderr",
     "output_type": "stream",
     "text": [
      "WARNING:matplotlib.font_manager:findfont: Font family ['AppleGothic'] not found. Falling back to DejaVu Sans.\n"
     ]
    },
    {
     "data": {
      "image/png": "[encoded data removed]",
      "text/plain": [
       "<Figure size 648x648 with 9 Axes>"
      ]
     },
     "metadata": {},
     "output_type": "display_data"
    }
   ],
   "source": [
    "fig = tfds.show_examples(ds_train, ds_info)"
   ]
  },
  {
   "cell_type": "code",
   "execution_count": 11,
   "id": "31c9e4e1",
   "metadata": {
    "colab": {
     "base_uri": "https://localhost:8080/",
     "height": 534
    },
    "id": "2642ae54",
    "outputId": "c1ec8f76-4c18-470e-840d-e5b51f2b6ac1"
   },
   "outputs": [
    {
     "data": {
      "image/png": "[encoded data removed]",
      "text/plain": [
       "<Figure size 648x648 with 9 Axes>"
      ]
     },
     "metadata": {},
     "output_type": "display_data"
    }
   ],
   "source": [
    "fig = tfds.show_examples(ds_test, ds_info)"
   ]
  },
  {
   "cell_type": "markdown",
   "id": "dd3ce3ea",
   "metadata": {
    "id": "a331aac4"
   },
   "source": [
    "## (2) VGG 기본 블록 만들기"
   ]
  },
  {
   "cell_type": "code",
   "execution_count": 12,
   "id": "e58d1a65",
   "metadata": {
    "id": "94bd6654"
   },
   "outputs": [],
   "source": [
    "# function for building VGG Block\n",
    "\n",
    "def build_vgg_block(input_layer,num_cnn=3, channel=64, block_num=1):\n",
    "    \n",
    "    # 입력 레이어\n",
    "    x = input_layer\n",
    "\n",
    "    # CNN 레이어\n",
    "    for cnn_num in range(num_cnn):\n",
    "        x = keras.layers.Conv2D(filters=channel, kernel_size=(3,3), activation='relu',\n",
    "            kernel_initializer='he_normal', padding='same', name=f'block{block_num}_conv{cnn_num}')(x)    \n",
    "\n",
    "    # Max Pooling 레이어\n",
    "    x = keras.layers.MaxPooling2D(pool_size=(2, 2), strides=2, name=f'block{block_num}_pooling')(x)\n",
    "\n",
    "    return x"
   ]
  },
  {
   "cell_type": "code",
   "execution_count": 13,
   "id": "c451250f",
   "metadata": {
    "id": "245b2f87"
   },
   "outputs": [],
   "source": [
    "vgg_input_layer = keras.layers.Input(shape=(32,32,3))  # 입력 레이어 생성\n",
    "vgg_block_output = build_vgg_block(vgg_input_layer)    # VGG 블록 생성"
   ]
  },
  {
   "cell_type": "code",
   "execution_count": 14,
   "id": "d0a41771",
   "metadata": {
    "colab": {
     "base_uri": "https://localhost:8080/"
    },
    "id": "a1b88a18",
    "outputId": "8cdb7dd6-5f1e-49e1-d807-6079eed1a86e"
   },
   "outputs": [
    {
     "name": "stdout",
     "output_type": "stream",
     "text": [
      "Model: \"model\"\n",
      "_________________________________________________________________\n",
      "Layer (type)                 Output Shape              Param #   \n",
      "=================================================================\n",
      "input_1 (InputLayer)         [(None, 32, 32, 3)]       0         \n",
      "_________________________________________________________________\n",
      "block1_conv0 (Conv2D)        (None, 32, 32, 64)        1792      \n",
      "_________________________________________________________________\n",
      "block1_conv1 (Conv2D)        (None, 32, 32, 64)        36928     \n",
      "_________________________________________________________________\n",
      "block1_conv2 (Conv2D)        (None, 32, 32, 64)        36928     \n",
      "_________________________________________________________________\n",
      "block1_pooling (MaxPooling2D (None, 16, 16, 64)        0         \n",
      "=================================================================\n",
      "Total params: 75,648\n",
      "Trainable params: 75,648\n",
      "Non-trainable params: 0\n",
      "_________________________________________________________________\n"
     ]
    }
   ],
   "source": [
    "# 블록 1개짜리 model 생성\n",
    "model = keras.Model(inputs=vgg_input_layer, outputs=vgg_block_output)  \n",
    "\n",
    "model.summary()"
   ]
  },
  {
   "cell_type": "markdown",
   "id": "6aef8f9d",
   "metadata": {
    "id": "f04e324a"
   },
   "source": [
    "## (3) VGG Complete Model"
   ]
  },
  {
   "cell_type": "markdown",
   "id": "d64d9f6a",
   "metadata": {
    "id": "7956d912"
   },
   "source": [
    "### 1) VGG Model 생성"
   ]
  },
  {
   "cell_type": "code",
   "execution_count": 15,
   "id": "51737450",
   "metadata": {
    "id": "b11716a8"
   },
   "outputs": [],
   "source": [
    "# VGG 모델 자체를 생성하는 함수\n",
    "def build_vgg(input_shape=(32,32,3),\n",
    "              num_cnn_list=[2,2,3,3,3],\n",
    "              channel_list=[64,128,256,512,512],\n",
    "              num_classes=10):\n",
    "    \n",
    "    assert len(num_cnn_list) == len(channel_list) #모델을 만들기 전에 config list들이 같은 길이인지 확인\n",
    "    \n",
    "    input_layer = keras.layers.Input(shape=input_shape)  # input layer를 만듦\n",
    "    output = input_layer\n",
    "    \n",
    "    # config list들의 길이만큼 반복해서 블록을 생성\n",
    "    for i, (num_cnn, channel) in enumerate(zip(num_cnn_list, channel_list)):\n",
    "        output = build_vgg_block(output, num_cnn=num_cnn, channel=channel, block_num=i)\n",
    "        \n",
    "    output = keras.layers.Flatten(name='flatten')(output)\n",
    "    output = keras.layers.Dense(4096, activation='relu', name='fc1')(output)\n",
    "    output = keras.layers.Dense(4096, activation='relu', name='fc2')(output)\n",
    "    output = keras.layers.Dense(num_classes, activation='softmax', name='predictions')(output)\n",
    "    \n",
    "    model = keras.Model(inputs=input_layer, outputs=output)\n",
    "    return model"
   ]
  },
  {
   "cell_type": "markdown",
   "id": "f430db60",
   "metadata": {
    "id": "4a467724"
   },
   "source": [
    "### 2) VGG-16"
   ]
  },
  {
   "cell_type": "code",
   "execution_count": 16,
   "id": "41dc18cc",
   "metadata": {
    "colab": {
     "base_uri": "https://localhost:8080/"
    },
    "id": "1ed080d6",
    "outputId": "aa149e09-73a0-4bf1-c4f6-12cb3ad6293e"
   },
   "outputs": [
    {
     "name": "stdout",
     "output_type": "stream",
     "text": [
      "Model: \"model_1\"\n",
      "_________________________________________________________________\n",
      "Layer (type)                 Output Shape              Param #   \n",
      "=================================================================\n",
      "input_2 (InputLayer)         [(None, 32, 32, 3)]       0         \n",
      "_________________________________________________________________\n",
      "block0_conv0 (Conv2D)        (None, 32, 32, 64)        1792      \n",
      "_________________________________________________________________\n",
      "block0_conv1 (Conv2D)        (None, 32, 32, 64)        36928     \n",
      "_________________________________________________________________\n",
      "block0_pooling (MaxPooling2D (None, 16, 16, 64)        0         \n",
      "_________________________________________________________________\n",
      "block1_conv0 (Conv2D)        (None, 16, 16, 128)       73856     \n",
      "_________________________________________________________________\n",
      "block1_conv1 (Conv2D)        (None, 16, 16, 128)       147584    \n",
      "_________________________________________________________________\n",
      "block1_pooling (MaxPooling2D (None, 8, 8, 128)         0         \n",
      "_________________________________________________________________\n",
      "block2_conv0 (Conv2D)        (None, 8, 8, 256)         295168    \n",
      "_________________________________________________________________\n",
      "block2_conv1 (Conv2D)        (None, 8, 8, 256)         590080    \n",
      "_________________________________________________________________\n",
      "block2_conv2 (Conv2D)        (None, 8, 8, 256)         590080    \n",
      "_________________________________________________________________\n",
      "block2_pooling (MaxPooling2D (None, 4, 4, 256)         0         \n",
      "_________________________________________________________________\n",
      "block3_conv0 (Conv2D)        (None, 4, 4, 512)         1180160   \n",
      "_________________________________________________________________\n",
      "block3_conv1 (Conv2D)        (None, 4, 4, 512)         2359808   \n",
      "_________________________________________________________________\n",
      "block3_conv2 (Conv2D)        (None, 4, 4, 512)         2359808   \n",
      "_________________________________________________________________\n",
      "block3_pooling (MaxPooling2D (None, 2, 2, 512)         0         \n",
      "_________________________________________________________________\n",
      "block4_conv0 (Conv2D)        (None, 2, 2, 512)         2359808   \n",
      "_________________________________________________________________\n",
      "block4_conv1 (Conv2D)        (None, 2, 2, 512)         2359808   \n",
      "_________________________________________________________________\n",
      "block4_conv2 (Conv2D)        (None, 2, 2, 512)         2359808   \n",
      "_________________________________________________________________\n",
      "block4_pooling (MaxPooling2D (None, 1, 1, 512)         0         \n",
      "_________________________________________________________________\n",
      "flatten (Flatten)            (None, 512)               0         \n",
      "_________________________________________________________________\n",
      "fc1 (Dense)                  (None, 4096)              2101248   \n",
      "_________________________________________________________________\n",
      "fc2 (Dense)                  (None, 4096)              16781312  \n",
      "_________________________________________________________________\n",
      "predictions (Dense)          (None, 10)                40970     \n",
      "=================================================================\n",
      "Total params: 33,638,218\n",
      "Trainable params: 33,638,218\n",
      "Non-trainable params: 0\n",
      "_________________________________________________________________\n"
     ]
    }
   ],
   "source": [
    "# 기본값을 그대로 사용해서 VGG 모델을 만들면 VGG-16이 됨\n",
    "vgg_16 = build_vgg()\n",
    "\n",
    "vgg_16.summary()"
   ]
  },
  {
   "cell_type": "markdown",
   "id": "b43c4d55",
   "metadata": {
    "id": "aeaee953"
   },
   "source": [
    "### 3) VGG-19"
   ]
  },
  {
   "cell_type": "code",
   "execution_count": 17,
   "id": "deb0066f",
   "metadata": {
    "colab": {
     "base_uri": "https://localhost:8080/"
    },
    "id": "9d1bd57b",
    "outputId": "a41605c3-b695-4a68-f621-f8204c522d48"
   },
   "outputs": [
    {
     "name": "stdout",
     "output_type": "stream",
     "text": [
      "Model: \"model_2\"\n",
      "_________________________________________________________________\n",
      "Layer (type)                 Output Shape              Param #   \n",
      "=================================================================\n",
      "input_3 (InputLayer)         [(None, 32, 32, 3)]       0         \n",
      "_________________________________________________________________\n",
      "block0_conv0 (Conv2D)        (None, 32, 32, 64)        1792      \n",
      "_________________________________________________________________\n",
      "block0_conv1 (Conv2D)        (None, 32, 32, 64)        36928     \n",
      "_________________________________________________________________\n",
      "block0_pooling (MaxPooling2D (None, 16, 16, 64)        0         \n",
      "_________________________________________________________________\n",
      "block1_conv0 (Conv2D)        (None, 16, 16, 128)       73856     \n",
      "_________________________________________________________________\n",
      "block1_conv1 (Conv2D)        (None, 16, 16, 128)       147584    \n",
      "_________________________________________________________________\n",
      "block1_pooling (MaxPooling2D (None, 8, 8, 128)         0         \n",
      "_________________________________________________________________\n",
      "block2_conv0 (Conv2D)        (None, 8, 8, 256)         295168    \n",
      "_________________________________________________________________\n",
      "block2_conv1 (Conv2D)        (None, 8, 8, 256)         590080    \n",
      "_________________________________________________________________\n",
      "block2_conv2 (Conv2D)        (None, 8, 8, 256)         590080    \n",
      "_________________________________________________________________\n",
      "block2_conv3 (Conv2D)        (None, 8, 8, 256)         590080    \n",
      "_________________________________________________________________\n",
      "block2_pooling (MaxPooling2D (None, 4, 4, 256)         0         \n",
      "_________________________________________________________________\n",
      "block3_conv0 (Conv2D)        (None, 4, 4, 512)         1180160   \n",
      "_________________________________________________________________\n",
      "block3_conv1 (Conv2D)        (None, 4, 4, 512)         2359808   \n",
      "_________________________________________________________________\n",
      "block3_conv2 (Conv2D)        (None, 4, 4, 512)         2359808   \n",
      "_________________________________________________________________\n",
      "block3_conv3 (Conv2D)        (None, 4, 4, 512)         2359808   \n",
      "_________________________________________________________________\n",
      "block3_pooling (MaxPooling2D (None, 2, 2, 512)         0         \n",
      "_________________________________________________________________\n",
      "block4_conv0 (Conv2D)        (None, 2, 2, 512)         2359808   \n",
      "_________________________________________________________________\n",
      "block4_conv1 (Conv2D)        (None, 2, 2, 512)         2359808   \n",
      "_________________________________________________________________\n",
      "block4_conv2 (Conv2D)        (None, 2, 2, 512)         2359808   \n",
      "_________________________________________________________________\n",
      "block4_conv3 (Conv2D)        (None, 2, 2, 512)         2359808   \n",
      "_________________________________________________________________\n",
      "block4_pooling (MaxPooling2D (None, 1, 1, 512)         0         \n",
      "_________________________________________________________________\n",
      "flatten (Flatten)            (None, 512)               0         \n",
      "_________________________________________________________________\n",
      "fc1 (Dense)                  (None, 4096)              2101248   \n",
      "_________________________________________________________________\n",
      "fc2 (Dense)                  (None, 4096)              16781312  \n",
      "_________________________________________________________________\n",
      "predictions (Dense)          (None, 10)                40970     \n",
      "=================================================================\n",
      "Total params: 38,947,914\n",
      "Trainable params: 38,947,914\n",
      "Non-trainable params: 0\n",
      "_________________________________________________________________\n"
     ]
    }
   ],
   "source": [
    "# 원하는 블록의 설계에 따라 매개변수로 리스트를 전달\n",
    "vgg_19 = build_vgg(\n",
    "    num_cnn_list=[2,2,4,4,4],\n",
    "    channel_list=[64,128,256,512,512],\n",
    ")\n",
    "\n",
    "vgg_19.summary()"
   ]
  },
  {
   "cell_type": "markdown",
   "id": "fb3c57aa",
   "metadata": {
    "id": "d5ab5b1d"
   },
   "source": [
    "## (4) Ablation Study 실습 "
   ]
  },
  {
   "cell_type": "markdown",
   "id": "537629a1",
   "metadata": {
    "id": "cd5c9fe4"
   },
   "source": [
    "### 1) VGG-16"
   ]
  },
  {
   "cell_type": "code",
   "execution_count": 18,
   "id": "36f265ae",
   "metadata": {
    "id": "055e3f17"
   },
   "outputs": [],
   "source": [
    "BATCH_SIZE = 256\n",
    "EPOCH = 40"
   ]
  },
  {
   "cell_type": "code",
   "execution_count": 19,
   "id": "44e5f0c5",
   "metadata": {
    "id": "JrUlVuBv0oXH"
   },
   "outputs": [],
   "source": [
    "(ds_train, ds_test), ds_info = tfds.load(\n",
    "    'cifar10',\n",
    "    split=['train', 'test'],\n",
    "    as_supervised=True,\n",
    "    shuffle_files=True,\n",
    "    with_info=True,\n",
    ")\n",
    "ds_train = apply_normalize_on_dataset(ds_train, batch_size=BATCH_SIZE)\n",
    "ds_test = apply_normalize_on_dataset(ds_test, batch_size=BATCH_SIZE)"
   ]
  },
  {
   "cell_type": "code",
   "execution_count": 20,
   "id": "0038b0b6",
   "metadata": {
    "colab": {
     "base_uri": "https://localhost:8080/"
    },
    "id": "0cee9535",
    "outputId": "2f60fa26-47a8-4517-b8b6-5a4c3b373250",
    "scrolled": false
   },
   "outputs": [
    {
     "name": "stdout",
     "output_type": "stream",
     "text": [
      "Epoch 1/40\n",
      "195/195 [==============================] - 37s 124ms/step - loss: 2.2251 - accuracy: 0.1715 - val_loss: 2.1084 - val_accuracy: 0.1942\n",
      "Epoch 2/40\n",
      "195/195 [==============================] - 23s 120ms/step - loss: 2.0265 - accuracy: 0.2598 - val_loss: 1.9273 - val_accuracy: 0.2990\n",
      "Epoch 3/40\n",
      "195/195 [==============================] - 25s 129ms/step - loss: 1.8986 - accuracy: 0.3128 - val_loss: 1.8118 - val_accuracy: 0.3532\n",
      "Epoch 4/40\n",
      "195/195 [==============================] - 24s 123ms/step - loss: 1.7894 - accuracy: 0.3564 - val_loss: 1.6906 - val_accuracy: 0.3952\n",
      "Epoch 5/40\n",
      "195/195 [==============================] - 24s 124ms/step - loss: 1.6969 - accuracy: 0.3857 - val_loss: 1.6433 - val_accuracy: 0.4022\n",
      "Epoch 6/40\n",
      "195/195 [==============================] - 24s 123ms/step - loss: 1.6355 - accuracy: 0.4048 - val_loss: 1.6113 - val_accuracy: 0.4252\n",
      "Epoch 7/40\n",
      "195/195 [==============================] - 24s 123ms/step - loss: 1.5760 - accuracy: 0.4332 - val_loss: 1.5086 - val_accuracy: 0.4598\n",
      "Epoch 8/40\n",
      "195/195 [==============================] - 24s 124ms/step - loss: 1.5287 - accuracy: 0.4484 - val_loss: 1.4798 - val_accuracy: 0.4625\n",
      "Epoch 9/40\n",
      "195/195 [==============================] - 24s 124ms/step - loss: 1.4850 - accuracy: 0.4659 - val_loss: 1.4426 - val_accuracy: 0.4798\n",
      "Epoch 10/40\n",
      "195/195 [==============================] - 24s 123ms/step - loss: 1.4496 - accuracy: 0.4785 - val_loss: 1.3882 - val_accuracy: 0.4942\n",
      "Epoch 11/40\n",
      "195/195 [==============================] - 24s 124ms/step - loss: 1.4074 - accuracy: 0.4920 - val_loss: 1.4315 - val_accuracy: 0.4892\n",
      "Epoch 12/40\n",
      "195/195 [==============================] - 24s 123ms/step - loss: 1.3588 - accuracy: 0.5114 - val_loss: 1.3636 - val_accuracy: 0.5099\n",
      "Epoch 13/40\n",
      "195/195 [==============================] - 24s 123ms/step - loss: 1.3238 - accuracy: 0.5254 - val_loss: 1.3008 - val_accuracy: 0.5251\n",
      "Epoch 14/40\n",
      "195/195 [==============================] - 24s 123ms/step - loss: 1.2935 - accuracy: 0.5359 - val_loss: 1.3185 - val_accuracy: 0.5329\n",
      "Epoch 15/40\n",
      "195/195 [==============================] - 24s 123ms/step - loss: 1.2526 - accuracy: 0.5533 - val_loss: 1.2447 - val_accuracy: 0.5559\n",
      "Epoch 16/40\n",
      "195/195 [==============================] - 24s 124ms/step - loss: 1.2284 - accuracy: 0.5623 - val_loss: 1.2183 - val_accuracy: 0.5652\n",
      "Epoch 17/40\n",
      "195/195 [==============================] - 24s 123ms/step - loss: 1.1930 - accuracy: 0.5751 - val_loss: 1.2571 - val_accuracy: 0.5589\n",
      "Epoch 18/40\n",
      "195/195 [==============================] - 24s 124ms/step - loss: 1.1558 - accuracy: 0.5883 - val_loss: 1.1982 - val_accuracy: 0.5625\n",
      "Epoch 19/40\n",
      "195/195 [==============================] - 24s 123ms/step - loss: 1.1296 - accuracy: 0.5980 - val_loss: 1.1426 - val_accuracy: 0.5979\n",
      "Epoch 20/40\n",
      "195/195 [==============================] - 24s 124ms/step - loss: 1.1045 - accuracy: 0.6069 - val_loss: 1.1361 - val_accuracy: 0.5881\n",
      "Epoch 21/40\n",
      "195/195 [==============================] - 24s 124ms/step - loss: 1.0667 - accuracy: 0.6223 - val_loss: 1.1821 - val_accuracy: 0.5910\n",
      "Epoch 22/40\n",
      "195/195 [==============================] - 24s 123ms/step - loss: 1.0507 - accuracy: 0.6266 - val_loss: 1.1296 - val_accuracy: 0.5975\n",
      "Epoch 23/40\n",
      "195/195 [==============================] - 24s 124ms/step - loss: 1.0228 - accuracy: 0.6379 - val_loss: 1.1468 - val_accuracy: 0.6013\n",
      "Epoch 24/40\n",
      "195/195 [==============================] - 24s 123ms/step - loss: 0.9842 - accuracy: 0.6521 - val_loss: 1.1385 - val_accuracy: 0.6003\n",
      "Epoch 25/40\n",
      "195/195 [==============================] - 24s 124ms/step - loss: 0.9623 - accuracy: 0.6593 - val_loss: 1.0359 - val_accuracy: 0.6341\n",
      "Epoch 26/40\n",
      "195/195 [==============================] - 24s 124ms/step - loss: 0.9443 - accuracy: 0.6658 - val_loss: 1.0515 - val_accuracy: 0.6289\n",
      "Epoch 27/40\n",
      "195/195 [==============================] - 24s 124ms/step - loss: 0.9114 - accuracy: 0.6782 - val_loss: 1.0459 - val_accuracy: 0.6329\n",
      "Epoch 28/40\n",
      "195/195 [==============================] - 24s 124ms/step - loss: 0.8902 - accuracy: 0.6852 - val_loss: 1.0354 - val_accuracy: 0.6294\n",
      "Epoch 29/40\n",
      "195/195 [==============================] - 24s 123ms/step - loss: 0.8613 - accuracy: 0.6948 - val_loss: 1.0297 - val_accuracy: 0.6305\n",
      "Epoch 30/40\n",
      "195/195 [==============================] - 24s 124ms/step - loss: 0.8360 - accuracy: 0.7062 - val_loss: 1.0170 - val_accuracy: 0.6530\n",
      "Epoch 31/40\n",
      "195/195 [==============================] - 24s 124ms/step - loss: 0.8199 - accuracy: 0.7106 - val_loss: 1.0113 - val_accuracy: 0.6509\n",
      "Epoch 32/40\n",
      "195/195 [==============================] - 24s 124ms/step - loss: 0.7886 - accuracy: 0.7214 - val_loss: 0.9908 - val_accuracy: 0.6533\n",
      "Epoch 33/40\n",
      "195/195 [==============================] - 24s 123ms/step - loss: 0.7679 - accuracy: 0.7307 - val_loss: 1.0138 - val_accuracy: 0.6506\n",
      "Epoch 34/40\n",
      "195/195 [==============================] - 24s 124ms/step - loss: 0.7481 - accuracy: 0.7340 - val_loss: 1.0239 - val_accuracy: 0.6554\n",
      "Epoch 35/40\n",
      "195/195 [==============================] - 24s 124ms/step - loss: 0.7191 - accuracy: 0.7462 - val_loss: 1.0349 - val_accuracy: 0.6561\n",
      "Epoch 36/40\n",
      "195/195 [==============================] - 24s 123ms/step - loss: 0.6974 - accuracy: 0.7548 - val_loss: 1.0118 - val_accuracy: 0.6565\n",
      "Epoch 37/40\n",
      "195/195 [==============================] - 24s 124ms/step - loss: 0.6778 - accuracy: 0.7627 - val_loss: 0.9860 - val_accuracy: 0.6651\n",
      "Epoch 38/40\n",
      "195/195 [==============================] - 24s 123ms/step - loss: 0.6578 - accuracy: 0.7693 - val_loss: 1.0228 - val_accuracy: 0.6540\n",
      "Epoch 39/40\n",
      "195/195 [==============================] - 24s 124ms/step - loss: 0.6284 - accuracy: 0.7804 - val_loss: 0.9975 - val_accuracy: 0.6770\n",
      "Epoch 40/40\n",
      "195/195 [==============================] - 24s 124ms/step - loss: 0.6112 - accuracy: 0.7839 - val_loss: 1.0076 - val_accuracy: 0.6592\n"
     ]
    }
   ],
   "source": [
    "vgg_16.compile(loss='sparse_categorical_crossentropy',\n",
    "    optimizer=tf.keras.optimizers.SGD(learning_rate=0.01, clipnorm=1.), metrics=['accuracy'])\n",
    "\n",
    "history_16 = vgg_16.fit(ds_train,\n",
    "    steps_per_epoch=int(ds_info.splits['train'].num_examples/BATCH_SIZE),\n",
    "    validation_steps=int(ds_info.splits['test'].num_examples/BATCH_SIZE),\n",
    "    epochs=EPOCH, validation_data=ds_test, verbose=1, use_multiprocessing=True)"
   ]
  },
  {
   "cell_type": "markdown",
   "id": "2c5a0776",
   "metadata": {
    "id": "c9346515"
   },
   "source": [
    "### 2) VGG-19"
   ]
  },
  {
   "cell_type": "code",
   "execution_count": 21,
   "id": "ef1f899e",
   "metadata": {
    "colab": {
     "base_uri": "https://localhost:8080/"
    },
    "id": "c74718a1",
    "outputId": "e90e9c8c-f954-43f0-b85a-6352e6b49d4f",
    "scrolled": false
   },
   "outputs": [
    {
     "name": "stdout",
     "output_type": "stream",
     "text": [
      "Epoch 1/40\n",
      "195/195 [==============================] - 34s 145ms/step - loss: 2.2512 - accuracy: 0.1550 - val_loss: 2.1306 - val_accuracy: 0.2074\n",
      "Epoch 2/40\n",
      "195/195 [==============================] - 28s 145ms/step - loss: 2.0724 - accuracy: 0.2418 - val_loss: 1.9815 - val_accuracy: 0.2898\n",
      "Epoch 3/40\n",
      "195/195 [==============================] - 28s 143ms/step - loss: 1.9146 - accuracy: 0.3047 - val_loss: 1.8329 - val_accuracy: 0.3471\n",
      "Epoch 4/40\n",
      "195/195 [==============================] - 28s 144ms/step - loss: 1.7875 - accuracy: 0.3482 - val_loss: 1.7497 - val_accuracy: 0.3578\n",
      "Epoch 5/40\n",
      "195/195 [==============================] - 28s 145ms/step - loss: 1.6892 - accuracy: 0.3860 - val_loss: 1.6346 - val_accuracy: 0.4024\n",
      "Epoch 6/40\n",
      "195/195 [==============================] - 28s 144ms/step - loss: 1.6214 - accuracy: 0.4125 - val_loss: 1.5743 - val_accuracy: 0.4264\n",
      "Epoch 7/40\n",
      "195/195 [==============================] - 28s 144ms/step - loss: 1.5592 - accuracy: 0.4333 - val_loss: 1.5620 - val_accuracy: 0.4346\n",
      "Epoch 8/40\n",
      "195/195 [==============================] - 28s 144ms/step - loss: 1.5108 - accuracy: 0.4539 - val_loss: 1.5129 - val_accuracy: 0.4562\n",
      "Epoch 9/40\n",
      "195/195 [==============================] - 28s 144ms/step - loss: 1.4646 - accuracy: 0.4727 - val_loss: 1.4654 - val_accuracy: 0.4753\n",
      "Epoch 10/40\n",
      "195/195 [==============================] - 28s 144ms/step - loss: 1.4258 - accuracy: 0.4846 - val_loss: 1.4044 - val_accuracy: 0.4909\n",
      "Epoch 11/40\n",
      "195/195 [==============================] - 28s 145ms/step - loss: 1.2980 - accuracy: 0.5346 - val_loss: 1.3663 - val_accuracy: 0.5205\n",
      "Epoch 14/40\n",
      "195/195 [==============================] - 28s 144ms/step - loss: 1.2568 - accuracy: 0.5522 - val_loss: 1.2806 - val_accuracy: 0.5486\n",
      "Epoch 15/40\n",
      "195/195 [==============================] - 28s 145ms/step - loss: 1.2204 - accuracy: 0.5643 - val_loss: 1.2779 - val_accuracy: 0.5436\n",
      "Epoch 16/40\n",
      "195/195 [==============================] - 28s 144ms/step - loss: 1.1947 - accuracy: 0.5725 - val_loss: 1.2611 - val_accuracy: 0.5525\n",
      "Epoch 17/40\n",
      "195/195 [==============================] - 28s 144ms/step - loss: 1.1438 - accuracy: 0.5943 - val_loss: 1.2352 - val_accuracy: 0.5665\n",
      "Epoch 18/40\n",
      "195/195 [==============================] - 28s 144ms/step - loss: 1.1324 - accuracy: 0.5978 - val_loss: 1.1942 - val_accuracy: 0.5724\n",
      "Epoch 19/40\n",
      "195/195 [==============================] - 28s 144ms/step - loss: 1.0858 - accuracy: 0.6141 - val_loss: 1.1736 - val_accuracy: 0.5994\n",
      "Epoch 20/40\n",
      "195/195 [==============================] - 28s 145ms/step - loss: 1.0580 - accuracy: 0.6238 - val_loss: 1.1677 - val_accuracy: 0.6036\n",
      "Epoch 21/40\n",
      "195/195 [==============================] - 28s 144ms/step - loss: 1.0315 - accuracy: 0.6337 - val_loss: 1.1365 - val_accuracy: 0.5953\n",
      "Epoch 22/40\n",
      "195/195 [==============================] - 28s 144ms/step - loss: 1.0019 - accuracy: 0.6460 - val_loss: 1.1237 - val_accuracy: 0.6049\n",
      "Epoch 23/40\n",
      "195/195 [==============================] - 28s 145ms/step - loss: 0.9745 - accuracy: 0.6566 - val_loss: 1.1136 - val_accuracy: 0.6155\n",
      "Epoch 24/40\n",
      "195/195 [==============================] - 28s 144ms/step - loss: 0.9405 - accuracy: 0.6684 - val_loss: 1.1097 - val_accuracy: 0.6148\n",
      "Epoch 25/40\n",
      "195/195 [==============================] - 28s 144ms/step - loss: 0.9152 - accuracy: 0.6746 - val_loss: 1.1038 - val_accuracy: 0.6186\n",
      "Epoch 26/40\n",
      "195/195 [==============================] - 28s 145ms/step - loss: 0.8846 - accuracy: 0.6876 - val_loss: 1.0761 - val_accuracy: 0.6236\n",
      "Epoch 27/40\n",
      "195/195 [==============================] - 28s 144ms/step - loss: 0.8531 - accuracy: 0.6982 - val_loss: 1.0724 - val_accuracy: 0.6316\n",
      "Epoch 28/40\n",
      "195/195 [==============================] - 28s 144ms/step - loss: 0.8249 - accuracy: 0.7078 - val_loss: 1.0162 - val_accuracy: 0.6434\n",
      "Epoch 29/40\n",
      "195/195 [==============================] - 28s 144ms/step - loss: 0.8037 - accuracy: 0.7155 - val_loss: 1.0422 - val_accuracy: 0.6415\n",
      "Epoch 30/40\n",
      "195/195 [==============================] - 28s 145ms/step - loss: 0.7768 - accuracy: 0.7264 - val_loss: 1.0502 - val_accuracy: 0.6392\n",
      "Epoch 31/40\n",
      "195/195 [==============================] - 28s 144ms/step - loss: 0.7553 - accuracy: 0.7333 - val_loss: 1.0479 - val_accuracy: 0.6400\n",
      "Epoch 32/40\n",
      "195/195 [==============================] - 28s 144ms/step - loss: 0.7202 - accuracy: 0.7450 - val_loss: 1.0743 - val_accuracy: 0.6392\n",
      "Epoch 33/40\n",
      "195/195 [==============================] - 28s 145ms/step - loss: 0.6933 - accuracy: 0.7562 - val_loss: 1.0823 - val_accuracy: 0.6367\n",
      "Epoch 34/40\n",
      "195/195 [==============================] - 28s 145ms/step - loss: 0.6686 - accuracy: 0.7644 - val_loss: 1.0507 - val_accuracy: 0.6502\n",
      "Epoch 35/40\n",
      "195/195 [==============================] - 28s 144ms/step - loss: 0.6356 - accuracy: 0.7759 - val_loss: 1.1169 - val_accuracy: 0.6297\n",
      "Epoch 36/40\n",
      "195/195 [==============================] - 28s 144ms/step - loss: 0.6127 - accuracy: 0.7836 - val_loss: 1.0508 - val_accuracy: 0.6589\n",
      "Epoch 37/40\n",
      "195/195 [==============================] - 28s 144ms/step - loss: 0.5868 - accuracy: 0.7907 - val_loss: 1.1090 - val_accuracy: 0.6413\n",
      "Epoch 38/40\n",
      "195/195 [==============================] - 28s 144ms/step - loss: 0.5550 - accuracy: 0.8049 - val_loss: 1.1130 - val_accuracy: 0.6454\n",
      "Epoch 39/40\n",
      "195/195 [==============================] - 28s 145ms/step - loss: 0.5300 - accuracy: 0.8120 - val_loss: 1.0835 - val_accuracy: 0.6569\n",
      "Epoch 40/40\n",
      "195/195 [==============================] - 28s 144ms/step - loss: 0.5094 - accuracy: 0.8205 - val_loss: 1.1440 - val_accuracy: 0.6424\n"
     ]
    }
   ],
   "source": [
    "vgg_19.compile(loss='sparse_categorical_crossentropy',\n",
    "    optimizer=tf.keras.optimizers.SGD(learning_rate=0.01, clipnorm=1.),metrics=['accuracy'])\n",
    "\n",
    "history_19 = vgg_19.fit(ds_train,\n",
    "    steps_per_epoch=int(ds_info.splits['train'].num_examples/BATCH_SIZE),\n",
    "    validation_steps=int(ds_info.splits['test'].num_examples/BATCH_SIZE),\n",
    "    epochs=EPOCH, validation_data=ds_test, verbose=1, use_multiprocessing=True)"
   ]
  },
  {
   "cell_type": "markdown",
   "id": "a4518be8",
   "metadata": {
    "id": "4ea8d4be"
   },
   "source": [
    "### 3) VGG-16 vs. VGG-19 그래프 비교"
   ]
  },
  {
   "cell_type": "markdown",
   "id": "bbd84883",
   "metadata": {
    "id": "22b61aa0"
   },
   "source": [
    "#### Training Loss"
   ]
  },
  {
   "cell_type": "code",
   "execution_count": 22,
   "id": "2a5e2b35",
   "metadata": {
    "colab": {
     "base_uri": "https://localhost:8080/",
     "height": 332
    },
    "id": "c88c8520",
    "outputId": "293481b4-d407-4583-f01e-156dadd24347"
   },
   "outputs": [
    {
     "name": "stderr",
     "output_type": "stream",
     "text": [
      "WARNING:matplotlib.font_manager:findfont: Font family ['AppleGothic'] not found. Falling back to DejaVu Sans.\n"
     ]
    },
    {
     "data": {
      "image/png": "[encoded data removed]",
      "text/plain": [
       "<Figure size 432x288 with 1 Axes>"
      ]
     },
     "metadata": {
      "needs_background": "light"
     },
     "output_type": "display_data"
    }
   ],
   "source": [
    "plt.plot(history_16.history['loss'], 'r')\n",
    "plt.plot(history_19.history['loss'], 'b')\n",
    "plt.title('Model training loss')\n",
    "plt.ylabel('Loss')\n",
    "plt.xlabel('Epoch')\n",
    "plt.legend(['vgg_16', 'vgg_19'], loc='upper left')\n",
    "plt.show()"
   ]
  },
  {
   "cell_type": "markdown",
   "id": "378f8ae1",
   "metadata": {
    "id": "a59fd64d"
   },
   "source": [
    "#### Validation Accuracy"
   ]
  },
  {
   "cell_type": "code",
   "execution_count": 23,
   "id": "249f8870",
   "metadata": {
    "colab": {
     "base_uri": "https://localhost:8080/",
     "height": 295
    },
    "id": "3ac25a36",
    "outputId": "0875816b-10fb-4745-aaaa-8f9072af598e"
   },
   "outputs": [
    {
     "data": {
      "image/png": "[encoded data removed]",
      "text/plain": [
       "<Figure size 432x288 with 1 Axes>"
      ]
     },
     "metadata": {
      "needs_background": "light"
     },
     "output_type": "display_data"
    }
   ],
   "source": [
    "plt.plot(history_16.history['val_accuracy'], 'r')\n",
    "plt.plot(history_19.history['val_accuracy'], 'b')\n",
    "plt.title('Model validation accuracy')\n",
    "plt.ylabel('Accuracy')\n",
    "plt.xlabel('Epoch')\n",
    "plt.legend(['vgg_16', 'vgg_19'], loc='upper left')\n",
    "plt.show()"
   ]
  },
  {
   "cell_type": "markdown",
   "id": "8d93afb2",
   "metadata": {
    "id": "cab2dfd7"
   },
   "source": [
    "# 2. Project_ResNet_Ablation_Study"
   ]
  },
  {
   "cell_type": "markdown",
   "id": "ccfbea2f",
   "metadata": {
    "id": "2339f808"
   },
   "source": [
    "## (1) ResNet 기본 블록 만들기"
   ]
  },
  {
   "cell_type": "code",
   "execution_count": 24,
   "id": "8a966412",
   "metadata": {
    "id": "78658392"
   },
   "outputs": [],
   "source": [
    "# function for building ResNet Block\n",
    "\n",
    "def build_resnet_block(input_layer, num_cnn=3, channel=64, block_num=1, first_block=False):\n",
    "    \n",
    "    # 입력 레이어\n",
    "    x = input_layer\n",
    "    \n",
    "    # CNN 레이어\n",
    "    for cnn_num in range(num_cnn):\n",
    "        if cnn_num == 0:\n",
    "            if first_block:\n",
    "                stride = 1\n",
    "            else:\n",
    "                stride = 2\n",
    "            shortcut = keras.layers.Conv2D(filters=channel, kernel_size=(1,1), strides=stride,\n",
    "                kernel_initializer='he_normal', padding='same', name=f'block{block_num}_shortcut')(x)\n",
    "            shortcut = keras.layers.BatchNormalization(name=f'block{block_num}_bn_shortcut')(shortcut)\n",
    "        x = keras.layers.Conv2D(filters=channel, kernel_size=(3,3), strides=stride, activation='relu',\n",
    "            kernel_initializer='he_normal', padding='same', name=f'block{block_num}_conv{cnn_num}')(x)    \n",
    "        x = keras.layers.BatchNormalization(name=f'block{block_num}_bn{cnn_num}')(x)\n",
    "        x = keras.layers.Activation('relu', name=f'block{block_num}_relu{cnn_num}')(x)\n",
    "\n",
    "    # identity connection\n",
    "    if first_block:\n",
    "        x = keras.layers.add([x, shortcut], name=f'block{block_num}_add')\n",
    "    \n",
    "    return x"
   ]
  },
  {
   "cell_type": "code",
   "execution_count": 25,
   "id": "36994838",
   "metadata": {
    "id": "3525b546"
   },
   "outputs": [],
   "source": [
    "resnet_input_layer = keras.layers.Input(shape=(32,32,3))  # 입력 레이어 생성\n",
    "resnet_block_output = build_resnet_block(resnet_input_layer)"
   ]
  },
  {
   "cell_type": "code",
   "execution_count": 26,
   "id": "8ec860e4",
   "metadata": {
    "colab": {
     "base_uri": "https://localhost:8080/"
    },
    "id": "a08079d2",
    "outputId": "1c6f1756-167a-4462-d068-c4a24184e14c",
    "scrolled": false
   },
   "outputs": [
    {
     "name": "stdout",
     "output_type": "stream",
     "text": [
      "Model: \"model_3\"\n",
      "_________________________________________________________________\n",
      "Layer (type)                 Output Shape              Param #   \n",
      "=================================================================\n",
      "input_4 (InputLayer)         [(None, 32, 32, 3)]       0         \n",
      "_________________________________________________________________\n",
      "block1_conv0 (Conv2D)        (None, 16, 16, 64)        1792      \n",
      "_________________________________________________________________\n",
      "block1_bn0 (BatchNormalizati (None, 16, 16, 64)        256       \n",
      "_________________________________________________________________\n",
      "block1_relu0 (Activation)    (None, 16, 16, 64)        0         \n",
      "_________________________________________________________________\n",
      "block1_conv1 (Conv2D)        (None, 8, 8, 64)          36928     \n",
      "_________________________________________________________________\n",
      "block1_bn1 (BatchNormalizati (None, 8, 8, 64)          256       \n",
      "_________________________________________________________________\n",
      "block1_relu1 (Activation)    (None, 8, 8, 64)          0         \n",
      "_________________________________________________________________\n",
      "block1_conv2 (Conv2D)        (None, 4, 4, 64)          36928     \n",
      "_________________________________________________________________\n",
      "block1_bn2 (BatchNormalizati (None, 4, 4, 64)          256       \n",
      "_________________________________________________________________\n",
      "block1_relu2 (Activation)    (None, 4, 4, 64)          0         \n",
      "=================================================================\n",
      "Total params: 76,416\n",
      "Trainable params: 76,032\n",
      "Non-trainable params: 384\n",
      "_________________________________________________________________\n"
     ]
    }
   ],
   "source": [
    "# 블록 1개짜리 model 생성\n",
    "model = keras.Model(inputs=resnet_input_layer, outputs=resnet_block_output)  \n",
    "\n",
    "model.summary()"
   ]
  },
  {
   "cell_type": "markdown",
   "id": "6150d01d",
   "metadata": {
    "id": "8f2e807d"
   },
   "source": [
    "## (2) ResNet Complete Model"
   ]
  },
  {
   "cell_type": "markdown",
   "id": "79695fb4",
   "metadata": {
    "id": "1c525caa"
   },
   "source": [
    "### 1) ResNet Model 생성"
   ]
  },
  {
   "cell_type": "code",
   "execution_count": 27,
   "id": "5a24fae4",
   "metadata": {
    "id": "4ae06ebe"
   },
   "outputs": [],
   "source": [
    "def build_resnet(input_shape, num_blocks=[3, 4, 6, 3], num_classes=2):\n",
    "    \n",
    "    input_layer = keras.layers.Input(shape=input_shape)\n",
    "    \n",
    "    # Conv2D\n",
    "    x = keras.layers.Conv2D(64, (7,7), strides=2, padding='same', name='conv1')(input_layer)\n",
    "    x = keras.layers.BatchNormalization(name='bn_conv1')(x)\n",
    "    x = keras.layers.Activation('relu')(x)\n",
    "    \n",
    "    # MaxPooling2D\n",
    "    x = keras.layers.MaxPooling2D((3,3), strides=2, padding='same', name='max_pool')(x)\n",
    "    \n",
    "    # ResNet Block x3 (64, [64, 64, 256]) \n",
    "    x = build_resnet_block(x, num_cnn=3, channel=64, block_num=2, first_block=True)\n",
    "    for i in range(num_blocks[0]-1):\n",
    "        x = build_resnet_block(x, num_cnn=3, channel=64, block_num=i+3, first_block=False)\n",
    "    \n",
    "    # ResNet Block x4 (128, [128, 128, 512]) \n",
    "    x = build_resnet_block(x, num_cnn=3, channel=128, block_num=6, first_block=True)\n",
    "    for i in range(num_blocks[1]-1):\n",
    "        x = build_resnet_block(x, num_cnn=3, channel=128, block_num=i+7, first_block=False)\n",
    "    \n",
    "    # ResNet Block x6 (256, [256, 256, 1024]) \n",
    "    x = build_resnet_block(x, num_cnn=3, channel=256, block_num=12, first_block=True)\n",
    "    for i in range(num_blocks[2]-1):\n",
    "        x = build_resnet_block(x, num_cnn=3, channel=256, block_num=i+13, first_block=False)\n",
    "    \n",
    "    # ResNet Block x3 (512, [512, 512, 2048]) \n",
    "    x = build_resnet_block(x, num_cnn=3, channel=512, block_num=24, first_block=True)\n",
    "    for i in range(num_blocks[3]-1):\n",
    "        x = build_resnet_block(x, num_cnn=3, channel=512, block_num=i+25, first_block=False)\n",
    "    \n",
    "    # AveragePooling2D\n",
    "    x = keras.layers.GlobalAveragePooling2D(name='avg_pool')(x)\n",
    "    \n",
    "    # Dense\n",
    "    x = keras.layers.Dense(num_classes, activation='softmax', name='fc')(x)\n",
    "    \n",
    "    # model 생성\n",
    "    model = keras.models.Model(inputs=input_layer, outputs=x)\n",
    "    \n",
    "    return model"
   ]
  },
  {
   "cell_type": "markdown",
   "id": "381210e4",
   "metadata": {
    "id": "498e9b65"
   },
   "source": [
    "### 2) ResNet-34"
   ]
  },
  {
   "cell_type": "code",
   "execution_count": 28,
   "id": "fdb77f13",
   "metadata": {
    "colab": {
     "base_uri": "https://localhost:8080/"
    },
    "id": "331a125c",
    "outputId": "f2e7901c-b7f2-4905-d5c8-2631b6065257",
    "scrolled": false
   },
   "outputs": [
    {
     "name": "stdout",
     "output_type": "stream",
     "text": [
      "Model: \"model_4\"\n",
      "__________________________________________________________________________________________________\n",
      "Layer (type)                    Output Shape         Param #     Connected to                     \n",
      "==================================================================================================\n",
      "input_5 (InputLayer)            [(None, 32, 32, 3)]  0                                            \n",
      "__________________________________________________________________________________________________\n",
      "conv1 (Conv2D)                  (None, 16, 16, 64)   9472        input_5[0][0]                    \n",
      "__________________________________________________________________________________________________\n",
      "bn_conv1 (BatchNormalization)   (None, 16, 16, 64)   256         conv1[0][0]                      \n",
      "__________________________________________________________________________________________________\n",
      "activation (Activation)         (None, 16, 16, 64)   0           bn_conv1[0][0]                   \n",
      "__________________________________________________________________________________________________\n",
      "max_pool (MaxPooling2D)         (None, 8, 8, 64)     0           activation[0][0]                 \n",
      "__________________________________________________________________________________________________\n",
      "block2_conv0 (Conv2D)           (None, 8, 8, 64)     36928       max_pool[0][0]                   \n",
      "__________________________________________________________________________________________________\n",
      "block2_bn0 (BatchNormalization) (None, 8, 8, 64)     256         block2_conv0[0][0]               \n",
      "__________________________________________________________________________________________________\n",
      "block2_relu0 (Activation)       (None, 8, 8, 64)     0           block2_bn0[0][0]                 \n",
      "__________________________________________________________________________________________________\n",
      "block2_conv1 (Conv2D)           (None, 8, 8, 64)     36928       block2_relu0[0][0]               \n",
      "__________________________________________________________________________________________________\n",
      "block2_bn1 (BatchNormalization) (None, 8, 8, 64)     256         block2_conv1[0][0]               \n",
      "__________________________________________________________________________________________________\n",
      "block2_relu1 (Activation)       (None, 8, 8, 64)     0           block2_bn1[0][0]                 \n",
      "__________________________________________________________________________________________________\n",
      "block2_conv2 (Conv2D)           (None, 8, 8, 64)     36928       block2_relu1[0][0]               \n",
      "__________________________________________________________________________________________________\n",
      "block2_bn2 (BatchNormalization) (None, 8, 8, 64)     256         block2_conv2[0][0]               \n",
      "__________________________________________________________________________________________________\n",
      "block2_shortcut (Conv2D)        (None, 8, 8, 64)     4160        max_pool[0][0]                   \n",
      "__________________________________________________________________________________________________\n",
      "block2_relu2 (Activation)       (None, 8, 8, 64)     0           block2_bn2[0][0]                 \n",
      "__________________________________________________________________________________________________\n",
      "block2_bn_shortcut (BatchNormal (None, 8, 8, 64)     256         block2_shortcut[0][0]            \n",
      "__________________________________________________________________________________________________\n",
      "block2_add (Add)                (None, 8, 8, 64)     0           block2_relu2[0][0]               \n",
      "                                                                 block2_bn_shortcut[0][0]         \n",
      "__________________________________________________________________________________________________\n",
      "block3_conv0 (Conv2D)           (None, 4, 4, 64)     36928       block2_add[0][0]                 \n",
      "__________________________________________________________________________________________________\n",
      "block3_bn0 (BatchNormalization) (None, 4, 4, 64)     256         block3_conv0[0][0]               \n",
      "__________________________________________________________________________________________________\n",
      "block3_relu0 (Activation)       (None, 4, 4, 64)     0           block3_bn0[0][0]                 \n",
      "__________________________________________________________________________________________________\n",
      "block3_conv1 (Conv2D)           (None, 2, 2, 64)     36928       block3_relu0[0][0]               \n",
      "__________________________________________________________________________________________________\n",
      "block3_bn1 (BatchNormalization) (None, 2, 2, 64)     256         block3_conv1[0][0]               \n",
      "__________________________________________________________________________________________________\n",
      "block3_relu1 (Activation)       (None, 2, 2, 64)     0           block3_bn1[0][0]                 \n",
      "__________________________________________________________________________________________________\n",
      "block3_conv2 (Conv2D)           (None, 1, 1, 64)     36928       block3_relu1[0][0]               \n",
      "__________________________________________________________________________________________________\n",
      "block3_bn2 (BatchNormalization) (None, 1, 1, 64)     256         block3_conv2[0][0]               \n",
      "__________________________________________________________________________________________________\n",
      "block3_relu2 (Activation)       (None, 1, 1, 64)     0           block3_bn2[0][0]                 \n",
      "__________________________________________________________________________________________________\n",
      "block4_conv0 (Conv2D)           (None, 1, 1, 64)     36928       block3_relu2[0][0]               \n",
      "__________________________________________________________________________________________________\n",
      "block4_bn0 (BatchNormalization) (None, 1, 1, 64)     256         block4_conv0[0][0]               \n",
      "__________________________________________________________________________________________________\n",
      "block4_relu0 (Activation)       (None, 1, 1, 64)     0           block4_bn0[0][0]                 \n",
      "__________________________________________________________________________________________________\n",
      "block4_conv1 (Conv2D)           (None, 1, 1, 64)     36928       block4_relu0[0][0]               \n",
      "__________________________________________________________________________________________________\n",
      "block4_bn1 (BatchNormalization) (None, 1, 1, 64)     256         block4_conv1[0][0]               \n",
      "__________________________________________________________________________________________________\n",
      "block4_relu1 (Activation)       (None, 1, 1, 64)     0           block4_bn1[0][0]                 \n",
      "__________________________________________________________________________________________________\n",
      "block4_conv2 (Conv2D)           (None, 1, 1, 64)     36928       block4_relu1[0][0]               \n",
      "__________________________________________________________________________________________________\n",
      "block4_bn2 (BatchNormalization) (None, 1, 1, 64)     256         block4_conv2[0][0]               \n",
      "__________________________________________________________________________________________________\n",
      "block4_relu2 (Activation)       (None, 1, 1, 64)     0           block4_bn2[0][0]                 \n",
      "__________________________________________________________________________________________________\n",
      "block6_conv0 (Conv2D)           (None, 1, 1, 128)    73856       block4_relu2[0][0]               \n",
      "__________________________________________________________________________________________________\n",
      "block6_bn0 (BatchNormalization) (None, 1, 1, 128)    512         block6_conv0[0][0]               \n",
      "__________________________________________________________________________________________________\n",
      "block6_relu0 (Activation)       (None, 1, 1, 128)    0           block6_bn0[0][0]                 \n",
      "__________________________________________________________________________________________________\n",
      "block6_conv1 (Conv2D)           (None, 1, 1, 128)    147584      block6_relu0[0][0]               \n",
      "__________________________________________________________________________________________________\n",
      "block6_bn1 (BatchNormalization) (None, 1, 1, 128)    512         block6_conv1[0][0]               \n",
      "__________________________________________________________________________________________________\n",
      "block6_relu1 (Activation)       (None, 1, 1, 128)    0           block6_bn1[0][0]                 \n",
      "__________________________________________________________________________________________________\n",
      "block6_conv2 (Conv2D)           (None, 1, 1, 128)    147584      block6_relu1[0][0]               \n",
      "__________________________________________________________________________________________________\n",
      "block6_bn2 (BatchNormalization) (None, 1, 1, 128)    512         block6_conv2[0][0]               \n",
      "__________________________________________________________________________________________________\n",
      "block6_shortcut (Conv2D)        (None, 1, 1, 128)    8320        block4_relu2[0][0]               \n",
      "__________________________________________________________________________________________________\n",
      "block6_relu2 (Activation)       (None, 1, 1, 128)    0           block6_bn2[0][0]                 \n",
      "__________________________________________________________________________________________________\n",
      "block6_bn_shortcut (BatchNormal (None, 1, 1, 128)    512         block6_shortcut[0][0]            \n",
      "__________________________________________________________________________________________________\n",
      "block6_add (Add)                (None, 1, 1, 128)    0           block6_relu2[0][0]               \n",
      "                                                                 block6_bn_shortcut[0][0]         \n",
      "__________________________________________________________________________________________________\n",
      "block7_conv0 (Conv2D)           (None, 1, 1, 128)    147584      block6_add[0][0]                 \n",
      "__________________________________________________________________________________________________\n",
      "block7_bn0 (BatchNormalization) (None, 1, 1, 128)    512         block7_conv0[0][0]               \n",
      "__________________________________________________________________________________________________\n",
      "block7_relu0 (Activation)       (None, 1, 1, 128)    0           block7_bn0[0][0]                 \n",
      "__________________________________________________________________________________________________\n",
      "block7_conv1 (Conv2D)           (None, 1, 1, 128)    147584      block7_relu0[0][0]               \n",
      "__________________________________________________________________________________________________\n",
      "block7_bn1 (BatchNormalization) (None, 1, 1, 128)    512         block7_conv1[0][0]               \n",
      "__________________________________________________________________________________________________\n",
      "block7_relu1 (Activation)       (None, 1, 1, 128)    0           block7_bn1[0][0]                 \n",
      "__________________________________________________________________________________________________\n",
      "block7_conv2 (Conv2D)           (None, 1, 1, 128)    147584      block7_relu1[0][0]               \n",
      "__________________________________________________________________________________________________\n",
      "block7_bn2 (BatchNormalization) (None, 1, 1, 128)    512         block7_conv2[0][0]               \n",
      "__________________________________________________________________________________________________\n",
      "block7_relu2 (Activation)       (None, 1, 1, 128)    0           block7_bn2[0][0]                 \n",
      "__________________________________________________________________________________________________\n",
      "block8_conv0 (Conv2D)           (None, 1, 1, 128)    147584      block7_relu2[0][0]               \n",
      "__________________________________________________________________________________________________\n",
      "block8_bn0 (BatchNormalization) (None, 1, 1, 128)    512         block8_conv0[0][0]               \n",
      "__________________________________________________________________________________________________\n",
      "block8_relu0 (Activation)       (None, 1, 1, 128)    0           block8_bn0[0][0]                 \n",
      "__________________________________________________________________________________________________\n",
      "block8_conv1 (Conv2D)           (None, 1, 1, 128)    147584      block8_relu0[0][0]               \n",
      "__________________________________________________________________________________________________\n",
      "block8_bn1 (BatchNormalization) (None, 1, 1, 128)    512         block8_conv1[0][0]               \n",
      "__________________________________________________________________________________________________\n",
      "block8_relu1 (Activation)       (None, 1, 1, 128)    0           block8_bn1[0][0]                 \n",
      "__________________________________________________________________________________________________\n",
      "block8_conv2 (Conv2D)           (None, 1, 1, 128)    147584      block8_relu1[0][0]               \n",
      "__________________________________________________________________________________________________\n",
      "block8_bn2 (BatchNormalization) (None, 1, 1, 128)    512         block8_conv2[0][0]               \n",
      "__________________________________________________________________________________________________\n",
      "block8_relu2 (Activation)       (None, 1, 1, 128)    0           block8_bn2[0][0]                 \n",
      "__________________________________________________________________________________________________\n",
      "block9_conv0 (Conv2D)           (None, 1, 1, 128)    147584      block8_relu2[0][0]               \n",
      "__________________________________________________________________________________________________\n",
      "block9_bn0 (BatchNormalization) (None, 1, 1, 128)    512         block9_conv0[0][0]               \n",
      "__________________________________________________________________________________________________\n",
      "block9_relu0 (Activation)       (None, 1, 1, 128)    0           block9_bn0[0][0]                 \n",
      "__________________________________________________________________________________________________\n",
      "block9_conv1 (Conv2D)           (None, 1, 1, 128)    147584      block9_relu0[0][0]               \n",
      "__________________________________________________________________________________________________\n",
      "block9_bn1 (BatchNormalization) (None, 1, 1, 128)    512         block9_conv1[0][0]               \n",
      "__________________________________________________________________________________________________\n",
      "block9_relu1 (Activation)       (None, 1, 1, 128)    0           block9_bn1[0][0]                 \n",
      "__________________________________________________________________________________________________\n",
      "block9_conv2 (Conv2D)           (None, 1, 1, 128)    147584      block9_relu1[0][0]               \n",
      "__________________________________________________________________________________________________\n",
      "block9_bn2 (BatchNormalization) (None, 1, 1, 128)    512         block9_conv2[0][0]               \n",
      "__________________________________________________________________________________________________\n",
      "block9_relu2 (Activation)       (None, 1, 1, 128)    0           block9_bn2[0][0]                 \n",
      "__________________________________________________________________________________________________\n",
      "block12_conv0 (Conv2D)          (None, 1, 1, 256)    295168      block9_relu2[0][0]               \n",
      "__________________________________________________________________________________________________\n",
      "block12_bn0 (BatchNormalization (None, 1, 1, 256)    1024        block12_conv0[0][0]              \n",
      "__________________________________________________________________________________________________\n",
      "block12_relu0 (Activation)      (None, 1, 1, 256)    0           block12_bn0[0][0]                \n",
      "__________________________________________________________________________________________________\n",
      "block12_conv1 (Conv2D)          (None, 1, 1, 256)    590080      block12_relu0[0][0]              \n",
      "__________________________________________________________________________________________________\n",
      "block12_bn1 (BatchNormalization (None, 1, 1, 256)    1024        block12_conv1[0][0]              \n",
      "__________________________________________________________________________________________________\n",
      "block12_relu1 (Activation)      (None, 1, 1, 256)    0           block12_bn1[0][0]                \n",
      "__________________________________________________________________________________________________\n",
      "block12_conv2 (Conv2D)          (None, 1, 1, 256)    590080      block12_relu1[0][0]              \n",
      "__________________________________________________________________________________________________\n",
      "block12_bn2 (BatchNormalization (None, 1, 1, 256)    1024        block12_conv2[0][0]              \n",
      "__________________________________________________________________________________________________\n",
      "block12_shortcut (Conv2D)       (None, 1, 1, 256)    33024       block9_relu2[0][0]               \n",
      "__________________________________________________________________________________________________\n",
      "block12_relu2 (Activation)      (None, 1, 1, 256)    0           block12_bn2[0][0]                \n",
      "__________________________________________________________________________________________________\n",
      "block12_bn_shortcut (BatchNorma (None, 1, 1, 256)    1024        block12_shortcut[0][0]           \n",
      "__________________________________________________________________________________________________\n",
      "block12_add (Add)               (None, 1, 1, 256)    0           block12_relu2[0][0]              \n",
      "                                                                 block12_bn_shortcut[0][0]        \n",
      "__________________________________________________________________________________________________\n",
      "block13_conv0 (Conv2D)          (None, 1, 1, 256)    590080      block12_add[0][0]                \n",
      "__________________________________________________________________________________________________\n",
      "block13_bn0 (BatchNormalization (None, 1, 1, 256)    1024        block13_conv0[0][0]              \n",
      "__________________________________________________________________________________________________\n",
      "block13_relu0 (Activation)      (None, 1, 1, 256)    0           block13_bn0[0][0]                \n",
      "__________________________________________________________________________________________________\n",
      "block13_conv1 (Conv2D)          (None, 1, 1, 256)    590080      block13_relu0[0][0]              \n",
      "__________________________________________________________________________________________________\n",
      "block13_bn1 (BatchNormalization (None, 1, 1, 256)    1024        block13_conv1[0][0]              \n",
      "__________________________________________________________________________________________________\n",
      "block13_relu1 (Activation)      (None, 1, 1, 256)    0           block13_bn1[0][0]                \n",
      "__________________________________________________________________________________________________\n",
      "block13_conv2 (Conv2D)          (None, 1, 1, 256)    590080      block13_relu1[0][0]              \n",
      "__________________________________________________________________________________________________\n",
      "block13_bn2 (BatchNormalization (None, 1, 1, 256)    1024        block13_conv2[0][0]              \n",
      "__________________________________________________________________________________________________\n",
      "block13_relu2 (Activation)      (None, 1, 1, 256)    0           block13_bn2[0][0]                \n",
      "__________________________________________________________________________________________________\n",
      "block14_conv0 (Conv2D)          (None, 1, 1, 256)    590080      block13_relu2[0][0]              \n",
      "__________________________________________________________________________________________________\n",
      "block14_bn0 (BatchNormalization (None, 1, 1, 256)    1024        block14_conv0[0][0]              \n",
      "__________________________________________________________________________________________________\n",
      "block14_relu0 (Activation)      (None, 1, 1, 256)    0           block14_bn0[0][0]                \n",
      "__________________________________________________________________________________________________\n",
      "block14_conv1 (Conv2D)          (None, 1, 1, 256)    590080      block14_relu0[0][0]              \n",
      "__________________________________________________________________________________________________\n",
      "block14_bn1 (BatchNormalization (None, 1, 1, 256)    1024        block14_conv1[0][0]              \n",
      "__________________________________________________________________________________________________\n",
      "block14_relu1 (Activation)      (None, 1, 1, 256)    0           block14_bn1[0][0]                \n",
      "__________________________________________________________________________________________________\n",
      "block14_conv2 (Conv2D)          (None, 1, 1, 256)    590080      block14_relu1[0][0]              \n",
      "__________________________________________________________________________________________________\n",
      "block14_bn2 (BatchNormalization (None, 1, 1, 256)    1024        block14_conv2[0][0]              \n",
      "__________________________________________________________________________________________________\n",
      "block14_relu2 (Activation)      (None, 1, 1, 256)    0           block14_bn2[0][0]                \n",
      "__________________________________________________________________________________________________\n",
      "block15_conv0 (Conv2D)          (None, 1, 1, 256)    590080      block14_relu2[0][0]              \n",
      "__________________________________________________________________________________________________\n",
      "block15_bn0 (BatchNormalization (None, 1, 1, 256)    1024        block15_conv0[0][0]              \n",
      "__________________________________________________________________________________________________\n",
      "block15_relu0 (Activation)      (None, 1, 1, 256)    0           block15_bn0[0][0]                \n",
      "__________________________________________________________________________________________________\n",
      "block15_conv1 (Conv2D)          (None, 1, 1, 256)    590080      block15_relu0[0][0]              \n",
      "__________________________________________________________________________________________________\n",
      "block15_bn1 (BatchNormalization (None, 1, 1, 256)    1024        block15_conv1[0][0]              \n",
      "__________________________________________________________________________________________________\n",
      "block15_relu1 (Activation)      (None, 1, 1, 256)    0           block15_bn1[0][0]                \n",
      "__________________________________________________________________________________________________\n",
      "block15_conv2 (Conv2D)          (None, 1, 1, 256)    590080      block15_relu1[0][0]              \n",
      "__________________________________________________________________________________________________\n",
      "block15_bn2 (BatchNormalization (None, 1, 1, 256)    1024        block15_conv2[0][0]              \n",
      "__________________________________________________________________________________________________\n",
      "block15_relu2 (Activation)      (None, 1, 1, 256)    0           block15_bn2[0][0]                \n",
      "__________________________________________________________________________________________________\n",
      "block16_conv0 (Conv2D)          (None, 1, 1, 256)    590080      block15_relu2[0][0]              \n",
      "__________________________________________________________________________________________________\n",
      "block16_bn0 (BatchNormalization (None, 1, 1, 256)    1024        block16_conv0[0][0]              \n",
      "__________________________________________________________________________________________________\n",
      "block16_relu0 (Activation)      (None, 1, 1, 256)    0           block16_bn0[0][0]                \n",
      "__________________________________________________________________________________________________\n",
      "block16_conv1 (Conv2D)          (None, 1, 1, 256)    590080      block16_relu0[0][0]              \n",
      "__________________________________________________________________________________________________\n",
      "block16_bn1 (BatchNormalization (None, 1, 1, 256)    1024        block16_conv1[0][0]              \n",
      "__________________________________________________________________________________________________\n",
      "block16_relu1 (Activation)      (None, 1, 1, 256)    0           block16_bn1[0][0]                \n",
      "__________________________________________________________________________________________________\n",
      "block16_conv2 (Conv2D)          (None, 1, 1, 256)    590080      block16_relu1[0][0]              \n",
      "__________________________________________________________________________________________________\n",
      "block16_bn2 (BatchNormalization (None, 1, 1, 256)    1024        block16_conv2[0][0]              \n",
      "__________________________________________________________________________________________________\n",
      "block16_relu2 (Activation)      (None, 1, 1, 256)    0           block16_bn2[0][0]                \n",
      "__________________________________________________________________________________________________\n",
      "block17_conv0 (Conv2D)          (None, 1, 1, 256)    590080      block16_relu2[0][0]              \n",
      "__________________________________________________________________________________________________\n",
      "block17_bn0 (BatchNormalization (None, 1, 1, 256)    1024        block17_conv0[0][0]              \n",
      "__________________________________________________________________________________________________\n",
      "block17_relu0 (Activation)      (None, 1, 1, 256)    0           block17_bn0[0][0]                \n",
      "__________________________________________________________________________________________________\n",
      "block17_conv1 (Conv2D)          (None, 1, 1, 256)    590080      block17_relu0[0][0]              \n",
      "__________________________________________________________________________________________________\n",
      "block17_bn1 (BatchNormalization (None, 1, 1, 256)    1024        block17_conv1[0][0]              \n",
      "__________________________________________________________________________________________________\n",
      "block17_relu1 (Activation)      (None, 1, 1, 256)    0           block17_bn1[0][0]                \n",
      "__________________________________________________________________________________________________\n",
      "block17_conv2 (Conv2D)          (None, 1, 1, 256)    590080      block17_relu1[0][0]              \n",
      "__________________________________________________________________________________________________\n",
      "block17_bn2 (BatchNormalization (None, 1, 1, 256)    1024        block17_conv2[0][0]              \n",
      "__________________________________________________________________________________________________\n",
      "block17_relu2 (Activation)      (None, 1, 1, 256)    0           block17_bn2[0][0]                \n",
      "__________________________________________________________________________________________________\n",
      "block24_conv0 (Conv2D)          (None, 1, 1, 512)    1180160     block17_relu2[0][0]              \n",
      "__________________________________________________________________________________________________\n",
      "block24_bn0 (BatchNormalization (None, 1, 1, 512)    2048        block24_conv0[0][0]              \n",
      "__________________________________________________________________________________________________\n",
      "block24_relu0 (Activation)      (None, 1, 1, 512)    0           block24_bn0[0][0]                \n",
      "__________________________________________________________________________________________________\n",
      "block24_conv1 (Conv2D)          (None, 1, 1, 512)    2359808     block24_relu0[0][0]              \n",
      "__________________________________________________________________________________________________\n",
      "block24_bn1 (BatchNormalization (None, 1, 1, 512)    2048        block24_conv1[0][0]              \n",
      "__________________________________________________________________________________________________\n",
      "block24_relu1 (Activation)      (None, 1, 1, 512)    0           block24_bn1[0][0]                \n",
      "__________________________________________________________________________________________________\n",
      "block24_conv2 (Conv2D)          (None, 1, 1, 512)    2359808     block24_relu1[0][0]              \n",
      "__________________________________________________________________________________________________\n",
      "block24_bn2 (BatchNormalization (None, 1, 1, 512)    2048        block24_conv2[0][0]              \n",
      "__________________________________________________________________________________________________\n",
      "block24_shortcut (Conv2D)       (None, 1, 1, 512)    131584      block17_relu2[0][0]              \n",
      "__________________________________________________________________________________________________\n",
      "block24_relu2 (Activation)      (None, 1, 1, 512)    0           block24_bn2[0][0]                \n",
      "__________________________________________________________________________________________________\n",
      "block24_bn_shortcut (BatchNorma (None, 1, 1, 512)    2048        block24_shortcut[0][0]           \n",
      "__________________________________________________________________________________________________\n",
      "block24_add (Add)               (None, 1, 1, 512)    0           block24_relu2[0][0]              \n",
      "                                                                 block24_bn_shortcut[0][0]        \n",
      "__________________________________________________________________________________________________\n",
      "block25_conv0 (Conv2D)          (None, 1, 1, 512)    2359808     block24_add[0][0]                \n",
      "__________________________________________________________________________________________________\n",
      "block25_bn0 (BatchNormalization (None, 1, 1, 512)    2048        block25_conv0[0][0]              \n",
      "__________________________________________________________________________________________________\n",
      "block25_relu0 (Activation)      (None, 1, 1, 512)    0           block25_bn0[0][0]                \n",
      "__________________________________________________________________________________________________\n",
      "block25_conv1 (Conv2D)          (None, 1, 1, 512)    2359808     block25_relu0[0][0]              \n",
      "__________________________________________________________________________________________________\n",
      "block25_bn1 (BatchNormalization (None, 1, 1, 512)    2048        block25_conv1[0][0]              \n",
      "__________________________________________________________________________________________________\n",
      "block25_relu1 (Activation)      (None, 1, 1, 512)    0           block25_bn1[0][0]                \n",
      "__________________________________________________________________________________________________\n",
      "block25_conv2 (Conv2D)          (None, 1, 1, 512)    2359808     block25_relu1[0][0]              \n",
      "__________________________________________________________________________________________________\n",
      "block25_bn2 (BatchNormalization (None, 1, 1, 512)    2048        block25_conv2[0][0]              \n",
      "__________________________________________________________________________________________________\n",
      "block25_relu2 (Activation)      (None, 1, 1, 512)    0           block25_bn2[0][0]                \n",
      "__________________________________________________________________________________________________\n",
      "block26_conv0 (Conv2D)          (None, 1, 1, 512)    2359808     block25_relu2[0][0]              \n",
      "__________________________________________________________________________________________________\n",
      "block26_bn0 (BatchNormalization (None, 1, 1, 512)    2048        block26_conv0[0][0]              \n",
      "__________________________________________________________________________________________________\n",
      "block26_relu0 (Activation)      (None, 1, 1, 512)    0           block26_bn0[0][0]                \n",
      "__________________________________________________________________________________________________\n",
      "block26_conv1 (Conv2D)          (None, 1, 1, 512)    2359808     block26_relu0[0][0]              \n",
      "__________________________________________________________________________________________________\n",
      "block26_bn1 (BatchNormalization (None, 1, 1, 512)    2048        block26_conv1[0][0]              \n",
      "__________________________________________________________________________________________________\n",
      "block26_relu1 (Activation)      (None, 1, 1, 512)    0           block26_bn1[0][0]                \n",
      "__________________________________________________________________________________________________\n",
      "block26_conv2 (Conv2D)          (None, 1, 1, 512)    2359808     block26_relu1[0][0]              \n",
      "__________________________________________________________________________________________________\n",
      "block26_bn2 (BatchNormalization (None, 1, 1, 512)    2048        block26_conv2[0][0]              \n",
      "__________________________________________________________________________________________________\n",
      "block26_relu2 (Activation)      (None, 1, 1, 512)    0           block26_bn2[0][0]                \n",
      "__________________________________________________________________________________________________\n",
      "avg_pool (GlobalAveragePooling2 (None, 512)          0           block26_relu2[0][0]              \n",
      "__________________________________________________________________________________________________\n",
      "fc (Dense)                      (None, 2)            1026        avg_pool[0][0]                   \n",
      "==================================================================================================\n",
      "Total params: 32,651,778\n",
      "Trainable params: 32,627,074\n",
      "Non-trainable params: 24,704\n",
      "__________________________________________________________________________________________________\n"
     ]
    }
   ],
   "source": [
    "resnet34 = build_resnet(input_shape=(32, 32, 3), num_blocks=[3, 4, 6, 3], num_classes=2)\n",
    "resnet34.summary()"
   ]
  },
  {
   "cell_type": "markdown",
   "id": "12b7fcc0",
   "metadata": {
    "id": "40de0207"
   },
   "source": [
    "### 3) ResNet-50"
   ]
  },
  {
   "cell_type": "code",
   "execution_count": 29,
   "id": "95df246e",
   "metadata": {
    "colab": {
     "base_uri": "https://localhost:8080/"
    },
    "id": "ae27b207",
    "outputId": "4fd17427-adef-43f2-c569-8b9395b257c2",
    "scrolled": false
   },
   "outputs": [
    {
     "name": "stdout",
     "output_type": "stream",
     "text": [
      "Model: \"model_5\"\n",
      "__________________________________________________________________________________________________\n",
      "Layer (type)                    Output Shape         Param #     Connected to                     \n",
      "==================================================================================================\n",
      "input_6 (InputLayer)            [(None, 32, 32, 3)]  0                                            \n",
      "__________________________________________________________________________________________________\n",
      "conv1 (Conv2D)                  (None, 16, 16, 64)   9472        input_6[0][0]                    \n",
      "__________________________________________________________________________________________________\n",
      "bn_conv1 (BatchNormalization)   (None, 16, 16, 64)   256         conv1[0][0]                      \n",
      "__________________________________________________________________________________________________\n",
      "activation_1 (Activation)       (None, 16, 16, 64)   0           bn_conv1[0][0]                   \n",
      "__________________________________________________________________________________________________\n",
      "max_pool (MaxPooling2D)         (None, 8, 8, 64)     0           activation_1[0][0]               \n",
      "__________________________________________________________________________________________________\n",
      "block2_conv0 (Conv2D)           (None, 8, 8, 64)     36928       max_pool[0][0]                   \n",
      "__________________________________________________________________________________________________\n",
      "block2_bn0 (BatchNormalization) (None, 8, 8, 64)     256         block2_conv0[0][0]               \n",
      "__________________________________________________________________________________________________\n",
      "block2_relu0 (Activation)       (None, 8, 8, 64)     0           block2_bn0[0][0]                 \n",
      "__________________________________________________________________________________________________\n",
      "block2_conv1 (Conv2D)           (None, 8, 8, 64)     36928       block2_relu0[0][0]               \n",
      "__________________________________________________________________________________________________\n",
      "block2_bn1 (BatchNormalization) (None, 8, 8, 64)     256         block2_conv1[0][0]               \n",
      "__________________________________________________________________________________________________\n",
      "block2_relu1 (Activation)       (None, 8, 8, 64)     0           block2_bn1[0][0]                 \n",
      "__________________________________________________________________________________________________\n",
      "block2_conv2 (Conv2D)           (None, 8, 8, 64)     36928       block2_relu1[0][0]               \n",
      "__________________________________________________________________________________________________\n",
      "block2_bn2 (BatchNormalization) (None, 8, 8, 64)     256         block2_conv2[0][0]               \n",
      "__________________________________________________________________________________________________\n",
      "block2_shortcut (Conv2D)        (None, 8, 8, 64)     4160        max_pool[0][0]                   \n",
      "__________________________________________________________________________________________________\n",
      "block2_relu2 (Activation)       (None, 8, 8, 64)     0           block2_bn2[0][0]                 \n",
      "__________________________________________________________________________________________________\n",
      "block2_bn_shortcut (BatchNormal (None, 8, 8, 64)     256         block2_shortcut[0][0]            \n",
      "__________________________________________________________________________________________________\n",
      "block2_add (Add)                (None, 8, 8, 64)     0           block2_relu2[0][0]               \n",
      "                                                                 block2_bn_shortcut[0][0]         \n",
      "__________________________________________________________________________________________________\n",
      "block3_conv0 (Conv2D)           (None, 4, 4, 64)     36928       block2_add[0][0]                 \n",
      "__________________________________________________________________________________________________\n",
      "block3_bn0 (BatchNormalization) (None, 4, 4, 64)     256         block3_conv0[0][0]               \n",
      "__________________________________________________________________________________________________\n",
      "block3_relu0 (Activation)       (None, 4, 4, 64)     0           block3_bn0[0][0]                 \n",
      "__________________________________________________________________________________________________\n",
      "block3_conv1 (Conv2D)           (None, 2, 2, 64)     36928       block3_relu0[0][0]               \n",
      "__________________________________________________________________________________________________\n",
      "block3_bn1 (BatchNormalization) (None, 2, 2, 64)     256         block3_conv1[0][0]               \n",
      "__________________________________________________________________________________________________\n",
      "block3_relu1 (Activation)       (None, 2, 2, 64)     0           block3_bn1[0][0]                 \n",
      "__________________________________________________________________________________________________\n",
      "block3_conv2 (Conv2D)           (None, 1, 1, 64)     36928       block3_relu1[0][0]               \n",
      "__________________________________________________________________________________________________\n",
      "block3_bn2 (BatchNormalization) (None, 1, 1, 64)     256         block3_conv2[0][0]               \n",
      "__________________________________________________________________________________________________\n",
      "block3_relu2 (Activation)       (None, 1, 1, 64)     0           block3_bn2[0][0]                 \n",
      "__________________________________________________________________________________________________\n",
      "block4_conv0 (Conv2D)           (None, 1, 1, 64)     36928       block3_relu2[0][0]               \n",
      "__________________________________________________________________________________________________\n",
      "block4_bn0 (BatchNormalization) (None, 1, 1, 64)     256         block4_conv0[0][0]               \n",
      "__________________________________________________________________________________________________\n",
      "block4_relu0 (Activation)       (None, 1, 1, 64)     0           block4_bn0[0][0]                 \n",
      "__________________________________________________________________________________________________\n",
      "block4_conv1 (Conv2D)           (None, 1, 1, 64)     36928       block4_relu0[0][0]               \n",
      "__________________________________________________________________________________________________\n",
      "block4_bn1 (BatchNormalization) (None, 1, 1, 64)     256         block4_conv1[0][0]               \n",
      "__________________________________________________________________________________________________\n",
      "block4_relu1 (Activation)       (None, 1, 1, 64)     0           block4_bn1[0][0]                 \n",
      "__________________________________________________________________________________________________\n",
      "block4_conv2 (Conv2D)           (None, 1, 1, 64)     36928       block4_relu1[0][0]               \n",
      "__________________________________________________________________________________________________\n",
      "block4_bn2 (BatchNormalization) (None, 1, 1, 64)     256         block4_conv2[0][0]               \n",
      "__________________________________________________________________________________________________\n",
      "block4_relu2 (Activation)       (None, 1, 1, 64)     0           block4_bn2[0][0]                 \n",
      "__________________________________________________________________________________________________\n",
      "block6_conv0 (Conv2D)           (None, 1, 1, 128)    73856       block4_relu2[0][0]               \n",
      "__________________________________________________________________________________________________\n",
      "block6_bn0 (BatchNormalization) (None, 1, 1, 128)    512         block6_conv0[0][0]               \n",
      "__________________________________________________________________________________________________\n",
      "block6_relu0 (Activation)       (None, 1, 1, 128)    0           block6_bn0[0][0]                 \n",
      "__________________________________________________________________________________________________\n",
      "block6_conv1 (Conv2D)           (None, 1, 1, 128)    147584      block6_relu0[0][0]               \n",
      "__________________________________________________________________________________________________\n",
      "block6_bn1 (BatchNormalization) (None, 1, 1, 128)    512         block6_conv1[0][0]               \n",
      "__________________________________________________________________________________________________\n",
      "block6_relu1 (Activation)       (None, 1, 1, 128)    0           block6_bn1[0][0]                 \n",
      "__________________________________________________________________________________________________\n",
      "block6_conv2 (Conv2D)           (None, 1, 1, 128)    147584      block6_relu1[0][0]               \n",
      "__________________________________________________________________________________________________\n",
      "block6_bn2 (BatchNormalization) (None, 1, 1, 128)    512         block6_conv2[0][0]               \n",
      "__________________________________________________________________________________________________\n",
      "block6_shortcut (Conv2D)        (None, 1, 1, 128)    8320        block4_relu2[0][0]               \n",
      "__________________________________________________________________________________________________\n",
      "block6_relu2 (Activation)       (None, 1, 1, 128)    0           block6_bn2[0][0]                 \n",
      "__________________________________________________________________________________________________\n",
      "block6_bn_shortcut (BatchNormal (None, 1, 1, 128)    512         block6_shortcut[0][0]            \n",
      "__________________________________________________________________________________________________\n",
      "block6_add (Add)                (None, 1, 1, 128)    0           block6_relu2[0][0]               \n",
      "                                                                 block6_bn_shortcut[0][0]         \n",
      "__________________________________________________________________________________________________\n",
      "block7_conv0 (Conv2D)           (None, 1, 1, 128)    147584      block6_add[0][0]                 \n",
      "__________________________________________________________________________________________________\n",
      "block7_bn0 (BatchNormalization) (None, 1, 1, 128)    512         block7_conv0[0][0]               \n",
      "__________________________________________________________________________________________________\n",
      "block7_relu0 (Activation)       (None, 1, 1, 128)    0           block7_bn0[0][0]                 \n",
      "__________________________________________________________________________________________________\n",
      "block7_conv1 (Conv2D)           (None, 1, 1, 128)    147584      block7_relu0[0][0]               \n",
      "__________________________________________________________________________________________________\n",
      "block7_bn1 (BatchNormalization) (None, 1, 1, 128)    512         block7_conv1[0][0]               \n",
      "__________________________________________________________________________________________________\n",
      "block7_relu1 (Activation)       (None, 1, 1, 128)    0           block7_bn1[0][0]                 \n",
      "__________________________________________________________________________________________________\n",
      "block7_conv2 (Conv2D)           (None, 1, 1, 128)    147584      block7_relu1[0][0]               \n",
      "__________________________________________________________________________________________________\n",
      "block7_bn2 (BatchNormalization) (None, 1, 1, 128)    512         block7_conv2[0][0]               \n",
      "__________________________________________________________________________________________________\n",
      "block7_relu2 (Activation)       (None, 1, 1, 128)    0           block7_bn2[0][0]                 \n",
      "__________________________________________________________________________________________________\n",
      "block8_conv0 (Conv2D)           (None, 1, 1, 128)    147584      block7_relu2[0][0]               \n",
      "__________________________________________________________________________________________________\n",
      "block8_bn0 (BatchNormalization) (None, 1, 1, 128)    512         block8_conv0[0][0]               \n",
      "__________________________________________________________________________________________________\n",
      "block8_relu0 (Activation)       (None, 1, 1, 128)    0           block8_bn0[0][0]                 \n",
      "__________________________________________________________________________________________________\n",
      "block8_conv1 (Conv2D)           (None, 1, 1, 128)    147584      block8_relu0[0][0]               \n",
      "__________________________________________________________________________________________________\n",
      "block8_bn1 (BatchNormalization) (None, 1, 1, 128)    512         block8_conv1[0][0]               \n",
      "__________________________________________________________________________________________________\n",
      "block8_relu1 (Activation)       (None, 1, 1, 128)    0           block8_bn1[0][0]                 \n",
      "__________________________________________________________________________________________________\n",
      "block8_conv2 (Conv2D)           (None, 1, 1, 128)    147584      block8_relu1[0][0]               \n",
      "__________________________________________________________________________________________________\n",
      "block8_bn2 (BatchNormalization) (None, 1, 1, 128)    512         block8_conv2[0][0]               \n",
      "__________________________________________________________________________________________________\n",
      "block8_relu2 (Activation)       (None, 1, 1, 128)    0           block8_bn2[0][0]                 \n",
      "__________________________________________________________________________________________________\n",
      "block9_conv0 (Conv2D)           (None, 1, 1, 128)    147584      block8_relu2[0][0]               \n",
      "__________________________________________________________________________________________________\n",
      "block9_bn0 (BatchNormalization) (None, 1, 1, 128)    512         block9_conv0[0][0]               \n",
      "__________________________________________________________________________________________________\n",
      "block9_relu0 (Activation)       (None, 1, 1, 128)    0           block9_bn0[0][0]                 \n",
      "__________________________________________________________________________________________________\n",
      "block9_conv1 (Conv2D)           (None, 1, 1, 128)    147584      block9_relu0[0][0]               \n",
      "__________________________________________________________________________________________________\n",
      "block9_bn1 (BatchNormalization) (None, 1, 1, 128)    512         block9_conv1[0][0]               \n",
      "__________________________________________________________________________________________________\n",
      "block9_relu1 (Activation)       (None, 1, 1, 128)    0           block9_bn1[0][0]                 \n",
      "__________________________________________________________________________________________________\n",
      "block9_conv2 (Conv2D)           (None, 1, 1, 128)    147584      block9_relu1[0][0]               \n",
      "__________________________________________________________________________________________________\n",
      "block9_bn2 (BatchNormalization) (None, 1, 1, 128)    512         block9_conv2[0][0]               \n",
      "__________________________________________________________________________________________________\n",
      "block9_relu2 (Activation)       (None, 1, 1, 128)    0           block9_bn2[0][0]                 \n",
      "__________________________________________________________________________________________________\n",
      "block12_conv0 (Conv2D)          (None, 1, 1, 256)    295168      block9_relu2[0][0]               \n",
      "__________________________________________________________________________________________________\n",
      "block12_bn0 (BatchNormalization (None, 1, 1, 256)    1024        block12_conv0[0][0]              \n",
      "__________________________________________________________________________________________________\n",
      "block12_relu0 (Activation)      (None, 1, 1, 256)    0           block12_bn0[0][0]                \n",
      "__________________________________________________________________________________________________\n",
      "block12_conv1 (Conv2D)          (None, 1, 1, 256)    590080      block12_relu0[0][0]              \n",
      "__________________________________________________________________________________________________\n",
      "block12_bn1 (BatchNormalization (None, 1, 1, 256)    1024        block12_conv1[0][0]              \n",
      "__________________________________________________________________________________________________\n",
      "block12_relu1 (Activation)      (None, 1, 1, 256)    0           block12_bn1[0][0]                \n",
      "__________________________________________________________________________________________________\n",
      "block12_conv2 (Conv2D)          (None, 1, 1, 256)    590080      block12_relu1[0][0]              \n",
      "__________________________________________________________________________________________________\n",
      "block12_bn2 (BatchNormalization (None, 1, 1, 256)    1024        block12_conv2[0][0]              \n",
      "__________________________________________________________________________________________________\n",
      "block12_shortcut (Conv2D)       (None, 1, 1, 256)    33024       block9_relu2[0][0]               \n",
      "__________________________________________________________________________________________________\n",
      "block12_relu2 (Activation)      (None, 1, 1, 256)    0           block12_bn2[0][0]                \n",
      "__________________________________________________________________________________________________\n",
      "block12_bn_shortcut (BatchNorma (None, 1, 1, 256)    1024        block12_shortcut[0][0]           \n",
      "__________________________________________________________________________________________________\n",
      "block12_add (Add)               (None, 1, 1, 256)    0           block12_relu2[0][0]              \n",
      "                                                                 block12_bn_shortcut[0][0]        \n",
      "__________________________________________________________________________________________________\n",
      "block13_conv0 (Conv2D)          (None, 1, 1, 256)    590080      block12_add[0][0]                \n",
      "__________________________________________________________________________________________________\n",
      "block13_bn0 (BatchNormalization (None, 1, 1, 256)    1024        block13_conv0[0][0]              \n",
      "__________________________________________________________________________________________________\n",
      "block13_relu0 (Activation)      (None, 1, 1, 256)    0           block13_bn0[0][0]                \n",
      "__________________________________________________________________________________________________\n",
      "block13_conv1 (Conv2D)          (None, 1, 1, 256)    590080      block13_relu0[0][0]              \n",
      "__________________________________________________________________________________________________\n",
      "block13_bn1 (BatchNormalization (None, 1, 1, 256)    1024        block13_conv1[0][0]              \n",
      "__________________________________________________________________________________________________\n",
      "block13_relu1 (Activation)      (None, 1, 1, 256)    0           block13_bn1[0][0]                \n",
      "__________________________________________________________________________________________________\n",
      "block13_conv2 (Conv2D)          (None, 1, 1, 256)    590080      block13_relu1[0][0]              \n",
      "__________________________________________________________________________________________________\n",
      "block13_bn2 (BatchNormalization (None, 1, 1, 256)    1024        block13_conv2[0][0]              \n",
      "__________________________________________________________________________________________________\n",
      "block13_relu2 (Activation)      (None, 1, 1, 256)    0           block13_bn2[0][0]                \n",
      "__________________________________________________________________________________________________\n",
      "block14_conv0 (Conv2D)          (None, 1, 1, 256)    590080      block13_relu2[0][0]              \n",
      "__________________________________________________________________________________________________\n",
      "block14_bn0 (BatchNormalization (None, 1, 1, 256)    1024        block14_conv0[0][0]              \n",
      "__________________________________________________________________________________________________\n",
      "block14_relu0 (Activation)      (None, 1, 1, 256)    0           block14_bn0[0][0]                \n",
      "__________________________________________________________________________________________________\n",
      "block14_conv1 (Conv2D)          (None, 1, 1, 256)    590080      block14_relu0[0][0]              \n",
      "__________________________________________________________________________________________________\n",
      "block14_bn1 (BatchNormalization (None, 1, 1, 256)    1024        block14_conv1[0][0]              \n",
      "__________________________________________________________________________________________________\n",
      "block14_relu1 (Activation)      (None, 1, 1, 256)    0           block14_bn1[0][0]                \n",
      "__________________________________________________________________________________________________\n",
      "block14_conv2 (Conv2D)          (None, 1, 1, 256)    590080      block14_relu1[0][0]              \n",
      "__________________________________________________________________________________________________\n",
      "block14_bn2 (BatchNormalization (None, 1, 1, 256)    1024        block14_conv2[0][0]              \n",
      "__________________________________________________________________________________________________\n",
      "block14_relu2 (Activation)      (None, 1, 1, 256)    0           block14_bn2[0][0]                \n",
      "__________________________________________________________________________________________________\n",
      "block15_conv0 (Conv2D)          (None, 1, 1, 256)    590080      block14_relu2[0][0]              \n",
      "__________________________________________________________________________________________________\n",
      "block15_bn0 (BatchNormalization (None, 1, 1, 256)    1024        block15_conv0[0][0]              \n",
      "__________________________________________________________________________________________________\n",
      "block15_relu0 (Activation)      (None, 1, 1, 256)    0           block15_bn0[0][0]                \n",
      "__________________________________________________________________________________________________\n",
      "block15_conv1 (Conv2D)          (None, 1, 1, 256)    590080      block15_relu0[0][0]              \n",
      "__________________________________________________________________________________________________\n",
      "block15_bn1 (BatchNormalization (None, 1, 1, 256)    1024        block15_conv1[0][0]              \n",
      "__________________________________________________________________________________________________\n",
      "block15_relu1 (Activation)      (None, 1, 1, 256)    0           block15_bn1[0][0]                \n",
      "__________________________________________________________________________________________________\n",
      "block15_conv2 (Conv2D)          (None, 1, 1, 256)    590080      block15_relu1[0][0]              \n",
      "__________________________________________________________________________________________________\n",
      "block15_bn2 (BatchNormalization (None, 1, 1, 256)    1024        block15_conv2[0][0]              \n",
      "__________________________________________________________________________________________________\n",
      "block15_relu2 (Activation)      (None, 1, 1, 256)    0           block15_bn2[0][0]                \n",
      "__________________________________________________________________________________________________\n",
      "block16_conv0 (Conv2D)          (None, 1, 1, 256)    590080      block15_relu2[0][0]              \n",
      "__________________________________________________________________________________________________\n",
      "block16_bn0 (BatchNormalization (None, 1, 1, 256)    1024        block16_conv0[0][0]              \n",
      "__________________________________________________________________________________________________\n",
      "block16_relu0 (Activation)      (None, 1, 1, 256)    0           block16_bn0[0][0]                \n",
      "__________________________________________________________________________________________________\n",
      "block16_conv1 (Conv2D)          (None, 1, 1, 256)    590080      block16_relu0[0][0]              \n",
      "__________________________________________________________________________________________________\n",
      "block16_bn1 (BatchNormalization (None, 1, 1, 256)    1024        block16_conv1[0][0]              \n",
      "__________________________________________________________________________________________________\n",
      "block16_relu1 (Activation)      (None, 1, 1, 256)    0           block16_bn1[0][0]                \n",
      "__________________________________________________________________________________________________\n",
      "block16_conv2 (Conv2D)          (None, 1, 1, 256)    590080      block16_relu1[0][0]              \n",
      "__________________________________________________________________________________________________\n",
      "block16_bn2 (BatchNormalization (None, 1, 1, 256)    1024        block16_conv2[0][0]              \n",
      "__________________________________________________________________________________________________\n",
      "block16_relu2 (Activation)      (None, 1, 1, 256)    0           block16_bn2[0][0]                \n",
      "__________________________________________________________________________________________________\n",
      "block17_conv0 (Conv2D)          (None, 1, 1, 256)    590080      block16_relu2[0][0]              \n",
      "__________________________________________________________________________________________________\n",
      "block17_bn0 (BatchNormalization (None, 1, 1, 256)    1024        block17_conv0[0][0]              \n",
      "__________________________________________________________________________________________________\n",
      "block17_relu0 (Activation)      (None, 1, 1, 256)    0           block17_bn0[0][0]                \n",
      "__________________________________________________________________________________________________\n",
      "block17_conv1 (Conv2D)          (None, 1, 1, 256)    590080      block17_relu0[0][0]              \n",
      "__________________________________________________________________________________________________\n",
      "block17_bn1 (BatchNormalization (None, 1, 1, 256)    1024        block17_conv1[0][0]              \n",
      "__________________________________________________________________________________________________\n",
      "block17_relu1 (Activation)      (None, 1, 1, 256)    0           block17_bn1[0][0]                \n",
      "__________________________________________________________________________________________________\n",
      "block17_conv2 (Conv2D)          (None, 1, 1, 256)    590080      block17_relu1[0][0]              \n",
      "__________________________________________________________________________________________________\n",
      "block17_bn2 (BatchNormalization (None, 1, 1, 256)    1024        block17_conv2[0][0]              \n",
      "__________________________________________________________________________________________________\n",
      "block17_relu2 (Activation)      (None, 1, 1, 256)    0           block17_bn2[0][0]                \n",
      "__________________________________________________________________________________________________\n",
      "block24_conv0 (Conv2D)          (None, 1, 1, 512)    1180160     block17_relu2[0][0]              \n",
      "__________________________________________________________________________________________________\n",
      "block24_bn0 (BatchNormalization (None, 1, 1, 512)    2048        block24_conv0[0][0]              \n",
      "__________________________________________________________________________________________________\n",
      "block24_relu0 (Activation)      (None, 1, 1, 512)    0           block24_bn0[0][0]                \n",
      "__________________________________________________________________________________________________\n",
      "block24_conv1 (Conv2D)          (None, 1, 1, 512)    2359808     block24_relu0[0][0]              \n",
      "__________________________________________________________________________________________________\n",
      "block24_bn1 (BatchNormalization (None, 1, 1, 512)    2048        block24_conv1[0][0]              \n",
      "__________________________________________________________________________________________________\n",
      "block24_relu1 (Activation)      (None, 1, 1, 512)    0           block24_bn1[0][0]                \n",
      "__________________________________________________________________________________________________\n",
      "block24_conv2 (Conv2D)          (None, 1, 1, 512)    2359808     block24_relu1[0][0]              \n",
      "__________________________________________________________________________________________________\n",
      "block24_bn2 (BatchNormalization (None, 1, 1, 512)    2048        block24_conv2[0][0]              \n",
      "__________________________________________________________________________________________________\n",
      "block24_shortcut (Conv2D)       (None, 1, 1, 512)    131584      block17_relu2[0][0]              \n",
      "__________________________________________________________________________________________________\n",
      "block24_relu2 (Activation)      (None, 1, 1, 512)    0           block24_bn2[0][0]                \n",
      "__________________________________________________________________________________________________\n",
      "block24_bn_shortcut (BatchNorma (None, 1, 1, 512)    2048        block24_shortcut[0][0]           \n",
      "__________________________________________________________________________________________________\n",
      "block24_add (Add)               (None, 1, 1, 512)    0           block24_relu2[0][0]              \n",
      "                                                                 block24_bn_shortcut[0][0]        \n",
      "__________________________________________________________________________________________________\n",
      "block25_conv0 (Conv2D)          (None, 1, 1, 512)    2359808     block24_add[0][0]                \n",
      "__________________________________________________________________________________________________\n",
      "block25_bn0 (BatchNormalization (None, 1, 1, 512)    2048        block25_conv0[0][0]              \n",
      "__________________________________________________________________________________________________\n",
      "block25_relu0 (Activation)      (None, 1, 1, 512)    0           block25_bn0[0][0]                \n",
      "__________________________________________________________________________________________________\n",
      "block25_conv1 (Conv2D)          (None, 1, 1, 512)    2359808     block25_relu0[0][0]              \n",
      "__________________________________________________________________________________________________\n",
      "block25_bn1 (BatchNormalization (None, 1, 1, 512)    2048        block25_conv1[0][0]              \n",
      "__________________________________________________________________________________________________\n",
      "block25_relu1 (Activation)      (None, 1, 1, 512)    0           block25_bn1[0][0]                \n",
      "__________________________________________________________________________________________________\n",
      "block25_conv2 (Conv2D)          (None, 1, 1, 512)    2359808     block25_relu1[0][0]              \n",
      "__________________________________________________________________________________________________\n",
      "block25_bn2 (BatchNormalization (None, 1, 1, 512)    2048        block25_conv2[0][0]              \n",
      "__________________________________________________________________________________________________\n",
      "block25_relu2 (Activation)      (None, 1, 1, 512)    0           block25_bn2[0][0]                \n",
      "__________________________________________________________________________________________________\n",
      "block26_conv0 (Conv2D)          (None, 1, 1, 512)    2359808     block25_relu2[0][0]              \n",
      "__________________________________________________________________________________________________\n",
      "block26_bn0 (BatchNormalization (None, 1, 1, 512)    2048        block26_conv0[0][0]              \n",
      "__________________________________________________________________________________________________\n",
      "block26_relu0 (Activation)      (None, 1, 1, 512)    0           block26_bn0[0][0]                \n",
      "__________________________________________________________________________________________________\n",
      "block26_conv1 (Conv2D)          (None, 1, 1, 512)    2359808     block26_relu0[0][0]              \n",
      "__________________________________________________________________________________________________\n",
      "block26_bn1 (BatchNormalization (None, 1, 1, 512)    2048        block26_conv1[0][0]              \n",
      "__________________________________________________________________________________________________\n",
      "block26_relu1 (Activation)      (None, 1, 1, 512)    0           block26_bn1[0][0]                \n",
      "__________________________________________________________________________________________________\n",
      "block26_conv2 (Conv2D)          (None, 1, 1, 512)    2359808     block26_relu1[0][0]              \n",
      "__________________________________________________________________________________________________\n",
      "block26_bn2 (BatchNormalization (None, 1, 1, 512)    2048        block26_conv2[0][0]              \n",
      "__________________________________________________________________________________________________\n",
      "block26_relu2 (Activation)      (None, 1, 1, 512)    0           block26_bn2[0][0]                \n",
      "__________________________________________________________________________________________________\n",
      "avg_pool (GlobalAveragePooling2 (None, 512)          0           block26_relu2[0][0]              \n",
      "__________________________________________________________________________________________________\n",
      "fc (Dense)                      (None, 2)            1026        avg_pool[0][0]                   \n",
      "==================================================================================================\n",
      "Total params: 32,651,778\n",
      "Trainable params: 32,627,074\n",
      "Non-trainable params: 24,704\n",
      "__________________________________________________________________________________________________\n"
     ]
    }
   ],
   "source": [
    "resnet50 = build_resnet(input_shape=(32, 32, 3), num_blocks=[3, 4, 6, 3], num_classes=2)\n",
    "resnet50.summary()"
   ]
  },
  {
   "cell_type": "markdown",
   "id": "f9ae349a",
   "metadata": {
    "id": "a74a59d5"
   },
   "source": [
    "## (3) Ablation Study 실습"
   ]
  },
  {
   "cell_type": "markdown",
   "id": "56c55069",
   "metadata": {
    "id": "1f520d2e"
   },
   "source": [
    "### 1) 일반 네트워크(plain network) 만들기\n",
    "\n",
    "ResNet의 핵심 아이디어는 skip connection과 residual network기 때문에, ResNet의 효과를 보여주기 위해서는 skip connection이 없는 일반 네트워크(plain net)가 필요함"
   ]
  },
  {
   "cell_type": "markdown",
   "id": "9779db8e",
   "metadata": {
    "id": "f43d602a"
   },
   "source": [
    "#### 블록 코드 수정"
   ]
  },
  {
   "cell_type": "code",
   "execution_count": 30,
   "id": "1df74f58",
   "metadata": {
    "id": "1722bb84"
   },
   "outputs": [],
   "source": [
    "def build_plain_block(input_layer, num_cnn=3, channel=64, block_num=1):\n",
    "    \n",
    "    # 입력 레이어\n",
    "    x = input_layer\n",
    "    \n",
    "    # CNN 레이어\n",
    "    for cnn_num in range(num_cnn):\n",
    "        x = keras.layers.Conv2D(filters=channel, kernel_size=(3,3), activation='relu',\n",
    "            kernel_initializer='he_normal', padding='same', name=f'block{block_num}_conv{cnn_num}')(x)    \n",
    "        x = keras.layers.BatchNormalization(name=f'block{block_num}_bn{cnn_num}')(x)\n",
    "        x = keras.layers.Activation('relu', name=f'block{block_num}_relu{cnn_num}')(x)\n",
    "    \n",
    "    # Max Pooling 레이어\n",
    "    x = keras.layers.MaxPooling2D(pool_size=(2, 2), strides=2, name=f'block{block_num}_pooling')(x)\n",
    "    \n",
    "    return x"
   ]
  },
  {
   "cell_type": "code",
   "execution_count": 31,
   "id": "91ac3722",
   "metadata": {
    "id": "926069a0"
   },
   "outputs": [],
   "source": [
    "plain_input_layer = keras.layers.Input(shape=(32,32,3))  # 입력 레이어 생성\n",
    "plain_block_output = build_plain_block(plain_input_layer, num_cnn=3, channel=64, block_num=1)"
   ]
  },
  {
   "cell_type": "code",
   "execution_count": 32,
   "id": "a284d85f",
   "metadata": {
    "colab": {
     "base_uri": "https://localhost:8080/"
    },
    "id": "69b8e81c",
    "outputId": "3e04c3ba-4acf-4b3a-d71d-560c17f2befd",
    "scrolled": false
   },
   "outputs": [
    {
     "name": "stdout",
     "output_type": "stream",
     "text": [
      "Model: \"model_6\"\n",
      "_________________________________________________________________\n",
      "Layer (type)                 Output Shape              Param #   \n",
      "=================================================================\n",
      "input_7 (InputLayer)         [(None, 32, 32, 3)]       0         \n",
      "_________________________________________________________________\n",
      "block1_conv0 (Conv2D)        (None, 32, 32, 64)        1792      \n",
      "_________________________________________________________________\n",
      "block1_bn0 (BatchNormalizati (None, 32, 32, 64)        256       \n",
      "_________________________________________________________________\n",
      "block1_relu0 (Activation)    (None, 32, 32, 64)        0         \n",
      "_________________________________________________________________\n",
      "block1_conv1 (Conv2D)        (None, 32, 32, 64)        36928     \n",
      "_________________________________________________________________\n",
      "block1_bn1 (BatchNormalizati (None, 32, 32, 64)        256       \n",
      "_________________________________________________________________\n",
      "block1_relu1 (Activation)    (None, 32, 32, 64)        0         \n",
      "_________________________________________________________________\n",
      "block1_conv2 (Conv2D)        (None, 32, 32, 64)        36928     \n",
      "_________________________________________________________________\n",
      "block1_bn2 (BatchNormalizati (None, 32, 32, 64)        256       \n",
      "_________________________________________________________________\n",
      "block1_relu2 (Activation)    (None, 32, 32, 64)        0         \n",
      "_________________________________________________________________\n",
      "block1_pooling (MaxPooling2D (None, 16, 16, 64)        0         \n",
      "=================================================================\n",
      "Total params: 76,416\n",
      "Trainable params: 76,032\n",
      "Non-trainable params: 384\n",
      "_________________________________________________________________\n"
     ]
    }
   ],
   "source": [
    "# 블록 1개짜리 plain net model 생성\n",
    "model = keras.Model(inputs=plain_input_layer, outputs=plain_block_output)  \n",
    "\n",
    "model.summary()"
   ]
  },
  {
   "cell_type": "markdown",
   "id": "3b22a1b7",
   "metadata": {
    "id": "f403211b"
   },
   "source": [
    "#### 전체 함수 코드 수정"
   ]
  },
  {
   "cell_type": "code",
   "execution_count": 33,
   "id": "3a9fbc60",
   "metadata": {
    "id": "1cbo74fCubXb"
   },
   "outputs": [],
   "source": [
    "from tensorflow.keras.layers import Input, Conv2D, BatchNormalization, Activation, MaxPooling2D, Flatten, Dense\n",
    "from tensorflow.keras.models import Model\n",
    "\n",
    "\n",
    "def build_plainnet(num_layers, num_classes, input_shape=(32, 32, 3)):\n",
    "    # Define input layer\n",
    "    input_layer = Input(shape=input_shape)\n",
    "    \n",
    "    # Define number of filters for each block\n",
    "    if num_layers == 34:\n",
    "        filters = [64, 64, 128, 128, 256, 256, 256, 512, 512, 512, 512, 512, 512]\n",
    "    elif num_layers == 50:\n",
    "        filters = [64, 64, 128, 128, 256, 256, 256, 512, 512, 512, 1024, 1024, 1024, 2048, 2048, 2048]\n",
    "    else:\n",
    "        raise ValueError(\"PlainNet-{} is not supported.\".format(num_layers))\n",
    "    \n",
    "    # Define convolutional blocks\n",
    "    x = input_layer\n",
    "    for i in range(len(filters)-1):\n",
    "        x = Conv2D(filters[i], kernel_size=(3, 3), padding='same', strides=(1, 1))(x)\n",
    "        x = BatchNormalization()(x)\n",
    "        x = Activation('relu')(x)\n",
    "        if i in [1, 4, 7, 10]:\n",
    "            x = MaxPooling2D(pool_size=(2, 2))(x)\n",
    "    \n",
    "    # Define last convolutional block\n",
    "    x = Conv2D(filters[-1], kernel_size=(3, 3), padding='same', strides=(1, 1))(x)\n",
    "    x = BatchNormalization()(x)\n",
    "    x = Activation('relu')(x)\n",
    "    \n",
    "    # Define output layer\n",
    "    x = Flatten()(x)\n",
    "    output_layer = Dense(num_classes, activation='softmax')(x)\n",
    "    \n",
    "    # Define model\n",
    "    model = Model(input_layer, output_layer)\n",
    "    \n",
    "    return model"
   ]
  },
  {
   "cell_type": "code",
   "execution_count": 40,
   "id": "eacad897",
   "metadata": {
    "id": "KPkUz3AFt0R5"
   },
   "outputs": [],
   "source": [
    "# PlainNet-34 생성\n",
    "plainnet34 = build_plainnet(input_shape=(32, 32, 3), num_layers=34, num_classes=2)"
   ]
  },
  {
   "cell_type": "code",
   "execution_count": 41,
   "id": "53946939",
   "metadata": {
    "id": "v1kowSwtt03t"
   },
   "outputs": [],
   "source": [
    "# PlainNet-50 생성\n",
    "plainnet50 = build_plainnet(input_shape=(32, 32, 3), num_layers=50, num_classes=2)"
   ]
  },
  {
   "cell_type": "markdown",
   "id": "f8740834",
   "metadata": {
    "id": "f00fb57b"
   },
   "source": [
    "### 2) Ablation Study (ResNet-50 vs. Plain-50)"
   ]
  },
  {
   "cell_type": "markdown",
   "id": "2df3348c",
   "metadata": {
    "id": "y-6GNfKtoRcY"
   },
   "source": [
    "#### [ResNet-50]"
   ]
  },
  {
   "cell_type": "code",
   "execution_count": 36,
   "id": "f40e6a3a",
   "metadata": {},
   "outputs": [],
   "source": [
    "BATCH_SIZE = 256\n",
    "EPOCHS = 40"
   ]
  },
  {
   "cell_type": "code",
   "execution_count": 37,
   "id": "ba26dcec",
   "metadata": {},
   "outputs": [],
   "source": [
    "(ds_train, ds_test), ds_info = tfds.load('cifar10', split=['train', 'test'],\n",
    "                                         as_supervised=True, shuffle_files=True, with_info=True)\n",
    "ds_train = apply_normalize_on_dataset(ds_train, batch_size=BATCH_SIZE)\n",
    "ds_test = apply_normalize_on_dataset(ds_test, batch_size=BATCH_SIZE)"
   ]
  },
  {
   "cell_type": "code",
   "execution_count": 38,
   "id": "f6a29173",
   "metadata": {
    "scrolled": false
   },
   "outputs": [
    {
     "name": "stderr",
     "output_type": "stream",
     "text": [
      "/opt/conda/lib/python3.9/site-packages/keras/optimizer_v2/optimizer_v2.py:355: UserWarning: The `lr` argument is deprecated, use `learning_rate` instead.\n",
      "  warnings.warn(\n"
     ]
    },
    {
     "name": "stdout",
     "output_type": "stream",
     "text": [
      "Epoch 1/40\n",
      "195/195 [==============================] - 39s 126ms/step - loss: nan - accuracy: 0.1019 - val_loss: nan - val_accuracy: 0.0982\n",
      "Epoch 2/40\n",
      "195/195 [==============================] - 24s 124ms/step - loss: nan - accuracy: 0.1006 - val_loss: nan - val_accuracy: 0.1024\n",
      "Epoch 3/40\n",
      "195/195 [==============================] - 23s 119ms/step - loss: nan - accuracy: 0.0987 - val_loss: nan - val_accuracy: 0.1008\n",
      "Epoch 4/40\n",
      "195/195 [==============================] - 23s 119ms/step - loss: nan - accuracy: 0.1007 - val_loss: nan - val_accuracy: 0.1007\n",
      "Epoch 5/40\n",
      "195/195 [==============================] - 23s 119ms/step - loss: nan - accuracy: 0.1002 - val_loss: nan - val_accuracy: 0.1014\n",
      "Epoch 6/40\n",
      "195/195 [==============================] - 23s 119ms/step - loss: nan - accuracy: 0.1011 - val_loss: nan - val_accuracy: 0.0982\n",
      "Epoch 7/40\n",
      "195/195 [==============================] - 23s 119ms/step - loss: nan - accuracy: 0.0986 - val_loss: nan - val_accuracy: 0.0968\n",
      "Epoch 8/40\n",
      "195/195 [==============================] - 23s 119ms/step - loss: nan - accuracy: 0.0971 - val_loss: nan - val_accuracy: 0.0984\n",
      "Epoch 9/40\n",
      "195/195 [==============================] - 23s 120ms/step - loss: nan - accuracy: 0.1005 - val_loss: nan - val_accuracy: 0.1017\n",
      "Epoch 10/40\n",
      "195/195 [==============================] - 23s 119ms/step - loss: nan - accuracy: 0.1015 - val_loss: nan - val_accuracy: 0.1002\n",
      "Epoch 11/40\n",
      "195/195 [==============================] - 23s 119ms/step - loss: nan - accuracy: 0.1007 - val_loss: nan - val_accuracy: 0.1007\n",
      "Epoch 12/40\n",
      "195/195 [==============================] - 23s 120ms/step - loss: nan - accuracy: 0.0991 - val_loss: nan - val_accuracy: 0.1040\n",
      "Epoch 13/40\n",
      "195/195 [==============================] - 23s 119ms/step - loss: nan - accuracy: 0.1003 - val_loss: nan - val_accuracy: 0.1008\n",
      "Epoch 14/40\n",
      "195/195 [==============================] - 23s 119ms/step - loss: nan - accuracy: 0.0985 - val_loss: nan - val_accuracy: 0.1028\n",
      "Epoch 15/40\n",
      "195/195 [==============================] - 23s 119ms/step - loss: nan - accuracy: 0.1017 - val_loss: nan - val_accuracy: 0.0989\n",
      "Epoch 16/40\n",
      "195/195 [==============================] - 23s 119ms/step - loss: nan - accuracy: 0.0988 - val_loss: nan - val_accuracy: 0.0986\n",
      "Epoch 17/40\n",
      "195/195 [==============================] - 23s 119ms/step - loss: nan - accuracy: 0.1007 - val_loss: nan - val_accuracy: 0.1008\n",
      "Epoch 18/40\n",
      "195/195 [==============================] - 23s 119ms/step - loss: nan - accuracy: 0.1008 - val_loss: nan - val_accuracy: 0.0987\n",
      "Epoch 19/40\n",
      "195/195 [==============================] - 23s 120ms/step - loss: nan - accuracy: 0.0985 - val_loss: nan - val_accuracy: 0.1015\n",
      "Epoch 20/40\n",
      "195/195 [==============================] - 23s 119ms/step - loss: nan - accuracy: 0.1017 - val_loss: nan - val_accuracy: 0.1013\n",
      "Epoch 21/40\n",
      "195/195 [==============================] - 23s 119ms/step - loss: nan - accuracy: 0.1009 - val_loss: nan - val_accuracy: 0.1005\n",
      "Epoch 22/40\n",
      "195/195 [==============================] - 23s 119ms/step - loss: nan - accuracy: 0.0989 - val_loss: nan - val_accuracy: 0.0979\n",
      "Epoch 23/40\n",
      "195/195 [==============================] - 23s 119ms/step - loss: nan - accuracy: 0.1003 - val_loss: nan - val_accuracy: 0.0999\n",
      "Epoch 24/40\n",
      "195/195 [==============================] - 23s 119ms/step - loss: nan - accuracy: 0.0991 - val_loss: nan - val_accuracy: 0.1015\n",
      "Epoch 25/40\n",
      "195/195 [==============================] - 23s 119ms/step - loss: nan - accuracy: 0.1013 - val_loss: nan - val_accuracy: 0.1012\n",
      "Epoch 26/40\n",
      "195/195 [==============================] - 23s 120ms/step - loss: nan - accuracy: 0.0992 - val_loss: nan - val_accuracy: 0.1011\n",
      "Epoch 27/40\n",
      "195/195 [==============================] - 23s 119ms/step - loss: nan - accuracy: 0.0994 - val_loss: nan - val_accuracy: 0.0977\n",
      "Epoch 28/40\n",
      "195/195 [==============================] - 23s 119ms/step - loss: nan - accuracy: 0.0996 - val_loss: nan - val_accuracy: 0.1017\n",
      "Epoch 29/40\n",
      "195/195 [==============================] - 23s 119ms/step - loss: nan - accuracy: 0.0999 - val_loss: nan - val_accuracy: 0.0972\n",
      "Epoch 30/40\n",
      "195/195 [==============================] - 23s 118ms/step - loss: nan - accuracy: 0.1014 - val_loss: nan - val_accuracy: 0.0940\n",
      "Epoch 31/40\n",
      "195/195 [==============================] - 23s 119ms/step - loss: nan - accuracy: 0.1005 - val_loss: nan - val_accuracy: 0.0983\n",
      "Epoch 32/40\n",
      "195/195 [==============================] - 23s 119ms/step - loss: nan - accuracy: 0.0989 - val_loss: nan - val_accuracy: 0.1002\n",
      "Epoch 33/40\n",
      "195/195 [==============================] - 23s 118ms/step - loss: nan - accuracy: 0.0990 - val_loss: nan - val_accuracy: 0.1020\n",
      "Epoch 34/40\n",
      "195/195 [==============================] - 23s 119ms/step - loss: nan - accuracy: 0.1009 - val_loss: nan - val_accuracy: 0.0973\n",
      "Epoch 35/40\n",
      "195/195 [==============================] - 23s 119ms/step - loss: nan - accuracy: 0.0995 - val_loss: nan - val_accuracy: 0.0974\n",
      "Epoch 36/40\n",
      "195/195 [==============================] - 23s 119ms/step - loss: nan - accuracy: 0.1008 - val_loss: nan - val_accuracy: 0.1009\n",
      "Epoch 37/40\n",
      "195/195 [==============================] - 23s 119ms/step - loss: nan - accuracy: 0.0980 - val_loss: nan - val_accuracy: 0.1006\n",
      "Epoch 38/40\n",
      "195/195 [==============================] - 23s 119ms/step - loss: nan - accuracy: 0.1021 - val_loss: nan - val_accuracy: 0.0973\n",
      "Epoch 39/40\n",
      "195/195 [==============================] - 23s 119ms/step - loss: nan - accuracy: 0.0995 - val_loss: nan - val_accuracy: 0.0991\n",
      "Epoch 40/40\n",
      "195/195 [==============================] - 23s 119ms/step - loss: nan - accuracy: 0.1008 - val_loss: nan - val_accuracy: 0.1025\n"
     ]
    }
   ],
   "source": [
    "resnet50.compile(loss='sparse_categorical_crossentropy',\n",
    "    optimizer=tf.keras.optimizers.SGD(lr=0.01, clipnorm=1.), metrics=['accuracy'])\n",
    "\n",
    "history_resnet50 = resnet50.fit(ds_train,\n",
    "    steps_per_epoch=int(ds_info.splits['train'].num_examples/BATCH_SIZE),\n",
    "    validation_steps=int(ds_info.splits['test'].num_examples/BATCH_SIZE),\n",
    "    epochs=EPOCH, validation_data=ds_test, verbose=1, use_multiprocessing=True)"
   ]
  },
  {
   "cell_type": "markdown",
   "id": "8d6cfe13",
   "metadata": {
    "id": "4e8d0b32"
   },
   "source": [
    "#### [Plain-50]"
   ]
  },
  {
   "cell_type": "code",
   "execution_count": 42,
   "id": "0b23506e",
   "metadata": {
    "scrolled": false
   },
   "outputs": [
    {
     "name": "stdout",
     "output_type": "stream",
     "text": [
      "Epoch 1/40\n",
      "195/195 [==============================] - 105s 458ms/step - loss: nan - accuracy: 0.1005 - val_loss: nan - val_accuracy: 0.1009\n",
      "Epoch 2/40\n",
      "195/195 [==============================] - 87s 444ms/step - loss: nan - accuracy: 0.1008 - val_loss: nan - val_accuracy: 0.1016\n",
      "Epoch 3/40\n",
      "195/195 [==============================] - 86s 440ms/step - loss: nan - accuracy: 0.1015 - val_loss: nan - val_accuracy: 0.1022\n",
      "Epoch 4/40\n",
      "195/195 [==============================] - 86s 441ms/step - loss: nan - accuracy: 0.0989 - val_loss: nan - val_accuracy: 0.0954\n",
      "Epoch 5/40\n",
      "195/195 [==============================] - 86s 440ms/step - loss: nan - accuracy: 0.1019 - val_loss: nan - val_accuracy: 0.1012\n",
      "Epoch 6/40\n",
      "195/195 [==============================] - 86s 441ms/step - loss: nan - accuracy: 0.0980 - val_loss: nan - val_accuracy: 0.1015\n",
      "Epoch 7/40\n",
      "195/195 [==============================] - 86s 441ms/step - loss: nan - accuracy: 0.0994 - val_loss: nan - val_accuracy: 0.0973\n",
      "Epoch 8/40\n",
      "195/195 [==============================] - 86s 443ms/step - loss: nan - accuracy: 0.0999 - val_loss: nan - val_accuracy: 0.0978\n",
      "Epoch 9/40\n",
      "195/195 [==============================] - 86s 440ms/step - loss: nan - accuracy: 0.0999 - val_loss: nan - val_accuracy: 0.0997\n",
      "Epoch 10/40\n",
      "195/195 [==============================] - 86s 441ms/step - loss: nan - accuracy: 0.1010 - val_loss: nan - val_accuracy: 0.1028\n",
      "Epoch 11/40\n",
      "195/195 [==============================] - 86s 441ms/step - loss: nan - accuracy: 0.0982 - val_loss: nan - val_accuracy: 0.0970\n",
      "Epoch 12/40\n",
      "195/195 [==============================] - 86s 441ms/step - loss: nan - accuracy: 0.1007 - val_loss: nan - val_accuracy: 0.0992\n",
      "Epoch 13/40\n",
      "195/195 [==============================] - 86s 442ms/step - loss: nan - accuracy: 0.0999 - val_loss: nan - val_accuracy: 0.1024\n",
      "Epoch 14/40\n",
      "195/195 [==============================] - 86s 442ms/step - loss: nan - accuracy: 0.1010 - val_loss: nan - val_accuracy: 0.1017\n",
      "Epoch 15/40\n",
      "195/195 [==============================] - 86s 441ms/step - loss: nan - accuracy: 0.1008 - val_loss: nan - val_accuracy: 0.0995\n",
      "Epoch 16/40\n",
      "195/195 [==============================] - 86s 442ms/step - loss: nan - accuracy: 0.0990 - val_loss: nan - val_accuracy: 0.0972\n",
      "Epoch 17/40\n",
      "195/195 [==============================] - 86s 440ms/step - loss: nan - accuracy: 0.1000 - val_loss: nan - val_accuracy: 0.0969\n",
      "Epoch 18/40\n",
      "195/195 [==============================] - 86s 440ms/step - loss: nan - accuracy: 0.0995 - val_loss: nan - val_accuracy: 0.1027\n",
      "Epoch 19/40\n",
      "195/195 [==============================] - 86s 443ms/step - loss: nan - accuracy: 0.0997 - val_loss: nan - val_accuracy: 0.1010\n",
      "Epoch 20/40\n",
      "195/195 [==============================] - 86s 440ms/step - loss: nan - accuracy: 0.0998 - val_loss: nan - val_accuracy: 0.1007\n",
      "Epoch 21/40\n",
      "195/195 [==============================] - 86s 441ms/step - loss: nan - accuracy: 0.1014 - val_loss: nan - val_accuracy: 0.0989\n",
      "Epoch 22/40\n",
      "195/195 [==============================] - 86s 441ms/step - loss: nan - accuracy: 0.0991 - val_loss: nan - val_accuracy: 0.0982\n",
      "Epoch 23/40\n",
      "195/195 [==============================] - 86s 440ms/step - loss: nan - accuracy: 0.1001 - val_loss: nan - val_accuracy: 0.0989\n",
      "Epoch 24/40\n",
      "195/195 [==============================] - 86s 441ms/step - loss: nan - accuracy: 0.1013 - val_loss: nan - val_accuracy: 0.1009\n",
      "Epoch 25/40\n",
      "195/195 [==============================] - 86s 441ms/step - loss: nan - accuracy: 0.0992 - val_loss: nan - val_accuracy: 0.1024\n",
      "Epoch 26/40\n",
      "195/195 [==============================] - 86s 441ms/step - loss: nan - accuracy: 0.1004 - val_loss: nan - val_accuracy: 0.0972\n",
      "Epoch 27/40\n",
      "195/195 [==============================] - 86s 440ms/step - loss: nan - accuracy: 0.0999 - val_loss: nan - val_accuracy: 0.1031\n",
      "Epoch 28/40\n",
      "195/195 [==============================] - 86s 440ms/step - loss: nan - accuracy: 0.1001 - val_loss: nan - val_accuracy: 0.1009\n",
      "Epoch 29/40\n",
      "195/195 [==============================] - 86s 441ms/step - loss: nan - accuracy: 0.1001 - val_loss: nan - val_accuracy: 0.0980\n",
      "Epoch 30/40\n",
      "195/195 [==============================] - 86s 441ms/step - loss: nan - accuracy: 0.0996 - val_loss: nan - val_accuracy: 0.1033\n",
      "Epoch 31/40\n",
      "195/195 [==============================] - 86s 442ms/step - loss: nan - accuracy: 0.1011 - val_loss: nan - val_accuracy: 0.0988\n",
      "Epoch 32/40\n",
      "195/195 [==============================] - 86s 440ms/step - loss: nan - accuracy: 0.0985 - val_loss: nan - val_accuracy: 0.1030\n",
      "Epoch 33/40\n",
      "195/195 [==============================] - 86s 440ms/step - loss: nan - accuracy: 0.0985 - val_loss: nan - val_accuracy: 0.0983\n",
      "Epoch 34/40\n",
      "195/195 [==============================] - 86s 441ms/step - loss: nan - accuracy: 0.1010 - val_loss: nan - val_accuracy: 0.1013\n",
      "Epoch 35/40\n",
      "195/195 [==============================] - 86s 441ms/step - loss: nan - accuracy: 0.0996 - val_loss: nan - val_accuracy: 0.1016\n",
      "Epoch 36/40\n",
      "195/195 [==============================] - 86s 440ms/step - loss: nan - accuracy: 0.1003 - val_loss: nan - val_accuracy: 0.0985\n",
      "Epoch 37/40\n",
      "195/195 [==============================] - 86s 440ms/step - loss: nan - accuracy: 0.1003 - val_loss: nan - val_accuracy: 0.0967\n",
      "Epoch 38/40\n",
      "195/195 [==============================] - 86s 441ms/step - loss: nan - accuracy: 0.1018 - val_loss: nan - val_accuracy: 0.0990\n",
      "Epoch 39/40\n",
      "195/195 [==============================] - 86s 441ms/step - loss: nan - accuracy: 0.0999 - val_loss: nan - val_accuracy: 0.1013\n",
      "Epoch 40/40\n",
      "195/195 [==============================] - 86s 441ms/step - loss: nan - accuracy: 0.0990 - val_loss: nan - val_accuracy: 0.0986\n"
     ]
    }
   ],
   "source": [
    "plainnet50.compile(loss='sparse_categorical_crossentropy',\n",
    "    optimizer=tf.keras.optimizers.SGD(lr=0.01, clipnorm=1.), metrics=['accuracy'])\n",
    "\n",
    "history_plainnet50 = plainnet50.fit(ds_train,\n",
    "    steps_per_epoch=int(ds_info.splits['train'].num_examples/BATCH_SIZE),\n",
    "    validation_steps=int(ds_info.splits['test'].num_examples/BATCH_SIZE),\n",
    "    epochs=EPOCH, validation_data=ds_test, verbose=1, use_multiprocessing=True)"
   ]
  },
  {
   "cell_type": "markdown",
   "id": "a00ef01d",
   "metadata": {
    "id": "85050ea6"
   },
   "source": [
    "#### [ResNet-50 vs. Plain-50 그래프 비교]"
   ]
  },
  {
   "cell_type": "markdown",
   "id": "4a52840f",
   "metadata": {
    "id": "8c40df93"
   },
   "source": [
    "##### - Validation Accuracy"
   ]
  },
  {
   "cell_type": "code",
   "execution_count": 44,
   "id": "9808710f",
   "metadata": {
    "id": "38a1e0ea"
   },
   "outputs": [
    {
     "data": {
      "image/png": "[encoded data removed]",
      "text/plain": [
       "<Figure size 432x288 with 1 Axes>"
      ]
     },
     "metadata": {
      "needs_background": "light"
     },
     "output_type": "display_data"
    }
   ],
   "source": [
    "plt.plot(history_resnet50.history['val_accuracy'], 'r')\n",
    "plt.plot(history_plainnet50.history['val_accuracy'], 'b')\n",
    "plt.title('Model validation accuracy')\n",
    "plt.ylabel('Accuracy')\n",
    "plt.xlabel('Epoch')\n",
    "plt.legend(['ResNet_50', 'PlainNet_50'], loc='upper left')\n",
    "plt.show()"
   ]
  },
  {
   "cell_type": "markdown",
   "id": "b18db423",
   "metadata": {
    "id": "c5b3a438"
   },
   "source": [
    "# 4. References\n",
    "\n",
    "[1] ResNet https://openaccess.thecvf.com/content_cvpr_2016/papers/He_Deep_Residual_Learning_CVPR_2016_paper.pdf\n",
    "\n",
    "[2] DenseNet https://arxiv.org/abs/1608.06993\n",
    "\n",
    "[3] SENet https://arxiv.org/abs/1709.01507\n",
    "\n",
    "[4] 모델최적화(1)_NASNet https://arxiv.org/abs/1707.07012\n",
    "\n",
    "[5] 모델최적화(2)_EfficientNet https://arxiv.org/abs/1905.11946\n",
    "\n",
    "[6] https://lms.aiffel.io/course/405/node/462"
   ]
  }
 ],
 "metadata": {
  "accelerator": "GPU",
  "colab": {
   "provenance": []
  },
  "gpuClass": "standard",
  "kernelspec": {
   "display_name": "Python 3 (ipykernel)",
   "language": "python",
   "name": "python3"
  },
  "language_info": {
   "codemirror_mode": {
    "name": "ipython",
    "version": 3
   },
   "file_extension": ".py",
   "mimetype": "text/x-python",
   "name": "python",
   "nbconvert_exporter": "python",
   "pygments_lexer": "ipython3",
   "version": "3.9.7"
  }
 },
 "nbformat": 4,
 "nbformat_minor": 5
}

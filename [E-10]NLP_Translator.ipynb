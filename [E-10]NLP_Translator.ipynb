{
 "cells": [
  {
   "cell_type": "code",
   "execution_count": 8,
   "metadata": {
    "id": "_jo04h6dZ94N"
   },
   "outputs": [],
   "source": [
    "import numpy as np\n",
    "import pandas as pd\n",
    "import matplotlib as mpl\n",
    "import matplotlib.pyplot as plt\n",
    "import matplotlib.font_manager as fm\n",
    "import seaborn as sns\n",
    "\n",
    "import os, re\n",
    "import glob\n",
    "from time import time\n",
    "from scipy.io.arff import loadarff\n",
    "from scipy import stats\n",
    "from statsmodels.formula.api import ols, glm\n",
    "from functools import reduce\n",
    "import nltk                         \n",
    "from nltk.tokenize import word_tokenize   \n",
    "from nltk.corpus import stopwords         \n",
    "from nltk.stem import WordNetLemmatizer    \n",
    "from collections import Counter \n",
    "from wordcloud import STOPWORDS, WordCloud\n",
    "import glob           \n",
    "import json\n",
    "import gensim\n",
    "import shutil\n",
    "import unicodedata\n",
    "import urllib3\n",
    "import konlpy\n",
    "from konlpy.tag import Okt, Mecab\n",
    "from collections import Counter\n",
    "from wordcloud import WordCloud\n",
    "\n",
    "import sklearn\n",
    "import statsmodels\n",
    "from sklearn.model_selection import train_test_split\n",
    "\n",
    "import tensorflow as tf\n",
    "from tensorflow import keras\n",
    "from tensorflow.keras.layers import Input, LSTM, GRU, Embedding, Dense, Masking\n",
    "from tensorflow.keras.models import Model\n",
    "from tensorflow.keras.preprocessing.text import Tokenizer\n",
    "from tensorflow.keras.preprocessing.sequence import pad_sequences\n",
    "from tensorflow.keras.utils import to_categorical\n",
    "\n",
    "from matplotlib import rc\n",
    "rc('font', family='AppleGothic')\n",
    "plt.rcParams['axes.unicode_minus'] = False"
   ]
  },
  {
   "cell_type": "code",
   "execution_count": 9,
   "metadata": {
    "colab": {
     "base_uri": "https://localhost:8080/"
    },
    "id": "5sxpoX3IDxVQ",
    "outputId": "2c33d7be-f560-446b-b75c-bdc3a69974bf"
   },
   "outputs": [
    {
     "name": "stdout",
     "output_type": "stream",
     "text": [
      "Looking in indexes: https://pypi.org/simple, https://us-python.pkg.dev/colab-wheels/public/simple/\n",
      "Requirement already satisfied: konlpy in /usr/local/lib/python3.8/dist-packages (0.6.0)\n",
      "Requirement already satisfied: JPype1>=0.7.0 in /usr/local/lib/python3.8/dist-packages (from konlpy) (1.4.1)\n",
      "Requirement already satisfied: numpy>=1.6 in /usr/local/lib/python3.8/dist-packages (from konlpy) (1.21.6)\n",
      "Requirement already satisfied: lxml>=4.1.0 in /usr/local/lib/python3.8/dist-packages (from konlpy) (4.9.2)\n",
      "Requirement already satisfied: packaging in /usr/local/lib/python3.8/dist-packages (from JPype1>=0.7.0->konlpy) (21.3)\n",
      "Requirement already satisfied: pyparsing!=3.0.5,>=2.0.2 in /usr/local/lib/python3.8/dist-packages (from packaging->JPype1>=0.7.0->konlpy) (3.0.9)\n"
     ]
    }
   ],
   "source": [
    "!pip install konlpy"
   ]
  },
  {
   "cell_type": "code",
   "execution_count": 10,
   "metadata": {
    "colab": {
     "base_uri": "https://localhost:8080/"
    },
    "id": "ZtoTvp5ZaAfJ",
    "outputId": "d609cd74-7e3b-4411-bf59-dd7412d16d61"
   },
   "outputs": [
    {
     "name": "stdout",
     "output_type": "stream",
     "text": [
      "Drive already mounted at /content/drive; to attempt to forcibly remount, call drive.mount(\"/content/drive\", force_remount=True).\n"
     ]
    }
   ],
   "source": [
    "from google.colab import drive\n",
    "drive.mount('/content/drive')"
   ]
  },
  {
   "cell_type": "markdown",
   "metadata": {
    "id": "LQLUP7909RmJ"
   },
   "source": [
    "# 1. Project_Translator"
   ]
  },
  {
   "cell_type": "markdown",
   "metadata": {
    "id": "Uf9as2BgBfUe"
   },
   "source": [
    "### (1) 데이터 불러오기"
   ]
  },
  {
   "cell_type": "code",
   "execution_count": 11,
   "metadata": {
    "colab": {
     "base_uri": "https://localhost:8080/",
     "height": 221
    },
    "id": "8PPkCiywaVLI",
    "outputId": "352a3cbf-6abe-42fb-d66a-e79cf6e8ef2a"
   },
   "outputs": [
    {
     "name": "stdout",
     "output_type": "stream",
     "text": [
      "전체 샘플의 수 : 197463\n"
     ]
    },
    {
     "data": {
      "text/html": [
       "\n",
       "  <div id=\"df-28f08d71-05d5-4d35-b183-3a9b4dd0839a\">\n",
       "    <div class=\"colab-df-container\">\n",
       "      <div>\n",
       "<style scoped>\n",
       "    .dataframe tbody tr th:only-of-type {\n",
       "        vertical-align: middle;\n",
       "    }\n",
       "\n",
       "    .dataframe tbody tr th {\n",
       "        vertical-align: top;\n",
       "    }\n",
       "\n",
       "    .dataframe thead th {\n",
       "        text-align: right;\n",
       "    }\n",
       "</style>\n",
       "<table border=\"1\" class=\"dataframe\">\n",
       "  <thead>\n",
       "    <tr style=\"text-align: right;\">\n",
       "      <th></th>\n",
       "      <th>eng</th>\n",
       "      <th>fra</th>\n",
       "      <th>cc</th>\n",
       "    </tr>\n",
       "  </thead>\n",
       "  <tbody>\n",
       "    <tr>\n",
       "      <th>113685</th>\n",
       "      <td>Two wrongs don't make a right.</td>\n",
       "      <td>Les erreurs ne se compensent pas.</td>\n",
       "      <td>CC-BY 2.0 (France) Attribution: tatoeba.org #2...</td>\n",
       "    </tr>\n",
       "    <tr>\n",
       "      <th>85420</th>\n",
       "      <td>Can I stay a little longer?</td>\n",
       "      <td>Puis-je rester un peu plus longtemps ?</td>\n",
       "      <td>CC-BY 2.0 (France) Attribution: tatoeba.org #3...</td>\n",
       "    </tr>\n",
       "    <tr>\n",
       "      <th>28160</th>\n",
       "      <td>You're very brave.</td>\n",
       "      <td>Vous êtes très braves.</td>\n",
       "      <td>CC-BY 2.0 (France) Attribution: tatoeba.org #2...</td>\n",
       "    </tr>\n",
       "    <tr>\n",
       "      <th>84605</th>\n",
       "      <td>You aren't ready for this.</td>\n",
       "      <td>Tu n'es pas prêt pour ça.</td>\n",
       "      <td>CC-BY 2.0 (France) Attribution: tatoeba.org #2...</td>\n",
       "    </tr>\n",
       "    <tr>\n",
       "      <th>155295</th>\n",
       "      <td>I'd like to speak with Tom in private.</td>\n",
       "      <td>J'aimerais parler avec Tom en privé.</td>\n",
       "      <td>CC-BY 2.0 (France) Attribution: tatoeba.org #1...</td>\n",
       "    </tr>\n",
       "  </tbody>\n",
       "</table>\n",
       "</div>\n",
       "      <button class=\"colab-df-convert\" onclick=\"convertToInteractive('df-28f08d71-05d5-4d35-b183-3a9b4dd0839a')\"\n",
       "              title=\"Convert this dataframe to an interactive table.\"\n",
       "              style=\"display:none;\">\n",
       "        \n",
       "  <svg xmlns=\"http://www.w3.org/2000/svg\" height=\"24px\"viewBox=\"0 0 24 24\"\n",
       "       width=\"24px\">\n",
       "    <path d=\"M0 0h24v24H0V0z\" fill=\"none\"/>\n",
       "    <path d=\"M18.56 5.44l.94 2.06.94-2.06 2.06-.94-2.06-.94-.94-2.06-.94 2.06-2.06.94zm-11 1L8.5 8.5l.94-2.06 2.06-.94-2.06-.94L8.5 2.5l-.94 2.06-2.06.94zm10 10l.94 2.06.94-2.06 2.06-.94-2.06-.94-.94-2.06-.94 2.06-2.06.94z\"/><path d=\"M17.41 7.96l-1.37-1.37c-.4-.4-.92-.59-1.43-.59-.52 0-1.04.2-1.43.59L10.3 9.45l-7.72 7.72c-.78.78-.78 2.05 0 2.83L4 21.41c.39.39.9.59 1.41.59.51 0 1.02-.2 1.41-.59l7.78-7.78 2.81-2.81c.8-.78.8-2.07 0-2.86zM5.41 20L4 18.59l7.72-7.72 1.47 1.35L5.41 20z\"/>\n",
       "  </svg>\n",
       "      </button>\n",
       "      \n",
       "  <style>\n",
       "    .colab-df-container {\n",
       "      display:flex;\n",
       "      flex-wrap:wrap;\n",
       "      gap: 12px;\n",
       "    }\n",
       "\n",
       "    .colab-df-convert {\n",
       "      background-color: #E8F0FE;\n",
       "      border: none;\n",
       "      border-radius: 50%;\n",
       "      cursor: pointer;\n",
       "      display: none;\n",
       "      fill: #1967D2;\n",
       "      height: 32px;\n",
       "      padding: 0 0 0 0;\n",
       "      width: 32px;\n",
       "    }\n",
       "\n",
       "    .colab-df-convert:hover {\n",
       "      background-color: #E2EBFA;\n",
       "      box-shadow: 0px 1px 2px rgba(60, 64, 67, 0.3), 0px 1px 3px 1px rgba(60, 64, 67, 0.15);\n",
       "      fill: #174EA6;\n",
       "    }\n",
       "\n",
       "    [theme=dark] .colab-df-convert {\n",
       "      background-color: #3B4455;\n",
       "      fill: #D2E3FC;\n",
       "    }\n",
       "\n",
       "    [theme=dark] .colab-df-convert:hover {\n",
       "      background-color: #434B5C;\n",
       "      box-shadow: 0px 1px 3px 1px rgba(0, 0, 0, 0.15);\n",
       "      filter: drop-shadow(0px 1px 2px rgba(0, 0, 0, 0.3));\n",
       "      fill: #FFFFFF;\n",
       "    }\n",
       "  </style>\n",
       "\n",
       "      <script>\n",
       "        const buttonEl =\n",
       "          document.querySelector('#df-28f08d71-05d5-4d35-b183-3a9b4dd0839a button.colab-df-convert');\n",
       "        buttonEl.style.display =\n",
       "          google.colab.kernel.accessAllowed ? 'block' : 'none';\n",
       "\n",
       "        async function convertToInteractive(key) {\n",
       "          const element = document.querySelector('#df-28f08d71-05d5-4d35-b183-3a9b4dd0839a');\n",
       "          const dataTable =\n",
       "            await google.colab.kernel.invokeFunction('convertToInteractive',\n",
       "                                                     [key], {});\n",
       "          if (!dataTable) return;\n",
       "\n",
       "          const docLinkHtml = 'Like what you see? Visit the ' +\n",
       "            '<a target=\"_blank\" href=https://colab.research.google.com/notebooks/data_table.ipynb>data table notebook</a>'\n",
       "            + ' to learn more about interactive tables.';\n",
       "          element.innerHTML = '';\n",
       "          dataTable['output_type'] = 'display_data';\n",
       "          await google.colab.output.renderOutput(dataTable, element);\n",
       "          const docLink = document.createElement('div');\n",
       "          docLink.innerHTML = docLinkHtml;\n",
       "          element.appendChild(docLink);\n",
       "        }\n",
       "      </script>\n",
       "    </div>\n",
       "  </div>\n",
       "  "
      ],
      "text/plain": [
       "                                           eng  \\\n",
       "113685          Two wrongs don't make a right.   \n",
       "85420              Can I stay a little longer?   \n",
       "28160                       You're very brave.   \n",
       "84605               You aren't ready for this.   \n",
       "155295  I'd like to speak with Tom in private.   \n",
       "\n",
       "                                           fra  \\\n",
       "113685       Les erreurs ne se compensent pas.   \n",
       "85420   Puis-je rester un peu plus longtemps ?   \n",
       "28160                   Vous êtes très braves.   \n",
       "84605                Tu n'es pas prêt pour ça.   \n",
       "155295    J'aimerais parler avec Tom en privé.   \n",
       "\n",
       "                                                       cc  \n",
       "113685  CC-BY 2.0 (France) Attribution: tatoeba.org #2...  \n",
       "85420   CC-BY 2.0 (France) Attribution: tatoeba.org #3...  \n",
       "28160   CC-BY 2.0 (France) Attribution: tatoeba.org #2...  \n",
       "84605   CC-BY 2.0 (France) Attribution: tatoeba.org #2...  \n",
       "155295  CC-BY 2.0 (France) Attribution: tatoeba.org #1...  "
      ]
     },
     "execution_count": 11,
     "metadata": {},
     "output_type": "execute_result"
    }
   ],
   "source": [
    "lines = pd.read_csv('/content/drive/MyDrive/translator/fra.txt', names=['eng', 'fra', 'cc'], sep='\\t')\n",
    "print('전체 샘플의 수 :',len(lines))\n",
    "lines.sample(5)"
   ]
  },
  {
   "cell_type": "code",
   "execution_count": 12,
   "metadata": {
    "colab": {
     "base_uri": "https://localhost:8080/",
     "height": 204
    },
    "id": "EuEMc1jNaVSj",
    "outputId": "8dd4323c-4bf9-405e-8c1e-b385455be4cb"
   },
   "outputs": [
    {
     "data": {
      "text/html": [
       "\n",
       "  <div id=\"df-506b11d4-3c54-46bc-8948-72ca35abb1e0\">\n",
       "    <div class=\"colab-df-container\">\n",
       "      <div>\n",
       "<style scoped>\n",
       "    .dataframe tbody tr th:only-of-type {\n",
       "        vertical-align: middle;\n",
       "    }\n",
       "\n",
       "    .dataframe tbody tr th {\n",
       "        vertical-align: top;\n",
       "    }\n",
       "\n",
       "    .dataframe thead th {\n",
       "        text-align: right;\n",
       "    }\n",
       "</style>\n",
       "<table border=\"1\" class=\"dataframe\">\n",
       "  <thead>\n",
       "    <tr style=\"text-align: right;\">\n",
       "      <th></th>\n",
       "      <th>eng</th>\n",
       "      <th>fra</th>\n",
       "    </tr>\n",
       "  </thead>\n",
       "  <tbody>\n",
       "    <tr>\n",
       "      <th>24937</th>\n",
       "      <td>Is Tom successful?</td>\n",
       "      <td>Tom a-t-il du succès ?</td>\n",
       "    </tr>\n",
       "    <tr>\n",
       "      <th>217</th>\n",
       "      <td>Come on!</td>\n",
       "      <td>Secouez-vous !</td>\n",
       "    </tr>\n",
       "    <tr>\n",
       "      <th>19204</th>\n",
       "      <td>I was threatened.</td>\n",
       "      <td>J'ai été menacée.</td>\n",
       "    </tr>\n",
       "    <tr>\n",
       "      <th>21881</th>\n",
       "      <td>What's this room?</td>\n",
       "      <td>C'est quoi cette pièce ?</td>\n",
       "    </tr>\n",
       "    <tr>\n",
       "      <th>19637</th>\n",
       "      <td>Is your mom home?</td>\n",
       "      <td>Ta mère est-elle chez elle ?</td>\n",
       "    </tr>\n",
       "  </tbody>\n",
       "</table>\n",
       "</div>\n",
       "      <button class=\"colab-df-convert\" onclick=\"convertToInteractive('df-506b11d4-3c54-46bc-8948-72ca35abb1e0')\"\n",
       "              title=\"Convert this dataframe to an interactive table.\"\n",
       "              style=\"display:none;\">\n",
       "        \n",
       "  <svg xmlns=\"http://www.w3.org/2000/svg\" height=\"24px\"viewBox=\"0 0 24 24\"\n",
       "       width=\"24px\">\n",
       "    <path d=\"M0 0h24v24H0V0z\" fill=\"none\"/>\n",
       "    <path d=\"M18.56 5.44l.94 2.06.94-2.06 2.06-.94-2.06-.94-.94-2.06-.94 2.06-2.06.94zm-11 1L8.5 8.5l.94-2.06 2.06-.94-2.06-.94L8.5 2.5l-.94 2.06-2.06.94zm10 10l.94 2.06.94-2.06 2.06-.94-2.06-.94-.94-2.06-.94 2.06-2.06.94z\"/><path d=\"M17.41 7.96l-1.37-1.37c-.4-.4-.92-.59-1.43-.59-.52 0-1.04.2-1.43.59L10.3 9.45l-7.72 7.72c-.78.78-.78 2.05 0 2.83L4 21.41c.39.39.9.59 1.41.59.51 0 1.02-.2 1.41-.59l7.78-7.78 2.81-2.81c.8-.78.8-2.07 0-2.86zM5.41 20L4 18.59l7.72-7.72 1.47 1.35L5.41 20z\"/>\n",
       "  </svg>\n",
       "      </button>\n",
       "      \n",
       "  <style>\n",
       "    .colab-df-container {\n",
       "      display:flex;\n",
       "      flex-wrap:wrap;\n",
       "      gap: 12px;\n",
       "    }\n",
       "\n",
       "    .colab-df-convert {\n",
       "      background-color: #E8F0FE;\n",
       "      border: none;\n",
       "      border-radius: 50%;\n",
       "      cursor: pointer;\n",
       "      display: none;\n",
       "      fill: #1967D2;\n",
       "      height: 32px;\n",
       "      padding: 0 0 0 0;\n",
       "      width: 32px;\n",
       "    }\n",
       "\n",
       "    .colab-df-convert:hover {\n",
       "      background-color: #E2EBFA;\n",
       "      box-shadow: 0px 1px 2px rgba(60, 64, 67, 0.3), 0px 1px 3px 1px rgba(60, 64, 67, 0.15);\n",
       "      fill: #174EA6;\n",
       "    }\n",
       "\n",
       "    [theme=dark] .colab-df-convert {\n",
       "      background-color: #3B4455;\n",
       "      fill: #D2E3FC;\n",
       "    }\n",
       "\n",
       "    [theme=dark] .colab-df-convert:hover {\n",
       "      background-color: #434B5C;\n",
       "      box-shadow: 0px 1px 3px 1px rgba(0, 0, 0, 0.15);\n",
       "      filter: drop-shadow(0px 1px 2px rgba(0, 0, 0, 0.3));\n",
       "      fill: #FFFFFF;\n",
       "    }\n",
       "  </style>\n",
       "\n",
       "      <script>\n",
       "        const buttonEl =\n",
       "          document.querySelector('#df-506b11d4-3c54-46bc-8948-72ca35abb1e0 button.colab-df-convert');\n",
       "        buttonEl.style.display =\n",
       "          google.colab.kernel.accessAllowed ? 'block' : 'none';\n",
       "\n",
       "        async function convertToInteractive(key) {\n",
       "          const element = document.querySelector('#df-506b11d4-3c54-46bc-8948-72ca35abb1e0');\n",
       "          const dataTable =\n",
       "            await google.colab.kernel.invokeFunction('convertToInteractive',\n",
       "                                                     [key], {});\n",
       "          if (!dataTable) return;\n",
       "\n",
       "          const docLinkHtml = 'Like what you see? Visit the ' +\n",
       "            '<a target=\"_blank\" href=https://colab.research.google.com/notebooks/data_table.ipynb>data table notebook</a>'\n",
       "            + ' to learn more about interactive tables.';\n",
       "          element.innerHTML = '';\n",
       "          dataTable['output_type'] = 'display_data';\n",
       "          await google.colab.output.renderOutput(dataTable, element);\n",
       "          const docLink = document.createElement('div');\n",
       "          docLink.innerHTML = docLinkHtml;\n",
       "          element.appendChild(docLink);\n",
       "        }\n",
       "      </script>\n",
       "    </div>\n",
       "  </div>\n",
       "  "
      ],
      "text/plain": [
       "                      eng                           fra\n",
       "24937  Is Tom successful?        Tom a-t-il du succès ?\n",
       "217              Come on!                Secouez-vous !\n",
       "19204   I was threatened.             J'ai été menacée.\n",
       "21881   What's this room?      C'est quoi cette pièce ?\n",
       "19637   Is your mom home?  Ta mère est-elle chez elle ?"
      ]
     },
     "execution_count": 12,
     "metadata": {},
     "output_type": "execute_result"
    }
   ],
   "source": [
    "lines = lines[['eng', 'fra']][:33000]\n",
    "lines.sample(5)"
   ]
  },
  {
   "cell_type": "code",
   "execution_count": 13,
   "metadata": {
    "id": "L-zpOzMjXGb2"
   },
   "outputs": [],
   "source": [
    "num_samples = 33000"
   ]
  },
  {
   "cell_type": "markdown",
   "metadata": {
    "id": "Z6Yi0fS6BkfD"
   },
   "source": [
    "### (2) 디코더의 문장에 시작 토큰과 종료 토큰을 넣기"
   ]
  },
  {
   "cell_type": "code",
   "execution_count": 14,
   "metadata": {
    "id": "T_QwK4uLXGi6"
   },
   "outputs": [],
   "source": [
    "def to_ascii(s):\n",
    "  return ''.join(c for c in unicodedata.normalize('NFD', s) if unicodedata.category(c) != 'Mn')\n",
    "\n",
    "def preprocess_sentence(sent):\n",
    "  sent = to_ascii(sent.lower())\n",
    "  sent = re.sub(r\"([?.!,¿])\", r\" \\1\", sent)  \n",
    "  sent = re.sub(r\"[^a-zA-Z!.?]+\", r\" \", sent) \n",
    "  sent = re.sub(r\"\\s+\", \" \", sent)  \n",
    "  return sent"
   ]
  },
  {
   "cell_type": "code",
   "execution_count": 15,
   "metadata": {
    "id": "oJWYXgqzXG0H"
   },
   "outputs": [],
   "source": [
    "def load_preprocessed_data():\n",
    "  encoder_input, decoder_input, decoder_target = [], [], []\n",
    "\n",
    "  with open('/content/drive/MyDrive/translator/fra.txt', \"r\") as lines:\n",
    "    for i, line in enumerate(lines):\n",
    "      src_line, tar_line, _ = line.strip().split('\\t')\n",
    "      src_line = [w for w in preprocess_sentence(src_line).split()]\n",
    "      tar_line = preprocess_sentence(tar_line)\n",
    "      tar_line_in = [w for w in (\"<sos> \" + tar_line).split()]\n",
    "      tar_line_out = [w for w in (tar_line + \" <eos>\").split()]\n",
    "\n",
    "      encoder_input.append(src_line)\n",
    "      decoder_input.append(tar_line_in)\n",
    "      decoder_target.append(tar_line_out)\n",
    "\n",
    "      if i == num_samples - 1:\n",
    "        break\n",
    "\n",
    "  return encoder_input, decoder_input, decoder_target\n",
    "\n",
    "sents_en_in, sents_fra_in, sents_fra_out = load_preprocessed_data()"
   ]
  },
  {
   "cell_type": "markdown",
   "metadata": {
    "id": "mCw8U_Sa_aIs"
   },
   "source": [
    "### (3) 케라스의 토크나이저로 텍스트를 숫자로 바꾸기"
   ]
  },
  {
   "cell_type": "code",
   "execution_count": 16,
   "metadata": {
    "id": "SU5Q9aclXHAF"
   },
   "outputs": [],
   "source": [
    "tokenizer_en = Tokenizer(filters=\"\", lower=False)\n",
    "tokenizer_en.fit_on_texts(sents_en_in)\n",
    "encoder_input = tokenizer_en.texts_to_sequences(sents_en_in)\n",
    "encoder_input = pad_sequences(encoder_input, padding=\"post\")\n",
    "\n",
    "tokenizer_fra = Tokenizer(filters=\"\", lower=False)\n",
    "tokenizer_fra.fit_on_texts(sents_fra_in)\n",
    "tokenizer_fra.fit_on_texts(sents_fra_out)\n",
    "\n",
    "decoder_input = tokenizer_fra.texts_to_sequences(sents_fra_in)\n",
    "decoder_input = pad_sequences(decoder_input, padding=\"post\")\n",
    "\n",
    "decoder_target = tokenizer_fra.texts_to_sequences(sents_fra_out)\n",
    "decoder_target = pad_sequences(decoder_target, padding=\"post\")"
   ]
  },
  {
   "cell_type": "code",
   "execution_count": 17,
   "metadata": {
    "colab": {
     "base_uri": "https://localhost:8080/"
    },
    "id": "ztpZbWyeZAiB",
    "outputId": "b22e9db6-a4bf-4672-d9f5-bbf88340732c"
   },
   "outputs": [
    {
     "name": "stdout",
     "output_type": "stream",
     "text": [
      "영어 단어 : 4672, 프랑스어 단어 : 8137\n"
     ]
    }
   ],
   "source": [
    "src_vocab_size = len(tokenizer_en.word_index) + 1\n",
    "tar_vocab_size = len(tokenizer_fra.word_index) + 1\n",
    "print(\"영어 단어 : {:d}, 프랑스어 단어 : {:d}\".format(src_vocab_size, tar_vocab_size))"
   ]
  },
  {
   "cell_type": "code",
   "execution_count": 18,
   "metadata": {
    "id": "txJ7ttc0ZAo8"
   },
   "outputs": [],
   "source": [
    "src_to_index = tokenizer_en.word_index\n",
    "index_to_src = tokenizer_en.index_word\n",
    "tar_to_index = tokenizer_fra.word_index\n",
    "index_to_tar = tokenizer_fra.index_word"
   ]
  },
  {
   "cell_type": "code",
   "execution_count": 19,
   "metadata": {
    "colab": {
     "base_uri": "https://localhost:8080/"
    },
    "id": "Bb0reEeAZMiq",
    "outputId": "66c8c0ae-8c33-4bc0-93c1-fcdd8f4eeeca"
   },
   "outputs": [
    {
     "name": "stdout",
     "output_type": "stream",
     "text": [
      "랜덤 시퀀스 : [ 8270 15480 22136 ...  1997 16968  7672]\n"
     ]
    }
   ],
   "source": [
    "indices = np.arange(encoder_input.shape[0])\n",
    "np.random.shuffle(indices)\n",
    "print('랜덤 시퀀스 :',indices)"
   ]
  },
  {
   "cell_type": "code",
   "execution_count": 20,
   "metadata": {
    "id": "uOPeQplCZMpd"
   },
   "outputs": [],
   "source": [
    "encoder_input = encoder_input[indices]\n",
    "decoder_input = decoder_input[indices]\n",
    "decoder_target = decoder_target[indices]\n",
    "\n",
    "n_of_val = int(33000*0.1)\n",
    "\n",
    "encoder_input_train = encoder_input[:-n_of_val]\n",
    "decoder_input_train = decoder_input[:-n_of_val]\n",
    "decoder_target_train = decoder_target[:-n_of_val]\n",
    "\n",
    "encoder_input_test = encoder_input[-n_of_val:]\n",
    "decoder_input_test = decoder_input[-n_of_val:]\n",
    "decoder_target_test = decoder_target[-n_of_val:]"
   ]
  },
  {
   "cell_type": "markdown",
   "metadata": {
    "id": "h3do6xBWZ2Ji"
   },
   "source": [
    "### (4) 임베딩 층 사용하기"
   ]
  },
  {
   "cell_type": "code",
   "execution_count": 21,
   "metadata": {
    "id": "rloMMNDUZ4bP"
   },
   "outputs": [],
   "source": [
    "embedding_dim = 64\n",
    "hidden_units = 64"
   ]
  },
  {
   "cell_type": "code",
   "execution_count": 22,
   "metadata": {
    "id": "V-bNwlGraDT1"
   },
   "outputs": [],
   "source": [
    "# 인코더\n",
    "encoder_inputs = Input(shape=(None,))\n",
    "enc_emb = Embedding(src_vocab_size, embedding_dim)(encoder_inputs) \n",
    "enc_masking = Masking(mask_value=0.0)(enc_emb)                    \n",
    "encoder_lstm = LSTM(hidden_units, return_state=True)              \n",
    "encoder_outputs, state_h, state_c = encoder_lstm(enc_masking)       \n",
    "encoder_states = [state_h, state_c]                        "
   ]
  },
  {
   "cell_type": "code",
   "execution_count": 23,
   "metadata": {
    "id": "r6GTutl6Z4hm"
   },
   "outputs": [],
   "source": [
    "# 디코더\n",
    "decoder_inputs = Input(shape=(None,))\n",
    "dec_emb_layer = Embedding(tar_vocab_size, hidden_units)  \n",
    "dec_emb = dec_emb_layer(decoder_inputs)                \n",
    "dec_masking = Masking(mask_value=0.0)(dec_emb)\n",
    "decoder_lstm = LSTM(hidden_units, return_sequences=True, return_state=True) \n",
    "decoder_outputs, _, _ = decoder_lstm(dec_masking, initial_state=encoder_states)\n",
    "decoder_dense = Dense(tar_vocab_size, activation='softmax')\n",
    "decoder_outputs = decoder_dense(decoder_outputs)\n",
    "\n",
    "model = Model([encoder_inputs, decoder_inputs], decoder_outputs)\n",
    "model.compile(optimizer='adam', loss='sparse_categorical_crossentropy', metrics=['acc'])"
   ]
  },
  {
   "cell_type": "markdown",
   "metadata": {
    "id": "Ty8NRc2bwGrq"
   },
   "source": [
    "### (5) 모델 구현하기"
   ]
  },
  {
   "cell_type": "code",
   "execution_count": 24,
   "metadata": {
    "colab": {
     "base_uri": "https://localhost:8080/"
    },
    "id": "E0-zf5cCZ4mI",
    "outputId": "6b0c1958-93b2-41bd-bfe8-4f3c0e59f34e"
   },
   "outputs": [
    {
     "name": "stdout",
     "output_type": "stream",
     "text": [
      "Epoch 1/50\n",
      "233/233 [==============================] - 29s 40ms/step - loss: 3.3893 - acc: 0.6097 - val_loss: 1.9827 - val_acc: 0.6218\n",
      "Epoch 2/50\n",
      "233/233 [==============================] - 7s 29ms/step - loss: 1.8233 - acc: 0.6959 - val_loss: 1.7080 - val_acc: 0.7477\n",
      "Epoch 3/50\n",
      "233/233 [==============================] - 7s 28ms/step - loss: 1.6121 - acc: 0.7521 - val_loss: 1.5428 - val_acc: 0.7622\n",
      "Epoch 4/50\n",
      "233/233 [==============================] - 7s 28ms/step - loss: 1.4775 - acc: 0.7661 - val_loss: 1.4442 - val_acc: 0.7717\n",
      "Epoch 5/50\n",
      "233/233 [==============================] - 7s 28ms/step - loss: 1.3882 - acc: 0.7746 - val_loss: 1.3709 - val_acc: 0.7813\n",
      "Epoch 6/50\n",
      "233/233 [==============================] - 7s 28ms/step - loss: 1.3099 - acc: 0.7885 - val_loss: 1.3009 - val_acc: 0.7944\n",
      "Epoch 7/50\n",
      "233/233 [==============================] - 8s 32ms/step - loss: 1.2389 - acc: 0.7990 - val_loss: 1.2452 - val_acc: 0.8026\n",
      "Epoch 8/50\n",
      "233/233 [==============================] - 8s 34ms/step - loss: 1.1793 - acc: 0.8081 - val_loss: 1.1996 - val_acc: 0.8101\n",
      "Epoch 9/50\n",
      "233/233 [==============================] - 7s 30ms/step - loss: 1.1265 - acc: 0.8155 - val_loss: 1.1600 - val_acc: 0.8150\n",
      "Epoch 10/50\n",
      "233/233 [==============================] - 7s 29ms/step - loss: 1.0806 - acc: 0.8202 - val_loss: 1.1246 - val_acc: 0.8187\n",
      "Epoch 11/50\n",
      "233/233 [==============================] - 7s 29ms/step - loss: 1.0385 - acc: 0.8250 - val_loss: 1.0972 - val_acc: 0.8219\n",
      "Epoch 12/50\n",
      "233/233 [==============================] - 7s 28ms/step - loss: 1.0001 - acc: 0.8301 - val_loss: 1.0670 - val_acc: 0.8264\n",
      "Epoch 13/50\n",
      "233/233 [==============================] - 7s 29ms/step - loss: 0.9637 - acc: 0.8341 - val_loss: 1.0439 - val_acc: 0.8288\n",
      "Epoch 14/50\n",
      "233/233 [==============================] - 7s 29ms/step - loss: 0.9295 - acc: 0.8379 - val_loss: 1.0176 - val_acc: 0.8327\n",
      "Epoch 15/50\n",
      "233/233 [==============================] - 7s 29ms/step - loss: 0.8975 - acc: 0.8411 - val_loss: 0.9963 - val_acc: 0.8341\n",
      "Epoch 16/50\n",
      "233/233 [==============================] - 9s 40ms/step - loss: 0.8675 - acc: 0.8439 - val_loss: 0.9797 - val_acc: 0.8358\n",
      "Epoch 17/50\n",
      "233/233 [==============================] - 7s 29ms/step - loss: 0.8404 - acc: 0.8467 - val_loss: 0.9630 - val_acc: 0.8375\n",
      "Epoch 18/50\n",
      "233/233 [==============================] - 7s 29ms/step - loss: 0.8137 - acc: 0.8494 - val_loss: 0.9460 - val_acc: 0.8394\n",
      "Epoch 19/50\n",
      "233/233 [==============================] - 7s 29ms/step - loss: 0.7889 - acc: 0.8520 - val_loss: 0.9321 - val_acc: 0.8408\n",
      "Epoch 20/50\n",
      "233/233 [==============================] - 7s 30ms/step - loss: 0.7655 - acc: 0.8542 - val_loss: 0.9186 - val_acc: 0.8415\n",
      "Epoch 21/50\n",
      "233/233 [==============================] - 8s 34ms/step - loss: 0.7430 - acc: 0.8567 - val_loss: 0.9048 - val_acc: 0.8439\n",
      "Epoch 22/50\n",
      "233/233 [==============================] - 7s 29ms/step - loss: 0.7207 - acc: 0.8592 - val_loss: 0.8947 - val_acc: 0.8450\n",
      "Epoch 23/50\n",
      "233/233 [==============================] - 7s 29ms/step - loss: 0.6990 - acc: 0.8619 - val_loss: 0.8828 - val_acc: 0.8467\n",
      "Epoch 24/50\n",
      "233/233 [==============================] - 7s 29ms/step - loss: 0.6786 - acc: 0.8640 - val_loss: 0.8721 - val_acc: 0.8477\n",
      "Epoch 25/50\n",
      "233/233 [==============================] - 7s 30ms/step - loss: 0.6579 - acc: 0.8666 - val_loss: 0.8627 - val_acc: 0.8497\n",
      "Epoch 26/50\n",
      "233/233 [==============================] - 7s 29ms/step - loss: 0.6393 - acc: 0.8689 - val_loss: 0.8545 - val_acc: 0.8501\n",
      "Epoch 27/50\n",
      "233/233 [==============================] - 7s 29ms/step - loss: 0.6194 - acc: 0.8714 - val_loss: 0.8439 - val_acc: 0.8516\n",
      "Epoch 28/50\n",
      "233/233 [==============================] - 7s 29ms/step - loss: 0.6005 - acc: 0.8736 - val_loss: 0.8361 - val_acc: 0.8534\n",
      "Epoch 29/50\n",
      "233/233 [==============================] - 7s 29ms/step - loss: 0.5834 - acc: 0.8760 - val_loss: 0.8291 - val_acc: 0.8539\n",
      "Epoch 30/50\n",
      "233/233 [==============================] - 7s 29ms/step - loss: 0.5657 - acc: 0.8785 - val_loss: 0.8211 - val_acc: 0.8550\n",
      "Epoch 31/50\n",
      "233/233 [==============================] - 7s 29ms/step - loss: 0.5490 - acc: 0.8809 - val_loss: 0.8120 - val_acc: 0.8564\n",
      "Epoch 32/50\n",
      "233/233 [==============================] - 8s 35ms/step - loss: 0.5327 - acc: 0.8833 - val_loss: 0.8082 - val_acc: 0.8575\n",
      "Epoch 33/50\n",
      "233/233 [==============================] - 7s 29ms/step - loss: 0.5187 - acc: 0.8854 - val_loss: 0.8002 - val_acc: 0.8594\n",
      "Epoch 34/50\n",
      "233/233 [==============================] - 7s 29ms/step - loss: 0.5031 - acc: 0.8879 - val_loss: 0.7945 - val_acc: 0.8596\n",
      "Epoch 35/50\n",
      "233/233 [==============================] - 7s 29ms/step - loss: 0.4886 - acc: 0.8903 - val_loss: 0.7928 - val_acc: 0.8603\n",
      "Epoch 36/50\n",
      "233/233 [==============================] - 7s 29ms/step - loss: 0.4754 - acc: 0.8926 - val_loss: 0.7882 - val_acc: 0.8610\n",
      "Epoch 37/50\n",
      "233/233 [==============================] - 7s 29ms/step - loss: 0.4623 - acc: 0.8947 - val_loss: 0.7835 - val_acc: 0.8615\n",
      "Epoch 38/50\n",
      "233/233 [==============================] - 7s 29ms/step - loss: 0.4496 - acc: 0.8968 - val_loss: 0.7804 - val_acc: 0.8620\n",
      "Epoch 39/50\n",
      "233/233 [==============================] - 7s 29ms/step - loss: 0.4375 - acc: 0.8992 - val_loss: 0.7777 - val_acc: 0.8637\n",
      "Epoch 40/50\n",
      "233/233 [==============================] - 7s 29ms/step - loss: 0.4264 - acc: 0.9013 - val_loss: 0.7749 - val_acc: 0.8641\n",
      "Epoch 41/50\n",
      "233/233 [==============================] - 7s 29ms/step - loss: 0.4147 - acc: 0.9034 - val_loss: 0.7714 - val_acc: 0.8644\n",
      "Epoch 42/50\n",
      "233/233 [==============================] - 7s 29ms/step - loss: 0.4042 - acc: 0.9053 - val_loss: 0.7699 - val_acc: 0.8652\n",
      "Epoch 43/50\n",
      "233/233 [==============================] - 7s 29ms/step - loss: 0.3940 - acc: 0.9072 - val_loss: 0.7679 - val_acc: 0.8657\n",
      "Epoch 44/50\n",
      "233/233 [==============================] - 7s 29ms/step - loss: 0.3842 - acc: 0.9094 - val_loss: 0.7660 - val_acc: 0.8663\n",
      "Epoch 45/50\n",
      "233/233 [==============================] - 7s 29ms/step - loss: 0.3751 - acc: 0.9110 - val_loss: 0.7641 - val_acc: 0.8670\n",
      "Epoch 46/50\n",
      "233/233 [==============================] - 7s 29ms/step - loss: 0.3663 - acc: 0.9126 - val_loss: 0.7601 - val_acc: 0.8670\n",
      "Epoch 47/50\n",
      "233/233 [==============================] - 7s 29ms/step - loss: 0.3566 - acc: 0.9146 - val_loss: 0.7640 - val_acc: 0.8672\n",
      "Epoch 48/50\n",
      "233/233 [==============================] - 7s 29ms/step - loss: 0.3479 - acc: 0.9163 - val_loss: 0.7651 - val_acc: 0.8670\n",
      "Epoch 49/50\n",
      "233/233 [==============================] - 7s 29ms/step - loss: 0.3401 - acc: 0.9180 - val_loss: 0.7599 - val_acc: 0.8683\n",
      "Epoch 50/50\n",
      "233/233 [==============================] - 7s 29ms/step - loss: 0.3317 - acc: 0.9195 - val_loss: 0.7581 - val_acc: 0.8690\n"
     ]
    },
    {
     "data": {
      "text/plain": [
       "<keras.callbacks.History at 0x7f2680463340>"
      ]
     },
     "execution_count": 24,
     "metadata": {},
     "output_type": "execute_result"
    }
   ],
   "source": [
    "model.fit(x=[encoder_input_train, decoder_input_train], y=decoder_target_train, \\\n",
    "          validation_data=([encoder_input_test, decoder_input_test], decoder_target_test), batch_size=128, epochs=50)"
   ]
  },
  {
   "cell_type": "code",
   "execution_count": 25,
   "metadata": {
    "id": "7XkaXjQfaebR"
   },
   "outputs": [],
   "source": [
    "# 인코더\n",
    "encoder_model = Model(encoder_inputs, encoder_states)\n",
    "\n",
    "# 디코더\n",
    "decoder_state_input_h = Input(shape=(hidden_units,))\n",
    "decoder_state_input_c = Input(shape=(hidden_units,))\n",
    "decoder_states_inputs = [decoder_state_input_h, decoder_state_input_c]\n",
    "dec_emb2 = dec_emb_layer(decoder_inputs)\n",
    "decoder_outputs2, state_h2, state_c2 = decoder_lstm(dec_emb2, initial_state=decoder_states_inputs)\n",
    "decoder_states2 = [state_h2, state_c2]\n",
    "decoder_outputs2 = decoder_dense(decoder_outputs2)\n",
    "\n",
    "# 수정된 디코더\n",
    "decoder_model = Model([decoder_inputs] + decoder_states_inputs, [decoder_outputs2] + decoder_states2)"
   ]
  },
  {
   "cell_type": "code",
   "execution_count": 26,
   "metadata": {
    "id": "-Pg0Xjihaef9"
   },
   "outputs": [],
   "source": [
    "def decode_sequence(input_seq):\n",
    "  states_value = encoder_model.predict(input_seq)\n",
    "\n",
    "  target_seq = np.zeros((1,1))\n",
    "  target_seq[0, 0] = tar_to_index['<sos>']\n",
    "\n",
    "  stop_condition = False\n",
    "  decoded_sentence = ''\n",
    "\n",
    "  while not stop_condition:\n",
    "    output_tokens, h, c = decoder_model.predict([target_seq] + states_value)\n",
    "    sampled_token_index = np.argmax(output_tokens[0, -1, :])\n",
    "    sampled_char = index_to_tar[sampled_token_index]\n",
    "    decoded_sentence += ' '+sampled_char\n",
    "\n",
    "    if (sampled_char == '<eos>' or\n",
    "        len(decoded_sentence) > 50):\n",
    "        stop_condition = True\n",
    "\n",
    "    target_seq = np.zeros((1,1))\n",
    "    target_seq[0, 0] = sampled_token_index\n",
    "    \n",
    "    states_value = [h, c]\n",
    "\n",
    "  return decoded_sentence"
   ]
  },
  {
   "cell_type": "code",
   "execution_count": 27,
   "metadata": {
    "id": "Pmuz6OzjaekU"
   },
   "outputs": [],
   "source": [
    "def seq_to_src(input_seq):\n",
    "  sentence = ''\n",
    "  for encoded_word in input_seq:\n",
    "    if(encoded_word != 0):\n",
    "      sentence = sentence + index_to_src[encoded_word] + ' '\n",
    "  return sentence\n",
    "\n",
    "def seq_to_tar(input_seq):\n",
    "  sentence = ''\n",
    "  for encoded_word in input_seq:\n",
    "    if(encoded_word != 0 and encoded_word != tar_to_index['<sos>'] and encoded_word != tar_to_index['<eos>']):\n",
    "      sentence = sentence + index_to_tar[encoded_word] + ' '\n",
    "  return sentence"
   ]
  },
  {
   "cell_type": "markdown",
   "metadata": {
    "id": "AZx0A1_wpNk-"
   },
   "source": [
    "### (6) 모델 평가하기"
   ]
  },
  {
   "cell_type": "code",
   "execution_count": 31,
   "metadata": {
    "colab": {
     "base_uri": "https://localhost:8080/"
    },
    "id": "jtmSI8HLaeo6",
    "outputId": "99002e3b-eb43-49b9-e0b2-44115308f877"
   },
   "outputs": [
    {
     "name": "stdout",
     "output_type": "stream",
     "text": [
      "1/1 [==============================] - 0s 17ms/step\n",
      "1/1 [==============================] - 0s 15ms/step\n",
      "1/1 [==============================] - 0s 17ms/step\n",
      "1/1 [==============================] - 0s 15ms/step\n",
      "1/1 [==============================] - 0s 18ms/step\n",
      "1/1 [==============================] - 0s 24ms/step\n",
      "1/1 [==============================] - 0s 19ms/step\n",
      "1/1 [==============================] - 0s 18ms/step\n",
      "1/1 [==============================] - 0s 17ms/step\n",
      "입력 : boil some water . \n",
      "정답 : faites bouillir de l eau . \n",
      "번역 : prends le dehors de l eau . \n",
      "-------------------------------------------------------\n",
      "1/1 [==============================] - 0s 17ms/step\n",
      "1/1 [==============================] - 0s 17ms/step\n",
      "1/1 [==============================] - 0s 17ms/step\n",
      "1/1 [==============================] - 0s 17ms/step\n",
      "1/1 [==============================] - 0s 18ms/step\n",
      "1/1 [==============================] - 0s 18ms/step\n",
      "1/1 [==============================] - 0s 20ms/step\n",
      "1/1 [==============================] - 0s 16ms/step\n",
      "입력 : it wasn t enough . \n",
      "정답 : ce n etait pas assez . \n",
      "번역 : ce n etait pas assez . \n",
      "-------------------------------------------------------\n",
      "1/1 [==============================] - 0s 16ms/step\n",
      "1/1 [==============================] - 0s 18ms/step\n",
      "1/1 [==============================] - 0s 16ms/step\n",
      "1/1 [==============================] - 0s 15ms/step\n",
      "1/1 [==============================] - 0s 19ms/step\n",
      "1/1 [==============================] - 0s 16ms/step\n",
      "1/1 [==============================] - 0s 19ms/step\n",
      "입력 : you re too naive . \n",
      "정답 : tu es trop naive . \n",
      "번역 : tu es trop vieux . \n",
      "-------------------------------------------------------\n",
      "1/1 [==============================] - 0s 15ms/step\n",
      "1/1 [==============================] - 0s 19ms/step\n",
      "1/1 [==============================] - 0s 15ms/step\n",
      "1/1 [==============================] - 0s 17ms/step\n",
      "1/1 [==============================] - 0s 17ms/step\n",
      "1/1 [==============================] - 0s 16ms/step\n",
      "1/1 [==============================] - 0s 16ms/step\n",
      "1/1 [==============================] - 0s 18ms/step\n",
      "입력 : i felt wonderful . \n",
      "정답 : j ai eu un sentiment merveilleux . \n",
      "번역 : je me suis senti fort . \n",
      "-------------------------------------------------------\n",
      "1/1 [==============================] - 0s 15ms/step\n",
      "1/1 [==============================] - 0s 17ms/step\n",
      "1/1 [==============================] - 0s 18ms/step\n",
      "1/1 [==============================] - 0s 16ms/step\n",
      "1/1 [==============================] - 0s 15ms/step\n",
      "1/1 [==============================] - 0s 16ms/step\n",
      "1/1 [==============================] - 0s 15ms/step\n",
      "1/1 [==============================] - 0s 17ms/step\n",
      "1/1 [==============================] - 0s 19ms/step\n",
      "1/1 [==============================] - 0s 20ms/step\n",
      "1/1 [==============================] - 0s 18ms/step\n",
      "입력 : don t touch my car . \n",
      "정답 : touche pas a ma bagnole ! \n",
      "번역 : ne le touche pas a faire de reproche . \n",
      "-------------------------------------------------------\n"
     ]
    }
   ],
   "source": [
    "# 훈련 데이터에 대해서 임의로 선택한 인덱스의 샘플 결과 출력\n",
    "for seq_index in [30, 60, 90, 300, 3000]:\n",
    "  input_seq = encoder_input_train[seq_index: seq_index + 1]\n",
    "  decoded_sentence = decode_sequence(input_seq)\n",
    "  print(\"입력 :\",seq_to_src(encoder_input_train[seq_index]))\n",
    "  print(\"정답 :\",seq_to_tar(decoder_input_train[seq_index]))\n",
    "  print(\"번역 :\",decoded_sentence[1:-5])\n",
    "  print(\"-\"*55)"
   ]
  },
  {
   "cell_type": "code",
   "execution_count": 32,
   "metadata": {
    "colab": {
     "base_uri": "https://localhost:8080/"
    },
    "id": "dR3IpbfEaeuo",
    "outputId": "c5e308ee-033f-469f-f0d2-a7182971bf84"
   },
   "outputs": [
    {
     "name": "stdout",
     "output_type": "stream",
     "text": [
      "1/1 [==============================] - 0s 17ms/step\n",
      "1/1 [==============================] - 0s 16ms/step\n",
      "1/1 [==============================] - 0s 18ms/step\n",
      "1/1 [==============================] - 0s 18ms/step\n",
      "1/1 [==============================] - 0s 16ms/step\n",
      "1/1 [==============================] - 0s 19ms/step\n",
      "1/1 [==============================] - 0s 18ms/step\n",
      "1/1 [==============================] - 0s 18ms/step\n",
      "1/1 [==============================] - 0s 18ms/step\n",
      "1/1 [==============================] - 0s 16ms/step\n",
      "입력 : i said maybe . \n",
      "정답 : j ai dit peut etre . \n",
      "번역 : j ai dit que j ai bien . \n",
      "-------------------------------------------------------\n",
      "1/1 [==============================] - 0s 18ms/step\n",
      "1/1 [==============================] - 0s 17ms/step\n",
      "1/1 [==============================] - 0s 17ms/step\n",
      "1/1 [==============================] - 0s 19ms/step\n",
      "1/1 [==============================] - 0s 17ms/step\n",
      "1/1 [==============================] - 0s 15ms/step\n",
      "1/1 [==============================] - 0s 16ms/step\n",
      "입력 : you re very open . \n",
      "정답 : vous etes tres ouvertes . \n",
      "번역 : vous etes tres ouverte . \n",
      "-------------------------------------------------------\n",
      "1/1 [==============================] - 0s 16ms/step\n",
      "1/1 [==============================] - 0s 17ms/step\n",
      "1/1 [==============================] - 0s 15ms/step\n",
      "1/1 [==============================] - 0s 15ms/step\n",
      "1/1 [==============================] - 0s 16ms/step\n",
      "1/1 [==============================] - 0s 17ms/step\n",
      "입력 : he was outraged . \n",
      "정답 : il etait indigne . \n",
      "번역 : il etait paralyse . \n",
      "-------------------------------------------------------\n",
      "1/1 [==============================] - 0s 18ms/step\n",
      "1/1 [==============================] - 0s 16ms/step\n",
      "1/1 [==============================] - 0s 17ms/step\n",
      "1/1 [==============================] - 0s 18ms/step\n",
      "1/1 [==============================] - 0s 16ms/step\n",
      "1/1 [==============================] - 0s 22ms/step\n",
      "1/1 [==============================] - 0s 16ms/step\n",
      "입력 : i love jokes . \n",
      "정답 : j adore les plaisanteries . \n",
      "번역 : j adore les echecs . \n",
      "-------------------------------------------------------\n",
      "1/1 [==============================] - 0s 16ms/step\n",
      "1/1 [==============================] - 0s 16ms/step\n",
      "1/1 [==============================] - 0s 19ms/step\n",
      "1/1 [==============================] - 0s 17ms/step\n",
      "1/1 [==============================] - 0s 16ms/step\n",
      "1/1 [==============================] - 0s 15ms/step\n",
      "1/1 [==============================] - 0s 21ms/step\n",
      "1/1 [==============================] - 0s 17ms/step\n",
      "1/1 [==============================] - 0s 17ms/step\n",
      "1/1 [==============================] - 0s 18ms/step\n",
      "입력 : tom can t see you . \n",
      "정답 : tom ne peut pas te voir . \n",
      "번역 : tom ne s en peut etre vu . \n",
      "-------------------------------------------------------\n"
     ]
    }
   ],
   "source": [
    "# 테스트 데이터에 대해서 임의로 선택한 인덱스의 샘플 결과 출력\n",
    "for seq_index in [30, 60, 90, 300, 3000]:\n",
    "  input_seq = encoder_input_test[seq_index: seq_index + 1]\n",
    "  decoded_sentence = decode_sequence(input_seq)\n",
    "  print(\"입력 :\",seq_to_src(encoder_input_test[seq_index]))\n",
    "  print(\"정답 :\",seq_to_tar(decoder_input_test[seq_index]))\n",
    "  print(\"번역 :\",decoded_sentence[1:-5])\n",
    "  print(\"-\"*55)"
   ]
  },
  {
   "cell_type": "markdown",
   "metadata": {
    "id": "xmn49QEv4JZn"
   },
   "source": [
    "# 2. References\n",
    "\n",
    "[1] https://lms.aiffel.io/course/382/node/510\n",
    "\n",
    "[2] https://wikidocs.net/21694"
   ]
  }
 ],
 "metadata": {
  "accelerator": "GPU",
  "colab": {
   "provenance": []
  },
  "gpuClass": "standard",
  "kernelspec": {
   "display_name": "Python 3 (ipykernel)",
   "language": "python",
   "name": "python3"
  },
  "language_info": {
   "codemirror_mode": {
    "name": "ipython",
    "version": 3
   },
   "file_extension": ".py",
   "mimetype": "text/x-python",
   "name": "python",
   "nbconvert_exporter": "python",
   "pygments_lexer": "ipython3",
   "version": "3.8.13"
  }
 },
 "nbformat": 4,
 "nbformat_minor": 1
}

{
 "cells": [
  {
   "cell_type": "markdown",
   "metadata": {
    "id": "_2s0EJ5Fy4u2"
   },
   "source": [
    "# Implementing Callbacks in TensorFlow using the MNIST Dataset\n",
    "\n",
    "이 코스에서는 패션 MNIST를 사용하여 분류를 수행하는 방법을 배웠습니다. 이 데이터 세트에는 의류 항목이 포함되어 있습니다. MNIST라는 또 다른 유사한 데이터 세트도 있으며, 여기에는 0에서 9까지의 숫자가 손으로 쓴 것이 포함되어 있습니다.\n",
    "\n",
    "99% 정확도로 훈련되고 이 기준에 도달하면 훈련을 중단하는 MNIST 분류기를 작성하세요. 강의에서는 손실에 대해 이 작업을 수행하는 방법을 배웠지만 여기서는 정확도를 사용합니다.\n",
    "\n",
    "일부 참고 사항:\n",
    "\n",
    "네트워크는 9회 미만의 에포크에서 성공해야 합니다.\n",
    "99% 이상에 도달하면 문자열 \"Reached 99% accuracy so cancelling training!\"을 출력하고 훈련을 중지해야 합니다.\n",
    "추가 변수를 추가하는 경우 해당 변수의 이름이 수업에서 사용된 변수 이름과 동일하게 사용되도록 해야 합니다. 이것은 콜백의 함수 시그니처(매개변수 및 이름)에 중요합니다."
   ]
  },
  {
   "cell_type": "code",
   "execution_count": 2,
   "metadata": {
    "deletable": false,
    "editable": false,
    "id": "djVOgMHty4u3",
    "tags": [
     "graded"
    ]
   },
   "outputs": [],
   "source": [
    "import os\n",
    "import tensorflow as tf\n",
    "from tensorflow import keras"
   ]
  },
  {
   "cell_type": "markdown",
   "metadata": {},
   "source": [
    "## Load and inspect the data\n",
    "\n",
    "먼저 데이터를 로드하세요. 주의해야 할 몇 가지 사항이 있습니다.\n",
    "\n",
    "mnist.npz 파일은 현재 작업 공간의 data 디렉토리 아래에 이미 포함되어 있습니다. 기본적으로 Keras의 load_data는 ~/.keras/datasets를 기준으로 상대적인 경로를 허용하지만 이 경우 다른 위치에 저장되어 있으므로 전체 경로를 지정해야 합니다.\n",
    "\n",
    "load_data는 튜플 (x_train, y_train), (x_test, y_test) 형식으로 훈련 및 테스트 세트를 반환하지만 이 연습에서는 훈련 세트만 필요하므로 두 번째 튜플은 무시할 수 있습니다."
   ]
  },
  {
   "cell_type": "code",
   "execution_count": 3,
   "metadata": {
    "deletable": false,
    "editable": false,
    "tags": [
     "graded"
    ]
   },
   "outputs": [],
   "source": [
    "# Load the data\n",
    "\n",
    "# Get current working directory\n",
    "current_dir = os.getcwd()\n",
    "\n",
    "# Append data/mnist.npz to the previous path to get the full path\n",
    "data_path = os.path.join(current_dir, \"data/mnist.npz\")\n",
    "\n",
    "# Discard test set\n",
    "(x_train, y_train), _ = tf.keras.datasets.mnist.load_data(path=data_path)\n",
    "        \n",
    "# Normalize pixel values\n",
    "x_train = x_train / 255.0"
   ]
  },
  {
   "cell_type": "code",
   "execution_count": 4,
   "metadata": {
    "deletable": false,
    "editable": false,
    "tags": [
     "graded"
    ]
   },
   "outputs": [
    {
     "name": "stdout",
     "output_type": "stream",
     "text": [
      "There are 60000 examples with shape (28, 28)\n"
     ]
    }
   ],
   "source": [
    "data_shape = x_train.shape\n",
    "\n",
    "print(f\"There are {data_shape[0]} examples with shape ({data_shape[1]}, {data_shape[2]})\")"
   ]
  },
  {
   "cell_type": "markdown",
   "metadata": {},
   "source": [
    "## Defining your callback"
   ]
  },
  {
   "cell_type": "code",
   "execution_count": 5,
   "metadata": {
    "deletable": false,
    "tags": [
     "graded"
    ]
   },
   "outputs": [],
   "source": [
    "class myCallback(tf.keras.callbacks.Callback):\n",
    "\n",
    "    def on_epoch_end(self, epoch, logs={}):\n",
    "        if logs.get('accuracy') is not None and logs.get('accuracy') > 0.99:                 \n",
    "            print(\"\\nReached 99% accuracy so cancelling training!\")\n",
    "            self.model.stop_training = True"
   ]
  },
  {
   "cell_type": "markdown",
   "metadata": {},
   "source": [
    "## Create and train your model\n",
    "\n",
    "이제 콜백을 정의했으므로 아래의 train_mnist 함수를 완성하세요.\n",
    "\n",
    "이 과제를 통과하려면 모델을 10 에포크 동안 훈련하고 콜백이 9번째 에포크 전에 발생해야 합니다."
   ]
  },
  {
   "cell_type": "code",
   "execution_count": 6,
   "metadata": {
    "deletable": false,
    "id": "rEHcB3kqyHZ6",
    "tags": [
     "graded"
    ]
   },
   "outputs": [],
   "source": [
    "def train_mnist(x_train, y_train):\n",
    "\n",
    "    callbacks = myCallback()\n",
    "    \n",
    "    model = tf.keras.models.Sequential([         \n",
    "        tf.keras.layers.Flatten(input_shape=(28, 28)),\n",
    "        tf.keras.layers.Dense(512, activation='relu'),\n",
    "        tf.keras.layers.Dense(10, activation='softmax')\n",
    "    ]) \n",
    "    \n",
    "    model.compile(optimizer='adam',                   \n",
    "                  loss='sparse_categorical_crossentropy',                   \n",
    "                  metrics=['accuracy'])     \n",
    "    \n",
    "    history = model.fit(x_train, y_train, epochs=10, callbacks=[callbacks])\n",
    "\n",
    "    return history"
   ]
  },
  {
   "cell_type": "markdown",
   "metadata": {},
   "source": [
    "'train_mnist'를 호출하여 적절한 매개변수를 전달하여 훈련 이력을 얻으세요:"
   ]
  },
  {
   "cell_type": "code",
   "execution_count": 7,
   "metadata": {
    "deletable": false,
    "editable": false,
    "id": "sFgpwbGly4u4",
    "tags": [
     "graded"
    ]
   },
   "outputs": [
    {
     "name": "stdout",
     "output_type": "stream",
     "text": [
      "Epoch 1/10\n",
      "1875/1875 [==============================] - 9s 4ms/step - loss: 0.1990 - accuracy: 0.9416\n",
      "Epoch 2/10\n",
      "1875/1875 [==============================] - 8s 4ms/step - loss: 0.0805 - accuracy: 0.9750: 0s - loss: 0.0824 - \n",
      "Epoch 3/10\n",
      "1875/1875 [==============================] - 8s 4ms/step - loss: 0.0503 - accuracy: 0.9844\n",
      "Epoch 4/10\n",
      "1875/1875 [==============================] - 8s 4ms/step - loss: 0.0374 - accuracy: 0.9881\n",
      "Epoch 5/10\n",
      "1861/1875 [============================>.] - ETA: 0s - loss: 0.0277 - accuracy: 0.9908\n",
      "Reached 99% accuracy so cancelling training!\n",
      "1875/1875 [==============================] - 8s 4ms/step - loss: 0.0276 - accuracy: 0.9909\n"
     ]
    }
   ],
   "source": [
    "hist = train_mnist(x_train, y_train)"
   ]
  }
 ],
 "metadata": {
  "kernelspec": {
   "display_name": "Python 3",
   "language": "python",
   "name": "python3"
  },
  "language_info": {
   "codemirror_mode": {
    "name": "ipython",
    "version": 3
   },
   "file_extension": ".py",
   "mimetype": "text/x-python",
   "name": "python",
   "nbconvert_exporter": "python",
   "pygments_lexer": "ipython3",
   "version": "3.8.8"
  }
 },
 "nbformat": 4,
 "nbformat_minor": 1
}

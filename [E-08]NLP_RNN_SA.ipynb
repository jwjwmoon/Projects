{
 "cells": [
  {
   "cell_type": "code",
   "execution_count": 2,
   "metadata": {
    "id": "ZIRdH5zVp7wP"
   },
   "outputs": [],
   "source": [
    "import numpy as np\n",
    "import pandas as pd\n",
    "import matplotlib as mpl\n",
    "import matplotlib.pyplot as plt\n",
    "import matplotlib.font_manager as fm\n",
    "import seaborn as sns\n",
    "\n",
    "import os, re\n",
    "import glob\n",
    "\n",
    "from time import time\n",
    "from scipy.io.arff import loadarff\n",
    "from scipy import stats\n",
    "from statsmodels.formula.api import ols, glm\n",
    "from functools import reduce\n",
    "import nltk                         \n",
    "from nltk.tokenize import word_tokenize   \n",
    "from nltk.corpus import stopwords         \n",
    "from nltk.stem import WordNetLemmatizer    \n",
    "from collections import Counter \n",
    "from wordcloud import STOPWORDS, WordCloud\n",
    "import glob           \n",
    "import konlpy\n",
    "import json\n",
    "import gensim\n",
    "\n",
    "from konlpy.tag import Okt, Mecab\n",
    "from collections import Counter\n",
    "from wordcloud import WordCloud\n",
    "\n",
    "import sklearn\n",
    "import statsmodels\n",
    "from sklearn.model_selection import train_test_split \n",
    "\n",
    "import tensorflow as tf\n",
    "from tensorflow import keras\n",
    "\n",
    "from matplotlib import rc\n",
    "rc('font', family='AppleGothic')\n",
    "plt.rcParams['axes.unicode_minus'] = False"
   ]
  },
  {
   "cell_type": "code",
   "execution_count": 3,
   "metadata": {
    "colab": {
     "base_uri": "https://localhost:8080/"
    },
    "id": "uZeHtHYap-gY",
    "outputId": "d4eec470-af97-412d-8450-f6cdb5e9f83d"
   },
   "outputs": [
    {
     "name": "stdout",
     "output_type": "stream",
     "text": [
      "Drive already mounted at /content/drive; to attempt to forcibly remount, call drive.mount(\"/content/drive\", force_remount=True).\n"
     ]
    }
   ],
   "source": [
    "from google.colab import drive\n",
    "drive.mount('/content/drive')"
   ]
  },
  {
   "cell_type": "code",
   "execution_count": 4,
   "metadata": {
    "id": "Be-LmW0msyav"
   },
   "outputs": [],
   "source": [
    "# !apt-get update\n",
    "# !apt-get install g++ openjdk-8-jdk \n",
    "# !pip install konlpy JPype1-py3\n",
    "# !bash <(curl -s https://raw.githubusercontent.com/konlpy/konlpy/master/scripts/mecab.sh)"
   ]
  },
  {
   "cell_type": "markdown",
   "metadata": {
    "id": "7Y7TKZGLySCE"
   },
   "source": [
    "# 1. IMDB 리뷰 데이터셋"
   ]
  },
  {
   "cell_type": "code",
   "execution_count": 5,
   "metadata": {
    "colab": {
     "base_uri": "https://localhost:8080/"
    },
    "id": "NL5oJYtSyQrE",
    "outputId": "e8422dd9-dfdd-4325-8320-839f1cf0db41"
   },
   "outputs": [
    {
     "name": "stdout",
     "output_type": "stream",
     "text": [
      "(25000,) (25000,)\n",
      "(25000,) (25000,)\n",
      "189\n",
      "[1, 14, 22, 16, 43, 2, 2, 2, 2, 65, 458, 2, 66, 2, 4, 173, 36, 256, 5, 25, 100, 43, 2, 112, 50, 2, 2, 9, 35, 480, 284, 5, 150, 4, 172, 112, 167, 2, 336, 385, 39, 4, 172, 2, 2, 17, 2, 38, 13, 447, 4, 192, 50, 16, 6, 147, 2, 19, 14, 22, 4, 2, 2, 469, 4, 22, 71, 87, 12, 16, 43, 2, 38, 76, 15, 13, 2, 4, 22, 17, 2, 17, 12, 16, 2, 18, 2, 5, 62, 386, 12, 8, 316, 8, 106, 5, 4, 2, 2, 16, 480, 66, 2, 33, 4, 130, 12, 16, 38, 2, 5, 25, 124, 51, 36, 135, 48, 25, 2, 33, 6, 22, 12, 215, 28, 77, 52, 5, 14, 407, 16, 82, 2, 8, 4, 107, 117, 2, 15, 256, 4, 2, 7, 2, 5, 2, 36, 71, 43, 2, 476, 26, 400, 317, 46, 7, 4, 2, 2, 13, 104, 88, 4, 381, 15, 297, 98, 32, 2, 56, 26, 141, 6, 194, 2, 18, 4, 226, 22, 21, 134, 476, 26, 480, 5, 144, 30, 2, 18, 51, 36, 28, 224, 92, 25, 104, 4, 226, 65, 16, 38, 2, 88, 12, 16, 283, 5, 16, 2, 113, 103, 32, 15, 16, 2, 19, 178, 32]\n",
      "라벨:  1\n",
      "1번째 리뷰 문장 길이:  218\n",
      "2번째 리뷰 문장 길이:  189\n"
     ]
    }
   ],
   "source": [
    "from tensorflow.keras.datasets import imdb\n",
    "(X_train, Y_train), (x_test, y_test) = imdb.load_data(num_words=500)\n",
    "\n",
    "print(X_train.shape, x_test.shape)\n",
    "print(Y_train.shape, y_test.shape)\n",
    "print(len(X_train[1]))\n",
    "print(X_train[0])\n",
    "print('라벨: ', Y_train[0])  # 1번째 리뷰데이터의 라벨\n",
    "print('1번째 리뷰 문장 길이: ', len(X_train[0]))\n",
    "print('2번째 리뷰 문장 길이: ', len(X_train[1]))"
   ]
  },
  {
   "cell_type": "code",
   "execution_count": 6,
   "metadata": {
    "colab": {
     "base_uri": "https://localhost:8080/",
     "height": 313
    },
    "id": "2xM9aQ8TyQu2",
    "outputId": "f47d6b56-e0b1-46c3-f0e4-bf19bf007dd4"
   },
   "outputs": [
    {
     "name": "stderr",
     "output_type": "stream",
     "text": [
      "WARNING:matplotlib.font_manager:findfont: Font family ['AppleGothic'] not found. Falling back to DejaVu Sans.\n"
     ]
    },
    {
     "name": "stdout",
     "output_type": "stream",
     "text": [
      "239.00925 178.0\n"
     ]
    },
    {
     "data": {
      "image/png": "[encoded data removed]",
      "text/plain": [
       "<Figure size 432x288 with 1 Axes>"
      ]
     },
     "metadata": {
      "needs_background": "light"
     },
     "output_type": "display_data"
    }
   ],
   "source": [
    "x_train, x_val, y_train, y_val = train_test_split(X_train, Y_train, test_size=0.2, random_state=42)\n",
    "\n",
    "lengths = np.array([len(x) for x in x_train])\n",
    "print(np.mean(lengths), np.median(lengths))\n",
    "\n",
    "plt.hist(lengths)\n",
    "plt.xlabel('length')\n",
    "plt.ylabel('frequency')\n",
    "plt.show()"
   ]
  },
  {
   "cell_type": "code",
   "execution_count": 7,
   "metadata": {
    "colab": {
     "base_uri": "https://localhost:8080/"
    },
    "id": "nAVS-KKByQxr",
    "outputId": "b488d124-0eb7-4c9d-b71f-309373119531"
   },
   "outputs": [
    {
     "name": "stdout",
     "output_type": "stream",
     "text": [
      "(20000, 100)\n",
      "\n",
      "[ 10   4  20   9   2 364 352   5  45   6   2   2  33 269   8   2 142   2\n",
      "   5   2  17  73  17 204   5   2  19  55   2   2  92  66 104  14  20  93\n",
      "  76   2 151  33   4  58  12 188   2 151  12 215  69 224 142  73 237   6\n",
      "   2   7   2   2 188   2 103  14  31  10  10 451   7   2   5   2  80  91\n",
      "   2  30   2  34  14  20 151  50  26 131  49   2  84  46  50  37  80  79\n",
      "   6   2  46   7  14  20  10  10 470 158]\n"
     ]
    }
   ],
   "source": [
    "from tensorflow.keras.preprocessing.sequence import pad_sequences\n",
    "x_train_pad = pad_sequences(x_train, maxlen=100)\n",
    "x_val_pad = pad_sequences(x_val, maxlen=100)\n",
    "\n",
    "print(x_train_pad.shape)\n",
    "print()\n",
    "print(x_train_pad[0])"
   ]
  },
  {
   "cell_type": "code",
   "execution_count": 8,
   "metadata": {
    "colab": {
     "base_uri": "https://localhost:8080/"
    },
    "id": "bCDEVl7QyQz-",
    "outputId": "dda7197a-f424-41ba-9167-6d773367f41b"
   },
   "outputs": [
    {
     "name": "stdout",
     "output_type": "stream",
     "text": [
      "(20000, 100, 500)\n",
      "(5000, 100, 500)\n",
      "\n",
      "[0. 0. 0. 0. 0. 0. 0. 0. 0. 0. 1. 0.]\n",
      "1.0\n",
      "\n",
      "Model: \"sequential\"\n",
      "_________________________________________________________________\n",
      " Layer (type)                Output Shape              Param #   \n",
      "=================================================================\n",
      " simple_rnn (SimpleRNN)      (None, 8)                 4072      \n",
      "                                                                 \n",
      " dense (Dense)               (None, 1)                 9         \n",
      "                                                                 \n",
      "=================================================================\n",
      "Total params: 4,081\n",
      "Trainable params: 4,081\n",
      "Non-trainable params: 0\n",
      "_________________________________________________________________\n"
     ]
    }
   ],
   "source": [
    "# RNN(순환 신경망) 만들기\n",
    "\n",
    "model = keras.Sequential()\n",
    "model.add(keras.layers.SimpleRNN(8, input_shape=(100, 500)))\n",
    "model.add(keras.layers.Dense(1, activation='sigmoid'))\n",
    "\n",
    "train_ohe = keras.utils.to_categorical(x_train_pad)     # One-Hot Encoding\n",
    "val_ohe = keras.utils.to_categorical(x_val_pad)\n",
    "\n",
    "print(train_ohe.shape)\n",
    "print(val_ohe.shape)\n",
    "print()\n",
    "print(train_ohe[0][0][:12])\n",
    "print(np.sum(train_ohe[0][0]))\n",
    "print()\n",
    "model.summary()"
   ]
  },
  {
   "cell_type": "code",
   "execution_count": 9,
   "metadata": {
    "colab": {
     "base_uri": "https://localhost:8080/",
     "height": 1000
    },
    "id": "T4WtMAxpzHSV",
    "outputId": "50d8215b-3ff5-40b7-ecc6-3fc033b49b71"
   },
   "outputs": [
    {
     "name": "stdout",
     "output_type": "stream",
     "text": [
      "Epoch 1/100\n",
      "313/313 [==============================] - 10s 27ms/step - loss: 0.6962 - accuracy: 0.5113 - val_loss: 0.6926 - val_accuracy: 0.5146\n",
      "Epoch 2/100\n",
      "313/313 [==============================] - 8s 26ms/step - loss: 0.6911 - accuracy: 0.5274 - val_loss: 0.6898 - val_accuracy: 0.5260\n",
      "Epoch 3/100\n",
      "313/313 [==============================] - 8s 26ms/step - loss: 0.6873 - accuracy: 0.5465 - val_loss: 0.6863 - val_accuracy: 0.5412\n",
      "Epoch 4/100\n",
      "313/313 [==============================] - 8s 26ms/step - loss: 0.6791 - accuracy: 0.5766 - val_loss: 0.6684 - val_accuracy: 0.6180\n",
      "Epoch 5/100\n",
      "313/313 [==============================] - 8s 26ms/step - loss: 0.6570 - accuracy: 0.6337 - val_loss: 0.6519 - val_accuracy: 0.6414\n",
      "Epoch 6/100\n",
      "313/313 [==============================] - 10s 31ms/step - loss: 0.6365 - accuracy: 0.6605 - val_loss: 0.6330 - val_accuracy: 0.6654\n",
      "Epoch 7/100\n",
      "313/313 [==============================] - 8s 24ms/step - loss: 0.6184 - accuracy: 0.6816 - val_loss: 0.6125 - val_accuracy: 0.6864\n",
      "Epoch 8/100\n",
      "313/313 [==============================] - 9s 28ms/step - loss: 0.6029 - accuracy: 0.6991 - val_loss: 0.5970 - val_accuracy: 0.7028\n",
      "Epoch 9/100\n",
      "313/313 [==============================] - 10s 31ms/step - loss: 0.5879 - accuracy: 0.7126 - val_loss: 0.5848 - val_accuracy: 0.7106\n",
      "Epoch 10/100\n",
      "313/313 [==============================] - 8s 24ms/step - loss: 0.5751 - accuracy: 0.7219 - val_loss: 0.5720 - val_accuracy: 0.7218\n",
      "Epoch 11/100\n",
      "313/313 [==============================] - 7s 24ms/step - loss: 0.5618 - accuracy: 0.7329 - val_loss: 0.5625 - val_accuracy: 0.7286\n",
      "Epoch 12/100\n",
      "313/313 [==============================] - 10s 32ms/step - loss: 0.5496 - accuracy: 0.7432 - val_loss: 0.5578 - val_accuracy: 0.7302\n",
      "Epoch 13/100\n",
      "313/313 [==============================] - 8s 24ms/step - loss: 0.5394 - accuracy: 0.7480 - val_loss: 0.5436 - val_accuracy: 0.7416\n",
      "Epoch 14/100\n",
      "313/313 [==============================] - 7s 24ms/step - loss: 0.5294 - accuracy: 0.7542 - val_loss: 0.5362 - val_accuracy: 0.7456\n",
      "Epoch 15/100\n",
      "313/313 [==============================] - 9s 28ms/step - loss: 0.5189 - accuracy: 0.7618 - val_loss: 0.5287 - val_accuracy: 0.7490\n",
      "Epoch 16/100\n",
      "313/313 [==============================] - 7s 23ms/step - loss: 0.5107 - accuracy: 0.7669 - val_loss: 0.5216 - val_accuracy: 0.7522\n",
      "Epoch 17/100\n",
      "313/313 [==============================] - 7s 24ms/step - loss: 0.5023 - accuracy: 0.7724 - val_loss: 0.5140 - val_accuracy: 0.7590\n",
      "Epoch 18/100\n",
      "313/313 [==============================] - 8s 24ms/step - loss: 0.4941 - accuracy: 0.7782 - val_loss: 0.5077 - val_accuracy: 0.7660\n",
      "Epoch 19/100\n",
      "313/313 [==============================] - 8s 25ms/step - loss: 0.4871 - accuracy: 0.7821 - val_loss: 0.5042 - val_accuracy: 0.7642\n",
      "Epoch 20/100\n",
      "313/313 [==============================] - 8s 27ms/step - loss: 0.4803 - accuracy: 0.7860 - val_loss: 0.5030 - val_accuracy: 0.7632\n",
      "Epoch 21/100\n",
      "313/313 [==============================] - 8s 24ms/step - loss: 0.4748 - accuracy: 0.7890 - val_loss: 0.4944 - val_accuracy: 0.7684\n",
      "Epoch 22/100\n",
      "313/313 [==============================] - 8s 24ms/step - loss: 0.4683 - accuracy: 0.7930 - val_loss: 0.4927 - val_accuracy: 0.7710\n",
      "Epoch 23/100\n",
      "313/313 [==============================] - 8s 25ms/step - loss: 0.4634 - accuracy: 0.7958 - val_loss: 0.4881 - val_accuracy: 0.7746\n",
      "Epoch 24/100\n",
      "313/313 [==============================] - 8s 25ms/step - loss: 0.4583 - accuracy: 0.7983 - val_loss: 0.4826 - val_accuracy: 0.7784\n",
      "Epoch 25/100\n",
      "313/313 [==============================] - 8s 25ms/step - loss: 0.4544 - accuracy: 0.8001 - val_loss: 0.4830 - val_accuracy: 0.7772\n",
      "Epoch 26/100\n",
      "313/313 [==============================] - 8s 25ms/step - loss: 0.4502 - accuracy: 0.8026 - val_loss: 0.4768 - val_accuracy: 0.7804\n",
      "Epoch 27/100\n",
      "313/313 [==============================] - 8s 25ms/step - loss: 0.4472 - accuracy: 0.8044 - val_loss: 0.4744 - val_accuracy: 0.7814\n",
      "Epoch 28/100\n",
      "313/313 [==============================] - 8s 25ms/step - loss: 0.4443 - accuracy: 0.8052 - val_loss: 0.4707 - val_accuracy: 0.7858\n",
      "Epoch 29/100\n",
      "313/313 [==============================] - 8s 25ms/step - loss: 0.4409 - accuracy: 0.8087 - val_loss: 0.4753 - val_accuracy: 0.7804\n",
      "Epoch 30/100\n",
      "313/313 [==============================] - 8s 25ms/step - loss: 0.4382 - accuracy: 0.8097 - val_loss: 0.4681 - val_accuracy: 0.7858\n",
      "Epoch 31/100\n",
      "313/313 [==============================] - 8s 25ms/step - loss: 0.4353 - accuracy: 0.8103 - val_loss: 0.4651 - val_accuracy: 0.7882\n",
      "Epoch 32/100\n",
      "313/313 [==============================] - 9s 28ms/step - loss: 0.4325 - accuracy: 0.8123 - val_loss: 0.4633 - val_accuracy: 0.7902\n",
      "Epoch 33/100\n",
      "313/313 [==============================] - 8s 25ms/step - loss: 0.4302 - accuracy: 0.8134 - val_loss: 0.4624 - val_accuracy: 0.7888\n",
      "Epoch 34/100\n",
      "313/313 [==============================] - 8s 25ms/step - loss: 0.4283 - accuracy: 0.8141 - val_loss: 0.4652 - val_accuracy: 0.7868\n",
      "Epoch 35/100\n",
      "313/313 [==============================] - 8s 25ms/step - loss: 0.4266 - accuracy: 0.8145 - val_loss: 0.4625 - val_accuracy: 0.7848\n",
      "Epoch 36/100\n",
      "313/313 [==============================] - 8s 25ms/step - loss: 0.4244 - accuracy: 0.8173 - val_loss: 0.4611 - val_accuracy: 0.7868\n",
      "Epoch 37/100\n",
      "313/313 [==============================] - 8s 25ms/step - loss: 0.4226 - accuracy: 0.8174 - val_loss: 0.4609 - val_accuracy: 0.7896\n",
      "Epoch 38/100\n",
      "313/313 [==============================] - 8s 25ms/step - loss: 0.4209 - accuracy: 0.8181 - val_loss: 0.4589 - val_accuracy: 0.7890\n",
      "Epoch 39/100\n",
      "313/313 [==============================] - 8s 25ms/step - loss: 0.4195 - accuracy: 0.8185 - val_loss: 0.4626 - val_accuracy: 0.7870\n",
      "Epoch 40/100\n",
      "313/313 [==============================] - 8s 25ms/step - loss: 0.4182 - accuracy: 0.8191 - val_loss: 0.4579 - val_accuracy: 0.7888\n",
      "Epoch 41/100\n",
      "313/313 [==============================] - 8s 24ms/step - loss: 0.4167 - accuracy: 0.8207 - val_loss: 0.4601 - val_accuracy: 0.7896\n",
      "Epoch 42/100\n",
      "313/313 [==============================] - 8s 24ms/step - loss: 0.4154 - accuracy: 0.8228 - val_loss: 0.4570 - val_accuracy: 0.7908\n",
      "Epoch 43/100\n",
      "313/313 [==============================] - 8s 24ms/step - loss: 0.4144 - accuracy: 0.8224 - val_loss: 0.4610 - val_accuracy: 0.7890\n",
      "Epoch 44/100\n",
      "313/313 [==============================] - 9s 28ms/step - loss: 0.4131 - accuracy: 0.8228 - val_loss: 0.4620 - val_accuracy: 0.7872\n",
      "Epoch 45/100\n",
      "313/313 [==============================] - 8s 24ms/step - loss: 0.4120 - accuracy: 0.8235 - val_loss: 0.4602 - val_accuracy: 0.7872\n"
     ]
    },
    {
     "data": {
      "image/png": "[encoded data removed]",
      "text/plain": [
       "<Figure size 720x576 with 1 Axes>"
      ]
     },
     "metadata": {
      "needs_background": "light"
     },
     "output_type": "display_data"
    }
   ],
   "source": [
    "# RNN(순환 신경망) 훈련하기\n",
    "\n",
    "rmsprop = keras.optimizers.RMSprop(learning_rate=1e-4)\n",
    "model.compile(optimizer=rmsprop, loss='binary_crossentropy', metrics='accuracy')\n",
    "checkpoint_cb = keras.callbacks.ModelCheckpoint('best-simplernn-model.h5', save_best_only=True)\n",
    "early_stopping_cb = keras.callbacks.EarlyStopping(patience=3, restore_best_weights=True)\n",
    "history = model.fit(train_ohe, y_train, epochs=100, batch_size=64, validation_data=(val_ohe, y_val), callbacks=[checkpoint_cb, early_stopping_cb])\n",
    "                                          \n",
    "plt.figure(figsize = (10, 8))\n",
    "plt.plot(history.history['loss'])\n",
    "plt.plot(history.history['val_loss'])\n",
    "plt.xlabel('epoch')\n",
    "plt.ylabel('loss')\n",
    "plt.legend(['Training_loss', 'Validation_loss'])\n",
    "plt.grid(True)\n",
    "plt.show()"
   ]
  },
  {
   "cell_type": "code",
   "execution_count": 11,
   "metadata": {
    "colab": {
     "base_uri": "https://localhost:8080/",
     "height": 1000
    },
    "id": "gXudkzz4zHWP",
    "outputId": "7026c522-37ee-474e-ff37-4c4c5c9f25b7"
   },
   "outputs": [
    {
     "name": "stdout",
     "output_type": "stream",
     "text": [
      "Model: \"sequential_1\"\n",
      "_________________________________________________________________\n",
      " Layer (type)                Output Shape              Param #   \n",
      "=================================================================\n",
      " embedding (Embedding)       (None, 100, 16)           8000      \n",
      "                                                                 \n",
      " simple_rnn_1 (SimpleRNN)    (None, 8)                 200       \n",
      "                                                                 \n",
      " dense_1 (Dense)             (None, 1)                 9         \n",
      "                                                                 \n",
      "=================================================================\n",
      "Total params: 8,209\n",
      "Trainable params: 8,209\n",
      "Non-trainable params: 0\n",
      "_________________________________________________________________\n",
      "Epoch 1/100\n",
      "313/313 [==============================] - 5s 14ms/step - loss: 0.6951 - accuracy: 0.5095 - val_loss: 0.6882 - val_accuracy: 0.5388\n",
      "Epoch 2/100\n",
      "313/313 [==============================] - 4s 14ms/step - loss: 0.6716 - accuracy: 0.6047 - val_loss: 0.6609 - val_accuracy: 0.6452\n",
      "Epoch 3/100\n",
      "313/313 [==============================] - 4s 14ms/step - loss: 0.6429 - accuracy: 0.6799 - val_loss: 0.6357 - val_accuracy: 0.6916\n",
      "Epoch 4/100\n",
      "313/313 [==============================] - 4s 14ms/step - loss: 0.6172 - accuracy: 0.7157 - val_loss: 0.6173 - val_accuracy: 0.7102\n",
      "Epoch 5/100\n",
      "313/313 [==============================] - 4s 14ms/step - loss: 0.5944 - accuracy: 0.7383 - val_loss: 0.5953 - val_accuracy: 0.7262\n",
      "Epoch 6/100\n",
      "313/313 [==============================] - 4s 14ms/step - loss: 0.5729 - accuracy: 0.7531 - val_loss: 0.5746 - val_accuracy: 0.7438\n",
      "Epoch 7/100\n",
      "313/313 [==============================] - 9s 29ms/step - loss: 0.5537 - accuracy: 0.7655 - val_loss: 0.5582 - val_accuracy: 0.7454\n",
      "Epoch 8/100\n",
      "313/313 [==============================] - 4s 14ms/step - loss: 0.5368 - accuracy: 0.7734 - val_loss: 0.5440 - val_accuracy: 0.7614\n",
      "Epoch 9/100\n",
      "313/313 [==============================] - 4s 14ms/step - loss: 0.5206 - accuracy: 0.7825 - val_loss: 0.5295 - val_accuracy: 0.7664\n",
      "Epoch 10/100\n",
      "313/313 [==============================] - 4s 14ms/step - loss: 0.5065 - accuracy: 0.7873 - val_loss: 0.5203 - val_accuracy: 0.7686\n",
      "Epoch 11/100\n",
      "313/313 [==============================] - 4s 14ms/step - loss: 0.4938 - accuracy: 0.7944 - val_loss: 0.5108 - val_accuracy: 0.7718\n",
      "Epoch 12/100\n",
      "313/313 [==============================] - 5s 14ms/step - loss: 0.4822 - accuracy: 0.7997 - val_loss: 0.5038 - val_accuracy: 0.7712\n",
      "Epoch 13/100\n",
      "313/313 [==============================] - 6s 18ms/step - loss: 0.4724 - accuracy: 0.8025 - val_loss: 0.4946 - val_accuracy: 0.7760\n",
      "Epoch 14/100\n",
      "313/313 [==============================] - 5s 14ms/step - loss: 0.4635 - accuracy: 0.8048 - val_loss: 0.4898 - val_accuracy: 0.7756\n",
      "Epoch 15/100\n",
      "313/313 [==============================] - 4s 14ms/step - loss: 0.4557 - accuracy: 0.8078 - val_loss: 0.4834 - val_accuracy: 0.7808\n",
      "Epoch 16/100\n",
      "313/313 [==============================] - 4s 14ms/step - loss: 0.4491 - accuracy: 0.8113 - val_loss: 0.4792 - val_accuracy: 0.7808\n",
      "Epoch 17/100\n",
      "313/313 [==============================] - 4s 14ms/step - loss: 0.4428 - accuracy: 0.8123 - val_loss: 0.4763 - val_accuracy: 0.7812\n",
      "Epoch 18/100\n",
      "313/313 [==============================] - 4s 14ms/step - loss: 0.4370 - accuracy: 0.8155 - val_loss: 0.4746 - val_accuracy: 0.7802\n",
      "Epoch 19/100\n",
      "313/313 [==============================] - 5s 14ms/step - loss: 0.4329 - accuracy: 0.8185 - val_loss: 0.4740 - val_accuracy: 0.7824\n",
      "Epoch 20/100\n",
      "313/313 [==============================] - 4s 14ms/step - loss: 0.4280 - accuracy: 0.8181 - val_loss: 0.4770 - val_accuracy: 0.7782\n",
      "Epoch 21/100\n",
      "313/313 [==============================] - 4s 14ms/step - loss: 0.4246 - accuracy: 0.8189 - val_loss: 0.4703 - val_accuracy: 0.7822\n",
      "Epoch 22/100\n",
      "313/313 [==============================] - 4s 14ms/step - loss: 0.4209 - accuracy: 0.8208 - val_loss: 0.4701 - val_accuracy: 0.7824\n",
      "Epoch 23/100\n",
      "313/313 [==============================] - 4s 14ms/step - loss: 0.4176 - accuracy: 0.8223 - val_loss: 0.4723 - val_accuracy: 0.7830\n",
      "Epoch 24/100\n",
      "313/313 [==============================] - 4s 14ms/step - loss: 0.4144 - accuracy: 0.8239 - val_loss: 0.4701 - val_accuracy: 0.7806\n",
      "Epoch 25/100\n",
      "313/313 [==============================] - 4s 14ms/step - loss: 0.4116 - accuracy: 0.8237 - val_loss: 0.4729 - val_accuracy: 0.7806\n",
      "Epoch 26/100\n",
      "313/313 [==============================] - 4s 14ms/step - loss: 0.4088 - accuracy: 0.8253 - val_loss: 0.4692 - val_accuracy: 0.7836\n",
      "Epoch 27/100\n",
      "313/313 [==============================] - 4s 14ms/step - loss: 0.4061 - accuracy: 0.8266 - val_loss: 0.4691 - val_accuracy: 0.7812\n",
      "Epoch 28/100\n",
      "313/313 [==============================] - 4s 14ms/step - loss: 0.4034 - accuracy: 0.8278 - val_loss: 0.4683 - val_accuracy: 0.7832\n",
      "Epoch 29/100\n",
      "313/313 [==============================] - 4s 14ms/step - loss: 0.4009 - accuracy: 0.8289 - val_loss: 0.4703 - val_accuracy: 0.7832\n",
      "Epoch 30/100\n",
      "313/313 [==============================] - 4s 14ms/step - loss: 0.3990 - accuracy: 0.8295 - val_loss: 0.4694 - val_accuracy: 0.7828\n",
      "Epoch 31/100\n",
      "313/313 [==============================] - 4s 14ms/step - loss: 0.3965 - accuracy: 0.8313 - val_loss: 0.4710 - val_accuracy: 0.7842\n"
     ]
    },
    {
     "data": {
      "image/png": "[encoded data removed]",
      "text/plain": [
       "<Figure size 720x576 with 1 Axes>"
      ]
     },
     "metadata": {
      "needs_background": "light"
     },
     "output_type": "display_data"
    }
   ],
   "source": [
    "# 단어 임베딩 사용하기 : 원-핫 인코딩된 벡터보다 훨씬 의미있는 값으로 채워져 있기 때문에 자연어 처리에서 더 좋은 성능을 내는 경우가 많음\n",
    "\n",
    "model2 = keras.Sequential()\n",
    "model2.add(keras.layers.Embedding(500, 16, input_length=100))\n",
    "model2.add(keras.layers.SimpleRNN(8))\n",
    "model2.add(keras.layers.Dense(1, activation='sigmoid'))\n",
    "model2.summary()\n",
    "\n",
    "rmsprop = keras.optimizers.RMSprop(learning_rate=1e-4)\n",
    "model2.compile(optimizer=rmsprop, loss='binary_crossentropy', metrics=['accuracy'])\n",
    "checkpoint_cb = keras.callbacks.ModelCheckpoint('best-embedding-model.h5', save_best_only=True)\n",
    "early_stopping_cb = keras.callbacks.EarlyStopping(patience=3, restore_best_weights=True)\n",
    "history = model2.fit(x_train_pad, y_train, epochs=100, batch_size=64, validation_data=(x_val_pad, y_val), callbacks=[checkpoint_cb, early_stopping_cb])\n",
    "\n",
    "plt.figure(figsize = (10, 8))\n",
    "plt.plot(history.history['loss'])\n",
    "plt.plot(history.history['val_loss'])\n",
    "plt.xlabel('epoch')\n",
    "plt.ylabel('loss')\n",
    "plt.legend(['Training_loss', 'Validation_loss'])\n",
    "plt.grid(True)\n",
    "plt.show()"
   ]
  },
  {
   "cell_type": "markdown",
   "metadata": {
    "id": "14PW-5tp17jF"
   },
   "source": [
    "# 2. Project_Sentiment_Analysis\n",
    "\n",
    "네이버 영화리뷰 감성분석"
   ]
  },
  {
   "cell_type": "markdown",
   "metadata": {
    "id": "et2NDMbl5POT"
   },
   "source": [
    "### 1) 데이터 준비와 확인"
   ]
  },
  {
   "cell_type": "code",
   "execution_count": 12,
   "metadata": {
    "colab": {
     "base_uri": "https://localhost:8080/",
     "height": 204
    },
    "id": "2kpBzzu1umRQ",
    "outputId": "f5319209-71b8-43ad-ce0d-54931841816d"
   },
   "outputs": [
    {
     "data": {
      "text/html": [
       "\n",
       "  <div id=\"df-6fb06fcf-665a-48ad-a985-dee5738d7df5\">\n",
       "    <div class=\"colab-df-container\">\n",
       "      <div>\n",
       "<style scoped>\n",
       "    .dataframe tbody tr th:only-of-type {\n",
       "        vertical-align: middle;\n",
       "    }\n",
       "\n",
       "    .dataframe tbody tr th {\n",
       "        vertical-align: top;\n",
       "    }\n",
       "\n",
       "    .dataframe thead th {\n",
       "        text-align: right;\n",
       "    }\n",
       "</style>\n",
       "<table border=\"1\" class=\"dataframe\">\n",
       "  <thead>\n",
       "    <tr style=\"text-align: right;\">\n",
       "      <th></th>\n",
       "      <th>id</th>\n",
       "      <th>document</th>\n",
       "      <th>label</th>\n",
       "    </tr>\n",
       "  </thead>\n",
       "  <tbody>\n",
       "    <tr>\n",
       "      <th>0</th>\n",
       "      <td>9976970</td>\n",
       "      <td>아 더빙.. 진짜 짜증나네요 목소리</td>\n",
       "      <td>0</td>\n",
       "    </tr>\n",
       "    <tr>\n",
       "      <th>1</th>\n",
       "      <td>3819312</td>\n",
       "      <td>흠...포스터보고 초딩영화줄....오버연기조차 가볍지 않구나</td>\n",
       "      <td>1</td>\n",
       "    </tr>\n",
       "    <tr>\n",
       "      <th>2</th>\n",
       "      <td>10265843</td>\n",
       "      <td>너무재밓었다그래서보는것을추천한다</td>\n",
       "      <td>0</td>\n",
       "    </tr>\n",
       "    <tr>\n",
       "      <th>3</th>\n",
       "      <td>9045019</td>\n",
       "      <td>교도소 이야기구먼 ..솔직히 재미는 없다..평점 조정</td>\n",
       "      <td>0</td>\n",
       "    </tr>\n",
       "    <tr>\n",
       "      <th>4</th>\n",
       "      <td>6483659</td>\n",
       "      <td>사이몬페그의 익살스런 연기가 돋보였던 영화!스파이더맨에서 늙어보이기만 했던 커스틴 ...</td>\n",
       "      <td>1</td>\n",
       "    </tr>\n",
       "  </tbody>\n",
       "</table>\n",
       "</div>\n",
       "      <button class=\"colab-df-convert\" onclick=\"convertToInteractive('df-6fb06fcf-665a-48ad-a985-dee5738d7df5')\"\n",
       "              title=\"Convert this dataframe to an interactive table.\"\n",
       "              style=\"display:none;\">\n",
       "        \n",
       "  <svg xmlns=\"http://www.w3.org/2000/svg\" height=\"24px\"viewBox=\"0 0 24 24\"\n",
       "       width=\"24px\">\n",
       "    <path d=\"M0 0h24v24H0V0z\" fill=\"none\"/>\n",
       "    <path d=\"M18.56 5.44l.94 2.06.94-2.06 2.06-.94-2.06-.94-.94-2.06-.94 2.06-2.06.94zm-11 1L8.5 8.5l.94-2.06 2.06-.94-2.06-.94L8.5 2.5l-.94 2.06-2.06.94zm10 10l.94 2.06.94-2.06 2.06-.94-2.06-.94-.94-2.06-.94 2.06-2.06.94z\"/><path d=\"M17.41 7.96l-1.37-1.37c-.4-.4-.92-.59-1.43-.59-.52 0-1.04.2-1.43.59L10.3 9.45l-7.72 7.72c-.78.78-.78 2.05 0 2.83L4 21.41c.39.39.9.59 1.41.59.51 0 1.02-.2 1.41-.59l7.78-7.78 2.81-2.81c.8-.78.8-2.07 0-2.86zM5.41 20L4 18.59l7.72-7.72 1.47 1.35L5.41 20z\"/>\n",
       "  </svg>\n",
       "      </button>\n",
       "      \n",
       "  <style>\n",
       "    .colab-df-container {\n",
       "      display:flex;\n",
       "      flex-wrap:wrap;\n",
       "      gap: 12px;\n",
       "    }\n",
       "\n",
       "    .colab-df-convert {\n",
       "      background-color: #E8F0FE;\n",
       "      border: none;\n",
       "      border-radius: 50%;\n",
       "      cursor: pointer;\n",
       "      display: none;\n",
       "      fill: #1967D2;\n",
       "      height: 32px;\n",
       "      padding: 0 0 0 0;\n",
       "      width: 32px;\n",
       "    }\n",
       "\n",
       "    .colab-df-convert:hover {\n",
       "      background-color: #E2EBFA;\n",
       "      box-shadow: 0px 1px 2px rgba(60, 64, 67, 0.3), 0px 1px 3px 1px rgba(60, 64, 67, 0.15);\n",
       "      fill: #174EA6;\n",
       "    }\n",
       "\n",
       "    [theme=dark] .colab-df-convert {\n",
       "      background-color: #3B4455;\n",
       "      fill: #D2E3FC;\n",
       "    }\n",
       "\n",
       "    [theme=dark] .colab-df-convert:hover {\n",
       "      background-color: #434B5C;\n",
       "      box-shadow: 0px 1px 3px 1px rgba(0, 0, 0, 0.15);\n",
       "      filter: drop-shadow(0px 1px 2px rgba(0, 0, 0, 0.3));\n",
       "      fill: #FFFFFF;\n",
       "    }\n",
       "  </style>\n",
       "\n",
       "      <script>\n",
       "        const buttonEl =\n",
       "          document.querySelector('#df-6fb06fcf-665a-48ad-a985-dee5738d7df5 button.colab-df-convert');\n",
       "        buttonEl.style.display =\n",
       "          google.colab.kernel.accessAllowed ? 'block' : 'none';\n",
       "\n",
       "        async function convertToInteractive(key) {\n",
       "          const element = document.querySelector('#df-6fb06fcf-665a-48ad-a985-dee5738d7df5');\n",
       "          const dataTable =\n",
       "            await google.colab.kernel.invokeFunction('convertToInteractive',\n",
       "                                                     [key], {});\n",
       "          if (!dataTable) return;\n",
       "\n",
       "          const docLinkHtml = 'Like what you see? Visit the ' +\n",
       "            '<a target=\"_blank\" href=https://colab.research.google.com/notebooks/data_table.ipynb>data table notebook</a>'\n",
       "            + ' to learn more about interactive tables.';\n",
       "          element.innerHTML = '';\n",
       "          dataTable['output_type'] = 'display_data';\n",
       "          await google.colab.output.renderOutput(dataTable, element);\n",
       "          const docLink = document.createElement('div');\n",
       "          docLink.innerHTML = docLinkHtml;\n",
       "          element.appendChild(docLink);\n",
       "        }\n",
       "      </script>\n",
       "    </div>\n",
       "  </div>\n",
       "  "
      ],
      "text/plain": [
       "         id                                           document  label\n",
       "0   9976970                                아 더빙.. 진짜 짜증나네요 목소리      0\n",
       "1   3819312                  흠...포스터보고 초딩영화줄....오버연기조차 가볍지 않구나      1\n",
       "2  10265843                                  너무재밓었다그래서보는것을추천한다      0\n",
       "3   9045019                      교도소 이야기구먼 ..솔직히 재미는 없다..평점 조정      0\n",
       "4   6483659  사이몬페그의 익살스런 연기가 돋보였던 영화!스파이더맨에서 늙어보이기만 했던 커스틴 ...      1"
      ]
     },
     "execution_count": 12,
     "metadata": {},
     "output_type": "execute_result"
    }
   ],
   "source": [
    "train_data = pd.read_table('/content/drive/MyDrive/sentiment_classification/data/ratings_train.txt')\n",
    "test_data = pd.read_table('/content/drive/MyDrive/sentiment_classification/data/ratings_test.txt')\n",
    "\n",
    "train_data.head(5)"
   ]
  },
  {
   "cell_type": "code",
   "execution_count": 13,
   "metadata": {
    "colab": {
     "base_uri": "https://localhost:8080/",
     "height": 204
    },
    "id": "H6tlQxukumTl",
    "outputId": "05cc3009-4787-4bb2-92ca-05e3d5250dae"
   },
   "outputs": [
    {
     "data": {
      "text/html": [
       "\n",
       "  <div id=\"df-8da5f404-b1fd-4503-93c2-dd77753966c0\">\n",
       "    <div class=\"colab-df-container\">\n",
       "      <div>\n",
       "<style scoped>\n",
       "    .dataframe tbody tr th:only-of-type {\n",
       "        vertical-align: middle;\n",
       "    }\n",
       "\n",
       "    .dataframe tbody tr th {\n",
       "        vertical-align: top;\n",
       "    }\n",
       "\n",
       "    .dataframe thead th {\n",
       "        text-align: right;\n",
       "    }\n",
       "</style>\n",
       "<table border=\"1\" class=\"dataframe\">\n",
       "  <thead>\n",
       "    <tr style=\"text-align: right;\">\n",
       "      <th></th>\n",
       "      <th>id</th>\n",
       "      <th>document</th>\n",
       "      <th>label</th>\n",
       "    </tr>\n",
       "  </thead>\n",
       "  <tbody>\n",
       "    <tr>\n",
       "      <th>0</th>\n",
       "      <td>6270596</td>\n",
       "      <td>굳 ㅋ</td>\n",
       "      <td>1</td>\n",
       "    </tr>\n",
       "    <tr>\n",
       "      <th>1</th>\n",
       "      <td>9274899</td>\n",
       "      <td>GDNTOPCLASSINTHECLUB</td>\n",
       "      <td>0</td>\n",
       "    </tr>\n",
       "    <tr>\n",
       "      <th>2</th>\n",
       "      <td>8544678</td>\n",
       "      <td>뭐야 이 평점들은.... 나쁘진 않지만 10점 짜리는 더더욱 아니잖아</td>\n",
       "      <td>0</td>\n",
       "    </tr>\n",
       "    <tr>\n",
       "      <th>3</th>\n",
       "      <td>6825595</td>\n",
       "      <td>지루하지는 않은데 완전 막장임... 돈주고 보기에는....</td>\n",
       "      <td>0</td>\n",
       "    </tr>\n",
       "    <tr>\n",
       "      <th>4</th>\n",
       "      <td>6723715</td>\n",
       "      <td>3D만 아니었어도 별 다섯 개 줬을텐데.. 왜 3D로 나와서 제 심기를 불편하게 하죠??</td>\n",
       "      <td>0</td>\n",
       "    </tr>\n",
       "  </tbody>\n",
       "</table>\n",
       "</div>\n",
       "      <button class=\"colab-df-convert\" onclick=\"convertToInteractive('df-8da5f404-b1fd-4503-93c2-dd77753966c0')\"\n",
       "              title=\"Convert this dataframe to an interactive table.\"\n",
       "              style=\"display:none;\">\n",
       "        \n",
       "  <svg xmlns=\"http://www.w3.org/2000/svg\" height=\"24px\"viewBox=\"0 0 24 24\"\n",
       "       width=\"24px\">\n",
       "    <path d=\"M0 0h24v24H0V0z\" fill=\"none\"/>\n",
       "    <path d=\"M18.56 5.44l.94 2.06.94-2.06 2.06-.94-2.06-.94-.94-2.06-.94 2.06-2.06.94zm-11 1L8.5 8.5l.94-2.06 2.06-.94-2.06-.94L8.5 2.5l-.94 2.06-2.06.94zm10 10l.94 2.06.94-2.06 2.06-.94-2.06-.94-.94-2.06-.94 2.06-2.06.94z\"/><path d=\"M17.41 7.96l-1.37-1.37c-.4-.4-.92-.59-1.43-.59-.52 0-1.04.2-1.43.59L10.3 9.45l-7.72 7.72c-.78.78-.78 2.05 0 2.83L4 21.41c.39.39.9.59 1.41.59.51 0 1.02-.2 1.41-.59l7.78-7.78 2.81-2.81c.8-.78.8-2.07 0-2.86zM5.41 20L4 18.59l7.72-7.72 1.47 1.35L5.41 20z\"/>\n",
       "  </svg>\n",
       "      </button>\n",
       "      \n",
       "  <style>\n",
       "    .colab-df-container {\n",
       "      display:flex;\n",
       "      flex-wrap:wrap;\n",
       "      gap: 12px;\n",
       "    }\n",
       "\n",
       "    .colab-df-convert {\n",
       "      background-color: #E8F0FE;\n",
       "      border: none;\n",
       "      border-radius: 50%;\n",
       "      cursor: pointer;\n",
       "      display: none;\n",
       "      fill: #1967D2;\n",
       "      height: 32px;\n",
       "      padding: 0 0 0 0;\n",
       "      width: 32px;\n",
       "    }\n",
       "\n",
       "    .colab-df-convert:hover {\n",
       "      background-color: #E2EBFA;\n",
       "      box-shadow: 0px 1px 2px rgba(60, 64, 67, 0.3), 0px 1px 3px 1px rgba(60, 64, 67, 0.15);\n",
       "      fill: #174EA6;\n",
       "    }\n",
       "\n",
       "    [theme=dark] .colab-df-convert {\n",
       "      background-color: #3B4455;\n",
       "      fill: #D2E3FC;\n",
       "    }\n",
       "\n",
       "    [theme=dark] .colab-df-convert:hover {\n",
       "      background-color: #434B5C;\n",
       "      box-shadow: 0px 1px 3px 1px rgba(0, 0, 0, 0.15);\n",
       "      filter: drop-shadow(0px 1px 2px rgba(0, 0, 0, 0.3));\n",
       "      fill: #FFFFFF;\n",
       "    }\n",
       "  </style>\n",
       "\n",
       "      <script>\n",
       "        const buttonEl =\n",
       "          document.querySelector('#df-8da5f404-b1fd-4503-93c2-dd77753966c0 button.colab-df-convert');\n",
       "        buttonEl.style.display =\n",
       "          google.colab.kernel.accessAllowed ? 'block' : 'none';\n",
       "\n",
       "        async function convertToInteractive(key) {\n",
       "          const element = document.querySelector('#df-8da5f404-b1fd-4503-93c2-dd77753966c0');\n",
       "          const dataTable =\n",
       "            await google.colab.kernel.invokeFunction('convertToInteractive',\n",
       "                                                     [key], {});\n",
       "          if (!dataTable) return;\n",
       "\n",
       "          const docLinkHtml = 'Like what you see? Visit the ' +\n",
       "            '<a target=\"_blank\" href=https://colab.research.google.com/notebooks/data_table.ipynb>data table notebook</a>'\n",
       "            + ' to learn more about interactive tables.';\n",
       "          element.innerHTML = '';\n",
       "          dataTable['output_type'] = 'display_data';\n",
       "          await google.colab.output.renderOutput(dataTable, element);\n",
       "          const docLink = document.createElement('div');\n",
       "          docLink.innerHTML = docLinkHtml;\n",
       "          element.appendChild(docLink);\n",
       "        }\n",
       "      </script>\n",
       "    </div>\n",
       "  </div>\n",
       "  "
      ],
      "text/plain": [
       "        id                                           document  label\n",
       "0  6270596                                                굳 ㅋ      1\n",
       "1  9274899                               GDNTOPCLASSINTHECLUB      0\n",
       "2  8544678             뭐야 이 평점들은.... 나쁘진 않지만 10점 짜리는 더더욱 아니잖아      0\n",
       "3  6825595                   지루하지는 않은데 완전 막장임... 돈주고 보기에는....      0\n",
       "4  6723715  3D만 아니었어도 별 다섯 개 줬을텐데.. 왜 3D로 나와서 제 심기를 불편하게 하죠??      0"
      ]
     },
     "execution_count": 13,
     "metadata": {},
     "output_type": "execute_result"
    }
   ],
   "source": [
    "test_data.head(5)"
   ]
  },
  {
   "cell_type": "markdown",
   "metadata": {
    "id": "TatBfWeSGeaO"
   },
   "source": [
    "### 2) 데이터로더 구성"
   ]
  },
  {
   "cell_type": "markdown",
   "metadata": {
    "id": "yEkzQvB56SIl"
   },
   "source": [
    "- NaN 결측치 제거\n",
    "- 데이터의 중복 제거\n",
    "- 한국어 토크나이저로 토큰화\n",
    "- 불용어(Stopwords) 제거\n",
    "- 사전word_to_index 구성\n",
    "- 텍스트 스트링을 사전 인덱스 스트링으로 변환"
   ]
  },
  {
   "cell_type": "code",
   "execution_count": 24,
   "metadata": {
    "id": "hlEC0vd05UI4"
   },
   "outputs": [],
   "source": [
    "tokenizer = Mecab()\n",
    "stopwords = ['의','가','이','은','들','는','좀','잘','걍','과','도','를','으로','자','에','와','한','하다']\n",
    "\n",
    "def load_data(train_data, test_data, num_words=10000):\n",
    "    train_data.drop_duplicates(subset=['document'], inplace=True)  # 데이터 중복 제거\n",
    "    train_data = train_data.dropna(how = 'any')                    # NaN 결측치 제거\n",
    "    test_data.drop_duplicates(subset=['document'], inplace=True)  \n",
    "    test_data = test_data.dropna(how = 'any') \n",
    "    \n",
    "    X_train = []\n",
    "    for sentence in train_data['document']:\n",
    "        temp_X = tokenizer.morphs(sentence)  # 토큰화\n",
    "        temp_X = [word for word in temp_X if not word in stopwords]  # 불용어 제거\n",
    "        X_train.append(temp_X)\n",
    "\n",
    "    x_test = []\n",
    "    for sentence in test_data['document']:\n",
    "        temp_X = tokenizer.morphs(sentence)\n",
    "        temp_X = [word for word in temp_X if not word in stopwords]\n",
    "        x_test.append(temp_X)\n",
    "    \n",
    "    words = np.concatenate(X_train).tolist()\n",
    "    counter = Counter(words)\n",
    "    counter = counter.most_common(10000-4)\n",
    "    vocab = ['', '', '', ''] + [key for key, _ in counter]\n",
    "    word_to_index = {word:index for index, word in enumerate(vocab)}\n",
    "        \n",
    "    def wordlist_to_indexlist(wordlist):  # word_to_index\n",
    "        return [word_to_index[word] if word in word_to_index else word_to_index[''] for word in wordlist]\n",
    "        \n",
    "    X_train = list(map(wordlist_to_indexlist, X_train))\n",
    "    x_test = list(map(wordlist_to_indexlist, x_test))\n",
    "        \n",
    "    return X_train, np.array(list(train_data['label'])), x_test, np.array(list(test_data['label'])), word_to_index\n",
    "    \n",
    "X_train, Y_train, x_test, y_test, word_to_index = load_data(train_data, test_data) "
   ]
  },
  {
   "cell_type": "code",
   "execution_count": 25,
   "metadata": {
    "colab": {
     "base_uri": "https://localhost:8080/"
    },
    "id": "y_MB7oSU5ULn",
    "outputId": "ec7f8625-d1fa-4d2e-dfea-f02e637a90a6"
   },
   "outputs": [
    {
     "name": "stdout",
     "output_type": "stream",
     "text": [
      "<BOS>\n",
      "5\n",
      "영화\n"
     ]
    }
   ],
   "source": [
    "# index_to_word\n",
    "\n",
    "word_to_index[\"<PAD>\"] = 0\n",
    "word_to_index[\"<BOS>\"] = 1\n",
    "word_to_index[\"<UNK>\"] = 2     # unknown\n",
    "word_to_index[\"<UNUSED>\"] = 3\n",
    "\n",
    "index_to_word = {index:word for word, index in word_to_index.items()}\n",
    "\n",
    "print(index_to_word[1])     # '<BOS>' 가 출력\n",
    "print(word_to_index['영화']) # 5 가 출력\n",
    "print(index_to_word[5])     # '영화' 가 출력"
   ]
  },
  {
   "cell_type": "code",
   "execution_count": 26,
   "metadata": {
    "id": "7D4e01B__2xd"
   },
   "outputs": [],
   "source": [
    "# 문장 1개를 활용할 딕셔너리와 함께 주면, 단어 인덱스 리스트 벡터로 변환해 주는 함수\n",
    "# 단, 모든 문장은 <BOS>로 시작\n",
    "def get_encoded_sentence(sentence, word_to_index):\n",
    "    return [word_to_index['<BOS>']]+[word_to_index[word] if word in word_to_index else word_to_index['<UNK>'] for word in sentence.split()]\n",
    "\n",
    "# 여러 개의 문장 리스트를 한꺼번에 단어 인덱스 리스트 벡터로 encode해 주는 함수\n",
    "def get_encoded_sentences(sentences, word_to_index):\n",
    "    return [get_encoded_sentence(sentence, word_to_index) for sentence in sentences]\n",
    "\n",
    "# 숫자 벡터로 encode된 문장을 원래대로 decode하는 함수\n",
    "def get_decoded_sentence(encoded_sentence, index_to_word):\n",
    "    return ' '.join(index_to_word[index] if index in index_to_word else '<UNK>' for index in encoded_sentence[1:])  #[1:]를 통해 <BOS>를 제외\n",
    "\n",
    "# 여러 개의 숫자 벡터로 encode된 문장을 한꺼번에 원래대로 decode하는 함수\n",
    "def get_decoded_sentences(encoded_sentences, index_to_word):\n",
    "    return [get_decoded_sentence(encoded_sentence, index_to_word) for encoded_sentence in encoded_sentences]"
   ]
  },
  {
   "cell_type": "markdown",
   "metadata": {
    "id": "TAo07Iw32dtA"
   },
   "source": [
    "### 3) 모델 구성을 위한 데이터 분석 및 가공"
   ]
  },
  {
   "cell_type": "code",
   "execution_count": 28,
   "metadata": {
    "colab": {
     "base_uri": "https://localhost:8080/"
    },
    "id": "f20kefo395H2",
    "outputId": "7172a720-0eaa-4edd-82a7-d939886f2d3a"
   },
   "outputs": [
    {
     "name": "stdout",
     "output_type": "stream",
     "text": [
      "[32, 74, 919, 4, 4, 39, 228, 20, 33, 748]\n",
      "라벨:  0\n"
     ]
    }
   ],
   "source": [
    "print(X_train[0])           # 1번째 리뷰 데이터\n",
    "print('라벨: ', Y_train[0])  # 1번째 리뷰 데이터의 라벨"
   ]
  },
  {
   "cell_type": "code",
   "execution_count": 29,
   "metadata": {
    "colab": {
     "base_uri": "https://localhost:8080/"
    },
    "id": "Q7zRSUu3L6hD",
    "outputId": "4f110ddf-f09d-4ef9-f19e-b30e8e107d16"
   },
   "outputs": [
    {
     "name": "stdout",
     "output_type": "stream",
     "text": [
      "더 빙 . . 진짜 짜증 나 네요 목소리\n",
      "라벨:  0\n"
     ]
    }
   ],
   "source": [
    "print(get_decoded_sentence(X_train[0], index_to_word))\n",
    "print('라벨: ', Y_train[0])  # 1번째 리뷰데이터의 라벨"
   ]
  },
  {
   "cell_type": "code",
   "execution_count": 30,
   "metadata": {
    "colab": {
     "base_uri": "https://localhost:8080/"
    },
    "id": "w8Sy2kWlL6kO",
    "outputId": "b329de14-fb64-469a-88ff-f5c2cad6687a"
   },
   "outputs": [
    {
     "name": "stdout",
     "output_type": "stream",
     "text": [
      "문장길이 평균 :  15.96938143432699 2\n",
      "문장길이 최대 :  116\n",
      "문장길이 표준편차 :  12.843571939469296\n",
      "pad_sequences maxlen :  41\n",
      "전체 문장의 0.9342988343341575%가 maxlen 설정값 이내에 포함된다. \n"
     ]
    }
   ],
   "source": [
    "total_data_text = list(X_train) + list(x_test)\n",
    "\n",
    "# 텍스트데이터 문장길이의 리스트를 생성한 후\n",
    "num_tokens = [len(tokens) for tokens in total_data_text]\n",
    "num_tokens = np.array(num_tokens)\n",
    "\n",
    "# 문장길이의 평균값, 최대값, 표준편차를 계산\n",
    "print('문장길이 평균 : ', np.mean(num_tokens), 2)\n",
    "print('문장길이 최대 : ', np.max(num_tokens))\n",
    "print('문장길이 표준편차 : ', np.std(num_tokens))\n",
    "\n",
    "# 예를들어, 최대 길이를 (평균 + 2*표준편차)로 한다면,  \n",
    "max_tokens = np.mean(num_tokens) + 2 * np.std(num_tokens)\n",
    "maxlen = int(max_tokens)\n",
    "print('pad_sequences maxlen : ', maxlen)\n",
    "print('전체 문장의 {}%가 maxlen 설정값 이내에 포함된다. '.format(np.sum(num_tokens < max_tokens) / len(num_tokens)))"
   ]
  },
  {
   "cell_type": "code",
   "execution_count": 31,
   "metadata": {
    "colab": {
     "base_uri": "https://localhost:8080/"
    },
    "id": "Gro6JqoAL6nJ",
    "outputId": "f376820d-8997-4a3a-e532-e1454be39fd6"
   },
   "outputs": [
    {
     "name": "stdout",
     "output_type": "stream",
     "text": [
      "(146182, 41) (49157, 41)\n"
     ]
    }
   ],
   "source": [
    "X_train = tf.keras.preprocessing.sequence.pad_sequences(X_train, value=word_to_index[\"<PAD>\"], padding='pre', maxlen=maxlen)\n",
    "x_test = tf.keras.preprocessing.sequence.pad_sequences(x_test, value=word_to_index[\"<PAD>\"], padding='pre', maxlen=maxlen)\n",
    "\n",
    "print(X_train.shape, x_test.shape)"
   ]
  },
  {
   "cell_type": "markdown",
   "metadata": {
    "id": "VXJeMBbkxgnp"
   },
   "source": [
    "### * RNN에서 padding 시 'pre' vs 'post' \n",
    "\n",
    "[1] https://biology-statistics-programming.tistory.com/42"
   ]
  },
  {
   "cell_type": "markdown",
   "metadata": {
    "id": "UG8vo0-l2gwU"
   },
   "source": [
    "### 4) 모델 구성 및 validation set 구성\n"
   ]
  },
  {
   "cell_type": "code",
   "execution_count": 33,
   "metadata": {
    "colab": {
     "base_uri": "https://localhost:8080/"
    },
    "id": "CwsW2Kd6B7Jr",
    "outputId": "7b46928f-6462-49c4-8cee-41d39fe98ccb"
   },
   "outputs": [
    {
     "name": "stdout",
     "output_type": "stream",
     "text": [
      "Model: \"sequential_2\"\n",
      "_________________________________________________________________\n",
      " Layer (type)                Output Shape              Param #   \n",
      "=================================================================\n",
      " embedding_1 (Embedding)     (None, None, 16)          160000    \n",
      "                                                                 \n",
      " lstm (LSTM)                 (None, 8)                 800       \n",
      "                                                                 \n",
      " dense_2 (Dense)             (None, 1)                 9         \n",
      "                                                                 \n",
      "=================================================================\n",
      "Total params: 160,809\n",
      "Trainable params: 160,809\n",
      "Non-trainable params: 0\n",
      "_________________________________________________________________\n"
     ]
    }
   ],
   "source": [
    "vocab_size = 10000    # 어휘 사전의 크기 (10,000개의 단어)\n",
    "word_vector_dim = 16  # 워드 벡터의 차원 수 (변경 가능한 하이퍼파라미터)\n",
    "\n",
    "# Model 설계\n",
    "model3 = tf.keras.Sequential()\n",
    "model3.add(tf.keras.layers.Embedding(vocab_size, word_vector_dim, input_shape=(None,)))\n",
    "model3.add(keras.layers.LSTM(8))\n",
    "model3.add(keras.layers.Dense(1, activation='sigmoid'))\n",
    "\n",
    "model3.summary()"
   ]
  },
  {
   "cell_type": "code",
   "execution_count": 34,
   "metadata": {
    "colab": {
     "base_uri": "https://localhost:8080/"
    },
    "id": "Qp8UXwcM2jNo",
    "outputId": "52c63453-37c1-4cae-dc0d-e15eef8ec705"
   },
   "outputs": [
    {
     "name": "stdout",
     "output_type": "stream",
     "text": [
      "(116945, 41)\n",
      "(29237, 41)\n",
      "\n",
      "(116945,)\n",
      "(29237,)\n"
     ]
    }
   ],
   "source": [
    "x_train, x_val, y_train, y_val = train_test_split(X_train, Y_train, test_size=0.2, random_state=42)\n",
    "\n",
    "print(x_train.shape)\n",
    "print(x_val.shape)\n",
    "print()\n",
    "print(y_train.shape)\n",
    "print(y_val.shape)"
   ]
  },
  {
   "cell_type": "markdown",
   "metadata": {
    "id": "Awf6mr8V2jcd"
   },
   "source": [
    "### 5) 모델 훈련"
   ]
  },
  {
   "cell_type": "code",
   "execution_count": 35,
   "metadata": {
    "colab": {
     "base_uri": "https://localhost:8080/"
    },
    "id": "skJQYT4d2l5b",
    "outputId": "c4b53974-97f9-4889-e324-745985373286"
   },
   "outputs": [
    {
     "name": "stdout",
     "output_type": "stream",
     "text": [
      "Epoch 1/20\n",
      "229/229 [==============================] - 7s 25ms/step - loss: 0.5219 - accuracy: 0.7691 - val_loss: 0.4017 - val_accuracy: 0.8358\n",
      "Epoch 2/20\n",
      "229/229 [==============================] - 5s 23ms/step - loss: 0.3652 - accuracy: 0.8477 - val_loss: 0.3657 - val_accuracy: 0.8469\n",
      "Epoch 3/20\n",
      "229/229 [==============================] - 5s 22ms/step - loss: 0.3294 - accuracy: 0.8642 - val_loss: 0.3571 - val_accuracy: 0.8488\n",
      "Epoch 4/20\n",
      "229/229 [==============================] - 5s 22ms/step - loss: 0.3108 - accuracy: 0.8736 - val_loss: 0.3556 - val_accuracy: 0.8489\n",
      "Epoch 5/20\n",
      "229/229 [==============================] - 6s 27ms/step - loss: 0.2985 - accuracy: 0.8789 - val_loss: 0.3558 - val_accuracy: 0.8492\n",
      "Epoch 6/20\n",
      "229/229 [==============================] - 5s 22ms/step - loss: 0.2884 - accuracy: 0.8850 - val_loss: 0.3572 - val_accuracy: 0.8484\n",
      "Epoch 7/20\n",
      "229/229 [==============================] - 5s 23ms/step - loss: 0.2790 - accuracy: 0.8890 - val_loss: 0.3603 - val_accuracy: 0.8485\n",
      "Epoch 8/20\n",
      "229/229 [==============================] - 5s 22ms/step - loss: 0.2702 - accuracy: 0.8935 - val_loss: 0.3639 - val_accuracy: 0.8488\n",
      "Epoch 9/20\n",
      "229/229 [==============================] - 5s 23ms/step - loss: 0.2611 - accuracy: 0.8977 - val_loss: 0.3705 - val_accuracy: 0.8473\n",
      "Epoch 10/20\n",
      "229/229 [==============================] - 5s 23ms/step - loss: 0.2544 - accuracy: 0.9010 - val_loss: 0.3791 - val_accuracy: 0.8450\n",
      "Epoch 11/20\n",
      "229/229 [==============================] - 5s 22ms/step - loss: 0.2471 - accuracy: 0.9046 - val_loss: 0.3772 - val_accuracy: 0.8461\n",
      "Epoch 12/20\n",
      "229/229 [==============================] - 5s 23ms/step - loss: 0.2396 - accuracy: 0.9091 - val_loss: 0.3835 - val_accuracy: 0.8453\n",
      "Epoch 13/20\n",
      "229/229 [==============================] - 7s 31ms/step - loss: 0.2335 - accuracy: 0.9112 - val_loss: 0.3916 - val_accuracy: 0.8434\n",
      "Epoch 14/20\n",
      "229/229 [==============================] - 6s 28ms/step - loss: 0.2279 - accuracy: 0.9142 - val_loss: 0.3959 - val_accuracy: 0.8419\n",
      "Epoch 15/20\n",
      "229/229 [==============================] - 9s 39ms/step - loss: 0.2214 - accuracy: 0.9167 - val_loss: 0.4119 - val_accuracy: 0.8420\n",
      "Epoch 16/20\n",
      "229/229 [==============================] - 7s 29ms/step - loss: 0.2145 - accuracy: 0.9197 - val_loss: 0.4123 - val_accuracy: 0.8417\n",
      "Epoch 17/20\n",
      "229/229 [==============================] - 5s 23ms/step - loss: 0.2091 - accuracy: 0.9223 - val_loss: 0.4210 - val_accuracy: 0.8423\n",
      "Epoch 18/20\n",
      "229/229 [==============================] - 5s 22ms/step - loss: 0.2043 - accuracy: 0.9248 - val_loss: 0.4289 - val_accuracy: 0.8374\n",
      "Epoch 19/20\n",
      "229/229 [==============================] - 6s 25ms/step - loss: 0.1977 - accuracy: 0.9272 - val_loss: 0.4369 - val_accuracy: 0.8405\n",
      "Epoch 20/20\n",
      "229/229 [==============================] - 5s 23ms/step - loss: 0.1923 - accuracy: 0.9299 - val_loss: 0.4389 - val_accuracy: 0.8393\n"
     ]
    },
    {
     "data": {
      "text/plain": [
       "<keras.callbacks.History at 0x7fc45d4eb1c0>"
      ]
     },
     "execution_count": 35,
     "metadata": {},
     "output_type": "execute_result"
    }
   ],
   "source": [
    "model3.compile(optimizer='adam', loss='binary_crossentropy', metrics='accuracy')\n",
    "              \n",
    "history = model3.fit(x_train, y_train, epochs=20, batch_size=512, validation_data=(x_val, y_val), verbose=1)\n",
    "history"
   ]
  },
  {
   "cell_type": "markdown",
   "metadata": {},
   "source": [
    "#### * 테스트셋을 통한 모델 평가"
   ]
  },
  {
   "cell_type": "code",
   "execution_count": 36,
   "metadata": {
    "colab": {
     "base_uri": "https://localhost:8080/"
    },
    "id": "OUylsb9P_65h",
    "outputId": "ed5fa701-5cf0-4842-a46d-165d04d77f74"
   },
   "outputs": [
    {
     "name": "stdout",
     "output_type": "stream",
     "text": [
      "1537/1537 [==============================] - 4s 3ms/step - loss: 0.4452 - accuracy: 0.8373\n"
     ]
    },
    {
     "data": {
      "text/plain": [
       "[0.44518226385116577, 0.837317168712616]"
      ]
     },
     "execution_count": 36,
     "metadata": {},
     "output_type": "execute_result"
    }
   ],
   "source": [
    "results = model3.evaluate(x_test, y_test, verbose=1)\n",
    "results"
   ]
  },
  {
   "cell_type": "code",
   "execution_count": 37,
   "metadata": {
    "colab": {
     "base_uri": "https://localhost:8080/"
    },
    "id": "a0lhEzUs2maM",
    "outputId": "3219225d-d904-4e00-e0a2-20c5ad717593"
   },
   "outputs": [
    {
     "name": "stdout",
     "output_type": "stream",
     "text": [
      "dict_keys(['loss', 'accuracy', 'val_loss', 'val_accuracy'])\n"
     ]
    }
   ],
   "source": [
    "history_dict = history.history\n",
    "print(history_dict.keys())"
   ]
  },
  {
   "cell_type": "markdown",
   "metadata": {
    "id": "ul_N53Is2pus"
   },
   "source": [
    "### 6) Loss, Accuracy 그래프 시각화"
   ]
  },
  {
   "cell_type": "code",
   "execution_count": 38,
   "metadata": {
    "colab": {
     "base_uri": "https://localhost:8080/",
     "height": 559
    },
    "id": "rHS3ILWx2sda",
    "outputId": "7ed8db7c-827e-43e7-b752-534cb2945bba"
   },
   "outputs": [
    {
     "name": "stderr",
     "output_type": "stream",
     "text": [
      "WARNING:matplotlib.font_manager:findfont: Font family ['AppleGothic'] not found. Falling back to DejaVu Sans.\n",
      "WARNING:matplotlib.font_manager:findfont: Font family ['AppleGothic'] not found. Falling back to DejaVu Sans.\n"
     ]
    },
    {
     "data": {
      "image/png": "[encoded data removed]",
      "text/plain": [
       "<Figure size 1440x576 with 2 Axes>"
      ]
     },
     "metadata": {
      "needs_background": "light"
     },
     "output_type": "display_data"
    }
   ],
   "source": [
    "plt.figure(figsize = (20, 8))\n",
    "\n",
    "plt.subplot(121)\n",
    "plt.plot(history.history['loss'])\n",
    "plt.plot(history.history['val_loss'])\n",
    "plt.title('Training and Validation loss', fontsize=20)\n",
    "plt.xlabel('epoch', fontsize=20)\n",
    "plt.xticks(fontsize=15)\n",
    "plt.yticks(fontsize=15)\n",
    "plt.legend(['Training loss', 'Validation loss'], loc='upper left', fontsize=15)\n",
    "plt.grid(True)\n",
    "\n",
    "plt.subplot(122)\n",
    "plt.plot(history.history['accuracy'])\n",
    "plt.plot(history.history['val_accuracy'])\n",
    "plt.title('Training and Validation accuracy', fontsize=20)\n",
    "plt.xlabel('epoch', fontsize=20)\n",
    "plt.xticks(fontsize=15)\n",
    "plt.yticks(fontsize=15)\n",
    "plt.legend(['Training accuracy', 'Validation accuracy'], loc='upper left', fontsize=15)\n",
    "plt.grid(True)\n",
    "\n",
    "plt.show()"
   ]
  },
  {
   "cell_type": "markdown",
   "metadata": {
    "id": "LrHvPiy42sre"
   },
   "source": [
    "### 7) 학습된 Embedding 레이어 분석\n"
   ]
  },
  {
   "cell_type": "code",
   "execution_count": 39,
   "metadata": {
    "colab": {
     "base_uri": "https://localhost:8080/"
    },
    "id": "atClOSza2vAU",
    "outputId": "7cc716f0-180f-4a36-a3e6-f7e7780b5e7f"
   },
   "outputs": [
    {
     "name": "stdout",
     "output_type": "stream",
     "text": [
      "(10000, 16)\n"
     ]
    }
   ],
   "source": [
    "embedding_layer = model3.layers[0]\n",
    "weights = embedding_layer.get_weights()[0]\n",
    "print(weights.shape)    # shape: (vocab_size, embedding_dim)"
   ]
  },
  {
   "cell_type": "code",
   "execution_count": 40,
   "metadata": {
    "id": "_Q0PeQxd2vCo"
   },
   "outputs": [],
   "source": [
    "# 학습한 Embedding 파라미터를 파일에 써서 저장\n",
    "f = open('/content/drive/MyDrive/sentiment_classification/data/word2vec.txt', 'w')\n",
    "f.write('{} {}\\n'.format(vocab_size-4, word_vector_dim))  # 몇개의 벡터를 얼마 사이즈로 기재할지 타이틀을 씁니다.\n",
    "\n",
    "# 단어 개수(에서 특수문자 4개는 제외하고)만큼의 워드 벡터를 파일에 기록\n",
    "vectors = model3.get_weights()[0]\n",
    "for i in range(4, vocab_size):\n",
    "    f.write('{} {}\\n'.format(index_to_word[i], ' '.join(map(str, list(vectors[i, :])))))\n",
    "f.close()"
   ]
  },
  {
   "cell_type": "code",
   "execution_count": 41,
   "metadata": {
    "colab": {
     "base_uri": "https://localhost:8080/"
    },
    "id": "LonZwbE5xvTZ",
    "outputId": "7e0cbfb9-423e-411d-a447-6a1b4ef40a3b"
   },
   "outputs": [
    {
     "data": {
      "text/plain": [
       "array([-0.03950263, -0.09659826,  0.02103888,  0.3598713 , -0.07813616,\n",
       "        0.01236501, -0.03816782,  0.02681365, -0.00491406,  0.02110501,\n",
       "        0.06457398, -0.03393642, -0.193456  ,  0.0435188 , -0.06001086,\n",
       "        0.03106483], dtype=float32)"
      ]
     },
     "execution_count": 41,
     "metadata": {},
     "output_type": "execute_result"
    }
   ],
   "source": [
    "from gensim.models.keyedvectors import Word2VecKeyedVectors\n",
    "\n",
    "word_vectors = Word2VecKeyedVectors.load_word2vec_format('/content/drive/MyDrive/sentiment_classification/data/word2vec.txt', binary=False)\n",
    "vector = word_vectors['재미']\n",
    "vector"
   ]
  },
  {
   "cell_type": "code",
   "execution_count": 42,
   "metadata": {
    "colab": {
     "base_uri": "https://localhost:8080/"
    },
    "id": "5CF7QUEjx_bC",
    "outputId": "c3ec67be-a7f6-4a2c-f396-57c09fab95e9"
   },
   "outputs": [
    {
     "data": {
      "text/plain": [
       "[('너무', 0.8935748934745789),\n",
       " ('완전', 0.8756329417228699),\n",
       " ('이렇게', 0.8334835767745972),\n",
       " ('정말', 0.8253175020217896),\n",
       " ('진짜', 0.8183951377868652),\n",
       " ('위해', 0.8048658967018127),\n",
       " ('수많', 0.7868239879608154),\n",
       " ('근본', 0.7731183767318726),\n",
       " ('의미', 0.767109215259552),\n",
       " ('귀한', 0.7651586532592773)]"
      ]
     },
     "execution_count": 42,
     "metadata": {},
     "output_type": "execute_result"
    }
   ],
   "source": [
    "word_vectors.similar_by_word(\"재미\")"
   ]
  },
  {
   "cell_type": "markdown",
   "metadata": {
    "id": "gW4iOPDefbD6"
   },
   "source": [
    "### 8) 한국어 Word2Vec 임베딩 활용하여 성능 개선"
   ]
  },
  {
   "cell_type": "code",
   "execution_count": 43,
   "metadata": {
    "colab": {
     "base_uri": "https://localhost:8080/"
    },
    "id": "kjlh8hQQO1Zj",
    "outputId": "4be35491-93a1-4395-bad7-a66c7b9c11a7"
   },
   "outputs": [
    {
     "data": {
      "text/plain": [
       "array([ 3.2565942 , -0.85421413, -3.6964011 ,  1.0956469 ,  0.599815  ,\n",
       "       -1.9681435 ,  0.32379073, -1.0716053 , -1.1776937 ,  2.0442047 ,\n",
       "        2.2501915 , -2.7868037 , -2.702359  , -0.9775915 , -0.12478333,\n",
       "        0.28235647,  0.77683175, -1.5393747 ,  2.0879042 , -5.444462  ,\n",
       "       -4.931412  ,  0.8532094 ,  0.11118065, -2.743522  ,  0.7902363 ,\n",
       "        0.10469969, -0.56074625,  1.6684421 ,  1.0278419 , -3.8816829 ,\n",
       "       -3.606887  , -3.120771  , -1.2527398 , -0.77196646, -1.0102901 ,\n",
       "        3.331668  ,  0.30032924,  1.2074511 , -1.2813627 ,  2.6281219 ,\n",
       "       -1.4624823 , -1.1354805 ,  0.7605239 ,  2.83577   , -1.199358  ,\n",
       "        3.1347232 ,  4.062026  , -0.23413125,  3.205856  , -0.9567054 ,\n",
       "        0.77167803, -1.4300145 ,  2.9014013 , -3.940087  , -3.234169  ,\n",
       "       -5.5460634 ,  0.6185009 , -0.75793767,  2.1043491 ,  2.350599  ,\n",
       "        2.9313247 , -2.235593  ,  3.2084036 , -5.594638  ,  1.6516634 ,\n",
       "       -0.32628602, -1.8824683 , -1.5573231 , -1.8452163 , -1.4044309 ,\n",
       "        4.872565  , -2.1063929 , -0.32347348,  1.9946551 , -4.0967984 ,\n",
       "       -1.4509655 , -0.09111219, -4.458617  ,  0.06598099, -2.211754  ,\n",
       "        3.0731246 , -0.06910119,  2.2555242 ,  2.0823317 , -0.58695716,\n",
       "       -3.1035714 ,  2.4014452 ,  3.4731216 ,  1.424459  , -4.313935  ,\n",
       "       -3.5665336 , -6.5203366 , -2.1090846 , -3.2797608 ,  0.4331985 ,\n",
       "        1.1721823 ,  1.8870457 , -0.08832774,  5.423067  , -3.8484313 ],\n",
       "      dtype=float32)"
      ]
     },
     "execution_count": 43,
     "metadata": {},
     "output_type": "execute_result"
    }
   ],
   "source": [
    "from gensim.models.keyedvectors import Word2VecKeyedVectors\n",
    "word2vec = Word2VecKeyedVectors.load('/content/drive/MyDrive/sentiment_classification/data/word2vec_ko.model')\n",
    "vector = word2vec.wv['사랑']\n",
    "vector"
   ]
  },
  {
   "cell_type": "code",
   "execution_count": 44,
   "metadata": {
    "colab": {
     "base_uri": "https://localhost:8080/"
    },
    "id": "YkynQ1C4NAKl",
    "outputId": "b0108ae7-30aa-47d4-cd0d-7b5cdd2d544e"
   },
   "outputs": [
    {
     "name": "stderr",
     "output_type": "stream",
     "text": [
      "<ipython-input-44-51be9db024eb>:2: DeprecationWarning: Call to deprecated `similar_by_word` (Method will be removed in 4.0.0, use self.wv.similar_by_word() instead).\n",
      "  word2vec.similar_by_word(\"사랑\")\n"
     ]
    },
    {
     "data": {
      "text/plain": [
       "[('이별', 0.7626415491104126),\n",
       " ('행복', 0.7550067901611328),\n",
       " ('슬픔', 0.7381505966186523),\n",
       " ('유혹', 0.7238055467605591),\n",
       " ('그리움', 0.7167419195175171),\n",
       " ('추억', 0.7143999338150024),\n",
       " ('꿈', 0.7089294195175171),\n",
       " ('애정', 0.7066588401794434),\n",
       " ('포옹', 0.7034594416618347),\n",
       " ('마음', 0.6972615718841553)]"
      ]
     },
     "execution_count": 44,
     "metadata": {},
     "output_type": "execute_result"
    }
   ],
   "source": [
    "word2vec.similar_by_word(\"사랑\")"
   ]
  },
  {
   "cell_type": "markdown",
   "metadata": {},
   "source": [
    "#### * 이전 스텝에서 학습했던 모델의 임베딩 레이어를 word2vec으로 교체하여 다시 학습"
   ]
  },
  {
   "cell_type": "code",
   "execution_count": 47,
   "metadata": {
    "colab": {
     "base_uri": "https://localhost:8080/"
    },
    "id": "uR-gUWfRNAPa",
    "outputId": "172aba0e-d2f0-455c-e61b-c7d683a4e6d6"
   },
   "outputs": [
    {
     "name": "stderr",
     "output_type": "stream",
     "text": [
      "<ipython-input-47-5915424c45bf>:7: DeprecationWarning: Call to deprecated `__contains__` (Method will be removed in 4.0.0, use self.wv.__contains__() instead).\n",
      "  if index_to_word[i] in word2vec:\n",
      "<ipython-input-47-5915424c45bf>:8: DeprecationWarning: Call to deprecated `__getitem__` (Method will be removed in 4.0.0, use self.wv.__getitem__() instead).\n",
      "  embedding_matrix[i] = word2vec[index_to_word[i]]\n"
     ]
    }
   ],
   "source": [
    "vocab_size = 10000     # 어휘 사전의 크기\n",
    "word_vector_dim = 100  # 워드 벡터의 차원수\n",
    "embedding_matrix = np.random.rand(vocab_size, word_vector_dim)\n",
    "\n",
    "# embedding_matrix에 Word2Vec 워드 벡터를 단어 하나씩마다 차례차례 카피\n",
    "for i in range(4, vocab_size):\n",
    "    if index_to_word[i] in word2vec:\n",
    "        embedding_matrix[i] = word2vec[index_to_word[i]]"
   ]
  },
  {
   "cell_type": "code",
   "execution_count": 48,
   "metadata": {
    "colab": {
     "base_uri": "https://localhost:8080/"
    },
    "id": "w3KACwTWQnAK",
    "outputId": "813723cd-099d-4a72-fd68-a3bcf9fbe640"
   },
   "outputs": [
    {
     "name": "stdout",
     "output_type": "stream",
     "text": [
      "Model: \"sequential_3\"\n",
      "_________________________________________________________________\n",
      " Layer (type)                Output Shape              Param #   \n",
      "=================================================================\n",
      " embedding_2 (Embedding)     (None, None, 300)         3000000   \n",
      "                                                                 \n",
      " lstm_1 (LSTM)               (None, None, 8)           9888      \n",
      "                                                                 \n",
      " lstm_2 (LSTM)               (None, 8)                 544       \n",
      "                                                                 \n",
      " dense_3 (Dense)             (None, 8)                 72        \n",
      "                                                                 \n",
      " dense_4 (Dense)             (None, 1)                 9         \n",
      "                                                                 \n",
      "=================================================================\n",
      "Total params: 3,010,513\n",
      "Trainable params: 3,010,513\n",
      "Non-trainable params: 0\n",
      "_________________________________________________________________\n"
     ]
    }
   ],
   "source": [
    "vocab_size = 10000\n",
    "word_vector_dim = 300  # 워드 벡터의 차원 수 (변경 가능한 하이퍼파라미터)\n",
    "\n",
    "# Model 설계\n",
    "model4 = tf.keras.Sequential()\n",
    "model4.add(tf.keras.layers.Embedding(vocab_size, word_vector_dim, input_shape=(None,)))\n",
    "model4.add(keras.layers.LSTM(8, dropout=0.3, return_sequences=True))\n",
    "model4.add(keras.layers.LSTM(8, dropout=0.3))\n",
    "model4.add(tf.keras.layers.Dense(8, activation='relu'))\n",
    "model4.add(tf.keras.layers.Dense(1, activation='sigmoid'))  # 최종 출력은 긍정/부정을 나타내는 1dim\n",
    "\n",
    "model4.summary()"
   ]
  },
  {
   "cell_type": "markdown",
   "metadata": {},
   "source": [
    "#### * 학습의 진행"
   ]
  },
  {
   "cell_type": "code",
   "execution_count": 49,
   "metadata": {
    "colab": {
     "base_uri": "https://localhost:8080/",
     "height": 1000
    },
    "id": "PRN6moBDNAUY",
    "outputId": "b7a33787-82ab-407b-fdbc-a6c356dd4fd4"
   },
   "outputs": [
    {
     "name": "stdout",
     "output_type": "stream",
     "text": [
      "Epoch 1/20\n",
      "1828/1828 [==============================] - 79s 41ms/step - loss: 0.5545 - accuracy: 0.7475 - val_loss: 0.4427 - val_accuracy: 0.8103\n",
      "Epoch 2/20\n",
      "1828/1828 [==============================] - 79s 43ms/step - loss: 0.4106 - accuracy: 0.8244 - val_loss: 0.3881 - val_accuracy: 0.8366\n",
      "Epoch 3/20\n",
      "1828/1828 [==============================] - 84s 46ms/step - loss: 0.3753 - accuracy: 0.8385 - val_loss: 0.3701 - val_accuracy: 0.8418\n",
      "Epoch 4/20\n",
      "1828/1828 [==============================] - 74s 41ms/step - loss: 0.3599 - accuracy: 0.8467 - val_loss: 0.3611 - val_accuracy: 0.8463\n",
      "Epoch 5/20\n",
      "1828/1828 [==============================] - 76s 42ms/step - loss: 0.3500 - accuracy: 0.8505 - val_loss: 0.3552 - val_accuracy: 0.8481\n",
      "Epoch 6/20\n",
      "1828/1828 [==============================] - 76s 42ms/step - loss: 0.3433 - accuracy: 0.8531 - val_loss: 0.3509 - val_accuracy: 0.8504\n",
      "Epoch 7/20\n",
      "1828/1828 [==============================] - 74s 40ms/step - loss: 0.3366 - accuracy: 0.8562 - val_loss: 0.3470 - val_accuracy: 0.8516\n",
      "Epoch 8/20\n",
      "1828/1828 [==============================] - 75s 41ms/step - loss: 0.3318 - accuracy: 0.8591 - val_loss: 0.3431 - val_accuracy: 0.8528\n",
      "Epoch 9/20\n",
      "1828/1828 [==============================] - 73s 40ms/step - loss: 0.3262 - accuracy: 0.8614 - val_loss: 0.3384 - val_accuracy: 0.8542\n",
      "Epoch 10/20\n",
      "1828/1828 [==============================] - 72s 39ms/step - loss: 0.3218 - accuracy: 0.8630 - val_loss: 0.3359 - val_accuracy: 0.8559\n",
      "Epoch 11/20\n",
      "1828/1828 [==============================] - 73s 40ms/step - loss: 0.3167 - accuracy: 0.8651 - val_loss: 0.3318 - val_accuracy: 0.8572\n",
      "Epoch 12/20\n",
      "1828/1828 [==============================] - 73s 40ms/step - loss: 0.3127 - accuracy: 0.8684 - val_loss: 0.3301 - val_accuracy: 0.8590\n",
      "Epoch 13/20\n",
      "1828/1828 [==============================] - 73s 40ms/step - loss: 0.3086 - accuracy: 0.8701 - val_loss: 0.3288 - val_accuracy: 0.8603\n",
      "Epoch 14/20\n",
      "1828/1828 [==============================] - 73s 40ms/step - loss: 0.3044 - accuracy: 0.8724 - val_loss: 0.3261 - val_accuracy: 0.8604\n",
      "Epoch 15/20\n",
      "1828/1828 [==============================] - 73s 40ms/step - loss: 0.3000 - accuracy: 0.8741 - val_loss: 0.3248 - val_accuracy: 0.8607\n",
      "Epoch 16/20\n",
      "1828/1828 [==============================] - 73s 40ms/step - loss: 0.2963 - accuracy: 0.8759 - val_loss: 0.3222 - val_accuracy: 0.8641\n",
      "Epoch 17/20\n",
      "1828/1828 [==============================] - 73s 40ms/step - loss: 0.2939 - accuracy: 0.8772 - val_loss: 0.3200 - val_accuracy: 0.8645\n",
      "Epoch 18/20\n",
      "1828/1828 [==============================] - 72s 39ms/step - loss: 0.2912 - accuracy: 0.8784 - val_loss: 0.3167 - val_accuracy: 0.8646\n",
      "Epoch 19/20\n",
      "1828/1828 [==============================] - 73s 40ms/step - loss: 0.2880 - accuracy: 0.8808 - val_loss: 0.3175 - val_accuracy: 0.8646\n",
      "Epoch 20/20\n",
      "1828/1828 [==============================] - 72s 39ms/step - loss: 0.2864 - accuracy: 0.8812 - val_loss: 0.3169 - val_accuracy: 0.8662\n"
     ]
    },
    {
     "data": {
      "image/png": "[encoded data removed]",
      "text/plain": [
       "<Figure size 720x576 with 1 Axes>"
      ]
     },
     "metadata": {
      "needs_background": "light"
     },
     "output_type": "display_data"
    }
   ],
   "source": [
    "rmsprop = keras.optimizers.RMSprop(learning_rate=1e-4)\n",
    "model4.compile(optimizer=rmsprop, loss='binary_crossentropy', metrics='accuracy')\n",
    "\n",
    "history = model4.fit(x_train, y_train, epochs=20, batch_size=64, validation_data=(x_val, y_val), verbose=1)\n",
    "\n",
    "plt.figure(figsize = (10, 8))\n",
    "plt.plot(history.history['loss'])\n",
    "plt.plot(history.history['val_loss'])\n",
    "plt.xlabel('epoch')\n",
    "plt.ylabel('loss')\n",
    "plt.legend(['Training_loss', 'Validation_loss'])\n",
    "plt.grid(True)\n",
    "plt.show()"
   ]
  },
  {
   "cell_type": "markdown",
   "metadata": {},
   "source": [
    "#### * 테스트셋을 통한 모델 평가"
   ]
  },
  {
   "cell_type": "code",
   "execution_count": 50,
   "metadata": {
    "colab": {
     "base_uri": "https://localhost:8080/"
    },
    "id": "d_UcbAcsNAW-",
    "outputId": "48432a7f-ac55-49ac-ba48-6588b90f5ff6"
   },
   "outputs": [
    {
     "name": "stdout",
     "output_type": "stream",
     "text": [
      "1537/1537 [==============================] - 9s 6ms/step - loss: 0.3235 - accuracy: 0.8622\n"
     ]
    },
    {
     "data": {
      "text/plain": [
       "[0.323454886674881, 0.8621966242790222]"
      ]
     },
     "execution_count": 50,
     "metadata": {},
     "output_type": "execute_result"
    }
   ],
   "source": [
    "results = model4.evaluate(x_test, y_test, verbose=1)\n",
    "results"
   ]
  },
  {
   "cell_type": "markdown",
   "metadata": {},
   "source": [
    "#### * Loss, Accuracy 그래프 시각화"
   ]
  },
  {
   "cell_type": "code",
   "execution_count": 51,
   "metadata": {
    "colab": {
     "base_uri": "https://localhost:8080/",
     "height": 525
    },
    "id": "r9UzS5vv8R3e",
    "outputId": "ec79a403-efb1-4b07-dc78-7a05ab76abf1"
   },
   "outputs": [
    {
     "data": {
      "image/png": "[encoded data removed]",
      "text/plain": [
       "<Figure size 1440x576 with 2 Axes>"
      ]
     },
     "metadata": {
      "needs_background": "light"
     },
     "output_type": "display_data"
    }
   ],
   "source": [
    "plt.figure(figsize = (20, 8))\n",
    "\n",
    "plt.subplot(121)\n",
    "plt.plot(history.history['loss'])\n",
    "plt.plot(history.history['val_loss'])\n",
    "plt.title('Training and Validation loss', fontsize=20)\n",
    "plt.xlabel('epoch', fontsize=20)\n",
    "plt.xticks(fontsize=15)\n",
    "plt.yticks(fontsize=15)\n",
    "plt.legend(['Training loss', 'Validation loss'], loc='upper left', fontsize=15)\n",
    "plt.grid(True)\n",
    "\n",
    "plt.subplot(122)\n",
    "plt.plot(history.history['accuracy'])\n",
    "plt.plot(history.history['val_accuracy'])\n",
    "plt.title('Training and Validation accuracy', fontsize=20)\n",
    "plt.xlabel('epoch', fontsize=20)\n",
    "plt.xticks(fontsize=15)\n",
    "plt.yticks(fontsize=15)\n",
    "plt.legend(['Training accuracy', 'Validation accuracy'], loc='upper left', fontsize=15)\n",
    "plt.grid(True)\n",
    "\n",
    "plt.show()"
   ]
  },
  {
   "cell_type": "markdown",
   "metadata": {
    "id": "Swqjg5Jk2yBa"
   },
   "source": [
    "# 3. Conclusion\n",
    "\n",
    "\n",
    "본 분석은 1. IMDB 리뷰 데이터셋 분석, 2. 네이버 영화리뷰 감성분석(프로젝트)의 두 단계로 진행된다.\n",
    "\n",
    "1. 먼저, IMDB 리뷰 데이터셋은 인터넷 영화 데이터베이스인 imdb.com에서 수집한 리뷰를 감상평에 따라 긍정과 부정으로 분류해 놓은 데이터셋으로 총 50,000개의 샘플이 훈련 데이터와 테스트 데이터에 각각 25,000개씩 나누어져 있다. IMDB 리뷰 데이터셋은 데이터를 가공하여 imdb.data_loader() 메서드를 호출하면 숫자 인덱스로 변환된 텍스트와 word_to_index 딕셔너리를 제공한다.\n",
    "\n",
    "\n",
    "2. 이에 반해, 네이버 영화리뷰 감성분석에 사용할 nsmc 데이터셋은 전혀 가공되지 않은 텍스트 파일로 이루어져 있으므로 먼저 imdb.data_loader()와 동일하게 동작하는 data_loader를 만들었다. 이후 데이터 준비와 확인 → 데이터로더 구성 → 모델 구성을 위한 데이터 분석 및 가공 → 모델 구성 및 훈련, 시각화 → 학습된 embeddig 레이어 분석 → 한국어 Word2Vec 임베딩 활용한 성능 개선 과정을 거쳤다.\n",
    "\n",
    "   (1) 데이터 준비와 확인\n",
    "\n",
    "   (2) 데이터로더 구성 - 결측치 제거, 데이터 중복 제거, 토큰화, 불용어 제거, word_to_index 구성, 텍스트 스트링을 사전 인덱스 스트링으로 변환\n",
    "\n",
    "   (3) 모델 구성을 위한 데이터 분석 및 가공\n",
    "\n",
    "   (4) 모델 구성 및 훈련, 시각화\n",
    " \n",
    "    - 모델의 첫 번째 레이어는 Embedding 레이어로 vocab_size=10000(어휘 사전의 크기), word_vector_dim=16(워드 벡터 차원의 수)으로 설정하고, 고급 순환층인 LSTM을 사용하였으며, 특히 최종 출력은 긍정/부정을 나타내는 1dim을 사용하고 활성화 함수로 시그모이드 함수를 구성했다. 학습이 끝난 모델을 테스트셋으로 평가한 결과 accuracy=0.8373을 달성했다.\n",
    "\n",
    "   (5) 학습된 embeddig 레이어 분석\n",
    "\n",
    "    - '재미'라는 단어와 유사한 단어를 찾아본 결과 '너무', '완전', '이렇게' 등의 단어가 0.8935 ~ 0.7652의 정확도를 보였다. 하지만 감성 분석 태스크를 잠깐 학습한 것만으로는 워드 벡터가 유의미하게 학습되기는 어려우므로 word2vec.ko라는 사전학습된 워드 임베딩 모델을 추가로 활용했다. \n",
    "\n",
    "   (6) 한국어 Word2Vec 임베딩 활용하여 성능 개선\n",
    "\n",
    "    - 모델은 총 5개의 층으로 구성되며 첫 번째 레이어인 Embedding 레이어에는 vocab_size = 10000, word_vector_dim = 300, LSTM 층에는 과대적합을 막기위해 dropout=0.3을 설정하였으며, 활성화 함수는 'relu', 'sigmoid'를 이용하고 최종 출력은 긍정/부정을 나타내는 1dim을 사용하였다. optimizer로 rmsprop 함수를 사용하였고, learning_rate은 기본값인 0.001이 아닌 0.0001, epoch=20, batch_size=64를 적용하였다.\n",
    "그 결과 accuracy=0.8812, val_accuracy=0.8662가 도출 되었다.\n",
    "테스트셋을 통한 모델 평가에서는 accuracy=0.8622를 달성하였다.\n",
    "    \n",
    "    - 사전학습된 word2vec 활용, 적절한 모델 구성, 하이퍼파라미터의 고려를 통해 모델의 성능이 약 2.49% 향상되어(accuracy=0.8373 → \n",
    "accuracy=0.8622) 네이버 영화리뷰 데이터 감성분석 정확도가 86.22%로 도출되었다."
   ]
  },
  {
   "cell_type": "markdown",
   "metadata": {
    "id": "lwHclJBw3Wwk"
   },
   "source": [
    "# 4. References\n",
    "\n",
    "[1] https://biology-statistics-programming.tistory.com/42\n",
    "\n",
    "[2] https://lms.aiffel.io/course/382/node/504\n",
    "\n",
    "[3] 혼자 공부하는 머신러닝+딥러닝"
   ]
  }
 ],
 "metadata": {
  "colab": {
   "provenance": []
  },
  "gpuClass": "standard",
  "kernelspec": {
   "display_name": "Python 3 (ipykernel)",
   "language": "python",
   "name": "python3"
  },
  "language_info": {
   "codemirror_mode": {
    "name": "ipython",
    "version": 3
   },
   "file_extension": ".py",
   "mimetype": "text/x-python",
   "name": "python",
   "nbconvert_exporter": "python",
   "pygments_lexer": "ipython3",
   "version": "3.8.13"
  }
 },
 "nbformat": 4,
 "nbformat_minor": 1
}

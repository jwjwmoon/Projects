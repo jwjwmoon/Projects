{
 "cells": [
  {
   "cell_type": "code",
   "execution_count": 1,
   "id": "a2b22412",
   "metadata": {},
   "outputs": [],
   "source": [
    "import numpy as np\n",
    "import pandas as pd\n",
    "import scipy\n",
    "import implicit\n",
    "import os\n",
    "\n",
    "# pd.options.display.max_rows=None\n",
    "# pd.options.display.max_columns=None\n",
    "\n",
    "# 경고 문구 off\n",
    "import warnings\n",
    "warnings.filterwarnings('ignore')"
   ]
  },
  {
   "cell_type": "markdown",
   "id": "9a02f35e",
   "metadata": {},
   "source": [
    "# 1. Project_Movielens 영화 추천"
   ]
  },
  {
   "cell_type": "markdown",
   "id": "eb877b23",
   "metadata": {},
   "source": [
    "### (1) 데이터 준비와 전처리"
   ]
  },
  {
   "cell_type": "code",
   "execution_count": 2,
   "id": "03429dfa",
   "metadata": {},
   "outputs": [
    {
     "data": {
      "text/html": [
       "<div>\n",
       "<style scoped>\n",
       "    .dataframe tbody tr th:only-of-type {\n",
       "        vertical-align: middle;\n",
       "    }\n",
       "\n",
       "    .dataframe tbody tr th {\n",
       "        vertical-align: top;\n",
       "    }\n",
       "\n",
       "    .dataframe thead th {\n",
       "        text-align: right;\n",
       "    }\n",
       "</style>\n",
       "<table border=\"1\" class=\"dataframe\">\n",
       "  <thead>\n",
       "    <tr style=\"text-align: right;\">\n",
       "      <th></th>\n",
       "      <th>user_id</th>\n",
       "      <th>movie_id</th>\n",
       "      <th>ratings</th>\n",
       "      <th>timestamp</th>\n",
       "    </tr>\n",
       "  </thead>\n",
       "  <tbody>\n",
       "    <tr>\n",
       "      <th>0</th>\n",
       "      <td>1</td>\n",
       "      <td>1193</td>\n",
       "      <td>5</td>\n",
       "      <td>978300760</td>\n",
       "    </tr>\n",
       "    <tr>\n",
       "      <th>1</th>\n",
       "      <td>1</td>\n",
       "      <td>661</td>\n",
       "      <td>3</td>\n",
       "      <td>978302109</td>\n",
       "    </tr>\n",
       "    <tr>\n",
       "      <th>2</th>\n",
       "      <td>1</td>\n",
       "      <td>914</td>\n",
       "      <td>3</td>\n",
       "      <td>978301968</td>\n",
       "    </tr>\n",
       "    <tr>\n",
       "      <th>3</th>\n",
       "      <td>1</td>\n",
       "      <td>3408</td>\n",
       "      <td>4</td>\n",
       "      <td>978300275</td>\n",
       "    </tr>\n",
       "    <tr>\n",
       "      <th>4</th>\n",
       "      <td>1</td>\n",
       "      <td>2355</td>\n",
       "      <td>5</td>\n",
       "      <td>978824291</td>\n",
       "    </tr>\n",
       "  </tbody>\n",
       "</table>\n",
       "</div>"
      ],
      "text/plain": [
       "   user_id  movie_id  ratings  timestamp\n",
       "0        1      1193        5  978300760\n",
       "1        1       661        3  978302109\n",
       "2        1       914        3  978301968\n",
       "3        1      3408        4  978300275\n",
       "4        1      2355        5  978824291"
      ]
     },
     "execution_count": 2,
     "metadata": {},
     "output_type": "execute_result"
    }
   ],
   "source": [
    "rating_file_path=os.getenv('HOME') + '/aiffel/recommendata_iu/data/ml-1m/ratings.dat'\n",
    "ratings_cols = ['user_id', 'movie_id', 'ratings', 'timestamp']\n",
    "ratings = pd.read_csv(rating_file_path, sep='::', names=ratings_cols, engine='python', encoding = \"ISO-8859-1\")\n",
    "orginal_data_size = len(ratings)\n",
    "ratings.head()"
   ]
  },
  {
   "cell_type": "code",
   "execution_count": 3,
   "id": "a1ef2ace",
   "metadata": {},
   "outputs": [
    {
     "name": "stdout",
     "output_type": "stream",
     "text": [
      "orginal_data_size: 1000209, filtered_data_size: 836478\n",
      "Ratio of Remaining Data is 83.63%\n"
     ]
    }
   ],
   "source": [
    "# 3점 이상만 남김\n",
    "ratings = ratings[ratings['ratings']>=3]\n",
    "filtered_data_size = len(ratings)\n",
    "\n",
    "print(f'orginal_data_size: {orginal_data_size}, filtered_data_size: {filtered_data_size}')\n",
    "print(f'Ratio of Remaining Data is {filtered_data_size / orginal_data_size:.2%}')"
   ]
  },
  {
   "cell_type": "code",
   "execution_count": 4,
   "id": "0ef0a539",
   "metadata": {},
   "outputs": [
    {
     "data": {
      "text/plain": [
       "array([5, 3, 4])"
      ]
     },
     "execution_count": 4,
     "metadata": {},
     "output_type": "execute_result"
    }
   ],
   "source": [
    "ratings['ratings'].unique()"
   ]
  },
  {
   "cell_type": "code",
   "execution_count": 5,
   "id": "bff446b3",
   "metadata": {},
   "outputs": [
    {
     "data": {
      "text/html": [
       "<div>\n",
       "<style scoped>\n",
       "    .dataframe tbody tr th:only-of-type {\n",
       "        vertical-align: middle;\n",
       "    }\n",
       "\n",
       "    .dataframe tbody tr th {\n",
       "        vertical-align: top;\n",
       "    }\n",
       "\n",
       "    .dataframe thead th {\n",
       "        text-align: right;\n",
       "    }\n",
       "</style>\n",
       "<table border=\"1\" class=\"dataframe\">\n",
       "  <thead>\n",
       "    <tr style=\"text-align: right;\">\n",
       "      <th></th>\n",
       "      <th>user_id</th>\n",
       "      <th>movie_id</th>\n",
       "      <th>ratings</th>\n",
       "      <th>timestamp</th>\n",
       "    </tr>\n",
       "  </thead>\n",
       "  <tbody>\n",
       "    <tr>\n",
       "      <th>0</th>\n",
       "      <td>1</td>\n",
       "      <td>1193</td>\n",
       "      <td>5</td>\n",
       "      <td>978300760</td>\n",
       "    </tr>\n",
       "    <tr>\n",
       "      <th>1</th>\n",
       "      <td>1</td>\n",
       "      <td>661</td>\n",
       "      <td>3</td>\n",
       "      <td>978302109</td>\n",
       "    </tr>\n",
       "    <tr>\n",
       "      <th>2</th>\n",
       "      <td>1</td>\n",
       "      <td>914</td>\n",
       "      <td>3</td>\n",
       "      <td>978301968</td>\n",
       "    </tr>\n",
       "    <tr>\n",
       "      <th>3</th>\n",
       "      <td>1</td>\n",
       "      <td>3408</td>\n",
       "      <td>4</td>\n",
       "      <td>978300275</td>\n",
       "    </tr>\n",
       "    <tr>\n",
       "      <th>4</th>\n",
       "      <td>1</td>\n",
       "      <td>2355</td>\n",
       "      <td>5</td>\n",
       "      <td>978824291</td>\n",
       "    </tr>\n",
       "  </tbody>\n",
       "</table>\n",
       "</div>"
      ],
      "text/plain": [
       "   user_id  movie_id  ratings  timestamp\n",
       "0        1      1193        5  978300760\n",
       "1        1       661        3  978302109\n",
       "2        1       914        3  978301968\n",
       "3        1      3408        4  978300275\n",
       "4        1      2355        5  978824291"
      ]
     },
     "execution_count": 5,
     "metadata": {},
     "output_type": "execute_result"
    }
   ],
   "source": [
    "ratings.head()"
   ]
  },
  {
   "cell_type": "code",
   "execution_count": 6,
   "id": "d1c78e81",
   "metadata": {},
   "outputs": [
    {
     "data": {
      "text/html": [
       "<div>\n",
       "<style scoped>\n",
       "    .dataframe tbody tr th:only-of-type {\n",
       "        vertical-align: middle;\n",
       "    }\n",
       "\n",
       "    .dataframe tbody tr th {\n",
       "        vertical-align: top;\n",
       "    }\n",
       "\n",
       "    .dataframe thead th {\n",
       "        text-align: right;\n",
       "    }\n",
       "</style>\n",
       "<table border=\"1\" class=\"dataframe\">\n",
       "  <thead>\n",
       "    <tr style=\"text-align: right;\">\n",
       "      <th></th>\n",
       "      <th>movie_id</th>\n",
       "      <th>title</th>\n",
       "      <th>genre</th>\n",
       "    </tr>\n",
       "  </thead>\n",
       "  <tbody>\n",
       "    <tr>\n",
       "      <th>0</th>\n",
       "      <td>1</td>\n",
       "      <td>Toy Story (1995)</td>\n",
       "      <td>Animation|Children's|Comedy</td>\n",
       "    </tr>\n",
       "    <tr>\n",
       "      <th>1</th>\n",
       "      <td>2</td>\n",
       "      <td>Jumanji (1995)</td>\n",
       "      <td>Adventure|Children's|Fantasy</td>\n",
       "    </tr>\n",
       "    <tr>\n",
       "      <th>2</th>\n",
       "      <td>3</td>\n",
       "      <td>Grumpier Old Men (1995)</td>\n",
       "      <td>Comedy|Romance</td>\n",
       "    </tr>\n",
       "    <tr>\n",
       "      <th>3</th>\n",
       "      <td>4</td>\n",
       "      <td>Waiting to Exhale (1995)</td>\n",
       "      <td>Comedy|Drama</td>\n",
       "    </tr>\n",
       "    <tr>\n",
       "      <th>4</th>\n",
       "      <td>5</td>\n",
       "      <td>Father of the Bride Part II (1995)</td>\n",
       "      <td>Comedy</td>\n",
       "    </tr>\n",
       "  </tbody>\n",
       "</table>\n",
       "</div>"
      ],
      "text/plain": [
       "   movie_id                               title                         genre\n",
       "0         1                    Toy Story (1995)   Animation|Children's|Comedy\n",
       "1         2                      Jumanji (1995)  Adventure|Children's|Fantasy\n",
       "2         3             Grumpier Old Men (1995)                Comedy|Romance\n",
       "3         4            Waiting to Exhale (1995)                  Comedy|Drama\n",
       "4         5  Father of the Bride Part II (1995)                        Comedy"
      ]
     },
     "execution_count": 6,
     "metadata": {},
     "output_type": "execute_result"
    }
   ],
   "source": [
    "# 영화 제목을 보기 위해 메타 데이터를 읽어옴\n",
    "movie_file_path=os.getenv('HOME') + '/aiffel/recommendata_iu/data/ml-1m/movies.dat'\n",
    "cols = ['movie_id', 'title', 'genre'] \n",
    "movies = pd.read_csv(movie_file_path, sep='::', names=cols, engine='python', encoding='ISO-8859-1')\n",
    "movies.head()"
   ]
  },
  {
   "cell_type": "code",
   "execution_count": 7,
   "id": "0afc907e",
   "metadata": {},
   "outputs": [
    {
     "data": {
      "text/html": [
       "<div>\n",
       "<style scoped>\n",
       "    .dataframe tbody tr th:only-of-type {\n",
       "        vertical-align: middle;\n",
       "    }\n",
       "\n",
       "    .dataframe tbody tr th {\n",
       "        vertical-align: top;\n",
       "    }\n",
       "\n",
       "    .dataframe thead th {\n",
       "        text-align: right;\n",
       "    }\n",
       "</style>\n",
       "<table border=\"1\" class=\"dataframe\">\n",
       "  <thead>\n",
       "    <tr style=\"text-align: right;\">\n",
       "      <th></th>\n",
       "      <th>movie_id</th>\n",
       "      <th>title</th>\n",
       "      <th>genre</th>\n",
       "    </tr>\n",
       "  </thead>\n",
       "  <tbody>\n",
       "    <tr>\n",
       "      <th>0</th>\n",
       "      <td>1</td>\n",
       "      <td>toy story (1995)</td>\n",
       "      <td>animation|children's|comedy</td>\n",
       "    </tr>\n",
       "    <tr>\n",
       "      <th>1</th>\n",
       "      <td>2</td>\n",
       "      <td>jumanji (1995)</td>\n",
       "      <td>adventure|children's|fantasy</td>\n",
       "    </tr>\n",
       "    <tr>\n",
       "      <th>2</th>\n",
       "      <td>3</td>\n",
       "      <td>grumpier old men (1995)</td>\n",
       "      <td>comedy|romance</td>\n",
       "    </tr>\n",
       "    <tr>\n",
       "      <th>3</th>\n",
       "      <td>4</td>\n",
       "      <td>waiting to exhale (1995)</td>\n",
       "      <td>comedy|drama</td>\n",
       "    </tr>\n",
       "    <tr>\n",
       "      <th>4</th>\n",
       "      <td>5</td>\n",
       "      <td>father of the bride part ii (1995)</td>\n",
       "      <td>comedy</td>\n",
       "    </tr>\n",
       "  </tbody>\n",
       "</table>\n",
       "</div>"
      ],
      "text/plain": [
       "   movie_id                               title                         genre\n",
       "0         1                    toy story (1995)   animation|children's|comedy\n",
       "1         2                      jumanji (1995)  adventure|children's|fantasy\n",
       "2         3             grumpier old men (1995)                comedy|romance\n",
       "3         4            waiting to exhale (1995)                  comedy|drama\n",
       "4         5  father of the bride part ii (1995)                        comedy"
      ]
     },
     "execution_count": 7,
     "metadata": {},
     "output_type": "execute_result"
    }
   ],
   "source": [
    "movies['title'] = movies['title'].str.lower()\n",
    "movies['genre'] = movies['genre'].str.lower()\n",
    "movies.head()"
   ]
  },
  {
   "cell_type": "code",
   "execution_count": 8,
   "id": "5d165e93",
   "metadata": {},
   "outputs": [
    {
     "data": {
      "text/html": [
       "<div>\n",
       "<style scoped>\n",
       "    .dataframe tbody tr th:only-of-type {\n",
       "        vertical-align: middle;\n",
       "    }\n",
       "\n",
       "    .dataframe tbody tr th {\n",
       "        vertical-align: top;\n",
       "    }\n",
       "\n",
       "    .dataframe thead th {\n",
       "        text-align: right;\n",
       "    }\n",
       "</style>\n",
       "<table border=\"1\" class=\"dataframe\">\n",
       "  <thead>\n",
       "    <tr style=\"text-align: right;\">\n",
       "      <th></th>\n",
       "      <th>user_id</th>\n",
       "      <th>movie_id</th>\n",
       "      <th>ratings</th>\n",
       "      <th>timestamp</th>\n",
       "      <th>title</th>\n",
       "      <th>genre</th>\n",
       "    </tr>\n",
       "  </thead>\n",
       "  <tbody>\n",
       "    <tr>\n",
       "      <th>0</th>\n",
       "      <td>1</td>\n",
       "      <td>1193</td>\n",
       "      <td>5</td>\n",
       "      <td>978300760</td>\n",
       "      <td>one flew over the cuckoo's nest (1975)</td>\n",
       "      <td>drama</td>\n",
       "    </tr>\n",
       "    <tr>\n",
       "      <th>1</th>\n",
       "      <td>2</td>\n",
       "      <td>1193</td>\n",
       "      <td>5</td>\n",
       "      <td>978298413</td>\n",
       "      <td>one flew over the cuckoo's nest (1975)</td>\n",
       "      <td>drama</td>\n",
       "    </tr>\n",
       "    <tr>\n",
       "      <th>2</th>\n",
       "      <td>12</td>\n",
       "      <td>1193</td>\n",
       "      <td>4</td>\n",
       "      <td>978220179</td>\n",
       "      <td>one flew over the cuckoo's nest (1975)</td>\n",
       "      <td>drama</td>\n",
       "    </tr>\n",
       "    <tr>\n",
       "      <th>3</th>\n",
       "      <td>15</td>\n",
       "      <td>1193</td>\n",
       "      <td>4</td>\n",
       "      <td>978199279</td>\n",
       "      <td>one flew over the cuckoo's nest (1975)</td>\n",
       "      <td>drama</td>\n",
       "    </tr>\n",
       "    <tr>\n",
       "      <th>4</th>\n",
       "      <td>17</td>\n",
       "      <td>1193</td>\n",
       "      <td>5</td>\n",
       "      <td>978158471</td>\n",
       "      <td>one flew over the cuckoo's nest (1975)</td>\n",
       "      <td>drama</td>\n",
       "    </tr>\n",
       "  </tbody>\n",
       "</table>\n",
       "</div>"
      ],
      "text/plain": [
       "   user_id  movie_id  ratings  timestamp  \\\n",
       "0        1      1193        5  978300760   \n",
       "1        2      1193        5  978298413   \n",
       "2       12      1193        4  978220179   \n",
       "3       15      1193        4  978199279   \n",
       "4       17      1193        5  978158471   \n",
       "\n",
       "                                    title  genre  \n",
       "0  one flew over the cuckoo's nest (1975)  drama  \n",
       "1  one flew over the cuckoo's nest (1975)  drama  \n",
       "2  one flew over the cuckoo's nest (1975)  drama  \n",
       "3  one flew over the cuckoo's nest (1975)  drama  \n",
       "4  one flew over the cuckoo's nest (1975)  drama  "
      ]
     },
     "execution_count": 8,
     "metadata": {},
     "output_type": "execute_result"
    }
   ],
   "source": [
    "data = pd.merge(ratings, movies)\n",
    "data.head()"
   ]
  },
  {
   "cell_type": "markdown",
   "id": "e26e20ba",
   "metadata": {},
   "source": [
    "### (2) 데이터 탐색"
   ]
  },
  {
   "cell_type": "code",
   "execution_count": 9,
   "id": "055efd08",
   "metadata": {},
   "outputs": [
    {
     "data": {
      "text/plain": [
       "6039"
      ]
     },
     "execution_count": 9,
     "metadata": {},
     "output_type": "execute_result"
    }
   ],
   "source": [
    "# 유저 수\n",
    "data['user_id'].nunique()"
   ]
  },
  {
   "cell_type": "code",
   "execution_count": 10,
   "id": "c5d12896",
   "metadata": {},
   "outputs": [
    {
     "data": {
      "text/plain": [
       "3628"
      ]
     },
     "execution_count": 10,
     "metadata": {},
     "output_type": "execute_result"
    }
   ],
   "source": [
    "# 영화 수\n",
    "data['movie_id'].nunique()"
   ]
  },
  {
   "cell_type": "code",
   "execution_count": 11,
   "id": "7a3b621e",
   "metadata": {},
   "outputs": [
    {
     "data": {
      "text/plain": [
       "301"
      ]
     },
     "execution_count": 11,
     "metadata": {},
     "output_type": "execute_result"
    }
   ],
   "source": [
    "# 장르 수\n",
    "data['genre'].nunique()"
   ]
  },
  {
   "cell_type": "code",
   "execution_count": 12,
   "id": "f65000d1",
   "metadata": {},
   "outputs": [
    {
     "data": {
      "text/plain": [
       "title\n",
       "american beauty (1999)                                   3211\n",
       "star wars: episode iv - a new hope (1977)                2910\n",
       "star wars: episode v - the empire strikes back (1980)    2885\n",
       "star wars: episode vi - return of the jedi (1983)        2716\n",
       "saving private ryan (1998)                               2561\n",
       "terminator 2: judgment day (1991)                        2509\n",
       "silence of the lambs, the (1991)                         2498\n",
       "raiders of the lost ark (1981)                           2473\n",
       "back to the future (1985)                                2460\n",
       "matrix, the (1999)                                       2434\n",
       "jurassic park (1993)                                     2413\n",
       "sixth sense, the (1999)                                  2385\n",
       "fargo (1996)                                             2371\n",
       "braveheart (1995)                                        2314\n",
       "men in black (1997)                                      2297\n",
       "schindler's list (1993)                                  2257\n",
       "princess bride, the (1987)                               2252\n",
       "shakespeare in love (1998)                               2213\n",
       "l.a. confidential (1997)                                 2210\n",
       "shawshank redemption, the (1994)                         2194\n",
       "godfather, the (1972)                                    2167\n",
       "groundhog day (1993)                                     2121\n",
       "e.t. the extra-terrestrial (1982)                        2102\n",
       "being john malkovich (1999)                              2066\n",
       "ghostbusters (1984)                                      2051\n",
       "pulp fiction (1994)                                      2030\n",
       "forrest gump (1994)                                      2022\n",
       "terminator, the (1984)                                   2019\n",
       "toy story (1995)                                         2000\n",
       "fugitive, the (1993)                                     1941\n",
       "Name: user_id, dtype: int64"
      ]
     },
     "execution_count": 12,
     "metadata": {},
     "output_type": "execute_result"
    }
   ],
   "source": [
    "# 인기 많은 영화\n",
    "movie_count = data.groupby('title')['user_id'].count()\n",
    "movie_count.sort_values(ascending=False).head(30)"
   ]
  },
  {
   "cell_type": "code",
   "execution_count": 13,
   "id": "1678812c",
   "metadata": {},
   "outputs": [
    {
     "data": {
      "text/plain": [
       "count    6039.000000\n",
       "mean      138.512668\n",
       "std       156.241599\n",
       "min         1.000000\n",
       "25%        38.000000\n",
       "50%        81.000000\n",
       "75%       177.000000\n",
       "max      1968.000000\n",
       "Name: genre, dtype: float64"
      ]
     },
     "execution_count": 13,
     "metadata": {},
     "output_type": "execute_result"
    }
   ],
   "source": [
    "# 유저별 몇 개의 장르를 보고 있는지에 대한 통계\n",
    "user_count = data.groupby('user_id')['genre'].count()\n",
    "user_count.describe()"
   ]
  },
  {
   "cell_type": "markdown",
   "id": "a75efb14",
   "metadata": {},
   "source": [
    "### (3) 내가 선호하는 영화 5가지를 추가"
   ]
  },
  {
   "cell_type": "code",
   "execution_count": 14,
   "id": "6ac47ff6",
   "metadata": {},
   "outputs": [
    {
     "data": {
      "text/html": [
       "<div>\n",
       "<style scoped>\n",
       "    .dataframe tbody tr th:only-of-type {\n",
       "        vertical-align: middle;\n",
       "    }\n",
       "\n",
       "    .dataframe tbody tr th {\n",
       "        vertical-align: top;\n",
       "    }\n",
       "\n",
       "    .dataframe thead th {\n",
       "        text-align: right;\n",
       "    }\n",
       "</style>\n",
       "<table border=\"1\" class=\"dataframe\">\n",
       "  <thead>\n",
       "    <tr style=\"text-align: right;\">\n",
       "      <th></th>\n",
       "      <th>user_id</th>\n",
       "      <th>movie_id</th>\n",
       "      <th>ratings</th>\n",
       "      <th>timestamp</th>\n",
       "      <th>title</th>\n",
       "      <th>genre</th>\n",
       "    </tr>\n",
       "  </thead>\n",
       "  <tbody>\n",
       "    <tr>\n",
       "      <th>122219</th>\n",
       "      <td>2</td>\n",
       "      <td>2571</td>\n",
       "      <td>4</td>\n",
       "      <td>978299773</td>\n",
       "      <td>matrix, the (1999)</td>\n",
       "      <td>action|sci-fi|thriller</td>\n",
       "    </tr>\n",
       "  </tbody>\n",
       "</table>\n",
       "</div>"
      ],
      "text/plain": [
       "        user_id  movie_id  ratings  timestamp               title  \\\n",
       "122219        2      2571        4  978299773  matrix, the (1999)   \n",
       "\n",
       "                         genre  \n",
       "122219  action|sci-fi|thriller  "
      ]
     },
     "execution_count": 14,
     "metadata": {},
     "output_type": "execute_result"
    }
   ],
   "source": [
    "data.loc[data['title']=='matrix, the (1999)'].head(1)"
   ]
  },
  {
   "cell_type": "code",
   "execution_count": 15,
   "id": "2972e345",
   "metadata": {},
   "outputs": [
    {
     "data": {
      "text/html": [
       "<div>\n",
       "<style scoped>\n",
       "    .dataframe tbody tr th:only-of-type {\n",
       "        vertical-align: middle;\n",
       "    }\n",
       "\n",
       "    .dataframe tbody tr th {\n",
       "        vertical-align: top;\n",
       "    }\n",
       "\n",
       "    .dataframe thead th {\n",
       "        text-align: right;\n",
       "    }\n",
       "</style>\n",
       "<table border=\"1\" class=\"dataframe\">\n",
       "  <thead>\n",
       "    <tr style=\"text-align: right;\">\n",
       "      <th></th>\n",
       "      <th>user_id</th>\n",
       "      <th>movie_id</th>\n",
       "      <th>ratings</th>\n",
       "      <th>timestamp</th>\n",
       "      <th>title</th>\n",
       "      <th>genre</th>\n",
       "    </tr>\n",
       "  </thead>\n",
       "  <tbody>\n",
       "    <tr>\n",
       "      <th>21777</th>\n",
       "      <td>1</td>\n",
       "      <td>1270</td>\n",
       "      <td>5</td>\n",
       "      <td>978300055</td>\n",
       "      <td>back to the future (1985)</td>\n",
       "      <td>comedy|sci-fi</td>\n",
       "    </tr>\n",
       "  </tbody>\n",
       "</table>\n",
       "</div>"
      ],
      "text/plain": [
       "       user_id  movie_id  ratings  timestamp                      title  \\\n",
       "21777        1      1270        5  978300055  back to the future (1985)   \n",
       "\n",
       "               genre  \n",
       "21777  comedy|sci-fi  "
      ]
     },
     "execution_count": 15,
     "metadata": {},
     "output_type": "execute_result"
    }
   ],
   "source": [
    "data.loc[data['title']=='back to the future (1985)'].head(1)"
   ]
  },
  {
   "cell_type": "code",
   "execution_count": 16,
   "id": "9b3b846f",
   "metadata": {},
   "outputs": [
    {
     "data": {
      "text/html": [
       "<div>\n",
       "<style scoped>\n",
       "    .dataframe tbody tr th:only-of-type {\n",
       "        vertical-align: middle;\n",
       "    }\n",
       "\n",
       "    .dataframe tbody tr th {\n",
       "        vertical-align: top;\n",
       "    }\n",
       "\n",
       "    .dataframe thead th {\n",
       "        text-align: right;\n",
       "    }\n",
       "</style>\n",
       "<table border=\"1\" class=\"dataframe\">\n",
       "  <thead>\n",
       "    <tr style=\"text-align: right;\">\n",
       "      <th></th>\n",
       "      <th>user_id</th>\n",
       "      <th>movie_id</th>\n",
       "      <th>ratings</th>\n",
       "      <th>timestamp</th>\n",
       "      <th>title</th>\n",
       "      <th>genre</th>\n",
       "    </tr>\n",
       "  </thead>\n",
       "  <tbody>\n",
       "    <tr>\n",
       "      <th>101881</th>\n",
       "      <td>2</td>\n",
       "      <td>480</td>\n",
       "      <td>5</td>\n",
       "      <td>978299809</td>\n",
       "      <td>jurassic park (1993)</td>\n",
       "      <td>action|adventure|sci-fi</td>\n",
       "    </tr>\n",
       "  </tbody>\n",
       "</table>\n",
       "</div>"
      ],
      "text/plain": [
       "        user_id  movie_id  ratings  timestamp                 title  \\\n",
       "101881        2       480        5  978299809  jurassic park (1993)   \n",
       "\n",
       "                          genre  \n",
       "101881  action|adventure|sci-fi  "
      ]
     },
     "execution_count": 16,
     "metadata": {},
     "output_type": "execute_result"
    }
   ],
   "source": [
    "data.loc[data['title']=='jurassic park (1993)'].head(1)"
   ]
  },
  {
   "cell_type": "code",
   "execution_count": 17,
   "id": "c6b7bc73",
   "metadata": {},
   "outputs": [
    {
     "data": {
      "text/html": [
       "<div>\n",
       "<style scoped>\n",
       "    .dataframe tbody tr th:only-of-type {\n",
       "        vertical-align: middle;\n",
       "    }\n",
       "\n",
       "    .dataframe tbody tr th {\n",
       "        vertical-align: top;\n",
       "    }\n",
       "\n",
       "    .dataframe thead th {\n",
       "        text-align: right;\n",
       "    }\n",
       "</style>\n",
       "<table border=\"1\" class=\"dataframe\">\n",
       "  <thead>\n",
       "    <tr style=\"text-align: right;\">\n",
       "      <th></th>\n",
       "      <th>user_id</th>\n",
       "      <th>movie_id</th>\n",
       "      <th>ratings</th>\n",
       "      <th>timestamp</th>\n",
       "      <th>title</th>\n",
       "      <th>genre</th>\n",
       "    </tr>\n",
       "  </thead>\n",
       "  <tbody>\n",
       "    <tr>\n",
       "      <th>166207</th>\n",
       "      <td>3</td>\n",
       "      <td>1580</td>\n",
       "      <td>3</td>\n",
       "      <td>978297663</td>\n",
       "      <td>men in black (1997)</td>\n",
       "      <td>action|adventure|comedy|sci-fi</td>\n",
       "    </tr>\n",
       "  </tbody>\n",
       "</table>\n",
       "</div>"
      ],
      "text/plain": [
       "        user_id  movie_id  ratings  timestamp                title  \\\n",
       "166207        3      1580        3  978297663  men in black (1997)   \n",
       "\n",
       "                                 genre  \n",
       "166207  action|adventure|comedy|sci-fi  "
      ]
     },
     "execution_count": 17,
     "metadata": {},
     "output_type": "execute_result"
    }
   ],
   "source": [
    "data.loc[data['title']=='men in black (1997)'].head(1)"
   ]
  },
  {
   "cell_type": "code",
   "execution_count": 18,
   "id": "410b826c",
   "metadata": {},
   "outputs": [
    {
     "data": {
      "text/html": [
       "<div>\n",
       "<style scoped>\n",
       "    .dataframe tbody tr th:only-of-type {\n",
       "        vertical-align: middle;\n",
       "    }\n",
       "\n",
       "    .dataframe tbody tr th {\n",
       "        vertical-align: top;\n",
       "    }\n",
       "\n",
       "    .dataframe thead th {\n",
       "        text-align: right;\n",
       "    }\n",
       "</style>\n",
       "<table border=\"1\" class=\"dataframe\">\n",
       "  <thead>\n",
       "    <tr style=\"text-align: right;\">\n",
       "      <th></th>\n",
       "      <th>user_id</th>\n",
       "      <th>movie_id</th>\n",
       "      <th>ratings</th>\n",
       "      <th>timestamp</th>\n",
       "      <th>title</th>\n",
       "      <th>genre</th>\n",
       "    </tr>\n",
       "  </thead>\n",
       "  <tbody>\n",
       "    <tr>\n",
       "      <th>223334</th>\n",
       "      <td>5</td>\n",
       "      <td>2291</td>\n",
       "      <td>5</td>\n",
       "      <td>978244808</td>\n",
       "      <td>edward scissorhands (1990)</td>\n",
       "      <td>drama|romance</td>\n",
       "    </tr>\n",
       "  </tbody>\n",
       "</table>\n",
       "</div>"
      ],
      "text/plain": [
       "        user_id  movie_id  ratings  timestamp                       title  \\\n",
       "223334        5      2291        5  978244808  edward scissorhands (1990)   \n",
       "\n",
       "                genre  \n",
       "223334  drama|romance  "
      ]
     },
     "execution_count": 18,
     "metadata": {},
     "output_type": "execute_result"
    }
   ],
   "source": [
    "data.loc[data['title']=='edward scissorhands (1990)'].head(1)"
   ]
  },
  {
   "cell_type": "code",
   "execution_count": 19,
   "id": "3f38d19e",
   "metadata": {},
   "outputs": [
    {
     "data": {
      "text/html": [
       "<div>\n",
       "<style scoped>\n",
       "    .dataframe tbody tr th:only-of-type {\n",
       "        vertical-align: middle;\n",
       "    }\n",
       "\n",
       "    .dataframe tbody tr th {\n",
       "        vertical-align: top;\n",
       "    }\n",
       "\n",
       "    .dataframe thead th {\n",
       "        text-align: right;\n",
       "    }\n",
       "</style>\n",
       "<table border=\"1\" class=\"dataframe\">\n",
       "  <thead>\n",
       "    <tr style=\"text-align: right;\">\n",
       "      <th></th>\n",
       "      <th>user_id</th>\n",
       "      <th>movie_id</th>\n",
       "      <th>ratings</th>\n",
       "      <th>timestamp</th>\n",
       "      <th>title</th>\n",
       "      <th>genre</th>\n",
       "    </tr>\n",
       "  </thead>\n",
       "  <tbody>\n",
       "    <tr>\n",
       "      <th>0</th>\n",
       "      <td>jw</td>\n",
       "      <td>2571</td>\n",
       "      <td>5</td>\n",
       "      <td>978299773</td>\n",
       "      <td>matrix, the (1999)</td>\n",
       "      <td>action|sci-fi|thriller</td>\n",
       "    </tr>\n",
       "    <tr>\n",
       "      <th>1</th>\n",
       "      <td>jw</td>\n",
       "      <td>1270</td>\n",
       "      <td>5</td>\n",
       "      <td>978300055</td>\n",
       "      <td>back to the future (1985)</td>\n",
       "      <td>comedy|sci-fi</td>\n",
       "    </tr>\n",
       "    <tr>\n",
       "      <th>2</th>\n",
       "      <td>jw</td>\n",
       "      <td>480</td>\n",
       "      <td>4</td>\n",
       "      <td>978299809</td>\n",
       "      <td>jurassic park (1993)</td>\n",
       "      <td>action|adventure|sci-fi</td>\n",
       "    </tr>\n",
       "    <tr>\n",
       "      <th>3</th>\n",
       "      <td>jw</td>\n",
       "      <td>1580</td>\n",
       "      <td>5</td>\n",
       "      <td>978297663</td>\n",
       "      <td>men in black (1997)</td>\n",
       "      <td>action|adventure|comedy|sci-fi</td>\n",
       "    </tr>\n",
       "    <tr>\n",
       "      <th>4</th>\n",
       "      <td>jw</td>\n",
       "      <td>2291</td>\n",
       "      <td>5</td>\n",
       "      <td>978244808</td>\n",
       "      <td>edward scissorhands (1990)</td>\n",
       "      <td>drama|romance</td>\n",
       "    </tr>\n",
       "  </tbody>\n",
       "</table>\n",
       "</div>"
      ],
      "text/plain": [
       "  user_id  movie_id  ratings  timestamp                       title  \\\n",
       "0      jw      2571        5  978299773          matrix, the (1999)   \n",
       "1      jw      1270        5  978300055   back to the future (1985)   \n",
       "2      jw       480        4  978299809        jurassic park (1993)   \n",
       "3      jw      1580        5  978297663         men in black (1997)   \n",
       "4      jw      2291        5  978244808  edward scissorhands (1990)   \n",
       "\n",
       "                            genre  \n",
       "0          action|sci-fi|thriller  \n",
       "1                   comedy|sci-fi  \n",
       "2         action|adventure|sci-fi  \n",
       "3  action|adventure|comedy|sci-fi  \n",
       "4                   drama|romance  "
      ]
     },
     "execution_count": 19,
     "metadata": {},
     "output_type": "execute_result"
    }
   ],
   "source": [
    "# jw\n",
    "my_favorite = pd.DataFrame([{'user_id':'jw', 'movie_id':2571, 'ratings':5, 'timestamp':978299773, 'title':'matrix, the (1999)', 'genre':'action|sci-fi|thriller'}, \n",
    "                            {'user_id':'jw', 'movie_id':1270, 'ratings':5, 'timestamp':978300055, 'title':'back to the future (1985)', 'genre':'comedy|sci-fi'},\n",
    "                            {'user_id':'jw', 'movie_id':480, 'ratings':4, 'timestamp':978299809, 'title':'jurassic park (1993)', 'genre':'action|adventure|sci-fi'},\n",
    "                            {'user_id':'jw', 'movie_id':1580, 'ratings':5, 'timestamp':978297663, 'title':'men in black (1997)', 'genre':'action|adventure|comedy|sci-fi'},\n",
    "                            {'user_id':'jw', 'movie_id':2291, 'ratings':5, 'timestamp':978244808, 'title':'edward scissorhands (1990)', 'genre':'drama|romance'}])\n",
    "my_favorite"
   ]
  },
  {
   "cell_type": "code",
   "execution_count": 20,
   "id": "eaf2dfc3",
   "metadata": {},
   "outputs": [
    {
     "data": {
      "text/html": [
       "<div>\n",
       "<style scoped>\n",
       "    .dataframe tbody tr th:only-of-type {\n",
       "        vertical-align: middle;\n",
       "    }\n",
       "\n",
       "    .dataframe tbody tr th {\n",
       "        vertical-align: top;\n",
       "    }\n",
       "\n",
       "    .dataframe thead th {\n",
       "        text-align: right;\n",
       "    }\n",
       "</style>\n",
       "<table border=\"1\" class=\"dataframe\">\n",
       "  <thead>\n",
       "    <tr style=\"text-align: right;\">\n",
       "      <th></th>\n",
       "      <th>user_id</th>\n",
       "      <th>movie_id</th>\n",
       "      <th>ratings</th>\n",
       "      <th>timestamp</th>\n",
       "      <th>title</th>\n",
       "      <th>genre</th>\n",
       "    </tr>\n",
       "  </thead>\n",
       "  <tbody>\n",
       "    <tr>\n",
       "      <th>0</th>\n",
       "      <td>1</td>\n",
       "      <td>1193</td>\n",
       "      <td>5</td>\n",
       "      <td>978300760</td>\n",
       "      <td>one flew over the cuckoo's nest (1975)</td>\n",
       "      <td>drama</td>\n",
       "    </tr>\n",
       "    <tr>\n",
       "      <th>1</th>\n",
       "      <td>2</td>\n",
       "      <td>1193</td>\n",
       "      <td>5</td>\n",
       "      <td>978298413</td>\n",
       "      <td>one flew over the cuckoo's nest (1975)</td>\n",
       "      <td>drama</td>\n",
       "    </tr>\n",
       "    <tr>\n",
       "      <th>2</th>\n",
       "      <td>12</td>\n",
       "      <td>1193</td>\n",
       "      <td>4</td>\n",
       "      <td>978220179</td>\n",
       "      <td>one flew over the cuckoo's nest (1975)</td>\n",
       "      <td>drama</td>\n",
       "    </tr>\n",
       "    <tr>\n",
       "      <th>3</th>\n",
       "      <td>15</td>\n",
       "      <td>1193</td>\n",
       "      <td>4</td>\n",
       "      <td>978199279</td>\n",
       "      <td>one flew over the cuckoo's nest (1975)</td>\n",
       "      <td>drama</td>\n",
       "    </tr>\n",
       "    <tr>\n",
       "      <th>4</th>\n",
       "      <td>17</td>\n",
       "      <td>1193</td>\n",
       "      <td>5</td>\n",
       "      <td>978158471</td>\n",
       "      <td>one flew over the cuckoo's nest (1975)</td>\n",
       "      <td>drama</td>\n",
       "    </tr>\n",
       "    <tr>\n",
       "      <th>...</th>\n",
       "      <td>...</td>\n",
       "      <td>...</td>\n",
       "      <td>...</td>\n",
       "      <td>...</td>\n",
       "      <td>...</td>\n",
       "      <td>...</td>\n",
       "    </tr>\n",
       "    <tr>\n",
       "      <th>0</th>\n",
       "      <td>jw</td>\n",
       "      <td>2571</td>\n",
       "      <td>5</td>\n",
       "      <td>978299773</td>\n",
       "      <td>matrix, the (1999)</td>\n",
       "      <td>action|sci-fi|thriller</td>\n",
       "    </tr>\n",
       "    <tr>\n",
       "      <th>1</th>\n",
       "      <td>jw</td>\n",
       "      <td>1270</td>\n",
       "      <td>5</td>\n",
       "      <td>978300055</td>\n",
       "      <td>back to the future (1985)</td>\n",
       "      <td>comedy|sci-fi</td>\n",
       "    </tr>\n",
       "    <tr>\n",
       "      <th>2</th>\n",
       "      <td>jw</td>\n",
       "      <td>480</td>\n",
       "      <td>4</td>\n",
       "      <td>978299809</td>\n",
       "      <td>jurassic park (1993)</td>\n",
       "      <td>action|adventure|sci-fi</td>\n",
       "    </tr>\n",
       "    <tr>\n",
       "      <th>3</th>\n",
       "      <td>jw</td>\n",
       "      <td>1580</td>\n",
       "      <td>5</td>\n",
       "      <td>978297663</td>\n",
       "      <td>men in black (1997)</td>\n",
       "      <td>action|adventure|comedy|sci-fi</td>\n",
       "    </tr>\n",
       "    <tr>\n",
       "      <th>4</th>\n",
       "      <td>jw</td>\n",
       "      <td>2291</td>\n",
       "      <td>5</td>\n",
       "      <td>978244808</td>\n",
       "      <td>edward scissorhands (1990)</td>\n",
       "      <td>drama|romance</td>\n",
       "    </tr>\n",
       "  </tbody>\n",
       "</table>\n",
       "<p>836483 rows × 6 columns</p>\n",
       "</div>"
      ],
      "text/plain": [
       "   user_id  movie_id  ratings  timestamp  \\\n",
       "0        1      1193        5  978300760   \n",
       "1        2      1193        5  978298413   \n",
       "2       12      1193        4  978220179   \n",
       "3       15      1193        4  978199279   \n",
       "4       17      1193        5  978158471   \n",
       "..     ...       ...      ...        ...   \n",
       "0       jw      2571        5  978299773   \n",
       "1       jw      1270        5  978300055   \n",
       "2       jw       480        4  978299809   \n",
       "3       jw      1580        5  978297663   \n",
       "4       jw      2291        5  978244808   \n",
       "\n",
       "                                     title                           genre  \n",
       "0   one flew over the cuckoo's nest (1975)                           drama  \n",
       "1   one flew over the cuckoo's nest (1975)                           drama  \n",
       "2   one flew over the cuckoo's nest (1975)                           drama  \n",
       "3   one flew over the cuckoo's nest (1975)                           drama  \n",
       "4   one flew over the cuckoo's nest (1975)                           drama  \n",
       "..                                     ...                             ...  \n",
       "0                       matrix, the (1999)          action|sci-fi|thriller  \n",
       "1                back to the future (1985)                   comedy|sci-fi  \n",
       "2                     jurassic park (1993)         action|adventure|sci-fi  \n",
       "3                      men in black (1997)  action|adventure|comedy|sci-fi  \n",
       "4               edward scissorhands (1990)                   drama|romance  \n",
       "\n",
       "[836483 rows x 6 columns]"
      ]
     },
     "execution_count": 20,
     "metadata": {},
     "output_type": "execute_result"
    }
   ],
   "source": [
    "data = pd.concat([data, my_favorite])\n",
    "data"
   ]
  },
  {
   "cell_type": "code",
   "execution_count": 21,
   "id": "4b028144",
   "metadata": {},
   "outputs": [
    {
     "data": {
      "text/plain": [
       "0    2571\n",
       "1    1270\n",
       "2     480\n",
       "3    1580\n",
       "4    2291\n",
       "Name: movie_id, dtype: int64"
      ]
     },
     "execution_count": 21,
     "metadata": {},
     "output_type": "execute_result"
    }
   ],
   "source": [
    "my_favorite['movie_id']"
   ]
  },
  {
   "cell_type": "code",
   "execution_count": 22,
   "id": "815081ce",
   "metadata": {},
   "outputs": [
    {
     "data": {
      "text/plain": [
       "0    5\n",
       "1    5\n",
       "2    4\n",
       "3    5\n",
       "4    5\n",
       "Name: ratings, dtype: int64"
      ]
     },
     "execution_count": 22,
     "metadata": {},
     "output_type": "execute_result"
    }
   ],
   "source": [
    "my_favorite['ratings']"
   ]
  },
  {
   "cell_type": "code",
   "execution_count": 23,
   "id": "420b1bf2",
   "metadata": {},
   "outputs": [
    {
     "data": {
      "text/plain": [
       "0    978299773\n",
       "1    978300055\n",
       "2    978299809\n",
       "3    978297663\n",
       "4    978244808\n",
       "Name: timestamp, dtype: int64"
      ]
     },
     "execution_count": 23,
     "metadata": {},
     "output_type": "execute_result"
    }
   ],
   "source": [
    "my_favorite['timestamp']"
   ]
  },
  {
   "cell_type": "code",
   "execution_count": 24,
   "id": "01ea4e46",
   "metadata": {},
   "outputs": [
    {
     "data": {
      "text/plain": [
       "0            matrix, the (1999)\n",
       "1     back to the future (1985)\n",
       "2          jurassic park (1993)\n",
       "3           men in black (1997)\n",
       "4    edward scissorhands (1990)\n",
       "Name: title, dtype: object"
      ]
     },
     "execution_count": 24,
     "metadata": {},
     "output_type": "execute_result"
    }
   ],
   "source": [
    "my_favorite['title']"
   ]
  },
  {
   "cell_type": "code",
   "execution_count": 25,
   "id": "2adeac89",
   "metadata": {},
   "outputs": [
    {
     "data": {
      "text/plain": [
       "0            action|sci-fi|thriller\n",
       "1                     comedy|sci-fi\n",
       "2           action|adventure|sci-fi\n",
       "3    action|adventure|comedy|sci-fi\n",
       "4                     drama|romance\n",
       "Name: genre, dtype: object"
      ]
     },
     "execution_count": 25,
     "metadata": {},
     "output_type": "execute_result"
    }
   ],
   "source": [
    "my_favorite['genre']"
   ]
  },
  {
   "cell_type": "code",
   "execution_count": 26,
   "id": "cc632a04",
   "metadata": {},
   "outputs": [
    {
     "data": {
      "text/html": [
       "<div>\n",
       "<style scoped>\n",
       "    .dataframe tbody tr th:only-of-type {\n",
       "        vertical-align: middle;\n",
       "    }\n",
       "\n",
       "    .dataframe tbody tr th {\n",
       "        vertical-align: top;\n",
       "    }\n",
       "\n",
       "    .dataframe thead th {\n",
       "        text-align: right;\n",
       "    }\n",
       "</style>\n",
       "<table border=\"1\" class=\"dataframe\">\n",
       "  <thead>\n",
       "    <tr style=\"text-align: right;\">\n",
       "      <th></th>\n",
       "      <th>user_id</th>\n",
       "      <th>movie_id</th>\n",
       "      <th>ratings</th>\n",
       "      <th>timestamp</th>\n",
       "      <th>title</th>\n",
       "      <th>genre</th>\n",
       "    </tr>\n",
       "  </thead>\n",
       "  <tbody>\n",
       "    <tr>\n",
       "      <th>0</th>\n",
       "      <td>jw</td>\n",
       "      <td>2571</td>\n",
       "      <td>5</td>\n",
       "      <td>978299773</td>\n",
       "      <td>matrix, the (1999)</td>\n",
       "      <td>action|sci-fi|thriller</td>\n",
       "    </tr>\n",
       "    <tr>\n",
       "      <th>1</th>\n",
       "      <td>jw</td>\n",
       "      <td>1270</td>\n",
       "      <td>5</td>\n",
       "      <td>978300055</td>\n",
       "      <td>back to the future (1985)</td>\n",
       "      <td>comedy|sci-fi</td>\n",
       "    </tr>\n",
       "    <tr>\n",
       "      <th>2</th>\n",
       "      <td>jw</td>\n",
       "      <td>480</td>\n",
       "      <td>4</td>\n",
       "      <td>978299809</td>\n",
       "      <td>jurassic park (1993)</td>\n",
       "      <td>action|adventure|sci-fi</td>\n",
       "    </tr>\n",
       "    <tr>\n",
       "      <th>3</th>\n",
       "      <td>jw</td>\n",
       "      <td>1580</td>\n",
       "      <td>5</td>\n",
       "      <td>978297663</td>\n",
       "      <td>men in black (1997)</td>\n",
       "      <td>action|adventure|comedy|sci-fi</td>\n",
       "    </tr>\n",
       "    <tr>\n",
       "      <th>4</th>\n",
       "      <td>jw</td>\n",
       "      <td>2291</td>\n",
       "      <td>5</td>\n",
       "      <td>978244808</td>\n",
       "      <td>edward scissorhands (1990)</td>\n",
       "      <td>drama|romance</td>\n",
       "    </tr>\n",
       "  </tbody>\n",
       "</table>\n",
       "</div>"
      ],
      "text/plain": [
       "  user_id  movie_id  ratings  timestamp                       title  \\\n",
       "0      jw      2571        5  978299773          matrix, the (1999)   \n",
       "1      jw      1270        5  978300055   back to the future (1985)   \n",
       "2      jw       480        4  978299809        jurassic park (1993)   \n",
       "3      jw      1580        5  978297663         men in black (1997)   \n",
       "4      jw      2291        5  978244808  edward scissorhands (1990)   \n",
       "\n",
       "                            genre  \n",
       "0          action|sci-fi|thriller  \n",
       "1                   comedy|sci-fi  \n",
       "2         action|adventure|sci-fi  \n",
       "3  action|adventure|comedy|sci-fi  \n",
       "4                   drama|romance  "
      ]
     },
     "execution_count": 26,
     "metadata": {},
     "output_type": "execute_result"
    }
   ],
   "source": [
    "data.tail()"
   ]
  },
  {
   "cell_type": "markdown",
   "id": "9d9885aa",
   "metadata": {},
   "source": [
    "### (4) 모델에 활용하기 위한 전처리"
   ]
  },
  {
   "cell_type": "code",
   "execution_count": 27,
   "id": "aa9d02a6",
   "metadata": {},
   "outputs": [],
   "source": [
    "# 고유한 유저, 아티스트를 찾아내는 코드\n",
    "user_unique = data['user_id'].unique()\n",
    "title_unique = data['title'].unique()\n",
    "\n",
    "# 유저, 아티스트 indexing 하는 코드 idx는 index의 약자\n",
    "user_to_idx = {v:k for k,v in enumerate(user_unique)}\n",
    "title_to_idx = {v:k for k,v in enumerate(title_unique)}"
   ]
  },
  {
   "cell_type": "code",
   "execution_count": 28,
   "id": "e6d5a395",
   "metadata": {},
   "outputs": [
    {
     "name": "stdout",
     "output_type": "stream",
     "text": [
      "6039\n",
      "124\n"
     ]
    }
   ],
   "source": [
    "# 인덱싱이 잘 되었는지 확인\n",
    "print(user_to_idx['jw'])\n",
    "print(title_to_idx['matrix, the (1999)'])"
   ]
  },
  {
   "cell_type": "code",
   "execution_count": 29,
   "id": "3f2e4d68",
   "metadata": {},
   "outputs": [
    {
     "data": {
      "text/html": [
       "<div>\n",
       "<style scoped>\n",
       "    .dataframe tbody tr th:only-of-type {\n",
       "        vertical-align: middle;\n",
       "    }\n",
       "\n",
       "    .dataframe tbody tr th {\n",
       "        vertical-align: top;\n",
       "    }\n",
       "\n",
       "    .dataframe thead th {\n",
       "        text-align: right;\n",
       "    }\n",
       "</style>\n",
       "<table border=\"1\" class=\"dataframe\">\n",
       "  <thead>\n",
       "    <tr style=\"text-align: right;\">\n",
       "      <th></th>\n",
       "      <th>user_id</th>\n",
       "      <th>movie_id</th>\n",
       "      <th>ratings</th>\n",
       "      <th>timestamp</th>\n",
       "      <th>title</th>\n",
       "      <th>genre</th>\n",
       "    </tr>\n",
       "  </thead>\n",
       "  <tbody>\n",
       "    <tr>\n",
       "      <th>836473</th>\n",
       "      <td>5851</td>\n",
       "      <td>3607</td>\n",
       "      <td>5</td>\n",
       "      <td>957756608</td>\n",
       "      <td>one little indian (1973)</td>\n",
       "      <td>comedy|drama|western</td>\n",
       "    </tr>\n",
       "    <tr>\n",
       "      <th>836474</th>\n",
       "      <td>5854</td>\n",
       "      <td>3026</td>\n",
       "      <td>4</td>\n",
       "      <td>958346883</td>\n",
       "      <td>slaughterhouse (1987)</td>\n",
       "      <td>horror</td>\n",
       "    </tr>\n",
       "    <tr>\n",
       "      <th>836475</th>\n",
       "      <td>5854</td>\n",
       "      <td>690</td>\n",
       "      <td>3</td>\n",
       "      <td>957744257</td>\n",
       "      <td>promise, the (versprechen, das) (1994)</td>\n",
       "      <td>romance</td>\n",
       "    </tr>\n",
       "    <tr>\n",
       "      <th>836476</th>\n",
       "      <td>5938</td>\n",
       "      <td>2909</td>\n",
       "      <td>4</td>\n",
       "      <td>957273353</td>\n",
       "      <td>five wives, three secretaries and me (1998)</td>\n",
       "      <td>documentary</td>\n",
       "    </tr>\n",
       "    <tr>\n",
       "      <th>836477</th>\n",
       "      <td>5948</td>\n",
       "      <td>1360</td>\n",
       "      <td>5</td>\n",
       "      <td>1016563709</td>\n",
       "      <td>identification of a woman (identificazione di ...</td>\n",
       "      <td>drama</td>\n",
       "    </tr>\n",
       "    <tr>\n",
       "      <th>0</th>\n",
       "      <td>jw</td>\n",
       "      <td>2571</td>\n",
       "      <td>5</td>\n",
       "      <td>978299773</td>\n",
       "      <td>matrix, the (1999)</td>\n",
       "      <td>action|sci-fi|thriller</td>\n",
       "    </tr>\n",
       "    <tr>\n",
       "      <th>1</th>\n",
       "      <td>jw</td>\n",
       "      <td>1270</td>\n",
       "      <td>5</td>\n",
       "      <td>978300055</td>\n",
       "      <td>back to the future (1985)</td>\n",
       "      <td>comedy|sci-fi</td>\n",
       "    </tr>\n",
       "    <tr>\n",
       "      <th>2</th>\n",
       "      <td>jw</td>\n",
       "      <td>480</td>\n",
       "      <td>4</td>\n",
       "      <td>978299809</td>\n",
       "      <td>jurassic park (1993)</td>\n",
       "      <td>action|adventure|sci-fi</td>\n",
       "    </tr>\n",
       "    <tr>\n",
       "      <th>3</th>\n",
       "      <td>jw</td>\n",
       "      <td>1580</td>\n",
       "      <td>5</td>\n",
       "      <td>978297663</td>\n",
       "      <td>men in black (1997)</td>\n",
       "      <td>action|adventure|comedy|sci-fi</td>\n",
       "    </tr>\n",
       "    <tr>\n",
       "      <th>4</th>\n",
       "      <td>jw</td>\n",
       "      <td>2291</td>\n",
       "      <td>5</td>\n",
       "      <td>978244808</td>\n",
       "      <td>edward scissorhands (1990)</td>\n",
       "      <td>drama|romance</td>\n",
       "    </tr>\n",
       "  </tbody>\n",
       "</table>\n",
       "</div>"
      ],
      "text/plain": [
       "       user_id  movie_id  ratings   timestamp  \\\n",
       "836473    5851      3607        5   957756608   \n",
       "836474    5854      3026        4   958346883   \n",
       "836475    5854       690        3   957744257   \n",
       "836476    5938      2909        4   957273353   \n",
       "836477    5948      1360        5  1016563709   \n",
       "0           jw      2571        5   978299773   \n",
       "1           jw      1270        5   978300055   \n",
       "2           jw       480        4   978299809   \n",
       "3           jw      1580        5   978297663   \n",
       "4           jw      2291        5   978244808   \n",
       "\n",
       "                                                    title  \\\n",
       "836473                           one little indian (1973)   \n",
       "836474                              slaughterhouse (1987)   \n",
       "836475             promise, the (versprechen, das) (1994)   \n",
       "836476        five wives, three secretaries and me (1998)   \n",
       "836477  identification of a woman (identificazione di ...   \n",
       "0                                      matrix, the (1999)   \n",
       "1                               back to the future (1985)   \n",
       "2                                    jurassic park (1993)   \n",
       "3                                     men in black (1997)   \n",
       "4                              edward scissorhands (1990)   \n",
       "\n",
       "                                 genre  \n",
       "836473            comedy|drama|western  \n",
       "836474                          horror  \n",
       "836475                         romance  \n",
       "836476                     documentary  \n",
       "836477                           drama  \n",
       "0               action|sci-fi|thriller  \n",
       "1                        comedy|sci-fi  \n",
       "2              action|adventure|sci-fi  \n",
       "3       action|adventure|comedy|sci-fi  \n",
       "4                        drama|romance  "
      ]
     },
     "execution_count": 29,
     "metadata": {},
     "output_type": "execute_result"
    }
   ],
   "source": [
    "data.tail(10)"
   ]
  },
  {
   "cell_type": "code",
   "execution_count": 30,
   "id": "f7b7e36c",
   "metadata": {},
   "outputs": [
    {
     "name": "stdout",
     "output_type": "stream",
     "text": [
      "user_id column indexing OK!!\n",
      "title column indexing OK!!\n"
     ]
    }
   ],
   "source": [
    "# indexing을 통해 데이터 컬럼 내 값을 바꾸는 코드\n",
    "\n",
    "# user_to_idx.get을 통해 user_id 컬럼의 모든 값을 인덱싱한 Series를 구하기\n",
    "# 혹시 정상적으로 인덱싱되지 않은 row가 있다면 인덱스가 NaN이 될 테니 dropna()로 제거 \n",
    "temp_user_data = data['user_id'].map(user_to_idx.get).dropna()\n",
    "if len(temp_user_data) == len(data):   # 모든 row가 정상적으로 인덱싱되었다면\n",
    "    print('user_id column indexing OK!!')\n",
    "    data['user_id'] = temp_user_data   # data['user_id']을 인덱싱된 Series로 교체 \n",
    "else:\n",
    "    print('user_id column indexing Fail!!')\n",
    "\n",
    "# title_to_idx을 통해 title 컬럼도 동일한 방식으로 인덱싱\n",
    "temp_title_data = data['title'].map(title_to_idx.get).dropna()\n",
    "if len(temp_title_data) == len(data):\n",
    "    print('title column indexing OK!!')\n",
    "    data['title'] = temp_title_data\n",
    "else:\n",
    "    print('title column indexing Fail!!')"
   ]
  },
  {
   "cell_type": "code",
   "execution_count": 31,
   "id": "0107724d",
   "metadata": {},
   "outputs": [
    {
     "name": "stdout",
     "output_type": "stream",
     "text": [
      "6039\n",
      "22\n"
     ]
    }
   ],
   "source": [
    "# 인덱싱이 잘 되었는지 확인\n",
    "print(user_to_idx['jw'])\n",
    "print(title_to_idx['back to the future (1985)'])"
   ]
  },
  {
   "cell_type": "code",
   "execution_count": 32,
   "id": "81c1de83",
   "metadata": {},
   "outputs": [
    {
     "data": {
      "text/html": [
       "<div>\n",
       "<style scoped>\n",
       "    .dataframe tbody tr th:only-of-type {\n",
       "        vertical-align: middle;\n",
       "    }\n",
       "\n",
       "    .dataframe tbody tr th {\n",
       "        vertical-align: top;\n",
       "    }\n",
       "\n",
       "    .dataframe thead th {\n",
       "        text-align: right;\n",
       "    }\n",
       "</style>\n",
       "<table border=\"1\" class=\"dataframe\">\n",
       "  <thead>\n",
       "    <tr style=\"text-align: right;\">\n",
       "      <th></th>\n",
       "      <th>user_id</th>\n",
       "      <th>movie_id</th>\n",
       "      <th>ratings</th>\n",
       "      <th>timestamp</th>\n",
       "      <th>title</th>\n",
       "      <th>genre</th>\n",
       "    </tr>\n",
       "  </thead>\n",
       "  <tbody>\n",
       "    <tr>\n",
       "      <th>836473</th>\n",
       "      <td>1621</td>\n",
       "      <td>3607</td>\n",
       "      <td>5</td>\n",
       "      <td>957756608</td>\n",
       "      <td>3623</td>\n",
       "      <td>comedy|drama|western</td>\n",
       "    </tr>\n",
       "    <tr>\n",
       "      <th>836474</th>\n",
       "      <td>3481</td>\n",
       "      <td>3026</td>\n",
       "      <td>4</td>\n",
       "      <td>958346883</td>\n",
       "      <td>3624</td>\n",
       "      <td>horror</td>\n",
       "    </tr>\n",
       "    <tr>\n",
       "      <th>836475</th>\n",
       "      <td>3481</td>\n",
       "      <td>690</td>\n",
       "      <td>3</td>\n",
       "      <td>957744257</td>\n",
       "      <td>3625</td>\n",
       "      <td>romance</td>\n",
       "    </tr>\n",
       "    <tr>\n",
       "      <th>836476</th>\n",
       "      <td>4159</td>\n",
       "      <td>2909</td>\n",
       "      <td>4</td>\n",
       "      <td>957273353</td>\n",
       "      <td>3626</td>\n",
       "      <td>documentary</td>\n",
       "    </tr>\n",
       "    <tr>\n",
       "      <th>836477</th>\n",
       "      <td>1648</td>\n",
       "      <td>1360</td>\n",
       "      <td>5</td>\n",
       "      <td>1016563709</td>\n",
       "      <td>3627</td>\n",
       "      <td>drama</td>\n",
       "    </tr>\n",
       "    <tr>\n",
       "      <th>0</th>\n",
       "      <td>6039</td>\n",
       "      <td>2571</td>\n",
       "      <td>5</td>\n",
       "      <td>978299773</td>\n",
       "      <td>124</td>\n",
       "      <td>action|sci-fi|thriller</td>\n",
       "    </tr>\n",
       "    <tr>\n",
       "      <th>1</th>\n",
       "      <td>6039</td>\n",
       "      <td>1270</td>\n",
       "      <td>5</td>\n",
       "      <td>978300055</td>\n",
       "      <td>22</td>\n",
       "      <td>comedy|sci-fi</td>\n",
       "    </tr>\n",
       "    <tr>\n",
       "      <th>2</th>\n",
       "      <td>6039</td>\n",
       "      <td>480</td>\n",
       "      <td>4</td>\n",
       "      <td>978299809</td>\n",
       "      <td>107</td>\n",
       "      <td>action|adventure|sci-fi</td>\n",
       "    </tr>\n",
       "    <tr>\n",
       "      <th>3</th>\n",
       "      <td>6039</td>\n",
       "      <td>1580</td>\n",
       "      <td>5</td>\n",
       "      <td>978297663</td>\n",
       "      <td>175</td>\n",
       "      <td>action|adventure|comedy|sci-fi</td>\n",
       "    </tr>\n",
       "    <tr>\n",
       "      <th>4</th>\n",
       "      <td>6039</td>\n",
       "      <td>2291</td>\n",
       "      <td>5</td>\n",
       "      <td>978244808</td>\n",
       "      <td>250</td>\n",
       "      <td>drama|romance</td>\n",
       "    </tr>\n",
       "  </tbody>\n",
       "</table>\n",
       "</div>"
      ],
      "text/plain": [
       "        user_id  movie_id  ratings   timestamp  title  \\\n",
       "836473     1621      3607        5   957756608   3623   \n",
       "836474     3481      3026        4   958346883   3624   \n",
       "836475     3481       690        3   957744257   3625   \n",
       "836476     4159      2909        4   957273353   3626   \n",
       "836477     1648      1360        5  1016563709   3627   \n",
       "0          6039      2571        5   978299773    124   \n",
       "1          6039      1270        5   978300055     22   \n",
       "2          6039       480        4   978299809    107   \n",
       "3          6039      1580        5   978297663    175   \n",
       "4          6039      2291        5   978244808    250   \n",
       "\n",
       "                                 genre  \n",
       "836473            comedy|drama|western  \n",
       "836474                          horror  \n",
       "836475                         romance  \n",
       "836476                     documentary  \n",
       "836477                           drama  \n",
       "0               action|sci-fi|thriller  \n",
       "1                        comedy|sci-fi  \n",
       "2              action|adventure|sci-fi  \n",
       "3       action|adventure|comedy|sci-fi  \n",
       "4                        drama|romance  "
      ]
     },
     "execution_count": 32,
     "metadata": {},
     "output_type": "execute_result"
    }
   ],
   "source": [
    "data.tail(10)"
   ]
  },
  {
   "cell_type": "code",
   "execution_count": 33,
   "id": "27723426",
   "metadata": {},
   "outputs": [
    {
     "name": "stdout",
     "output_type": "stream",
     "text": [
      "<class 'pandas.core.frame.DataFrame'>\n",
      "Int64Index: 836483 entries, 0 to 4\n",
      "Data columns (total 6 columns):\n",
      " #   Column     Non-Null Count   Dtype \n",
      "---  ------     --------------   ----- \n",
      " 0   user_id    836483 non-null  int64 \n",
      " 1   movie_id   836483 non-null  int64 \n",
      " 2   ratings    836483 non-null  int64 \n",
      " 3   timestamp  836483 non-null  int64 \n",
      " 4   title      836483 non-null  int64 \n",
      " 5   genre      836483 non-null  object\n",
      "dtypes: int64(5), object(1)\n",
      "memory usage: 44.7+ MB\n"
     ]
    }
   ],
   "source": [
    "data.info()"
   ]
  },
  {
   "cell_type": "markdown",
   "id": "8849c429",
   "metadata": {},
   "source": [
    "### (5) 분석"
   ]
  },
  {
   "cell_type": "markdown",
   "id": "50c2cb08",
   "metadata": {},
   "source": [
    "#### 1) ratings에 있는 유니크한 영화 개수"
   ]
  },
  {
   "cell_type": "code",
   "execution_count": 34,
   "id": "f101ac92",
   "metadata": {},
   "outputs": [
    {
     "data": {
      "text/plain": [
       "ratings\n",
       "3    [1193, 661, 914, 3408, 2355, 1197, 1287, 2804,...\n",
       "4    [1193, 661, 914, 3408, 2355, 1197, 1287, 2804,...\n",
       "5    [1193, 661, 914, 3408, 2355, 1197, 1287, 2804,...\n",
       "Name: movie_id, dtype: object"
      ]
     },
     "execution_count": 34,
     "metadata": {},
     "output_type": "execute_result"
    }
   ],
   "source": [
    "data.groupby('ratings')['movie_id'].unique()"
   ]
  },
  {
   "cell_type": "markdown",
   "id": "14053cad",
   "metadata": {},
   "source": [
    "#### 2) ratings에 있는 유니크한 사용자 수"
   ]
  },
  {
   "cell_type": "code",
   "execution_count": 35,
   "id": "333fa284",
   "metadata": {},
   "outputs": [
    {
     "data": {
      "text/plain": [
       "ratings\n",
       "3    [8, 11, 26, 44, 84, 89, 94, 96, 98, 112, 135, ...\n",
       "4    [2, 3, 5, 12, 13, 14, 15, 19, 20, 21, 32, 33, ...\n",
       "5    [0, 1, 4, 6, 7, 9, 10, 16, 17, 18, 22, 23, 24,...\n",
       "Name: user_id, dtype: object"
      ]
     },
     "execution_count": 35,
     "metadata": {},
     "output_type": "execute_result"
    }
   ],
   "source": [
    "data.groupby('ratings')['user_id'].unique()"
   ]
  },
  {
   "cell_type": "markdown",
   "id": "ba5f0af1",
   "metadata": {},
   "source": [
    "### (6) CSR matrix를 직접 만들어 보기"
   ]
  },
  {
   "cell_type": "markdown",
   "id": "983456bb",
   "metadata": {},
   "source": [
    "#### CSR(Compressed Sparse Row) Matrix\n",
    "\n",
    "[1] https://gaussian37.github.io/math-la-sparse_matrix/"
   ]
  },
  {
   "cell_type": "code",
   "execution_count": 36,
   "id": "e353a0db",
   "metadata": {},
   "outputs": [
    {
     "data": {
      "text/html": [
       "<div>\n",
       "<style scoped>\n",
       "    .dataframe tbody tr th:only-of-type {\n",
       "        vertical-align: middle;\n",
       "    }\n",
       "\n",
       "    .dataframe tbody tr th {\n",
       "        vertical-align: top;\n",
       "    }\n",
       "\n",
       "    .dataframe thead th {\n",
       "        text-align: right;\n",
       "    }\n",
       "</style>\n",
       "<table border=\"1\" class=\"dataframe\">\n",
       "  <thead>\n",
       "    <tr style=\"text-align: right;\">\n",
       "      <th></th>\n",
       "      <th>user_id</th>\n",
       "      <th>movie_id</th>\n",
       "      <th>ratings</th>\n",
       "      <th>timestamp</th>\n",
       "      <th>title</th>\n",
       "      <th>genre</th>\n",
       "    </tr>\n",
       "  </thead>\n",
       "  <tbody>\n",
       "    <tr>\n",
       "      <th>0</th>\n",
       "      <td>0</td>\n",
       "      <td>1193</td>\n",
       "      <td>5</td>\n",
       "      <td>978300760</td>\n",
       "      <td>0</td>\n",
       "      <td>drama</td>\n",
       "    </tr>\n",
       "    <tr>\n",
       "      <th>1</th>\n",
       "      <td>1</td>\n",
       "      <td>1193</td>\n",
       "      <td>5</td>\n",
       "      <td>978298413</td>\n",
       "      <td>0</td>\n",
       "      <td>drama</td>\n",
       "    </tr>\n",
       "    <tr>\n",
       "      <th>2</th>\n",
       "      <td>2</td>\n",
       "      <td>1193</td>\n",
       "      <td>4</td>\n",
       "      <td>978220179</td>\n",
       "      <td>0</td>\n",
       "      <td>drama</td>\n",
       "    </tr>\n",
       "    <tr>\n",
       "      <th>3</th>\n",
       "      <td>3</td>\n",
       "      <td>1193</td>\n",
       "      <td>4</td>\n",
       "      <td>978199279</td>\n",
       "      <td>0</td>\n",
       "      <td>drama</td>\n",
       "    </tr>\n",
       "    <tr>\n",
       "      <th>4</th>\n",
       "      <td>4</td>\n",
       "      <td>1193</td>\n",
       "      <td>5</td>\n",
       "      <td>978158471</td>\n",
       "      <td>0</td>\n",
       "      <td>drama</td>\n",
       "    </tr>\n",
       "  </tbody>\n",
       "</table>\n",
       "</div>"
      ],
      "text/plain": [
       "   user_id  movie_id  ratings  timestamp  title  genre\n",
       "0        0      1193        5  978300760      0  drama\n",
       "1        1      1193        5  978298413      0  drama\n",
       "2        2      1193        4  978220179      0  drama\n",
       "3        3      1193        4  978199279      0  drama\n",
       "4        4      1193        5  978158471      0  drama"
      ]
     },
     "execution_count": 36,
     "metadata": {},
     "output_type": "execute_result"
    }
   ],
   "source": [
    "data.head()"
   ]
  },
  {
   "cell_type": "code",
   "execution_count": 37,
   "id": "6ec52115",
   "metadata": {},
   "outputs": [
    {
     "name": "stdout",
     "output_type": "stream",
     "text": [
      "  (0, 1)\t5\n",
      "  (0, 48)\t5\n",
      "  (0, 150)\t5\n",
      "  (0, 260)\t4\n",
      "  (0, 527)\t5\n",
      "  (0, 531)\t4\n",
      "  (0, 588)\t4\n",
      "  (0, 594)\t4\n",
      "  (0, 595)\t5\n",
      "  (0, 608)\t4\n",
      "  (0, 661)\t3\n",
      "  (0, 720)\t3\n",
      "  (0, 745)\t3\n",
      "  (0, 783)\t4\n",
      "  (0, 914)\t3\n",
      "  (0, 919)\t4\n",
      "  (0, 938)\t4\n",
      "  (0, 1022)\t5\n",
      "  (0, 1028)\t5\n",
      "  (0, 1029)\t5\n",
      "  (0, 1035)\t5\n",
      "  (0, 1097)\t4\n",
      "  (0, 1193)\t5\n",
      "  (0, 1197)\t3\n",
      "  (0, 1207)\t4\n",
      "  :\t:\n",
      "  (6036, 3280)\t5\n",
      "  (6036, 3939)\t5\n",
      "  (6037, 366)\t5\n",
      "  (6037, 553)\t4\n",
      "  (6037, 1219)\t5\n",
      "  (6037, 1261)\t5\n",
      "  (6037, 1321)\t5\n",
      "  (6037, 1333)\t3\n",
      "  (6037, 1347)\t5\n",
      "  (6037, 1407)\t4\n",
      "  (6037, 1924)\t3\n",
      "  (6037, 1973)\t5\n",
      "  (6037, 1994)\t5\n",
      "  (6037, 2455)\t4\n",
      "  (6037, 2710)\t5\n",
      "  (6037, 2867)\t3\n",
      "  (6037, 3101)\t4\n",
      "  (6037, 3652)\t3\n",
      "  (6037, 3917)\t5\n",
      "  (6038, 2521)\t3\n",
      "  (6039, 480)\t4\n",
      "  (6039, 1270)\t5\n",
      "  (6039, 1580)\t5\n",
      "  (6039, 2291)\t5\n",
      "  (6039, 2571)\t5\n"
     ]
    }
   ],
   "source": [
    "# 실습 위에 설명보고 이해해서 만들어보기\n",
    "from scipy.sparse import csr_matrix\n",
    "\n",
    "df = np.array(data['ratings'])\n",
    "row_indices = np.array(data['user_id'])\n",
    "col_indices = np.array(data['movie_id'])\n",
    "csr_matrix = csr_matrix((df, (row_indices, col_indices)), dtype=int)\n",
    "print(csr_matrix)"
   ]
  },
  {
   "cell_type": "markdown",
   "id": "2f4f2501",
   "metadata": {},
   "source": [
    "### (7) als_model = AlternatingLeastSquares 모델을 직접 구성하여 훈련"
   ]
  },
  {
   "cell_type": "code",
   "execution_count": 38,
   "id": "1fd8bd0b",
   "metadata": {},
   "outputs": [],
   "source": [
    "from implicit.als import AlternatingLeastSquares\n",
    "\n",
    "os.environ['OPENBLAS_NUM_THREADS']='1'\n",
    "os.environ['KMP_DUPLICATE_LIB_OK']='True'\n",
    "os.environ['MKL_NUM_THREADS']='1'"
   ]
  },
  {
   "cell_type": "code",
   "execution_count": 39,
   "id": "ff11a005",
   "metadata": {},
   "outputs": [],
   "source": [
    "# Implicit AlternatingLeastSquares 모델의 선언\n",
    "als_model = AlternatingLeastSquares(factors=100, regularization=0.01, use_gpu=False, iterations=15, dtype=np.float32)"
   ]
  },
  {
   "cell_type": "code",
   "execution_count": 40,
   "id": "a9a0eb12",
   "metadata": {},
   "outputs": [
    {
     "data": {
      "text/plain": [
       "<3953x6040 sparse matrix of type '<class 'numpy.int64'>'\n",
       "\twith 836483 stored elements in Compressed Sparse Column format>"
      ]
     },
     "execution_count": 40,
     "metadata": {},
     "output_type": "execute_result"
    }
   ],
   "source": [
    "# als 모델은 input으로 (item X user 꼴의 matrix를 받기 때문에 Transpose해줌)\n",
    "csr_matrix_transpose = csr_matrix.T\n",
    "csr_matrix_transpose"
   ]
  },
  {
   "cell_type": "code",
   "execution_count": 41,
   "id": "8a2c7987",
   "metadata": {},
   "outputs": [
    {
     "data": {
      "application/vnd.jupyter.widget-view+json": {
       "model_id": "68ec831be16b452a93c37df78ee9af15",
       "version_major": 2,
       "version_minor": 0
      },
      "text/plain": [
       "  0%|          | 0/15 [00:00<?, ?it/s]"
      ]
     },
     "metadata": {},
     "output_type": "display_data"
    }
   ],
   "source": [
    "# 모델 훈련\n",
    "als_model.fit(csr_matrix_transpose)"
   ]
  },
  {
   "cell_type": "code",
   "execution_count": 42,
   "id": "0cfd80c9",
   "metadata": {},
   "outputs": [
    {
     "data": {
      "text/html": [
       "<div>\n",
       "<style scoped>\n",
       "    .dataframe tbody tr th:only-of-type {\n",
       "        vertical-align: middle;\n",
       "    }\n",
       "\n",
       "    .dataframe tbody tr th {\n",
       "        vertical-align: top;\n",
       "    }\n",
       "\n",
       "    .dataframe thead th {\n",
       "        text-align: right;\n",
       "    }\n",
       "</style>\n",
       "<table border=\"1\" class=\"dataframe\">\n",
       "  <thead>\n",
       "    <tr style=\"text-align: right;\">\n",
       "      <th></th>\n",
       "      <th>user_id</th>\n",
       "      <th>movie_id</th>\n",
       "      <th>ratings</th>\n",
       "      <th>timestamp</th>\n",
       "      <th>title</th>\n",
       "      <th>genre</th>\n",
       "    </tr>\n",
       "  </thead>\n",
       "  <tbody>\n",
       "    <tr>\n",
       "      <th>0</th>\n",
       "      <td>0</td>\n",
       "      <td>1193</td>\n",
       "      <td>5</td>\n",
       "      <td>978300760</td>\n",
       "      <td>0</td>\n",
       "      <td>drama</td>\n",
       "    </tr>\n",
       "    <tr>\n",
       "      <th>1</th>\n",
       "      <td>1</td>\n",
       "      <td>1193</td>\n",
       "      <td>5</td>\n",
       "      <td>978298413</td>\n",
       "      <td>0</td>\n",
       "      <td>drama</td>\n",
       "    </tr>\n",
       "    <tr>\n",
       "      <th>2</th>\n",
       "      <td>2</td>\n",
       "      <td>1193</td>\n",
       "      <td>4</td>\n",
       "      <td>978220179</td>\n",
       "      <td>0</td>\n",
       "      <td>drama</td>\n",
       "    </tr>\n",
       "    <tr>\n",
       "      <th>3</th>\n",
       "      <td>3</td>\n",
       "      <td>1193</td>\n",
       "      <td>4</td>\n",
       "      <td>978199279</td>\n",
       "      <td>0</td>\n",
       "      <td>drama</td>\n",
       "    </tr>\n",
       "    <tr>\n",
       "      <th>4</th>\n",
       "      <td>4</td>\n",
       "      <td>1193</td>\n",
       "      <td>5</td>\n",
       "      <td>978158471</td>\n",
       "      <td>0</td>\n",
       "      <td>drama</td>\n",
       "    </tr>\n",
       "    <tr>\n",
       "      <th>...</th>\n",
       "      <td>...</td>\n",
       "      <td>...</td>\n",
       "      <td>...</td>\n",
       "      <td>...</td>\n",
       "      <td>...</td>\n",
       "      <td>...</td>\n",
       "    </tr>\n",
       "    <tr>\n",
       "      <th>0</th>\n",
       "      <td>6039</td>\n",
       "      <td>2571</td>\n",
       "      <td>5</td>\n",
       "      <td>978299773</td>\n",
       "      <td>124</td>\n",
       "      <td>action|sci-fi|thriller</td>\n",
       "    </tr>\n",
       "    <tr>\n",
       "      <th>1</th>\n",
       "      <td>6039</td>\n",
       "      <td>1270</td>\n",
       "      <td>5</td>\n",
       "      <td>978300055</td>\n",
       "      <td>22</td>\n",
       "      <td>comedy|sci-fi</td>\n",
       "    </tr>\n",
       "    <tr>\n",
       "      <th>2</th>\n",
       "      <td>6039</td>\n",
       "      <td>480</td>\n",
       "      <td>4</td>\n",
       "      <td>978299809</td>\n",
       "      <td>107</td>\n",
       "      <td>action|adventure|sci-fi</td>\n",
       "    </tr>\n",
       "    <tr>\n",
       "      <th>3</th>\n",
       "      <td>6039</td>\n",
       "      <td>1580</td>\n",
       "      <td>5</td>\n",
       "      <td>978297663</td>\n",
       "      <td>175</td>\n",
       "      <td>action|adventure|comedy|sci-fi</td>\n",
       "    </tr>\n",
       "    <tr>\n",
       "      <th>4</th>\n",
       "      <td>6039</td>\n",
       "      <td>2291</td>\n",
       "      <td>5</td>\n",
       "      <td>978244808</td>\n",
       "      <td>250</td>\n",
       "      <td>drama|romance</td>\n",
       "    </tr>\n",
       "  </tbody>\n",
       "</table>\n",
       "<p>836483 rows × 6 columns</p>\n",
       "</div>"
      ],
      "text/plain": [
       "    user_id  movie_id  ratings  timestamp  title  \\\n",
       "0         0      1193        5  978300760      0   \n",
       "1         1      1193        5  978298413      0   \n",
       "2         2      1193        4  978220179      0   \n",
       "3         3      1193        4  978199279      0   \n",
       "4         4      1193        5  978158471      0   \n",
       "..      ...       ...      ...        ...    ...   \n",
       "0      6039      2571        5  978299773    124   \n",
       "1      6039      1270        5  978300055     22   \n",
       "2      6039       480        4  978299809    107   \n",
       "3      6039      1580        5  978297663    175   \n",
       "4      6039      2291        5  978244808    250   \n",
       "\n",
       "                             genre  \n",
       "0                            drama  \n",
       "1                            drama  \n",
       "2                            drama  \n",
       "3                            drama  \n",
       "4                            drama  \n",
       "..                             ...  \n",
       "0           action|sci-fi|thriller  \n",
       "1                    comedy|sci-fi  \n",
       "2          action|adventure|sci-fi  \n",
       "3   action|adventure|comedy|sci-fi  \n",
       "4                    drama|romance  \n",
       "\n",
       "[836483 rows x 6 columns]"
      ]
     },
     "execution_count": 42,
     "metadata": {},
     "output_type": "execute_result"
    }
   ],
   "source": [
    "data"
   ]
  },
  {
   "cell_type": "code",
   "execution_count": 43,
   "id": "f396f66e",
   "metadata": {},
   "outputs": [],
   "source": [
    "jw, back_to_the_future = user_to_idx['jw'], title_to_idx['back to the future (1985)']\n",
    "jw_vector, back_to_the_future_vector = als_model.user_factors[jw], als_model.item_factors[back_to_the_future]"
   ]
  },
  {
   "cell_type": "code",
   "execution_count": 44,
   "id": "086268b7",
   "metadata": {},
   "outputs": [
    {
     "data": {
      "text/plain": [
       "array([-0.29490522,  0.5238462 ,  0.35546774,  0.23026715, -0.19504833,\n",
       "       -0.0552707 ,  0.52032095, -0.5369229 ,  0.00382452,  1.2529196 ,\n",
       "       -0.32675806,  0.21459241,  0.48450848, -0.46146214, -0.17154385,\n",
       "       -0.6837689 , -0.26433057,  0.11385857,  0.8508936 , -0.8760529 ,\n",
       "        0.05255872,  0.89860874, -0.61913186, -0.11664575, -0.192712  ,\n",
       "       -0.19102924,  0.7962775 ,  0.32344818,  0.539565  ,  0.9308895 ,\n",
       "        0.51063216, -0.48328483, -0.59617865,  0.03172605,  0.49281007,\n",
       "       -0.36298117, -0.19789153,  0.19431593,  0.9194623 , -0.09927484,\n",
       "       -0.13288356,  0.07775676,  0.18653806, -0.9537041 , -0.02239024,\n",
       "        0.501302  , -0.27085018,  0.5071642 ,  0.38918838,  0.89046794,\n",
       "       -1.3670025 , -0.18293841, -0.7572796 ,  0.05978213,  0.4665141 ,\n",
       "       -0.04895036, -0.11797621, -0.9914987 ,  0.8736035 , -0.01215666,\n",
       "        0.41843578,  0.13993037, -0.30274388, -0.52145433,  0.65143114,\n",
       "       -1.4182377 , -0.2102695 , -0.07134515,  0.27095094, -0.01675108,\n",
       "       -0.05484563,  0.08395703,  0.06040279,  0.75921375, -0.35093915,\n",
       "       -0.25495967,  0.93946403, -0.452413  ,  0.50416464,  0.12638885,\n",
       "        0.09452562,  0.54054177,  0.10261136,  0.32293642, -1.0125866 ,\n",
       "        0.02567655, -0.20542654,  0.1791485 ,  0.17653309,  1.050963  ,\n",
       "       -0.20057328, -0.48617497, -0.350473  , -0.03498555, -0.4038694 ,\n",
       "       -0.11781279,  0.5648422 , -0.17494337, -0.38721898, -0.85981405],\n",
       "      dtype=float32)"
      ]
     },
     "execution_count": 44,
     "metadata": {},
     "output_type": "execute_result"
    }
   ],
   "source": [
    "jw_vector"
   ]
  },
  {
   "cell_type": "code",
   "execution_count": 45,
   "id": "fce3d256",
   "metadata": {},
   "outputs": [
    {
     "data": {
      "text/plain": [
       "array([ 0.00470577,  0.01304494,  0.00755152,  0.02225302,  0.00190368,\n",
       "        0.0174421 ,  0.01166172,  0.01785605, -0.00197799,  0.01409241,\n",
       "        0.00547203,  0.01742859,  0.02069056, -0.01293957,  0.00536744,\n",
       "        0.00266062,  0.00259396, -0.00706589,  0.00182951,  0.0045167 ,\n",
       "       -0.00077278,  0.0113859 ,  0.01815638,  0.00664122, -0.01084193,\n",
       "        0.02722067,  0.0121438 ,  0.00257949, -0.00459615, -0.00742007,\n",
       "        0.01659266, -0.0048491 ,  0.00385582, -0.00702004,  0.01033335,\n",
       "       -0.00912058,  0.0111364 , -0.00184673,  0.02071903,  0.00802832,\n",
       "        0.00043117,  0.00309511,  0.00752208,  0.01746747,  0.01095092,\n",
       "        0.001642  ,  0.01014567,  0.02754153, -0.01224511, -0.0001548 ,\n",
       "        0.00547891,  0.00728065, -0.01473211,  0.00011456,  0.0001608 ,\n",
       "        0.02234454, -0.01378522,  0.02778026,  0.00302128,  0.00939728,\n",
       "       -0.00120363,  0.0101314 ,  0.01398478,  0.01394084,  0.00762269,\n",
       "        0.01482388,  0.00565348, -0.00081088, -0.00761142,  0.01079631,\n",
       "        0.00297173,  0.02241674,  0.03133286, -0.00820609,  0.0091243 ,\n",
       "        0.01180642,  0.00137254, -0.00623489,  0.0007369 ,  0.0028679 ,\n",
       "       -0.00877514, -0.00149465, -0.00044392,  0.01120768,  0.01683855,\n",
       "        0.00880233,  0.02522474, -0.00383543,  0.00812583, -0.01826225,\n",
       "        0.03359788,  0.02388966,  0.01659185,  0.01548373,  0.0056274 ,\n",
       "        0.01967365,  0.0126276 ,  0.00365138,  0.01186149,  0.00523926],\n",
       "      dtype=float32)"
      ]
     },
     "execution_count": 45,
     "metadata": {},
     "output_type": "execute_result"
    }
   ],
   "source": [
    "back_to_the_future_vector"
   ]
  },
  {
   "cell_type": "code",
   "execution_count": 46,
   "id": "423d332a",
   "metadata": {},
   "outputs": [
    {
     "data": {
      "text/plain": [
       "-0.06873967"
      ]
     },
     "execution_count": 46,
     "metadata": {},
     "output_type": "execute_result"
    }
   ],
   "source": [
    "# jw과 back_to_the_future를 내적하는 코드\n",
    "np.dot(jw_vector, back_to_the_future_vector)"
   ]
  },
  {
   "cell_type": "code",
   "execution_count": 47,
   "id": "8530d4af",
   "metadata": {},
   "outputs": [
    {
     "data": {
      "text/plain": [
       "-0.003862129"
      ]
     },
     "execution_count": 47,
     "metadata": {},
     "output_type": "execute_result"
    }
   ],
   "source": [
    "edward_scissorhands = title_to_idx['edward scissorhands (1990)']\n",
    "edward_scissorhands_vector = als_model.item_factors[edward_scissorhands]\n",
    "np.dot(jw_vector, edward_scissorhands_vector)"
   ]
  },
  {
   "cell_type": "markdown",
   "id": "a9c4ee74",
   "metadata": {},
   "source": [
    "### (8) 내가 좋아하는 영화와 비슷한 영화 찾기"
   ]
  },
  {
   "cell_type": "code",
   "execution_count": 48,
   "id": "9de504f9",
   "metadata": {},
   "outputs": [
    {
     "data": {
      "text/plain": [
       "[(175, 0.99999994),\n",
       " (766, 0.7573112),\n",
       " (147, 0.7265001),\n",
       " (1611, 0.72249275),\n",
       " (851, 0.71985537),\n",
       " (2271, 0.706085),\n",
       " (1563, 0.7029238),\n",
       " (1051, 0.70122164),\n",
       " (159, 0.6791832),\n",
       " (574, 0.6663246),\n",
       " (2165, 0.6559073),\n",
       " (2305, 0.644767),\n",
       " (1897, 0.6408987),\n",
       " (269, 0.6396541),\n",
       " (1268, 0.63935596)]"
      ]
     },
     "execution_count": 48,
     "metadata": {},
     "output_type": "execute_result"
    }
   ],
   "source": [
    "favorite_movie = 'men in black (1997)'\n",
    "movie_id = title_to_idx[favorite_movie]\n",
    "similar_movie = als_model.similar_items(movie_id, N=15)\n",
    "similar_movie"
   ]
  },
  {
   "cell_type": "code",
   "execution_count": 49,
   "id": "3ae32065",
   "metadata": {},
   "outputs": [
    {
     "data": {
      "text/plain": [
       "['men in black (1997)',\n",
       " 'goldeneye (1995)',\n",
       " 'under siege (1992)',\n",
       " 'halloween ii (1981)',\n",
       " 'iron giant, the (1999)',\n",
       " 'trial, the (le procès) (1963)',\n",
       " 'love letter, the (1999)',\n",
       " 'mallrats (1995)',\n",
       " 'manhattan (1979)',\n",
       " 'jack (1996)',\n",
       " \"mary shelley's frankenstein (1994)\",\n",
       " 'farinelli: il castrato (1994)',\n",
       " 'end of violence, the (1997)',\n",
       " 'goodfellas (1990)',\n",
       " 'my tutor (1983)']"
      ]
     },
     "execution_count": 49,
     "metadata": {},
     "output_type": "execute_result"
    }
   ],
   "source": [
    "#artist_to_idx 를 뒤집어, index로부터 artist 이름을 얻는 dict를 생성\n",
    "idx_to_title = {v:k for k,v in title_to_idx.items()}\n",
    "[idx_to_title[i[0]] for i in similar_movie]"
   ]
  },
  {
   "cell_type": "code",
   "execution_count": 50,
   "id": "7f161bda",
   "metadata": {},
   "outputs": [],
   "source": [
    "# 몇 번 더 반복해서 확인하기 위해 위의 코드를 함수로 만들고 확인\n",
    "def get_similar_movie(movie_title: str):\n",
    "    movie_id = title_to_idx[movie_title]\n",
    "    similar_movie = als_model.similar_items(movie_id)\n",
    "    similar_movie = [idx_to_title[i[0]] for i in similar_movie]\n",
    "    return similar_movie"
   ]
  },
  {
   "cell_type": "code",
   "execution_count": 51,
   "id": "5b297016",
   "metadata": {},
   "outputs": [
    {
     "data": {
      "text/plain": [
       "['titanic (1997)',\n",
       " 'crazy in alabama (1999)',\n",
       " 'girl, interrupted (1999)',\n",
       " 'baby, the (1973)',\n",
       " 'absolute power (1997)',\n",
       " 'honey, i shrunk the kids (1989)',\n",
       " 'friday the 13th: the final chapter (1984)',\n",
       " 'forever young (1992)',\n",
       " 'richard iii (1995)',\n",
       " \"smilla's sense of snow (1997)\"]"
      ]
     },
     "execution_count": 51,
     "metadata": {},
     "output_type": "execute_result"
    }
   ],
   "source": [
    "get_similar_movie('titanic (1997)')"
   ]
  },
  {
   "cell_type": "code",
   "execution_count": 52,
   "id": "6779127c",
   "metadata": {},
   "outputs": [
    {
     "data": {
      "text/plain": [
       "['wizard of oz, the (1939)',\n",
       " 'fantasia (1940)',\n",
       " 'frankenstein (1931)',\n",
       " 'american werewolf in london, an (1981)',\n",
       " 'lady and the tramp (1955)',\n",
       " 'shane (1953)',\n",
       " 'titanic (1953)',\n",
       " 'ravenous (1999)',\n",
       " 'snake eyes (1998)',\n",
       " 'bulworth (1998)']"
      ]
     },
     "execution_count": 52,
     "metadata": {},
     "output_type": "execute_result"
    }
   ],
   "source": [
    "get_similar_movie('wizard of oz, the (1939)')"
   ]
  },
  {
   "cell_type": "markdown",
   "id": "dc0a039b",
   "metadata": {},
   "source": [
    "### (9) 내가 가장 좋아할 만한 영화들을 추천받기"
   ]
  },
  {
   "cell_type": "code",
   "execution_count": 53,
   "id": "f320a834",
   "metadata": {},
   "outputs": [
    {
     "data": {
      "text/plain": [
       "[(589, 0.70196044),\n",
       " (2916, 0.42729783),\n",
       " (110, 0.35049215),\n",
       " (1259, 0.3072614),\n",
       " (2791, 0.28813735),\n",
       " (1097, 0.28032053),\n",
       " (1240, 0.27668184),\n",
       " (1544, 0.27160442),\n",
       " (1527, 0.27042547),\n",
       " (457, 0.26366156),\n",
       " (32, 0.25596234),\n",
       " (780, 0.25577897),\n",
       " (1673, 0.24953158),\n",
       " (648, 0.24822238),\n",
       " (3175, 0.2363416),\n",
       " (1965, 0.23069388),\n",
       " (1584, 0.22906247),\n",
       " (1573, 0.22819631),\n",
       " (1210, 0.22271971),\n",
       " (2657, 0.21791783)]"
      ]
     },
     "execution_count": 53,
     "metadata": {},
     "output_type": "execute_result"
    }
   ],
   "source": [
    "user = user_to_idx['jw']\n",
    "\n",
    "movie_recommended = als_model.recommend(user, csr_matrix, N=20, filter_already_liked_items=True)\n",
    "movie_recommended"
   ]
  },
  {
   "cell_type": "code",
   "execution_count": 54,
   "id": "787fa3d7",
   "metadata": {},
   "outputs": [
    {
     "data": {
      "text/plain": [
       "['meet me in st. louis (1944)',\n",
       " 'omega code, the (1999)',\n",
       " 'groundhog day (1993)',\n",
       " 'sliver (1993)',\n",
       " 'blood beach (1981)',\n",
       " 'brazil (1985)',\n",
       " 'when a man loves a woman (1994)',\n",
       " 'sinbad and the eye of the tiger (1977)',\n",
       " 'farewell to arms, a (1932)',\n",
       " 'nell (1994)',\n",
       " 'hercules (1997)',\n",
       " 'crimson pirate, the (1952)',\n",
       " 'enchanted april (1991)',\n",
       " 'lethal weapon (1987)',\n",
       " 'twice upon a yesterday (1998)',\n",
       " 'teenage mutant ninja turtles ii: the secret of the ooze (1991)',\n",
       " 'love and death (1975)',\n",
       " 'pollyanna (1960)',\n",
       " 'blame it on rio (1984)',\n",
       " 'vampire in brooklyn (1995)']"
      ]
     },
     "execution_count": 54,
     "metadata": {},
     "output_type": "execute_result"
    }
   ],
   "source": [
    "[idx_to_title[i[0]] for i in movie_recommended]"
   ]
  },
  {
   "cell_type": "code",
   "execution_count": 55,
   "id": "2b9e615f",
   "metadata": {},
   "outputs": [
    {
     "data": {
      "text/plain": [
       "[(\"soldier's daughter never cries, a (1998)\", 0.25681120574600785),\n",
       " ('grand day out, a (1992)', 0.16135585416846385),\n",
       " ('paper, the (1994)', 0.15458964412805068),\n",
       " ('dying young (1991)', 0.07733225235619967),\n",
       " (\"white men can't jump (1992)\", 0.037901768982452504)]"
      ]
     },
     "execution_count": 55,
     "metadata": {},
     "output_type": "execute_result"
    }
   ],
   "source": [
    "# 모델이 'meet me in st. louis (1944)'를 추천한 이유\n",
    "meet_me_in_st_louis = title_to_idx['meet me in st. louis (1944)']\n",
    "explain = als_model.explain(user, csr_matrix, itemid=meet_me_in_st_louis)\n",
    "[(idx_to_title[i[0]], i[1]) for i in explain[1]]"
   ]
  },
  {
   "cell_type": "markdown",
   "id": "ff08c0c8",
   "metadata": {},
   "source": [
    "# 2. References\n",
    "\n",
    "[1] https://gaussian37.github.io/math-la-sparse_matrix/\n",
    "\n",
    "[2] https://lms.aiffel.io/course/382/node/498"
   ]
  }
 ],
 "metadata": {
  "kernelspec": {
   "display_name": "Python 3 (ipykernel)",
   "language": "python",
   "name": "python3"
  },
  "language_info": {
   "codemirror_mode": {
    "name": "ipython",
    "version": 3
   },
   "file_extension": ".py",
   "mimetype": "text/x-python",
   "name": "python",
   "nbconvert_exporter": "python",
   "pygments_lexer": "ipython3",
   "version": "3.9.7"
  }
 },
 "nbformat": 4,
 "nbformat_minor": 5
}
